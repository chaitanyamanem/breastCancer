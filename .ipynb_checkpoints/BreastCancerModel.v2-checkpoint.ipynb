{
 "cells": [
  {
   "cell_type": "markdown",
   "id": "27657e25",
   "metadata": {},
   "source": [
    "<h1 style='color:red;font-size:40px'> PCR(classification) </h1>\n",
    "\n",
    "> This notebook contains analysis and modeling to predict PCR of breast cancer patients"
   ]
  },
  {
   "cell_type": "markdown",
   "id": "e22b6401",
   "metadata": {},
   "source": [
    "## Importing required packages"
   ]
  },
  {
   "cell_type": "code",
   "execution_count": 120,
   "id": "68cf1e18",
   "metadata": {},
   "outputs": [],
   "source": [
    "import pandas as pd\n",
    "import matplotlib.pyplot as plt\n",
    "import seaborn as sns\n",
    "from sklearn.model_selection import train_test_split, cross_val_score, GridSearchCV, RandomizedSearchCV, StratifiedKFold\n",
    "from sklearn.linear_model import LogisticRegression, LinearRegression\n",
    "from sklearn.svm import SVC, SVR\n",
    "from sklearn.ensemble import RandomForestRegressor, RandomForestClassifier\n",
    "from sklearn.metrics import f1_score, precision_score, recall_score, confusion_matrix, accuracy_score, mean_absolute_error, roc_auc_score\n",
    "from sklearn.preprocessing import StandardScaler, MinMaxScaler\n",
    "from imblearn.over_sampling import SMOTE\n",
    "from sklearn.model_selection import GridSearchCV\n",
    "from sklearn.feature_selection import f_classif\n",
    "import numpy as np\n",
    "from scipy import stats as st\n",
    "from sklearn.preprocessing import PowerTransformer\n",
    "import warnings\n",
    "from xgboost import XGBClassifier"
   ]
  },
  {
   "cell_type": "code",
   "execution_count": 14,
   "id": "7aea0a76",
   "metadata": {},
   "outputs": [],
   "source": [
    "pd.set_option('display.max_columns', None)\n",
    "warnings.simplefilter(action='ignore', category=FutureWarning)\n",
    "#pd.set_option('display.max_rows', None)"
   ]
  },
  {
   "cell_type": "markdown",
   "id": "86572f4e",
   "metadata": {},
   "source": [
    "## Reading the Data"
   ]
  },
  {
   "cell_type": "code",
   "execution_count": 15,
   "id": "8c185b6e",
   "metadata": {},
   "outputs": [],
   "source": [
    "df = pd.read_excel(r\"data/trainDataset.xls\")"
   ]
  },
  {
   "cell_type": "code",
   "execution_count": 16,
   "id": "ce3a6a67",
   "metadata": {},
   "outputs": [
    {
     "data": {
      "text/html": [
       "<div>\n",
       "<style scoped>\n",
       "    .dataframe tbody tr th:only-of-type {\n",
       "        vertical-align: middle;\n",
       "    }\n",
       "\n",
       "    .dataframe tbody tr th {\n",
       "        vertical-align: top;\n",
       "    }\n",
       "\n",
       "    .dataframe thead th {\n",
       "        text-align: right;\n",
       "    }\n",
       "</style>\n",
       "<table border=\"1\" class=\"dataframe\">\n",
       "  <thead>\n",
       "    <tr style=\"text-align: right;\">\n",
       "      <th></th>\n",
       "      <th>ID</th>\n",
       "      <th>pCR (outcome)</th>\n",
       "      <th>RelapseFreeSurvival (outcome)</th>\n",
       "      <th>Age</th>\n",
       "      <th>ER</th>\n",
       "      <th>PgR</th>\n",
       "      <th>HER2</th>\n",
       "      <th>TrippleNegative</th>\n",
       "      <th>ChemoGrade</th>\n",
       "      <th>Proliferation</th>\n",
       "      <th>HistologyType</th>\n",
       "      <th>LNStatus</th>\n",
       "      <th>TumourStage</th>\n",
       "      <th>original_shape_Elongation</th>\n",
       "      <th>original_shape_Flatness</th>\n",
       "      <th>original_shape_LeastAxisLength</th>\n",
       "      <th>original_shape_MajorAxisLength</th>\n",
       "      <th>original_shape_Maximum2DDiameterColumn</th>\n",
       "      <th>original_shape_Maximum2DDiameterRow</th>\n",
       "      <th>original_shape_Maximum2DDiameterSlice</th>\n",
       "      <th>original_shape_Maximum3DDiameter</th>\n",
       "      <th>original_shape_MeshVolume</th>\n",
       "      <th>original_shape_MinorAxisLength</th>\n",
       "      <th>original_shape_Sphericity</th>\n",
       "      <th>original_shape_SurfaceArea</th>\n",
       "      <th>original_shape_SurfaceVolumeRatio</th>\n",
       "      <th>original_shape_VoxelVolume</th>\n",
       "      <th>original_firstorder_10Percentile</th>\n",
       "      <th>original_firstorder_90Percentile</th>\n",
       "      <th>original_firstorder_Energy</th>\n",
       "      <th>original_firstorder_Entropy</th>\n",
       "      <th>original_firstorder_InterquartileRange</th>\n",
       "      <th>original_firstorder_Kurtosis</th>\n",
       "      <th>original_firstorder_Maximum</th>\n",
       "      <th>original_firstorder_MeanAbsoluteDeviation</th>\n",
       "      <th>original_firstorder_Mean</th>\n",
       "      <th>original_firstorder_Median</th>\n",
       "      <th>original_firstorder_Minimum</th>\n",
       "      <th>original_firstorder_Range</th>\n",
       "      <th>original_firstorder_RobustMeanAbsoluteDeviation</th>\n",
       "      <th>original_firstorder_RootMeanSquared</th>\n",
       "      <th>original_firstorder_Skewness</th>\n",
       "      <th>original_firstorder_TotalEnergy</th>\n",
       "      <th>original_firstorder_Uniformity</th>\n",
       "      <th>original_firstorder_Variance</th>\n",
       "      <th>original_glcm_Autocorrelation</th>\n",
       "      <th>original_glcm_ClusterProminence</th>\n",
       "      <th>original_glcm_ClusterShade</th>\n",
       "      <th>original_glcm_ClusterTendency</th>\n",
       "      <th>original_glcm_Contrast</th>\n",
       "      <th>original_glcm_Correlation</th>\n",
       "      <th>original_glcm_DifferenceAverage</th>\n",
       "      <th>original_glcm_DifferenceEntropy</th>\n",
       "      <th>original_glcm_DifferenceVariance</th>\n",
       "      <th>original_glcm_Id</th>\n",
       "      <th>original_glcm_Idm</th>\n",
       "      <th>original_glcm_Idmn</th>\n",
       "      <th>original_glcm_Idn</th>\n",
       "      <th>original_glcm_Imc1</th>\n",
       "      <th>original_glcm_Imc2</th>\n",
       "      <th>original_glcm_InverseVariance</th>\n",
       "      <th>original_glcm_JointAverage</th>\n",
       "      <th>original_glcm_JointEnergy</th>\n",
       "      <th>original_glcm_JointEntropy</th>\n",
       "      <th>original_glcm_MCC</th>\n",
       "      <th>original_glcm_MaximumProbability</th>\n",
       "      <th>original_glcm_SumAverage</th>\n",
       "      <th>original_glcm_SumEntropy</th>\n",
       "      <th>original_glcm_SumSquares</th>\n",
       "      <th>original_gldm_DependenceEntropy</th>\n",
       "      <th>original_gldm_DependenceNonUniformity</th>\n",
       "      <th>original_gldm_DependenceNonUniformityNormalized</th>\n",
       "      <th>original_gldm_DependenceVariance</th>\n",
       "      <th>original_gldm_GrayLevelNonUniformity</th>\n",
       "      <th>original_gldm_GrayLevelVariance</th>\n",
       "      <th>original_gldm_HighGrayLevelEmphasis</th>\n",
       "      <th>original_gldm_LargeDependenceEmphasis</th>\n",
       "      <th>original_gldm_LargeDependenceHighGrayLevelEmphasis</th>\n",
       "      <th>original_gldm_LargeDependenceLowGrayLevelEmphasis</th>\n",
       "      <th>original_gldm_LowGrayLevelEmphasis</th>\n",
       "      <th>original_gldm_SmallDependenceEmphasis</th>\n",
       "      <th>original_gldm_SmallDependenceHighGrayLevelEmphasis</th>\n",
       "      <th>original_gldm_SmallDependenceLowGrayLevelEmphasis</th>\n",
       "      <th>original_glrlm_GrayLevelNonUniformity</th>\n",
       "      <th>original_glrlm_GrayLevelNonUniformityNormalized</th>\n",
       "      <th>original_glrlm_GrayLevelVariance</th>\n",
       "      <th>original_glrlm_HighGrayLevelRunEmphasis</th>\n",
       "      <th>original_glrlm_LongRunEmphasis</th>\n",
       "      <th>original_glrlm_LongRunHighGrayLevelEmphasis</th>\n",
       "      <th>original_glrlm_LongRunLowGrayLevelEmphasis</th>\n",
       "      <th>original_glrlm_LowGrayLevelRunEmphasis</th>\n",
       "      <th>original_glrlm_RunEntropy</th>\n",
       "      <th>original_glrlm_RunLengthNonUniformity</th>\n",
       "      <th>original_glrlm_RunLengthNonUniformityNormalized</th>\n",
       "      <th>original_glrlm_RunPercentage</th>\n",
       "      <th>original_glrlm_RunVariance</th>\n",
       "      <th>original_glrlm_ShortRunEmphasis</th>\n",
       "      <th>original_glrlm_ShortRunHighGrayLevelEmphasis</th>\n",
       "      <th>original_glrlm_ShortRunLowGrayLevelEmphasis</th>\n",
       "      <th>original_glszm_GrayLevelNonUniformity</th>\n",
       "      <th>original_glszm_GrayLevelNonUniformityNormalized</th>\n",
       "      <th>original_glszm_GrayLevelVariance</th>\n",
       "      <th>original_glszm_HighGrayLevelZoneEmphasis</th>\n",
       "      <th>original_glszm_LargeAreaEmphasis</th>\n",
       "      <th>original_glszm_LargeAreaHighGrayLevelEmphasis</th>\n",
       "      <th>original_glszm_LargeAreaLowGrayLevelEmphasis</th>\n",
       "      <th>original_glszm_LowGrayLevelZoneEmphasis</th>\n",
       "      <th>original_glszm_SizeZoneNonUniformity</th>\n",
       "      <th>original_glszm_SizeZoneNonUniformityNormalized</th>\n",
       "      <th>original_glszm_SmallAreaEmphasis</th>\n",
       "      <th>original_glszm_SmallAreaHighGrayLevelEmphasis</th>\n",
       "      <th>original_glszm_SmallAreaLowGrayLevelEmphasis</th>\n",
       "      <th>original_glszm_ZoneEntropy</th>\n",
       "      <th>original_glszm_ZonePercentage</th>\n",
       "      <th>original_glszm_ZoneVariance</th>\n",
       "      <th>original_ngtdm_Busyness</th>\n",
       "      <th>original_ngtdm_Coarseness</th>\n",
       "      <th>original_ngtdm_Complexity</th>\n",
       "      <th>original_ngtdm_Contrast</th>\n",
       "      <th>original_ngtdm_Strength</th>\n",
       "    </tr>\n",
       "  </thead>\n",
       "  <tbody>\n",
       "    <tr>\n",
       "      <th>0</th>\n",
       "      <td>TRG002174</td>\n",
       "      <td>1</td>\n",
       "      <td>144.0</td>\n",
       "      <td>41.0</td>\n",
       "      <td>0</td>\n",
       "      <td>0</td>\n",
       "      <td>0</td>\n",
       "      <td>1</td>\n",
       "      <td>3</td>\n",
       "      <td>3</td>\n",
       "      <td>1</td>\n",
       "      <td>1</td>\n",
       "      <td>2</td>\n",
       "      <td>0.813912</td>\n",
       "      <td>0.724080</td>\n",
       "      <td>23.781937</td>\n",
       "      <td>32.844370</td>\n",
       "      <td>37.696154</td>\n",
       "      <td>38.626416</td>\n",
       "      <td>34.713110</td>\n",
       "      <td>39.572718</td>\n",
       "      <td>14209.458330</td>\n",
       "      <td>26.732440</td>\n",
       "      <td>0.771675</td>\n",
       "      <td>3676.500012</td>\n",
       "      <td>0.258736</td>\n",
       "      <td>14263</td>\n",
       "      <td>-0.163500</td>\n",
       "      <td>0.708860</td>\n",
       "      <td>2897.68930</td>\n",
       "      <td>0.738088</td>\n",
       "      <td>0.406537</td>\n",
       "      <td>4.594629</td>\n",
       "      <td>2.114799</td>\n",
       "      <td>0.278008</td>\n",
       "      <td>0.248168</td>\n",
       "      <td>0.217628</td>\n",
       "      <td>-1.251833</td>\n",
       "      <td>3.366632</td>\n",
       "      <td>0.174026</td>\n",
       "      <td>0.450734</td>\n",
       "      <td>0.386237</td>\n",
       "      <td>2897.68930</td>\n",
       "      <td>0.670258</td>\n",
       "      <td>0.141574</td>\n",
       "      <td>3.328814</td>\n",
       "      <td>0.725849</td>\n",
       "      <td>-0.425324</td>\n",
       "      <td>0.438760</td>\n",
       "      <td>0.184265</td>\n",
       "      <td>0.407895</td>\n",
       "      <td>0.184265</td>\n",
       "      <td>0.685680</td>\n",
       "      <td>0.149585</td>\n",
       "      <td>0.907867</td>\n",
       "      <td>0.907867</td>\n",
       "      <td>0.963147</td>\n",
       "      <td>0.938578</td>\n",
       "      <td>-0.149786</td>\n",
       "      <td>0.425720</td>\n",
       "      <td>0.184265</td>\n",
       "      <td>1.806982</td>\n",
       "      <td>0.538903</td>\n",
       "      <td>1.309203</td>\n",
       "      <td>0.407895</td>\n",
       "      <td>0.714849</td>\n",
       "      <td>3.613964</td>\n",
       "      <td>1.124938</td>\n",
       "      <td>0.155756</td>\n",
       "      <td>4.529461</td>\n",
       "      <td>1164.363949</td>\n",
       "      <td>0.081635</td>\n",
       "      <td>38.233794</td>\n",
       "      <td>9559.892659</td>\n",
       "      <td>0.164871</td>\n",
       "      <td>3.375307</td>\n",
       "      <td>456.983173</td>\n",
       "      <td>1714.810208</td>\n",
       "      <td>142.526414</td>\n",
       "      <td>0.406173</td>\n",
       "      <td>0.005563</td>\n",
       "      <td>0.011679</td>\n",
       "      <td>0.004033</td>\n",
       "      <td>1805.333660</td>\n",
       "      <td>0.503341</td>\n",
       "      <td>0.248329</td>\n",
       "      <td>2.619511</td>\n",
       "      <td>36.191087</td>\n",
       "      <td>137.835476</td>\n",
       "      <td>10.779989</td>\n",
       "      <td>0.595122</td>\n",
       "      <td>3.865811</td>\n",
       "      <td>677.118614</td>\n",
       "      <td>0.184874</td>\n",
       "      <td>0.251409</td>\n",
       "      <td>19.138811</td>\n",
       "      <td>0.409396</td>\n",
       "      <td>0.789987</td>\n",
       "      <td>0.314248</td>\n",
       "      <td>27.545455</td>\n",
       "      <td>0.834711</td>\n",
       "      <td>0.082645</td>\n",
       "      <td>1.272727</td>\n",
       "      <td>4067578.818</td>\n",
       "      <td>1.565522e+07</td>\n",
       "      <td>1.170667e+06</td>\n",
       "      <td>0.931818</td>\n",
       "      <td>5.969697</td>\n",
       "      <td>0.180900</td>\n",
       "      <td>0.403535</td>\n",
       "      <td>0.517172</td>\n",
       "      <td>0.375126</td>\n",
       "      <td>3.325332</td>\n",
       "      <td>0.002314</td>\n",
       "      <td>3880771.500</td>\n",
       "      <td>473.464852</td>\n",
       "      <td>0.000768</td>\n",
       "      <td>0.182615</td>\n",
       "      <td>0.030508</td>\n",
       "      <td>0.000758</td>\n",
       "    </tr>\n",
       "    <tr>\n",
       "      <th>1</th>\n",
       "      <td>TRG002178</td>\n",
       "      <td>0</td>\n",
       "      <td>142.0</td>\n",
       "      <td>39.0</td>\n",
       "      <td>1</td>\n",
       "      <td>1</td>\n",
       "      <td>0</td>\n",
       "      <td>0</td>\n",
       "      <td>3</td>\n",
       "      <td>3</td>\n",
       "      <td>1</td>\n",
       "      <td>1</td>\n",
       "      <td>2</td>\n",
       "      <td>0.666118</td>\n",
       "      <td>0.476173</td>\n",
       "      <td>20.715461</td>\n",
       "      <td>43.504095</td>\n",
       "      <td>51.971146</td>\n",
       "      <td>41.761226</td>\n",
       "      <td>36.400549</td>\n",
       "      <td>53.310412</td>\n",
       "      <td>14202.708330</td>\n",
       "      <td>28.978871</td>\n",
       "      <td>0.603481</td>\n",
       "      <td>4699.678466</td>\n",
       "      <td>0.330900</td>\n",
       "      <td>14254</td>\n",
       "      <td>0.665558</td>\n",
       "      <td>2.322627</td>\n",
       "      <td>41105.32510</td>\n",
       "      <td>0.179893</td>\n",
       "      <td>0.730463</td>\n",
       "      <td>3.884960</td>\n",
       "      <td>3.857952</td>\n",
       "      <td>0.499454</td>\n",
       "      <td>1.562901</td>\n",
       "      <td>1.632745</td>\n",
       "      <td>-1.106491</td>\n",
       "      <td>4.964442</td>\n",
       "      <td>0.318599</td>\n",
       "      <td>1.698168</td>\n",
       "      <td>-0.634246</td>\n",
       "      <td>41105.32510</td>\n",
       "      <td>0.947174</td>\n",
       "      <td>0.441115</td>\n",
       "      <td>3.934749</td>\n",
       "      <td>0.070286</td>\n",
       "      <td>-0.048574</td>\n",
       "      <td>0.039166</td>\n",
       "      <td>0.027998</td>\n",
       "      <td>0.157776</td>\n",
       "      <td>0.027998</td>\n",
       "      <td>0.183795</td>\n",
       "      <td>0.027197</td>\n",
       "      <td>0.986001</td>\n",
       "      <td>0.986001</td>\n",
       "      <td>0.994400</td>\n",
       "      <td>0.990667</td>\n",
       "      <td>-0.070082</td>\n",
       "      <td>0.105206</td>\n",
       "      <td>0.027998</td>\n",
       "      <td>1.982916</td>\n",
       "      <td>0.939221</td>\n",
       "      <td>0.240095</td>\n",
       "      <td>0.157776</td>\n",
       "      <td>0.968917</td>\n",
       "      <td>3.965832</td>\n",
       "      <td>0.212098</td>\n",
       "      <td>0.016791</td>\n",
       "      <td>2.799725</td>\n",
       "      <td>4650.251438</td>\n",
       "      <td>0.326242</td>\n",
       "      <td>29.160771</td>\n",
       "      <td>13501.014310</td>\n",
       "      <td>0.026413</td>\n",
       "      <td>3.918549</td>\n",
       "      <td>585.940648</td>\n",
       "      <td>2342.457065</td>\n",
       "      <td>146.811544</td>\n",
       "      <td>0.270363</td>\n",
       "      <td>0.006518</td>\n",
       "      <td>0.012337</td>\n",
       "      <td>0.005064</td>\n",
       "      <td>1302.579572</td>\n",
       "      <td>0.694474</td>\n",
       "      <td>0.152763</td>\n",
       "      <td>3.433408</td>\n",
       "      <td>109.743182</td>\n",
       "      <td>438.113168</td>\n",
       "      <td>27.650685</td>\n",
       "      <td>0.391648</td>\n",
       "      <td>4.255471</td>\n",
       "      <td>159.837285</td>\n",
       "      <td>0.084497</td>\n",
       "      <td>0.130916</td>\n",
       "      <td>44.699577</td>\n",
       "      <td>0.241148</td>\n",
       "      <td>0.442279</td>\n",
       "      <td>0.190865</td>\n",
       "      <td>78.025000</td>\n",
       "      <td>0.975313</td>\n",
       "      <td>0.012344</td>\n",
       "      <td>1.037500</td>\n",
       "      <td>2403756.075</td>\n",
       "      <td>9.614769e+06</td>\n",
       "      <td>6.010027e+05</td>\n",
       "      <td>0.990625</td>\n",
       "      <td>15.850000</td>\n",
       "      <td>0.198125</td>\n",
       "      <td>0.444391</td>\n",
       "      <td>0.444391</td>\n",
       "      <td>0.444391</td>\n",
       "      <td>3.032144</td>\n",
       "      <td>0.005612</td>\n",
       "      <td>2372009.744</td>\n",
       "      <td>59.459710</td>\n",
       "      <td>0.004383</td>\n",
       "      <td>0.032012</td>\n",
       "      <td>0.001006</td>\n",
       "      <td>0.003685</td>\n",
       "    </tr>\n",
       "    <tr>\n",
       "      <th>2</th>\n",
       "      <td>TRG002204</td>\n",
       "      <td>1</td>\n",
       "      <td>135.0</td>\n",
       "      <td>31.0</td>\n",
       "      <td>0</td>\n",
       "      <td>0</td>\n",
       "      <td>0</td>\n",
       "      <td>1</td>\n",
       "      <td>2</td>\n",
       "      <td>1</td>\n",
       "      <td>1</td>\n",
       "      <td>0</td>\n",
       "      <td>2</td>\n",
       "      <td>0.645083</td>\n",
       "      <td>0.594470</td>\n",
       "      <td>21.659822</td>\n",
       "      <td>36.435505</td>\n",
       "      <td>32.984845</td>\n",
       "      <td>40.447497</td>\n",
       "      <td>42.379240</td>\n",
       "      <td>44.384682</td>\n",
       "      <td>10858.375000</td>\n",
       "      <td>23.503921</td>\n",
       "      <td>0.608183</td>\n",
       "      <td>3899.055524</td>\n",
       "      <td>0.359083</td>\n",
       "      <td>10960</td>\n",
       "      <td>0.638035</td>\n",
       "      <td>1.961740</td>\n",
       "      <td>19774.94893</td>\n",
       "      <td>0.136183</td>\n",
       "      <td>0.509910</td>\n",
       "      <td>4.760064</td>\n",
       "      <td>3.841710</td>\n",
       "      <td>0.400199</td>\n",
       "      <td>1.219685</td>\n",
       "      <td>1.153095</td>\n",
       "      <td>-1.025610</td>\n",
       "      <td>4.867321</td>\n",
       "      <td>0.231278</td>\n",
       "      <td>1.343236</td>\n",
       "      <td>0.545105</td>\n",
       "      <td>19774.94893</td>\n",
       "      <td>0.962589</td>\n",
       "      <td>0.316651</td>\n",
       "      <td>3.955045</td>\n",
       "      <td>0.043376</td>\n",
       "      <td>-0.031359</td>\n",
       "      <td>0.026057</td>\n",
       "      <td>0.020003</td>\n",
       "      <td>0.131035</td>\n",
       "      <td>0.020003</td>\n",
       "      <td>0.141291</td>\n",
       "      <td>0.019599</td>\n",
       "      <td>0.989998</td>\n",
       "      <td>0.989998</td>\n",
       "      <td>0.995999</td>\n",
       "      <td>0.993332</td>\n",
       "      <td>-0.048997</td>\n",
       "      <td>0.086544</td>\n",
       "      <td>0.020003</td>\n",
       "      <td>1.988349</td>\n",
       "      <td>0.957372</td>\n",
       "      <td>0.178540</td>\n",
       "      <td>0.131035</td>\n",
       "      <td>0.978347</td>\n",
       "      <td>3.976698</td>\n",
       "      <td>0.158537</td>\n",
       "      <td>0.011515</td>\n",
       "      <td>2.863091</td>\n",
       "      <td>3374.309307</td>\n",
       "      <td>0.307875</td>\n",
       "      <td>27.615779</td>\n",
       "      <td>10549.970990</td>\n",
       "      <td>0.018706</td>\n",
       "      <td>3.942792</td>\n",
       "      <td>584.343248</td>\n",
       "      <td>2336.739325</td>\n",
       "      <td>146.244229</td>\n",
       "      <td>0.264302</td>\n",
       "      <td>0.007181</td>\n",
       "      <td>0.013216</td>\n",
       "      <td>0.005672</td>\n",
       "      <td>1102.109263</td>\n",
       "      <td>0.764847</td>\n",
       "      <td>0.117576</td>\n",
       "      <td>3.590626</td>\n",
       "      <td>100.817995</td>\n",
       "      <td>402.737100</td>\n",
       "      <td>25.338218</td>\n",
       "      <td>0.352343</td>\n",
       "      <td>4.232295</td>\n",
       "      <td>114.255050</td>\n",
       "      <td>0.079355</td>\n",
       "      <td>0.130959</td>\n",
       "      <td>38.588656</td>\n",
       "      <td>0.222151</td>\n",
       "      <td>0.503046</td>\n",
       "      <td>0.151927</td>\n",
       "      <td>72.027027</td>\n",
       "      <td>0.973338</td>\n",
       "      <td>0.013331</td>\n",
       "      <td>1.040541</td>\n",
       "      <td>1561963.432</td>\n",
       "      <td>6.247801e+06</td>\n",
       "      <td>3.905040e+05</td>\n",
       "      <td>0.989865</td>\n",
       "      <td>20.405405</td>\n",
       "      <td>0.275749</td>\n",
       "      <td>0.534549</td>\n",
       "      <td>0.534549</td>\n",
       "      <td>0.534549</td>\n",
       "      <td>2.485848</td>\n",
       "      <td>0.006752</td>\n",
       "      <td>1540027.421</td>\n",
       "      <td>33.935384</td>\n",
       "      <td>0.007584</td>\n",
       "      <td>0.024062</td>\n",
       "      <td>0.000529</td>\n",
       "      <td>0.006447</td>\n",
       "    </tr>\n",
       "    <tr>\n",
       "      <th>3</th>\n",
       "      <td>TRG002206</td>\n",
       "      <td>0</td>\n",
       "      <td>12.0</td>\n",
       "      <td>35.0</td>\n",
       "      <td>0</td>\n",
       "      <td>0</td>\n",
       "      <td>0</td>\n",
       "      <td>1</td>\n",
       "      <td>3</td>\n",
       "      <td>3</td>\n",
       "      <td>1</td>\n",
       "      <td>1</td>\n",
       "      <td>3</td>\n",
       "      <td>0.770842</td>\n",
       "      <td>0.501228</td>\n",
       "      <td>26.590504</td>\n",
       "      <td>53.050724</td>\n",
       "      <td>66.910388</td>\n",
       "      <td>44.944410</td>\n",
       "      <td>66.760767</td>\n",
       "      <td>69.000000</td>\n",
       "      <td>26748.208330</td>\n",
       "      <td>40.893735</td>\n",
       "      <td>0.474509</td>\n",
       "      <td>9115.275207</td>\n",
       "      <td>0.340781</td>\n",
       "      <td>26899</td>\n",
       "      <td>0.759496</td>\n",
       "      <td>2.164869</td>\n",
       "      <td>72854.17151</td>\n",
       "      <td>0.087137</td>\n",
       "      <td>0.740609</td>\n",
       "      <td>3.421056</td>\n",
       "      <td>3.030400</td>\n",
       "      <td>0.442713</td>\n",
       "      <td>1.549668</td>\n",
       "      <td>1.660720</td>\n",
       "      <td>-0.851106</td>\n",
       "      <td>3.881506</td>\n",
       "      <td>0.309734</td>\n",
       "      <td>1.645732</td>\n",
       "      <td>-0.792678</td>\n",
       "      <td>72854.17151</td>\n",
       "      <td>0.978307</td>\n",
       "      <td>0.306963</td>\n",
       "      <td>3.973627</td>\n",
       "      <td>0.025128</td>\n",
       "      <td>-0.018371</td>\n",
       "      <td>0.015236</td>\n",
       "      <td>0.011845</td>\n",
       "      <td>0.122613</td>\n",
       "      <td>0.011845</td>\n",
       "      <td>0.092635</td>\n",
       "      <td>0.011702</td>\n",
       "      <td>0.994078</td>\n",
       "      <td>0.994078</td>\n",
       "      <td>0.997631</td>\n",
       "      <td>0.996052</td>\n",
       "      <td>-0.056651</td>\n",
       "      <td>0.065831</td>\n",
       "      <td>0.011845</td>\n",
       "      <td>1.993183</td>\n",
       "      <td>0.974758</td>\n",
       "      <td>0.114284</td>\n",
       "      <td>0.122613</td>\n",
       "      <td>0.987261</td>\n",
       "      <td>3.986367</td>\n",
       "      <td>0.102439</td>\n",
       "      <td>0.006770</td>\n",
       "      <td>2.756432</td>\n",
       "      <td>8662.085096</td>\n",
       "      <td>0.322023</td>\n",
       "      <td>22.976388</td>\n",
       "      <td>26315.470500</td>\n",
       "      <td>0.010847</td>\n",
       "      <td>3.967099</td>\n",
       "      <td>594.497230</td>\n",
       "      <td>2377.642849</td>\n",
       "      <td>148.710826</td>\n",
       "      <td>0.258225</td>\n",
       "      <td>0.004902</td>\n",
       "      <td>0.010811</td>\n",
       "      <td>0.003424</td>\n",
       "      <td>2701.187578</td>\n",
       "      <td>0.841781</td>\n",
       "      <td>0.079110</td>\n",
       "      <td>3.739820</td>\n",
       "      <td>125.498739</td>\n",
       "      <td>501.648278</td>\n",
       "      <td>31.461354</td>\n",
       "      <td>0.315045</td>\n",
       "      <td>4.412648</td>\n",
       "      <td>212.625994</td>\n",
       "      <td>0.065202</td>\n",
       "      <td>0.118981</td>\n",
       "      <td>48.370607</td>\n",
       "      <td>0.161327</td>\n",
       "      <td>0.399896</td>\n",
       "      <td>0.101685</td>\n",
       "      <td>99.019802</td>\n",
       "      <td>0.980394</td>\n",
       "      <td>0.009803</td>\n",
       "      <td>1.029703</td>\n",
       "      <td>7007670.723</td>\n",
       "      <td>2.803063e+07</td>\n",
       "      <td>1.751932e+06</td>\n",
       "      <td>0.992574</td>\n",
       "      <td>25.554455</td>\n",
       "      <td>0.253014</td>\n",
       "      <td>0.506185</td>\n",
       "      <td>0.506185</td>\n",
       "      <td>0.506185</td>\n",
       "      <td>2.606255</td>\n",
       "      <td>0.003755</td>\n",
       "      <td>6936740.794</td>\n",
       "      <td>46.859265</td>\n",
       "      <td>0.005424</td>\n",
       "      <td>0.013707</td>\n",
       "      <td>0.000178</td>\n",
       "      <td>0.004543</td>\n",
       "    </tr>\n",
       "    <tr>\n",
       "      <th>4</th>\n",
       "      <td>TRG002210</td>\n",
       "      <td>0</td>\n",
       "      <td>109.0</td>\n",
       "      <td>61.0</td>\n",
       "      <td>1</td>\n",
       "      <td>0</td>\n",
       "      <td>0</td>\n",
       "      <td>0</td>\n",
       "      <td>2</td>\n",
       "      <td>1</td>\n",
       "      <td>1</td>\n",
       "      <td>0</td>\n",
       "      <td>2</td>\n",
       "      <td>0.861035</td>\n",
       "      <td>0.750267</td>\n",
       "      <td>20.456571</td>\n",
       "      <td>27.265716</td>\n",
       "      <td>33.241540</td>\n",
       "      <td>30.594117</td>\n",
       "      <td>31.384710</td>\n",
       "      <td>35.042831</td>\n",
       "      <td>8846.541667</td>\n",
       "      <td>23.476732</td>\n",
       "      <td>0.756228</td>\n",
       "      <td>2735.354881</td>\n",
       "      <td>0.309200</td>\n",
       "      <td>8894</td>\n",
       "      <td>0.434385</td>\n",
       "      <td>1.832410</td>\n",
       "      <td>15697.30914</td>\n",
       "      <td>0.183666</td>\n",
       "      <td>0.787978</td>\n",
       "      <td>3.107181</td>\n",
       "      <td>2.315364</td>\n",
       "      <td>0.447799</td>\n",
       "      <td>1.209800</td>\n",
       "      <td>1.311328</td>\n",
       "      <td>-0.866201</td>\n",
       "      <td>3.181566</td>\n",
       "      <td>0.324996</td>\n",
       "      <td>1.328508</td>\n",
       "      <td>-0.732889</td>\n",
       "      <td>15697.30914</td>\n",
       "      <td>0.945787</td>\n",
       "      <td>0.301317</td>\n",
       "      <td>3.933264</td>\n",
       "      <td>0.069301</td>\n",
       "      <td>-0.048455</td>\n",
       "      <td>0.039564</td>\n",
       "      <td>0.028921</td>\n",
       "      <td>0.155224</td>\n",
       "      <td>0.028921</td>\n",
       "      <td>0.188503</td>\n",
       "      <td>0.028068</td>\n",
       "      <td>0.985540</td>\n",
       "      <td>0.985540</td>\n",
       "      <td>0.994216</td>\n",
       "      <td>0.990360</td>\n",
       "      <td>-0.061986</td>\n",
       "      <td>0.106835</td>\n",
       "      <td>0.028921</td>\n",
       "      <td>1.982575</td>\n",
       "      <td>0.937690</td>\n",
       "      <td>0.245543</td>\n",
       "      <td>0.155224</td>\n",
       "      <td>0.968114</td>\n",
       "      <td>3.965150</td>\n",
       "      <td>0.216623</td>\n",
       "      <td>0.017121</td>\n",
       "      <td>2.676170</td>\n",
       "      <td>3195.159883</td>\n",
       "      <td>0.359249</td>\n",
       "      <td>29.518487</td>\n",
       "      <td>8411.830447</td>\n",
       "      <td>0.027106</td>\n",
       "      <td>3.916348</td>\n",
       "      <td>594.187317</td>\n",
       "      <td>2375.516078</td>\n",
       "      <td>148.855127</td>\n",
       "      <td>0.270913</td>\n",
       "      <td>0.007222</td>\n",
       "      <td>0.012956</td>\n",
       "      <td>0.005788</td>\n",
       "      <td>750.787780</td>\n",
       "      <td>0.674880</td>\n",
       "      <td>0.162560</td>\n",
       "      <td>3.385162</td>\n",
       "      <td>110.775276</td>\n",
       "      <td>442.211336</td>\n",
       "      <td>27.916261</td>\n",
       "      <td>0.403709</td>\n",
       "      <td>4.140589</td>\n",
       "      <td>101.119011</td>\n",
       "      <td>0.091210</td>\n",
       "      <td>0.124509</td>\n",
       "      <td>41.234090</td>\n",
       "      <td>0.261101</td>\n",
       "      <td>0.473278</td>\n",
       "      <td>0.208056</td>\n",
       "      <td>56.034483</td>\n",
       "      <td>0.966112</td>\n",
       "      <td>0.016944</td>\n",
       "      <td>1.051724</td>\n",
       "      <td>1288913.690</td>\n",
       "      <td>5.155465e+06</td>\n",
       "      <td>3.222760e+05</td>\n",
       "      <td>0.987069</td>\n",
       "      <td>12.551724</td>\n",
       "      <td>0.216409</td>\n",
       "      <td>0.462282</td>\n",
       "      <td>0.462282</td>\n",
       "      <td>0.462282</td>\n",
       "      <td>2.809279</td>\n",
       "      <td>0.006521</td>\n",
       "      <td>1265399.054</td>\n",
       "      <td>39.621023</td>\n",
       "      <td>0.006585</td>\n",
       "      <td>0.034148</td>\n",
       "      <td>0.001083</td>\n",
       "      <td>0.005626</td>\n",
       "    </tr>\n",
       "  </tbody>\n",
       "</table>\n",
       "</div>"
      ],
      "text/plain": [
       "          ID  pCR (outcome)  RelapseFreeSurvival (outcome)   Age  ER  PgR  \\\n",
       "0  TRG002174              1                          144.0  41.0   0    0   \n",
       "1  TRG002178              0                          142.0  39.0   1    1   \n",
       "2  TRG002204              1                          135.0  31.0   0    0   \n",
       "3  TRG002206              0                           12.0  35.0   0    0   \n",
       "4  TRG002210              0                          109.0  61.0   1    0   \n",
       "\n",
       "   HER2  TrippleNegative  ChemoGrade  Proliferation  HistologyType  LNStatus  \\\n",
       "0     0                1           3              3              1         1   \n",
       "1     0                0           3              3              1         1   \n",
       "2     0                1           2              1              1         0   \n",
       "3     0                1           3              3              1         1   \n",
       "4     0                0           2              1              1         0   \n",
       "\n",
       "   TumourStage  original_shape_Elongation  original_shape_Flatness  \\\n",
       "0            2                   0.813912                 0.724080   \n",
       "1            2                   0.666118                 0.476173   \n",
       "2            2                   0.645083                 0.594470   \n",
       "3            3                   0.770842                 0.501228   \n",
       "4            2                   0.861035                 0.750267   \n",
       "\n",
       "   original_shape_LeastAxisLength  original_shape_MajorAxisLength  \\\n",
       "0                       23.781937                       32.844370   \n",
       "1                       20.715461                       43.504095   \n",
       "2                       21.659822                       36.435505   \n",
       "3                       26.590504                       53.050724   \n",
       "4                       20.456571                       27.265716   \n",
       "\n",
       "   original_shape_Maximum2DDiameterColumn  \\\n",
       "0                               37.696154   \n",
       "1                               51.971146   \n",
       "2                               32.984845   \n",
       "3                               66.910388   \n",
       "4                               33.241540   \n",
       "\n",
       "   original_shape_Maximum2DDiameterRow  original_shape_Maximum2DDiameterSlice  \\\n",
       "0                            38.626416                              34.713110   \n",
       "1                            41.761226                              36.400549   \n",
       "2                            40.447497                              42.379240   \n",
       "3                            44.944410                              66.760767   \n",
       "4                            30.594117                              31.384710   \n",
       "\n",
       "   original_shape_Maximum3DDiameter  original_shape_MeshVolume  \\\n",
       "0                         39.572718               14209.458330   \n",
       "1                         53.310412               14202.708330   \n",
       "2                         44.384682               10858.375000   \n",
       "3                         69.000000               26748.208330   \n",
       "4                         35.042831                8846.541667   \n",
       "\n",
       "   original_shape_MinorAxisLength  original_shape_Sphericity  \\\n",
       "0                       26.732440                   0.771675   \n",
       "1                       28.978871                   0.603481   \n",
       "2                       23.503921                   0.608183   \n",
       "3                       40.893735                   0.474509   \n",
       "4                       23.476732                   0.756228   \n",
       "\n",
       "   original_shape_SurfaceArea  original_shape_SurfaceVolumeRatio  \\\n",
       "0                 3676.500012                           0.258736   \n",
       "1                 4699.678466                           0.330900   \n",
       "2                 3899.055524                           0.359083   \n",
       "3                 9115.275207                           0.340781   \n",
       "4                 2735.354881                           0.309200   \n",
       "\n",
       "   original_shape_VoxelVolume  original_firstorder_10Percentile  \\\n",
       "0                       14263                         -0.163500   \n",
       "1                       14254                          0.665558   \n",
       "2                       10960                          0.638035   \n",
       "3                       26899                          0.759496   \n",
       "4                        8894                          0.434385   \n",
       "\n",
       "   original_firstorder_90Percentile  original_firstorder_Energy  \\\n",
       "0                          0.708860                  2897.68930   \n",
       "1                          2.322627                 41105.32510   \n",
       "2                          1.961740                 19774.94893   \n",
       "3                          2.164869                 72854.17151   \n",
       "4                          1.832410                 15697.30914   \n",
       "\n",
       "   original_firstorder_Entropy  original_firstorder_InterquartileRange  \\\n",
       "0                     0.738088                                0.406537   \n",
       "1                     0.179893                                0.730463   \n",
       "2                     0.136183                                0.509910   \n",
       "3                     0.087137                                0.740609   \n",
       "4                     0.183666                                0.787978   \n",
       "\n",
       "   original_firstorder_Kurtosis  original_firstorder_Maximum  \\\n",
       "0                      4.594629                     2.114799   \n",
       "1                      3.884960                     3.857952   \n",
       "2                      4.760064                     3.841710   \n",
       "3                      3.421056                     3.030400   \n",
       "4                      3.107181                     2.315364   \n",
       "\n",
       "   original_firstorder_MeanAbsoluteDeviation  original_firstorder_Mean  \\\n",
       "0                                   0.278008                  0.248168   \n",
       "1                                   0.499454                  1.562901   \n",
       "2                                   0.400199                  1.219685   \n",
       "3                                   0.442713                  1.549668   \n",
       "4                                   0.447799                  1.209800   \n",
       "\n",
       "   original_firstorder_Median  original_firstorder_Minimum  \\\n",
       "0                    0.217628                    -1.251833   \n",
       "1                    1.632745                    -1.106491   \n",
       "2                    1.153095                    -1.025610   \n",
       "3                    1.660720                    -0.851106   \n",
       "4                    1.311328                    -0.866201   \n",
       "\n",
       "   original_firstorder_Range  original_firstorder_RobustMeanAbsoluteDeviation  \\\n",
       "0                   3.366632                                         0.174026   \n",
       "1                   4.964442                                         0.318599   \n",
       "2                   4.867321                                         0.231278   \n",
       "3                   3.881506                                         0.309734   \n",
       "4                   3.181566                                         0.324996   \n",
       "\n",
       "   original_firstorder_RootMeanSquared  original_firstorder_Skewness  \\\n",
       "0                             0.450734                      0.386237   \n",
       "1                             1.698168                     -0.634246   \n",
       "2                             1.343236                      0.545105   \n",
       "3                             1.645732                     -0.792678   \n",
       "4                             1.328508                     -0.732889   \n",
       "\n",
       "   original_firstorder_TotalEnergy  original_firstorder_Uniformity  \\\n",
       "0                       2897.68930                        0.670258   \n",
       "1                      41105.32510                        0.947174   \n",
       "2                      19774.94893                        0.962589   \n",
       "3                      72854.17151                        0.978307   \n",
       "4                      15697.30914                        0.945787   \n",
       "\n",
       "   original_firstorder_Variance  original_glcm_Autocorrelation  \\\n",
       "0                      0.141574                       3.328814   \n",
       "1                      0.441115                       3.934749   \n",
       "2                      0.316651                       3.955045   \n",
       "3                      0.306963                       3.973627   \n",
       "4                      0.301317                       3.933264   \n",
       "\n",
       "   original_glcm_ClusterProminence  original_glcm_ClusterShade  \\\n",
       "0                         0.725849                   -0.425324   \n",
       "1                         0.070286                   -0.048574   \n",
       "2                         0.043376                   -0.031359   \n",
       "3                         0.025128                   -0.018371   \n",
       "4                         0.069301                   -0.048455   \n",
       "\n",
       "   original_glcm_ClusterTendency  original_glcm_Contrast  \\\n",
       "0                       0.438760                0.184265   \n",
       "1                       0.039166                0.027998   \n",
       "2                       0.026057                0.020003   \n",
       "3                       0.015236                0.011845   \n",
       "4                       0.039564                0.028921   \n",
       "\n",
       "   original_glcm_Correlation  original_glcm_DifferenceAverage  \\\n",
       "0                   0.407895                         0.184265   \n",
       "1                   0.157776                         0.027998   \n",
       "2                   0.131035                         0.020003   \n",
       "3                   0.122613                         0.011845   \n",
       "4                   0.155224                         0.028921   \n",
       "\n",
       "   original_glcm_DifferenceEntropy  original_glcm_DifferenceVariance  \\\n",
       "0                         0.685680                          0.149585   \n",
       "1                         0.183795                          0.027197   \n",
       "2                         0.141291                          0.019599   \n",
       "3                         0.092635                          0.011702   \n",
       "4                         0.188503                          0.028068   \n",
       "\n",
       "   original_glcm_Id  original_glcm_Idm  original_glcm_Idmn  original_glcm_Idn  \\\n",
       "0          0.907867           0.907867            0.963147           0.938578   \n",
       "1          0.986001           0.986001            0.994400           0.990667   \n",
       "2          0.989998           0.989998            0.995999           0.993332   \n",
       "3          0.994078           0.994078            0.997631           0.996052   \n",
       "4          0.985540           0.985540            0.994216           0.990360   \n",
       "\n",
       "   original_glcm_Imc1  original_glcm_Imc2  original_glcm_InverseVariance  \\\n",
       "0           -0.149786            0.425720                       0.184265   \n",
       "1           -0.070082            0.105206                       0.027998   \n",
       "2           -0.048997            0.086544                       0.020003   \n",
       "3           -0.056651            0.065831                       0.011845   \n",
       "4           -0.061986            0.106835                       0.028921   \n",
       "\n",
       "   original_glcm_JointAverage  original_glcm_JointEnergy  \\\n",
       "0                    1.806982                   0.538903   \n",
       "1                    1.982916                   0.939221   \n",
       "2                    1.988349                   0.957372   \n",
       "3                    1.993183                   0.974758   \n",
       "4                    1.982575                   0.937690   \n",
       "\n",
       "   original_glcm_JointEntropy  original_glcm_MCC  \\\n",
       "0                    1.309203           0.407895   \n",
       "1                    0.240095           0.157776   \n",
       "2                    0.178540           0.131035   \n",
       "3                    0.114284           0.122613   \n",
       "4                    0.245543           0.155224   \n",
       "\n",
       "   original_glcm_MaximumProbability  original_glcm_SumAverage  \\\n",
       "0                          0.714849                  3.613964   \n",
       "1                          0.968917                  3.965832   \n",
       "2                          0.978347                  3.976698   \n",
       "3                          0.987261                  3.986367   \n",
       "4                          0.968114                  3.965150   \n",
       "\n",
       "   original_glcm_SumEntropy  original_glcm_SumSquares  \\\n",
       "0                  1.124938                  0.155756   \n",
       "1                  0.212098                  0.016791   \n",
       "2                  0.158537                  0.011515   \n",
       "3                  0.102439                  0.006770   \n",
       "4                  0.216623                  0.017121   \n",
       "\n",
       "   original_gldm_DependenceEntropy  original_gldm_DependenceNonUniformity  \\\n",
       "0                         4.529461                            1164.363949   \n",
       "1                         2.799725                            4650.251438   \n",
       "2                         2.863091                            3374.309307   \n",
       "3                         2.756432                            8662.085096   \n",
       "4                         2.676170                            3195.159883   \n",
       "\n",
       "   original_gldm_DependenceNonUniformityNormalized  \\\n",
       "0                                         0.081635   \n",
       "1                                         0.326242   \n",
       "2                                         0.307875   \n",
       "3                                         0.322023   \n",
       "4                                         0.359249   \n",
       "\n",
       "   original_gldm_DependenceVariance  original_gldm_GrayLevelNonUniformity  \\\n",
       "0                         38.233794                           9559.892659   \n",
       "1                         29.160771                          13501.014310   \n",
       "2                         27.615779                          10549.970990   \n",
       "3                         22.976388                          26315.470500   \n",
       "4                         29.518487                           8411.830447   \n",
       "\n",
       "   original_gldm_GrayLevelVariance  original_gldm_HighGrayLevelEmphasis  \\\n",
       "0                         0.164871                             3.375307   \n",
       "1                         0.026413                             3.918549   \n",
       "2                         0.018706                             3.942792   \n",
       "3                         0.010847                             3.967099   \n",
       "4                         0.027106                             3.916348   \n",
       "\n",
       "   original_gldm_LargeDependenceEmphasis  \\\n",
       "0                             456.983173   \n",
       "1                             585.940648   \n",
       "2                             584.343248   \n",
       "3                             594.497230   \n",
       "4                             594.187317   \n",
       "\n",
       "   original_gldm_LargeDependenceHighGrayLevelEmphasis  \\\n",
       "0                                        1714.810208    \n",
       "1                                        2342.457065    \n",
       "2                                        2336.739325    \n",
       "3                                        2377.642849    \n",
       "4                                        2375.516078    \n",
       "\n",
       "   original_gldm_LargeDependenceLowGrayLevelEmphasis  \\\n",
       "0                                         142.526414   \n",
       "1                                         146.811544   \n",
       "2                                         146.244229   \n",
       "3                                         148.710826   \n",
       "4                                         148.855127   \n",
       "\n",
       "   original_gldm_LowGrayLevelEmphasis  original_gldm_SmallDependenceEmphasis  \\\n",
       "0                            0.406173                               0.005563   \n",
       "1                            0.270363                               0.006518   \n",
       "2                            0.264302                               0.007181   \n",
       "3                            0.258225                               0.004902   \n",
       "4                            0.270913                               0.007222   \n",
       "\n",
       "   original_gldm_SmallDependenceHighGrayLevelEmphasis  \\\n",
       "0                                           0.011679    \n",
       "1                                           0.012337    \n",
       "2                                           0.013216    \n",
       "3                                           0.010811    \n",
       "4                                           0.012956    \n",
       "\n",
       "   original_gldm_SmallDependenceLowGrayLevelEmphasis  \\\n",
       "0                                           0.004033   \n",
       "1                                           0.005064   \n",
       "2                                           0.005672   \n",
       "3                                           0.003424   \n",
       "4                                           0.005788   \n",
       "\n",
       "   original_glrlm_GrayLevelNonUniformity  \\\n",
       "0                            1805.333660   \n",
       "1                            1302.579572   \n",
       "2                            1102.109263   \n",
       "3                            2701.187578   \n",
       "4                             750.787780   \n",
       "\n",
       "   original_glrlm_GrayLevelNonUniformityNormalized  \\\n",
       "0                                         0.503341   \n",
       "1                                         0.694474   \n",
       "2                                         0.764847   \n",
       "3                                         0.841781   \n",
       "4                                         0.674880   \n",
       "\n",
       "   original_glrlm_GrayLevelVariance  original_glrlm_HighGrayLevelRunEmphasis  \\\n",
       "0                          0.248329                                 2.619511   \n",
       "1                          0.152763                                 3.433408   \n",
       "2                          0.117576                                 3.590626   \n",
       "3                          0.079110                                 3.739820   \n",
       "4                          0.162560                                 3.385162   \n",
       "\n",
       "   original_glrlm_LongRunEmphasis  \\\n",
       "0                       36.191087   \n",
       "1                      109.743182   \n",
       "2                      100.817995   \n",
       "3                      125.498739   \n",
       "4                      110.775276   \n",
       "\n",
       "   original_glrlm_LongRunHighGrayLevelEmphasis  \\\n",
       "0                                   137.835476   \n",
       "1                                   438.113168   \n",
       "2                                   402.737100   \n",
       "3                                   501.648278   \n",
       "4                                   442.211336   \n",
       "\n",
       "   original_glrlm_LongRunLowGrayLevelEmphasis  \\\n",
       "0                                   10.779989   \n",
       "1                                   27.650685   \n",
       "2                                   25.338218   \n",
       "3                                   31.461354   \n",
       "4                                   27.916261   \n",
       "\n",
       "   original_glrlm_LowGrayLevelRunEmphasis  original_glrlm_RunEntropy  \\\n",
       "0                                0.595122                   3.865811   \n",
       "1                                0.391648                   4.255471   \n",
       "2                                0.352343                   4.232295   \n",
       "3                                0.315045                   4.412648   \n",
       "4                                0.403709                   4.140589   \n",
       "\n",
       "   original_glrlm_RunLengthNonUniformity  \\\n",
       "0                             677.118614   \n",
       "1                             159.837285   \n",
       "2                             114.255050   \n",
       "3                             212.625994   \n",
       "4                             101.119011   \n",
       "\n",
       "   original_glrlm_RunLengthNonUniformityNormalized  \\\n",
       "0                                         0.184874   \n",
       "1                                         0.084497   \n",
       "2                                         0.079355   \n",
       "3                                         0.065202   \n",
       "4                                         0.091210   \n",
       "\n",
       "   original_glrlm_RunPercentage  original_glrlm_RunVariance  \\\n",
       "0                      0.251409                   19.138811   \n",
       "1                      0.130916                   44.699577   \n",
       "2                      0.130959                   38.588656   \n",
       "3                      0.118981                   48.370607   \n",
       "4                      0.124509                   41.234090   \n",
       "\n",
       "   original_glrlm_ShortRunEmphasis  \\\n",
       "0                         0.409396   \n",
       "1                         0.241148   \n",
       "2                         0.222151   \n",
       "3                         0.161327   \n",
       "4                         0.261101   \n",
       "\n",
       "   original_glrlm_ShortRunHighGrayLevelEmphasis  \\\n",
       "0                                      0.789987   \n",
       "1                                      0.442279   \n",
       "2                                      0.503046   \n",
       "3                                      0.399896   \n",
       "4                                      0.473278   \n",
       "\n",
       "   original_glrlm_ShortRunLowGrayLevelEmphasis  \\\n",
       "0                                     0.314248   \n",
       "1                                     0.190865   \n",
       "2                                     0.151927   \n",
       "3                                     0.101685   \n",
       "4                                     0.208056   \n",
       "\n",
       "   original_glszm_GrayLevelNonUniformity  \\\n",
       "0                              27.545455   \n",
       "1                              78.025000   \n",
       "2                              72.027027   \n",
       "3                              99.019802   \n",
       "4                              56.034483   \n",
       "\n",
       "   original_glszm_GrayLevelNonUniformityNormalized  \\\n",
       "0                                         0.834711   \n",
       "1                                         0.975313   \n",
       "2                                         0.973338   \n",
       "3                                         0.980394   \n",
       "4                                         0.966112   \n",
       "\n",
       "   original_glszm_GrayLevelVariance  original_glszm_HighGrayLevelZoneEmphasis  \\\n",
       "0                          0.082645                                  1.272727   \n",
       "1                          0.012344                                  1.037500   \n",
       "2                          0.013331                                  1.040541   \n",
       "3                          0.009803                                  1.029703   \n",
       "4                          0.016944                                  1.051724   \n",
       "\n",
       "   original_glszm_LargeAreaEmphasis  \\\n",
       "0                       4067578.818   \n",
       "1                       2403756.075   \n",
       "2                       1561963.432   \n",
       "3                       7007670.723   \n",
       "4                       1288913.690   \n",
       "\n",
       "   original_glszm_LargeAreaHighGrayLevelEmphasis  \\\n",
       "0                                   1.565522e+07   \n",
       "1                                   9.614769e+06   \n",
       "2                                   6.247801e+06   \n",
       "3                                   2.803063e+07   \n",
       "4                                   5.155465e+06   \n",
       "\n",
       "   original_glszm_LargeAreaLowGrayLevelEmphasis  \\\n",
       "0                                  1.170667e+06   \n",
       "1                                  6.010027e+05   \n",
       "2                                  3.905040e+05   \n",
       "3                                  1.751932e+06   \n",
       "4                                  3.222760e+05   \n",
       "\n",
       "   original_glszm_LowGrayLevelZoneEmphasis  \\\n",
       "0                                 0.931818   \n",
       "1                                 0.990625   \n",
       "2                                 0.989865   \n",
       "3                                 0.992574   \n",
       "4                                 0.987069   \n",
       "\n",
       "   original_glszm_SizeZoneNonUniformity  \\\n",
       "0                              5.969697   \n",
       "1                             15.850000   \n",
       "2                             20.405405   \n",
       "3                             25.554455   \n",
       "4                             12.551724   \n",
       "\n",
       "   original_glszm_SizeZoneNonUniformityNormalized  \\\n",
       "0                                        0.180900   \n",
       "1                                        0.198125   \n",
       "2                                        0.275749   \n",
       "3                                        0.253014   \n",
       "4                                        0.216409   \n",
       "\n",
       "   original_glszm_SmallAreaEmphasis  \\\n",
       "0                          0.403535   \n",
       "1                          0.444391   \n",
       "2                          0.534549   \n",
       "3                          0.506185   \n",
       "4                          0.462282   \n",
       "\n",
       "   original_glszm_SmallAreaHighGrayLevelEmphasis  \\\n",
       "0                                       0.517172   \n",
       "1                                       0.444391   \n",
       "2                                       0.534549   \n",
       "3                                       0.506185   \n",
       "4                                       0.462282   \n",
       "\n",
       "   original_glszm_SmallAreaLowGrayLevelEmphasis  original_glszm_ZoneEntropy  \\\n",
       "0                                      0.375126                    3.325332   \n",
       "1                                      0.444391                    3.032144   \n",
       "2                                      0.534549                    2.485848   \n",
       "3                                      0.506185                    2.606255   \n",
       "4                                      0.462282                    2.809279   \n",
       "\n",
       "   original_glszm_ZonePercentage  original_glszm_ZoneVariance  \\\n",
       "0                       0.002314                  3880771.500   \n",
       "1                       0.005612                  2372009.744   \n",
       "2                       0.006752                  1540027.421   \n",
       "3                       0.003755                  6936740.794   \n",
       "4                       0.006521                  1265399.054   \n",
       "\n",
       "   original_ngtdm_Busyness  original_ngtdm_Coarseness  \\\n",
       "0               473.464852                   0.000768   \n",
       "1                59.459710                   0.004383   \n",
       "2                33.935384                   0.007584   \n",
       "3                46.859265                   0.005424   \n",
       "4                39.621023                   0.006585   \n",
       "\n",
       "   original_ngtdm_Complexity  original_ngtdm_Contrast  original_ngtdm_Strength  \n",
       "0                   0.182615                 0.030508                 0.000758  \n",
       "1                   0.032012                 0.001006                 0.003685  \n",
       "2                   0.024062                 0.000529                 0.006447  \n",
       "3                   0.013707                 0.000178                 0.004543  \n",
       "4                   0.034148                 0.001083                 0.005626  "
      ]
     },
     "execution_count": 16,
     "metadata": {},
     "output_type": "execute_result"
    }
   ],
   "source": [
    "df.head()"
   ]
  },
  {
   "cell_type": "markdown",
   "id": "28920580",
   "metadata": {},
   "source": [
    "### Target Label counts"
   ]
  },
  {
   "cell_type": "code",
   "execution_count": 17,
   "id": "5edfb237",
   "metadata": {},
   "outputs": [
    {
     "data": {
      "image/png": "[encoded data removed]",
      "text/plain": [
       "<Figure size 432x288 with 1 Axes>"
      ]
     },
     "metadata": {
      "needs_background": "light"
     },
     "output_type": "display_data"
    }
   ],
   "source": [
    "df['pCR (outcome)'].value_counts().plot(kind='bar')\n",
    "plt.show()"
   ]
  },
  {
   "cell_type": "markdown",
   "id": "046f599f",
   "metadata": {},
   "source": [
    "### Targel Label Count Values"
   ]
  },
  {
   "cell_type": "code",
   "execution_count": 18,
   "id": "5197e117",
   "metadata": {},
   "outputs": [
    {
     "data": {
      "text/plain": [
       "0      299\n",
       "1       96\n",
       "999      5\n",
       "Name: pCR (outcome), dtype: int64"
      ]
     },
     "execution_count": 18,
     "metadata": {},
     "output_type": "execute_result"
    }
   ],
   "source": [
    "df['pCR (outcome)'].value_counts()"
   ]
  },
  {
   "cell_type": "markdown",
   "id": "90b78d11",
   "metadata": {},
   "source": [
    "### Targel Label Counts Percentages"
   ]
  },
  {
   "cell_type": "code",
   "execution_count": 19,
   "id": "b0564ca5",
   "metadata": {},
   "outputs": [
    {
     "data": {
      "text/plain": [
       "0      0.7475\n",
       "1      0.2400\n",
       "999    0.0125\n",
       "Name: pCR (outcome), dtype: float64"
      ]
     },
     "execution_count": 19,
     "metadata": {},
     "output_type": "execute_result"
    }
   ],
   "source": [
    "df['pCR (outcome)'].value_counts()/df['pCR (outcome)'].shape[0]"
   ]
  },
  {
   "cell_type": "markdown",
   "id": "6d993be1",
   "metadata": {},
   "source": [
    "## Taking only `pCR (outcome)` 0 and 1"
   ]
  },
  {
   "cell_type": "code",
   "execution_count": 20,
   "id": "642cece4",
   "metadata": {},
   "outputs": [],
   "source": [
    "df = df[df['pCR (outcome)']!=999]"
   ]
  },
  {
   "cell_type": "markdown",
   "id": "62f15115",
   "metadata": {},
   "source": [
    "### Replacing 999 values with Mode\n",
    "\n",
    "- Fallowed manual replacing for EDA purpose, later used sklearn methods in final pipeline for best model"
   ]
  },
  {
   "cell_type": "code",
   "execution_count": 21,
   "id": "72a7cacc",
   "metadata": {},
   "outputs": [
    {
     "data": {
      "text/plain": [
       "HistologyType                                         3\n",
       "ChemoGrade                                            3\n",
       "Proliferation                                         2\n",
       "PgR                                                   1\n",
       "HER2                                                  1\n",
       "TrippleNegative                                       1\n",
       "LNStatus                                              1\n",
       "original_glrlm_GrayLevelVariance                      0\n",
       "original_gldm_SmallDependenceEmphasis                 0\n",
       "original_gldm_SmallDependenceHighGrayLevelEmphasis    0\n",
       "dtype: int64"
      ]
     },
     "execution_count": 21,
     "metadata": {},
     "output_type": "execute_result"
    }
   ],
   "source": [
    "df.replace({999:None}).isnull().sum().sort_values(ascending=False).head(10)"
   ]
  },
  {
   "cell_type": "code",
   "execution_count": 22,
   "id": "8af58bce",
   "metadata": {},
   "outputs": [],
   "source": [
    "df['HistologyType'] = df['HistologyType'].replace({999:None}).fillna(int(df['HistologyType'].mode()))\n",
    "df['ChemoGrade'] = df['ChemoGrade'].replace({999:None}).fillna(int(df['ChemoGrade'].mode()))\n",
    "df['Proliferation'] = df['Proliferation'].replace({999:None}).fillna(int(df['Proliferation'].mode()))\n",
    "df['PgR'] = df['PgR'].replace({999:None}).fillna(int(df['PgR'].mode()))\n",
    "df['HER2'] = df['HER2'].replace({999:None}).fillna(int(df['HER2'].mode()))\n",
    "df['TrippleNegative'] = df['TrippleNegative'].replace({999:None}).fillna(int(df['TrippleNegative'].mode()))\n",
    "df['LNStatus'] = df['LNStatus'].replace({999:None}).fillna(int(df['LNStatus'].mode()))"
   ]
  },
  {
   "cell_type": "markdown",
   "id": "63e10030",
   "metadata": {},
   "source": [
    "## Exploring importance of different features"
   ]
  },
  {
   "cell_type": "markdown",
   "id": "ef3da815",
   "metadata": {},
   "source": [
    "#### Age"
   ]
  },
  {
   "cell_type": "code",
   "execution_count": 23,
   "id": "2906edb1",
   "metadata": {},
   "outputs": [
    {
     "data": {
      "image/png": "[encoded data removed]",
      "text/plain": [
       "<Figure size 432x288 with 1 Axes>"
      ]
     },
     "metadata": {
      "needs_background": "light"
     },
     "output_type": "display_data"
    }
   ],
   "source": [
    "sns.boxplot(y='Age', x='pCR (outcome)',data=df)\n",
    "plt.show()"
   ]
  },
  {
   "cell_type": "code",
   "execution_count": 24,
   "id": "08b7cafd",
   "metadata": {},
   "outputs": [
    {
     "data": {
      "image/png": "[encoded data removed]",
      "text/plain": [
       "<Figure size 442.375x360 with 1 Axes>"
      ]
     },
     "metadata": {
      "needs_background": "light"
     },
     "output_type": "display_data"
    }
   ],
   "source": [
    "### Age distribution\n",
    "sns.displot(x=df['Age'],hue=df['pCR (outcome)'])\n",
    "plt.show()"
   ]
  },
  {
   "cell_type": "markdown",
   "id": "34e52b37",
   "metadata": {},
   "source": [
    "### T- test to find out significance of `Age` on `pCR outcome`"
   ]
  },
  {
   "cell_type": "code",
   "execution_count": 25,
   "id": "8a194273",
   "metadata": {},
   "outputs": [
    {
     "data": {
      "text/plain": [
       "Ttest_1sampResult(statistic=-0.005236279523801493, pvalue=0.9958255760644659)"
      ]
     },
     "execution_count": 25,
     "metadata": {},
     "output_type": "execute_result"
    }
   ],
   "source": [
    "\n",
    "st.ttest_1samp(a=df[df['pCR (outcome)']==0]['Age'].to_list(),popmean=df['Age'].mean())"
   ]
  },
  {
   "cell_type": "code",
   "execution_count": 26,
   "id": "3c6d3a85",
   "metadata": {},
   "outputs": [
    {
     "data": {
      "text/plain": [
       "Ttest_1sampResult(statistic=0.009385560849441685, pvalue=0.9925311972673878)"
      ]
     },
     "execution_count": 26,
     "metadata": {},
     "output_type": "execute_result"
    }
   ],
   "source": [
    "\n",
    "st.ttest_1samp(a=df[df['pCR (outcome)']==1]['Age'].to_list(),popmean=df['Age'].mean())"
   ]
  },
  {
   "cell_type": "markdown",
   "id": "ce100418",
   "metadata": {},
   "source": [
    "### Conclusion:\n",
    "\n",
    ">**`Age` is not signofocant feature on 'pCR (outcome)'** for 10% critical value"
   ]
  },
  {
   "cell_type": "markdown",
   "id": "ab0cf35b",
   "metadata": {},
   "source": [
    "### Selecting Categorical variables\n",
    "\n",
    "- Each categorical variable is tested against `pCR (outcome)` using **chi-square test**\n",
    "- If the varience created by the categorical variable is greater than $\\alpha=0.1$ then it is selected\n",
    "- Variance of categorical variable also analysed visually by plotting success rate of pCR (outcome) against every variable "
   ]
  },
  {
   "cell_type": "markdown",
   "id": "4bbba878",
   "metadata": {},
   "source": [
    "### Statistical analysis of categorical variables"
   ]
  },
  {
   "cell_type": "code",
   "execution_count": 27,
   "id": "bc976bff",
   "metadata": {},
   "outputs": [],
   "source": [
    "def chiaSquare2(var1, var2 , df):\n",
    "    #print(f\"var1:{var1}\")\n",
    "    #print(f\"var2:{var2}\")\n",
    "    tmp = df.groupby([var1, var2],as_index=False).agg({'ID':'count'}).rename(columns={'ID':'count'})\n",
    "    var1_cats = list(df[var1].unique())\n",
    "    var1_cats.sort()\n",
    "    #print(f\"var1 categories: {var1_cats}\")\n",
    "    \n",
    "    pcr_cats = list(df[var2].unique())\n",
    "    pcr_cats.sort()\n",
    "    #print(f\"var2 categories: {pcr_cats}\")    \n",
    "    \n",
    "    observed = []  \n",
    "    \n",
    "    for pcr_cat in pcr_cats:\n",
    "        observed.append( tmp[tmp['pCR (outcome)']==pcr_cat]['count'].to_list() )\n",
    "        \n",
    "    #print(f\"observed: {observed}\")        \n",
    "    stat, p, dof, expected = st.chi2_contingency(observed)    \n",
    "\n",
    "    return stat, p, dof, list(expected)"
   ]
  },
  {
   "cell_type": "code",
   "execution_count": 28,
   "id": "8f2c8135",
   "metadata": {
    "scrolled": true
   },
   "outputs": [
    {
     "name": "stdout",
     "output_type": "stream",
     "text": [
      "ER: significant\n",
      "P-Value: 1.3125384834156194e-05\n",
      "\n",
      "\n",
      "PgR: significant\n",
      "P-Value: 4.1190801418336374e-05\n",
      "\n",
      "\n",
      "HER2: significant\n",
      "P-Value: 1.1389735121621171e-05\n",
      "\n",
      "\n",
      "TrippleNegative: Not significant\n",
      "P-Value: 0.15831013145498024\n",
      "\n",
      "\n",
      "ChemoGrade: significant\n",
      "P-Value: 0.0957964916831371\n",
      "\n",
      "\n",
      "Proliferation: significant\n",
      "P-Value: 0.007028022910869786\n",
      "\n",
      "\n",
      "HistologyType: Not significant\n",
      "P-Value: 0.1900770113619007\n",
      "\n",
      "\n",
      "LNStatus: significant\n",
      "P-Value: 0.003168748627998413\n",
      "\n",
      "\n",
      "TumourStage: significant\n",
      "P-Value: 0.066318188061944\n",
      "\n",
      "\n",
      "['ER', 'PgR', 'HER2', 'ChemoGrade', 'Proliferation', 'LNStatus', 'TumourStage']\n"
     ]
    }
   ],
   "source": [
    "cols = ['ER','PgR','HER2','TrippleNegative','ChemoGrade','Proliferation','HistologyType',\n",
    "        'LNStatus','TumourStage']\n",
    "alpha = 0.1\n",
    "significant_categorical_cols = []\n",
    "\n",
    "\n",
    "for col in cols:\n",
    "    stat, p, dof, expected = chiaSquare2(col,'pCR (outcome)',df)     \n",
    "    if p < alpha:\n",
    "        status = 'significant'\n",
    "        significant_categorical_cols.append(col)\n",
    "    else:\n",
    "        status='Not significant'\n",
    "    print(f\"{col}: {status}\")\n",
    "    print(f\"P-Value: {p}\")    \n",
    "    print(\"\\n\")\n",
    "print(significant_categorical_cols)"
   ]
  },
  {
   "cell_type": "markdown",
   "id": "e54e69c6",
   "metadata": {},
   "source": [
    "## Visual analysis of categorical variables\n",
    "\n",
    "> - On every plot orange dotted line indicated average `pCR (outcome)` successrate\n",
    "> - Each bar represents `pCR (outcome)` successrate with in that category"
   ]
  },
  {
   "cell_type": "markdown",
   "id": "e91217b5",
   "metadata": {},
   "source": [
    "#### ER"
   ]
  },
  {
   "cell_type": "code",
   "execution_count": 105,
   "id": "a7c4af3e",
   "metadata": {},
   "outputs": [
    {
     "data": {
      "image/png": "[encoded data removed]",
      "text/plain": [
       "<Figure size 432x288 with 1 Axes>"
      ]
     },
     "metadata": {
      "needs_background": "light"
     },
     "output_type": "display_data"
    }
   ],
   "source": [
    "df.groupby('ER',as_index=False).mean()['pCR (outcome)'].plot(kind='bar',color='orange')\n",
    "plt.axhline(y = 0.24, color = 'r', linestyle = '--', label='avg success')\n",
    "plt.title(\"pCR success percentage by ER\")\n",
    "plt.xlabel(\"ER\")\n",
    "plt.ylabel(\"Percentage\")\n",
    "plt.legend()\n",
    "plt.show()"
   ]
  },
  {
   "cell_type": "markdown",
   "id": "a56c6825",
   "metadata": {},
   "source": [
    "#### PgR"
   ]
  },
  {
   "cell_type": "code",
   "execution_count": 106,
   "id": "5b8a7158",
   "metadata": {},
   "outputs": [
    {
     "data": {
      "image/png": "[encoded data removed]",
      "text/plain": [
       "<Figure size 432x288 with 1 Axes>"
      ]
     },
     "metadata": {
      "needs_background": "light"
     },
     "output_type": "display_data"
    }
   ],
   "source": [
    "df.groupby('PgR',as_index=False).mean()['pCR (outcome)'].plot(kind='bar',color='blue')\n",
    "plt.axhline(y = 0.24, color = 'r', linestyle = '--', label='avg success')\n",
    "plt.title(\"pCR success percentage by PgR\")\n",
    "plt.xlabel(\"PgR\")\n",
    "plt.ylabel(\"Percentage\")\n",
    "plt.legend()\n",
    "plt.show()"
   ]
  },
  {
   "cell_type": "markdown",
   "id": "7209d85b",
   "metadata": {},
   "source": [
    "#### HER2"
   ]
  },
  {
   "cell_type": "code",
   "execution_count": 107,
   "id": "d09b7299",
   "metadata": {},
   "outputs": [
    {
     "data": {
      "image/png": "[encoded data removed]",
      "text/plain": [
       "<Figure size 432x288 with 1 Axes>"
      ]
     },
     "metadata": {
      "needs_background": "light"
     },
     "output_type": "display_data"
    }
   ],
   "source": [
    "df.groupby('HER2',as_index=False).mean()['pCR (outcome)'].plot(kind='bar',color='green')\n",
    "plt.axhline(y = 0.24, color = 'r', linestyle = '--', label='avg success')\n",
    "plt.title(\"pCR success percentage by HER2\")\n",
    "plt.xlabel(\"HER2\")\n",
    "plt.ylabel(\"Percentage\")\n",
    "plt.legend()\n",
    "plt.show()"
   ]
  },
  {
   "cell_type": "markdown",
   "id": "bcb36fa1",
   "metadata": {},
   "source": [
    "#### TrippleNegative"
   ]
  },
  {
   "cell_type": "code",
   "execution_count": 108,
   "id": "f3f0ce50",
   "metadata": {},
   "outputs": [
    {
     "data": {
      "image/png": "[encoded data removed]",
      "text/plain": [
       "<Figure size 432x288 with 1 Axes>"
      ]
     },
     "metadata": {
      "needs_background": "light"
     },
     "output_type": "display_data"
    }
   ],
   "source": [
    "df.groupby('TrippleNegative',as_index=False).mean()['pCR (outcome)'].plot(kind='bar',color='grey')\n",
    "plt.axhline(y = 0.24, color = 'r', linestyle = '--', label='avg success')\n",
    "plt.title(\"pCR success percentage by TrippleNegative\")\n",
    "plt.xlabel(\"TrippleNegative\")\n",
    "plt.ylabel(\"Percentage\")\n",
    "plt.legend()\n",
    "plt.show()"
   ]
  },
  {
   "cell_type": "markdown",
   "id": "1be4a95b",
   "metadata": {},
   "source": [
    "#### ChemoGrade"
   ]
  },
  {
   "cell_type": "code",
   "execution_count": 109,
   "id": "5a77b2f2",
   "metadata": {},
   "outputs": [
    {
     "data": {
      "image/png": "[encoded data removed]",
      "text/plain": [
       "<Figure size 432x288 with 1 Axes>"
      ]
     },
     "metadata": {
      "needs_background": "light"
     },
     "output_type": "display_data"
    }
   ],
   "source": [
    "df.groupby('ChemoGrade',as_index=False).mean()['pCR (outcome)'].plot(kind='bar',color='blue')\n",
    "plt.axhline(y = 0.24, color = 'r', linestyle = '--', label='avg success')\n",
    "plt.title(\"pCR success percentage by ChemoGrade\")\n",
    "plt.xlabel(\"ChemoGrade\")\n",
    "plt.ylabel(\"Percentage\")\n",
    "plt.legend()\n",
    "plt.show()"
   ]
  },
  {
   "cell_type": "markdown",
   "id": "9f572c5d",
   "metadata": {},
   "source": [
    "#### Proliferation"
   ]
  },
  {
   "cell_type": "code",
   "execution_count": 110,
   "id": "b5c2ef6b",
   "metadata": {},
   "outputs": [
    {
     "data": {
      "image/png": "[encoded data removed]",
      "text/plain": [
       "<Figure size 432x288 with 1 Axes>"
      ]
     },
     "metadata": {
      "needs_background": "light"
     },
     "output_type": "display_data"
    }
   ],
   "source": [
    "df.groupby('Proliferation',as_index=False).mean()['pCR (outcome)'].plot(kind='bar',color='pink')\n",
    "plt.axhline(y = 0.24, color = 'r', linestyle = '--', label='avg success')\n",
    "plt.title(\"pCR success percentage by Proliferation\")\n",
    "plt.xlabel(\"Proliferation\")\n",
    "plt.ylabel(\"Percentage\")\n",
    "plt.legend()\n",
    "plt.show()"
   ]
  },
  {
   "cell_type": "markdown",
   "id": "84c87d8f",
   "metadata": {},
   "source": [
    "#### HistologyType"
   ]
  },
  {
   "cell_type": "code",
   "execution_count": 111,
   "id": "96252d20",
   "metadata": {},
   "outputs": [
    {
     "data": {
      "image/png": "[encoded data removed]",
      "text/plain": [
       "<Figure size 432x288 with 1 Axes>"
      ]
     },
     "metadata": {
      "needs_background": "light"
     },
     "output_type": "display_data"
    }
   ],
   "source": [
    "df.groupby('HistologyType',as_index=False).mean()['pCR (outcome)'].plot(kind='bar',color='brown')\n",
    "plt.axhline(y = 0.24, color = 'r', linestyle = '--', label='avg success')\n",
    "plt.title(\"pCR success percentage by HistologyType\")\n",
    "plt.xlabel(\"HistologyType\")\n",
    "plt.ylabel(\"Percentage\")\n",
    "plt.legend()\n",
    "plt.show()"
   ]
  },
  {
   "cell_type": "markdown",
   "id": "e282abf4",
   "metadata": {},
   "source": [
    "#### LNStatus"
   ]
  },
  {
   "cell_type": "code",
   "execution_count": 112,
   "id": "269e09b7",
   "metadata": {},
   "outputs": [
    {
     "data": {
      "image/png": "[encoded data removed]",
      "text/plain": [
       "<Figure size 432x288 with 1 Axes>"
      ]
     },
     "metadata": {
      "needs_background": "light"
     },
     "output_type": "display_data"
    }
   ],
   "source": [
    "df.groupby('LNStatus',as_index=False).mean()['pCR (outcome)'].plot(kind='bar',color='orange')\n",
    "plt.axhline(y = 0.24, color = 'r', linestyle = '--', label='avg success')\n",
    "plt.title(\"pCR success percentage by LNStatus\")\n",
    "plt.xlabel(\"LNStatus\")\n",
    "plt.ylabel(\"Percentage\")\n",
    "plt.legend()\n",
    "plt.show()"
   ]
  },
  {
   "cell_type": "markdown",
   "id": "faa3b85e",
   "metadata": {},
   "source": [
    "#### TumourStage"
   ]
  },
  {
   "cell_type": "code",
   "execution_count": 113,
   "id": "3fb0659f",
   "metadata": {},
   "outputs": [
    {
     "data": {
      "image/png": "[encoded data removed]",
      "text/plain": [
       "<Figure size 432x288 with 1 Axes>"
      ]
     },
     "metadata": {
      "needs_background": "light"
     },
     "output_type": "display_data"
    }
   ],
   "source": [
    "df.groupby('TumourStage',as_index=False).mean()['pCR (outcome)'].plot(kind='bar',color='blue')\n",
    "plt.axhline(y = 0.24, color = 'r', linestyle = '--', label='avg success')\n",
    "plt.title(\"pCR success percentage by TumourStage\")\n",
    "plt.xlabel(\"TumourStage\")\n",
    "plt.ylabel(\"Percentage\")\n",
    "plt.legend()\n",
    "plt.show()"
   ]
  },
  {
   "cell_type": "markdown",
   "id": "9c09f3c1",
   "metadata": {},
   "source": [
    "### Conclusion\n",
    "\n",
    "- From visual inspection we can see that `pCR (outcome)` success rate for many categories is either above or below the average success rate considerablly.\n",
    "- Even statistically same features exibited sigiificant varience with respecive to `pCR (outcome)`\n",
    "\n",
    "**Selected variables based on 10% critical value**\n",
    "\n",
    "\n",
    "- ER, PgR, HER2, LNStatus, TumourStage, Proliferation, ChemoGrade, HistologyType\n"
   ]
  },
  {
   "cell_type": "markdown",
   "id": "6f47de1d",
   "metadata": {},
   "source": [
    "## Continuous variables"
   ]
  },
  {
   "cell_type": "code",
   "execution_count": 29,
   "id": "958aa3ae",
   "metadata": {},
   "outputs": [],
   "source": [
    "float_cols = list(df.select_dtypes(include='float64').columns)\n",
    "float_cols.remove('RelapseFreeSurvival (outcome)')\n",
    "float_cols.remove('Age')"
   ]
  },
  {
   "cell_type": "code",
   "execution_count": 30,
   "id": "5fffe814",
   "metadata": {},
   "outputs": [],
   "source": [
    "def find_boundaries(df, variable, distance=1.5):\n",
    "    IQR = df[variable].quantile(0.75) - df[variable].quantile(0.25)\n",
    "    lower_boundary = df[variable].quantile(0.25) - (IQR * 1.5)\n",
    "    upper_boundary = df[variable].quantile(0.75) + (IQR * 1.5)\n",
    "    return lower_boundary, upper_boundary\n",
    "    "
   ]
  },
  {
   "cell_type": "code",
   "execution_count": 31,
   "id": "7169a9de",
   "metadata": {},
   "outputs": [],
   "source": [
    "def treat_outliers(df, variable, distance=1.5, inplace=True):\n",
    "    \"\"\" \n",
    "    Fill outliers with mean\n",
    "    \n",
    "    upper_boundary = 75th qualtile + (IQR * diatance)\n",
    "    upper_boundary = 25th qualtile - (IQR * diatance)\n",
    "        \n",
    "    \"\"\"\n",
    "    \n",
    "    lower_boundary, upper_boundary = find_boundaries(df,variable)\n",
    "    if inplace:\n",
    "        df[variable] = np.where(df[variable]>upper_boundary,df[variable].mean(),\n",
    "                                np.where(df[variable]<lower_boundary,df[variable].mean(),df[variable])\n",
    "                           )\n",
    "    else:\n",
    "        return np.where(df[variable]>upper_boundary,df[variable].mean(),\n",
    "                                np.where(df[variable]<lower_boundary,df[variable].mean(),df[variable])\n",
    "                           )"
   ]
  },
  {
   "cell_type": "markdown",
   "id": "341f9dec",
   "metadata": {},
   "source": [
    "### Removign outliers & skewness  for all continuous features"
   ]
  },
  {
   "cell_type": "code",
   "execution_count": 32,
   "id": "f7df4497",
   "metadata": {},
   "outputs": [],
   "source": [
    "skewness=[]\n",
    "for col in float_cols:\n",
    "    treat_outliers(df, col, inplace=True)\n",
    "    skewness.append((col,df[col].skew()))\n",
    "    "
   ]
  },
  {
   "cell_type": "markdown",
   "id": "e5470e09",
   "metadata": {},
   "source": [
    "## skewness before treating"
   ]
  },
  {
   "cell_type": "code",
   "execution_count": 33,
   "id": "7a3a4e39",
   "metadata": {},
   "outputs": [],
   "source": [
    "skewness_df = pd.DataFrame(skewness,columns=['feature','skewness_score'])\n",
    "skewness_df.sort_values(by='skewness_score',ascending=False,inplace=True)\n"
   ]
  },
  {
   "cell_type": "markdown",
   "id": "4886c9b0",
   "metadata": {},
   "source": [
    "#### Plotting varibales skewness distribution"
   ]
  },
  {
   "cell_type": "code",
   "execution_count": 119,
   "id": "39143070",
   "metadata": {},
   "outputs": [
    {
     "data": {
      "image/png": "[encoded data removed]",
      "text/plain": [
       "<Figure size 360x360 with 1 Axes>"
      ]
     },
     "metadata": {
      "needs_background": "light"
     },
     "output_type": "display_data"
    }
   ],
   "source": [
    "sns.displot(x=skewness_df['skewness_score'])\n",
    "plt.show()"
   ]
  },
  {
   "cell_type": "markdown",
   "id": "a91d5737",
   "metadata": {},
   "source": [
    "## Treating Skewness\n",
    "\n",
    "> For many statistical tests and models normality is the common requirement.\n",
    "> Fetures in this data contains both positive and negative values so using \n",
    "**Performing Yoe-Johnson transformation to transfom the features**"
   ]
  },
  {
   "cell_type": "code",
   "execution_count": 34,
   "id": "1043c09c",
   "metadata": {},
   "outputs": [
    {
     "name": "stderr",
     "output_type": "stream",
     "text": [
      "C:\\Users\\chaitanyamanem\\anaconda3\\lib\\site-packages\\sklearn\\preprocessing\\_data.py:3237: RuntimeWarning: divide by zero encountered in log\n",
      "  loglike = -n_samples / 2 * np.log(x_trans.var())\n"
     ]
    }
   ],
   "source": [
    "transformer = PowerTransformer(method='yeo-johnson')\n",
    "transformer.fit(df[float_cols])\n",
    "df_float_cols = pd.DataFrame(transformer.transform(df[float_cols]),columns=float_cols)"
   ]
  },
  {
   "cell_type": "code",
   "execution_count": 36,
   "id": "89c644fa",
   "metadata": {},
   "outputs": [],
   "source": [
    "post_skewness = []\n",
    "for col in float_cols:\n",
    "    post_skewness.append((col,df_float_cols[col].skew()))\n",
    "        \n",
    "post_skewness_df = pd.DataFrame(post_skewness,columns=['feature','skewness_score'])\n",
    "post_skewness_df.sort_values(by='skewness_score',ascending=False,inplace=True)\n"
   ]
  },
  {
   "cell_type": "markdown",
   "id": "8d4393eb",
   "metadata": {},
   "source": [
    "#### Plotting varibales skewness distribution after treatment"
   ]
  },
  {
   "cell_type": "code",
   "execution_count": 38,
   "id": "3b66dee1",
   "metadata": {},
   "outputs": [
    {
     "data": {
      "image/png": "[encoded data removed]",
      "text/plain": [
       "<Figure size 360x360 with 1 Axes>"
      ]
     },
     "metadata": {
      "needs_background": "light"
     },
     "output_type": "display_data"
    }
   ],
   "source": [
    "sns.displot(x=post_skewness_df['skewness_score'])\n",
    "plt.show()"
   ]
  },
  {
   "cell_type": "markdown",
   "id": "9b4db50b",
   "metadata": {},
   "source": [
    "#### Taking features only with in skewness range -0.5 to 0.5"
   ]
  },
  {
   "cell_type": "code",
   "execution_count": 39,
   "id": "2264d8e0",
   "metadata": {},
   "outputs": [],
   "source": [
    "transformed_float_cols = post_skewness_df[(post_skewness_df['skewness_score']>-0.5) & (post_skewness_df['skewness_score']<0.5)]['feature'].to_list()\n",
    "df_float_cols = df_float_cols[transformed_float_cols]\n"
   ]
  },
  {
   "cell_type": "markdown",
   "id": "663c0bb2",
   "metadata": {},
   "source": [
    "## pointbiserialr correlation \n",
    "\n",
    "\n",
    "> Used `pointbiserialr correlation` as a metric to identify the relation between continuous features and 'pCR (outcome)' as this good in spotting both liner and non linear relationships"
   ]
  },
  {
   "cell_type": "code",
   "execution_count": 40,
   "id": "0acca4a1",
   "metadata": {},
   "outputs": [
    {
     "name": "stderr",
     "output_type": "stream",
     "text": [
      "C:\\Users\\chaitanyamanem\\anaconda3\\lib\\site-packages\\scipy\\stats\\stats.py:3913: PearsonRConstantInputWarning: An input array is constant; the correlation coefficent is not defined.\n",
      "  warnings.warn(PearsonRConstantInputWarning())\n"
     ]
    }
   ],
   "source": [
    "correlation = []\n",
    "\n",
    "for col in list(df_float_cols.columns):\n",
    "    correlation.append((col,abs(st.pointbiserialr(df['pCR (outcome)'],df_float_cols[col]).correlation)))\n",
    "\n"
   ]
  },
  {
   "cell_type": "code",
   "execution_count": 41,
   "id": "b9a923d8",
   "metadata": {},
   "outputs": [],
   "source": [
    "float_cols_correlation_df = pd.DataFrame(correlation,columns=['feature','correlation'])\n",
    "float_cols_correlation_df.sort_values(by='correlation',ascending=False,inplace=True)\n"
   ]
  },
  {
   "cell_type": "markdown",
   "id": "3e37cf23",
   "metadata": {},
   "source": [
    "### Plotting correlation distribution of the features"
   ]
  },
  {
   "cell_type": "code",
   "execution_count": 43,
   "id": "1b8d9d3a",
   "metadata": {},
   "outputs": [
    {
     "data": {
      "image/png": "[encoded data removed]",
      "text/plain": [
       "<Figure size 360x360 with 1 Axes>"
      ]
     },
     "metadata": {
      "needs_background": "light"
     },
     "output_type": "display_data"
    }
   ],
   "source": [
    "sns.displot(x=float_cols_correlation_df['correlation'])\n",
    "plt.show()"
   ]
  },
  {
   "cell_type": "markdown",
   "id": "181c6dec",
   "metadata": {},
   "source": [
    "### Selecting continuous features having correlation greater than 0.12"
   ]
  },
  {
   "cell_type": "code",
   "execution_count": 44,
   "id": "4ec3bc82",
   "metadata": {
    "scrolled": true
   },
   "outputs": [
    {
     "data": {
      "text/html": [
       "<div>\n",
       "<style scoped>\n",
       "    .dataframe tbody tr th:only-of-type {\n",
       "        vertical-align: middle;\n",
       "    }\n",
       "\n",
       "    .dataframe tbody tr th {\n",
       "        vertical-align: top;\n",
       "    }\n",
       "\n",
       "    .dataframe thead th {\n",
       "        text-align: right;\n",
       "    }\n",
       "</style>\n",
       "<table border=\"1\" class=\"dataframe\">\n",
       "  <thead>\n",
       "    <tr style=\"text-align: right;\">\n",
       "      <th></th>\n",
       "      <th>original_glrlm_RunPercentage</th>\n",
       "      <th>original_glrlm_LongRunLowGrayLevelEmphasis</th>\n",
       "      <th>original_gldm_LargeDependenceHighGrayLevelEmphasis</th>\n",
       "      <th>original_glrlm_RunLengthNonUniformityNormalized</th>\n",
       "      <th>original_gldm_LargeDependenceEmphasis</th>\n",
       "      <th>original_glrlm_RunEntropy</th>\n",
       "      <th>original_glrlm_LongRunEmphasis</th>\n",
       "      <th>original_gldm_DependenceEntropy</th>\n",
       "      <th>original_glrlm_RunVariance</th>\n",
       "      <th>original_ngtdm_Contrast</th>\n",
       "      <th>original_firstorder_TotalEnergy</th>\n",
       "      <th>original_firstorder_Energy</th>\n",
       "      <th>original_glrlm_LongRunHighGrayLevelEmphasis</th>\n",
       "      <th>original_glcm_MaximumProbability</th>\n",
       "      <th>original_firstorder_10Percentile</th>\n",
       "      <th>original_firstorder_Uniformity</th>\n",
       "      <th>original_ngtdm_Complexity</th>\n",
       "      <th>original_gldm_GrayLevelVariance</th>\n",
       "      <th>original_shape_Maximum2DDiameterSlice</th>\n",
       "      <th>original_gldm_DependenceNonUniformity</th>\n",
       "      <th>original_shape_SurfaceArea</th>\n",
       "      <th>original_glcm_ClusterProminence</th>\n",
       "      <th>original_glcm_SumSquares</th>\n",
       "      <th>original_glrlm_GrayLevelNonUniformity</th>\n",
       "      <th>original_shape_MeshVolume</th>\n",
       "      <th>original_firstorder_Entropy</th>\n",
       "    </tr>\n",
       "  </thead>\n",
       "  <tbody>\n",
       "    <tr>\n",
       "      <th>0</th>\n",
       "      <td>1.809329</td>\n",
       "      <td>-1.001900</td>\n",
       "      <td>-2.014558</td>\n",
       "      <td>1.457461</td>\n",
       "      <td>-1.830925</td>\n",
       "      <td>-0.234121</td>\n",
       "      <td>-1.143650</td>\n",
       "      <td>2.300923</td>\n",
       "      <td>-0.627258</td>\n",
       "      <td>0.815584</td>\n",
       "      <td>-1.822729</td>\n",
       "      <td>-1.822729</td>\n",
       "      <td>-1.041581</td>\n",
       "      <td>-0.378908</td>\n",
       "      <td>-1.104284</td>\n",
       "      <td>-1.813786</td>\n",
       "      <td>2.139064</td>\n",
       "      <td>1.797994</td>\n",
       "      <td>-0.384940</td>\n",
       "      <td>-0.752055</td>\n",
       "      <td>-0.153263</td>\n",
       "      <td>1.693400</td>\n",
       "      <td>0.394809</td>\n",
       "      <td>0.508749</td>\n",
       "      <td>0.244211</td>\n",
       "      <td>1.689474</td>\n",
       "    </tr>\n",
       "    <tr>\n",
       "      <th>1</th>\n",
       "      <td>-0.865203</td>\n",
       "      <td>0.827094</td>\n",
       "      <td>1.001130</td>\n",
       "      <td>-0.813269</td>\n",
       "      <td>0.905911</td>\n",
       "      <td>0.780899</td>\n",
       "      <td>0.939034</td>\n",
       "      <td>-0.988042</td>\n",
       "      <td>0.844573</td>\n",
       "      <td>-0.701162</td>\n",
       "      <td>0.254132</td>\n",
       "      <td>0.254132</td>\n",
       "      <td>0.982890</td>\n",
       "      <td>0.578373</td>\n",
       "      <td>0.708810</td>\n",
       "      <td>0.528056</td>\n",
       "      <td>-0.419685</td>\n",
       "      <td>-0.515554</td>\n",
       "      <td>-0.278365</td>\n",
       "      <td>0.515459</td>\n",
       "      <td>0.177768</td>\n",
       "      <td>-0.755105</td>\n",
       "      <td>-0.612923</td>\n",
       "      <td>0.052605</td>\n",
       "      <td>0.243604</td>\n",
       "      <td>-0.441471</td>\n",
       "    </tr>\n",
       "    <tr>\n",
       "      <th>2</th>\n",
       "      <td>-0.864054</td>\n",
       "      <td>0.642440</td>\n",
       "      <td>0.965911</td>\n",
       "      <td>-0.969414</td>\n",
       "      <td>0.864701</td>\n",
       "      <td>0.719790</td>\n",
       "      <td>0.754650</td>\n",
       "      <td>-0.850452</td>\n",
       "      <td>0.557812</td>\n",
       "      <td>-0.920492</td>\n",
       "      <td>-0.460947</td>\n",
       "      <td>-0.460947</td>\n",
       "      <td>0.800122</td>\n",
       "      <td>0.819227</td>\n",
       "      <td>0.653180</td>\n",
       "      <td>0.767834</td>\n",
       "      <td>-0.662098</td>\n",
       "      <td>-0.760606</td>\n",
       "      <td>0.069737</td>\n",
       "      <td>0.170217</td>\n",
       "      <td>-0.075719</td>\n",
       "      <td>-0.983948</td>\n",
       "      <td>-0.851830</td>\n",
       "      <td>-0.166883</td>\n",
       "      <td>-0.085127</td>\n",
       "      <td>-0.687221</td>\n",
       "    </tr>\n",
       "  </tbody>\n",
       "</table>\n",
       "</div>"
      ],
      "text/plain": [
       "   original_glrlm_RunPercentage  original_glrlm_LongRunLowGrayLevelEmphasis  \\\n",
       "0                      1.809329                                   -1.001900   \n",
       "1                     -0.865203                                    0.827094   \n",
       "2                     -0.864054                                    0.642440   \n",
       "\n",
       "   original_gldm_LargeDependenceHighGrayLevelEmphasis  \\\n",
       "0                                          -2.014558    \n",
       "1                                           1.001130    \n",
       "2                                           0.965911    \n",
       "\n",
       "   original_glrlm_RunLengthNonUniformityNormalized  \\\n",
       "0                                         1.457461   \n",
       "1                                        -0.813269   \n",
       "2                                        -0.969414   \n",
       "\n",
       "   original_gldm_LargeDependenceEmphasis  original_glrlm_RunEntropy  \\\n",
       "0                              -1.830925                  -0.234121   \n",
       "1                               0.905911                   0.780899   \n",
       "2                               0.864701                   0.719790   \n",
       "\n",
       "   original_glrlm_LongRunEmphasis  original_gldm_DependenceEntropy  \\\n",
       "0                       -1.143650                         2.300923   \n",
       "1                        0.939034                        -0.988042   \n",
       "2                        0.754650                        -0.850452   \n",
       "\n",
       "   original_glrlm_RunVariance  original_ngtdm_Contrast  \\\n",
       "0                   -0.627258                 0.815584   \n",
       "1                    0.844573                -0.701162   \n",
       "2                    0.557812                -0.920492   \n",
       "\n",
       "   original_firstorder_TotalEnergy  original_firstorder_Energy  \\\n",
       "0                        -1.822729                   -1.822729   \n",
       "1                         0.254132                    0.254132   \n",
       "2                        -0.460947                   -0.460947   \n",
       "\n",
       "   original_glrlm_LongRunHighGrayLevelEmphasis  \\\n",
       "0                                    -1.041581   \n",
       "1                                     0.982890   \n",
       "2                                     0.800122   \n",
       "\n",
       "   original_glcm_MaximumProbability  original_firstorder_10Percentile  \\\n",
       "0                         -0.378908                         -1.104284   \n",
       "1                          0.578373                          0.708810   \n",
       "2                          0.819227                          0.653180   \n",
       "\n",
       "   original_firstorder_Uniformity  original_ngtdm_Complexity  \\\n",
       "0                       -1.813786                   2.139064   \n",
       "1                        0.528056                  -0.419685   \n",
       "2                        0.767834                  -0.662098   \n",
       "\n",
       "   original_gldm_GrayLevelVariance  original_shape_Maximum2DDiameterSlice  \\\n",
       "0                         1.797994                              -0.384940   \n",
       "1                        -0.515554                              -0.278365   \n",
       "2                        -0.760606                               0.069737   \n",
       "\n",
       "   original_gldm_DependenceNonUniformity  original_shape_SurfaceArea  \\\n",
       "0                              -0.752055                   -0.153263   \n",
       "1                               0.515459                    0.177768   \n",
       "2                               0.170217                   -0.075719   \n",
       "\n",
       "   original_glcm_ClusterProminence  original_glcm_SumSquares  \\\n",
       "0                         1.693400                  0.394809   \n",
       "1                        -0.755105                 -0.612923   \n",
       "2                        -0.983948                 -0.851830   \n",
       "\n",
       "   original_glrlm_GrayLevelNonUniformity  original_shape_MeshVolume  \\\n",
       "0                               0.508749                   0.244211   \n",
       "1                               0.052605                   0.243604   \n",
       "2                              -0.166883                  -0.085127   \n",
       "\n",
       "   original_firstorder_Entropy  \n",
       "0                     1.689474  \n",
       "1                    -0.441471  \n",
       "2                    -0.687221  "
      ]
     },
     "execution_count": 44,
     "metadata": {},
     "output_type": "execute_result"
    }
   ],
   "source": [
    "final_selected_float_cols = float_cols_correlation_df[abs(float_cols_correlation_df['correlation'])>0.12]['feature'].to_list()\n",
    "\n",
    "final_continuous_features_df = df_float_cols[final_selected_float_cols]\n",
    "final_continuous_features_df.head(3)"
   ]
  },
  {
   "cell_type": "markdown",
   "id": "17dbc27f",
   "metadata": {},
   "source": [
    "#### Final shape of the data selected"
   ]
  },
  {
   "cell_type": "code",
   "execution_count": 46,
   "id": "715847c1",
   "metadata": {},
   "outputs": [
    {
     "data": {
      "text/plain": [
       "(395, 26)"
      ]
     },
     "execution_count": 46,
     "metadata": {},
     "output_type": "execute_result"
    }
   ],
   "source": [
    "final_continuous_features_df.shape"
   ]
  },
  {
   "cell_type": "markdown",
   "id": "a5ec25ee",
   "metadata": {},
   "source": [
    "### Merging categorical can continuous features"
   ]
  },
  {
   "cell_type": "code",
   "execution_count": 47,
   "id": "1b7d46bf",
   "metadata": {},
   "outputs": [],
   "source": [
    "X = pd.concat([final_continuous_features_df.reset_index(),df[significant_categorical_cols].reset_index()],axis=1)\n",
    "y = df['pCR (outcome)']\n",
    "X.drop(columns=['index'],inplace=True)"
   ]
  },
  {
   "cell_type": "code",
   "execution_count": 48,
   "id": "4d55a976",
   "metadata": {},
   "outputs": [],
   "source": [
    "X_train, X_test, y_train, y_test = train_test_split(X, y, test_size=0.25, random_state=42,stratify=y)"
   ]
  },
  {
   "cell_type": "markdown",
   "id": "7aa6ef7b",
   "metadata": {},
   "source": [
    "### Scaling the data"
   ]
  },
  {
   "cell_type": "code",
   "execution_count": 49,
   "id": "19d9eea9",
   "metadata": {},
   "outputs": [],
   "source": [
    "scaler = MinMaxScaler()\n",
    "X_train = pd.DataFrame(scaler.fit_transform(X_train),columns=X_train.columns)\n",
    "X_test = pd.DataFrame(scaler.transform(X_test),columns=X_test.columns)"
   ]
  },
  {
   "cell_type": "markdown",
   "id": "0a0a53fb",
   "metadata": {},
   "source": [
    "## Logistic Regression"
   ]
  },
  {
   "cell_type": "code",
   "execution_count": 136,
   "id": "7ec8f3a1",
   "metadata": {},
   "outputs": [],
   "source": [
    "lr = LogisticRegression(max_iter=300)\n",
    "lr.fit(X_train,y_train)\n",
    "y_predicted = lr.predict(X_test)"
   ]
  },
  {
   "cell_type": "code",
   "execution_count": 160,
   "id": "fbd88ca0",
   "metadata": {},
   "outputs": [
    {
     "name": "stdout",
     "output_type": "stream",
     "text": [
      "Accuracy: 0.758\n",
      "Precission: 0.5\n",
      "Recall: 0.083\n",
      "f1_score: 0.143\n"
     ]
    },
    {
     "data": {
      "text/plain": [
       "Text(0.5, 24.0, 'Predicted label')"
      ]
     },
     "execution_count": 160,
     "metadata": {},
     "output_type": "execute_result"
    },
    {
     "data": {
      "image/png": "[encoded data removed]",
      "text/plain": [
       "<Figure size 360x360 with 2 Axes>"
      ]
     },
     "metadata": {
      "needs_background": "light"
     },
     "output_type": "display_data"
    }
   ],
   "source": [
    "print(f\"Accuracy: {round(accuracy_score(y_test,y_predicted),3)}\")\n",
    "#print(f\"Confusion matrix: \\n{confusion_matrix(y_test,y_predicted)}\")\n",
    "print(f\"Precission: {round(precision_score(y_test,y_predicted),3)}\")\n",
    "print(f\"Recall: {round(recall_score(y_test,y_predicted),3)}\")\n",
    "print(f\"f1_score: {round(f1_score(y_test,y_predicted),3)}\")\n",
    "\n",
    "cm = confusion_matrix(y_test,y_predicted)\n",
    "plt.figure(figsize=(5,5))\n",
    "sns.heatmap(cm, annot=True, fmt=\"d\")\n",
    "plt.title('Confusion matrix')\n",
    "plt.ylabel('Actual label')\n",
    "plt.xlabel('Predicted label')"
   ]
  },
  {
   "cell_type": "markdown",
   "id": "0de79d52",
   "metadata": {},
   "source": [
    "## Weighted Logistic Regression"
   ]
  },
  {
   "cell_type": "code",
   "execution_count": 76,
   "id": "6556522a",
   "metadata": {},
   "outputs": [],
   "source": [
    "parameters = {\n",
    "    'class_weight':[{0:1,1:1},{0:1.15,1:1},{0:1.25,1:1},{0:1,1:2.5},{0:1,1:5},{0:1,1:10},{0:1,1:30},{0:1,1:40},{0:1,1:50},\n",
    "                    {0:1,1:70},{0:1,1:80},{0:1,1:100},\n",
    "                    {0:5,1:1},{0:10,1:1},{0:30,1:1},{0:40,1:1},{0:50,1:1},\n",
    "                    {0:70,1:1},{0:0.8,1:1},{0:0.5,1:0.5},\n",
    "                    {0:0.6,1:0.5},{0:0.5,1:0.6},{0:0.4,1:0.7},{0:0.3,1:0.7}\n",
    "                   ]\n",
    "}\n",
    "wlr = LogisticRegression(max_iter=300)"
   ]
  },
  {
   "cell_type": "code",
   "execution_count": 77,
   "id": "4fc14e9e",
   "metadata": {},
   "outputs": [
    {
     "data": {
      "text/plain": [
       "GridSearchCV(cv=3, estimator=LogisticRegression(max_iter=300), n_jobs=3,\n",
       "             param_grid={'class_weight': [{0: 1, 1: 1}, {0: 1.15, 1: 1},\n",
       "                                          {0: 1.25, 1: 1}, {0: 1, 1: 2.5},\n",
       "                                          {0: 1, 1: 5}, {0: 1, 1: 10},\n",
       "                                          {0: 1, 1: 30}, {0: 1, 1: 40},\n",
       "                                          {0: 1, 1: 50}, {0: 1, 1: 70},\n",
       "                                          {0: 1, 1: 80}, {0: 1, 1: 100},\n",
       "                                          {0: 5, 1: 1}, {0: 10, 1: 1},\n",
       "                                          {0: 30, 1: 1}, {0: 40, 1: 1},\n",
       "                                          {0: 50, 1: 1}, {0: 70, 1: 1},\n",
       "                                          {0: 0.8, 1: 1}, {0: 0.5, 1: 0.5},\n",
       "                                          {0: 0.6, 1: 0.5}, {0: 0.5, 1: 0.6},\n",
       "                                          {0: 0.4, 1: 0.7}, {0: 0.3, 1: 0.7}]},\n",
       "             scoring='recall')"
      ]
     },
     "execution_count": 77,
     "metadata": {},
     "output_type": "execute_result"
    }
   ],
   "source": [
    "grid = GridSearchCV(wlr,parameters,scoring=\"recall\", cv=3, n_jobs=3)\n",
    "grid.fit(X_train,y_train)"
   ]
  },
  {
   "cell_type": "code",
   "execution_count": 78,
   "id": "3759c771",
   "metadata": {},
   "outputs": [
    {
     "name": "stdout",
     "output_type": "stream",
     "text": [
      "Grid best parameters:{'class_weight': {0: 1, 1: 100}}\n"
     ]
    }
   ],
   "source": [
    "print(f\"Grid best parameters:{grid.best_params_}\")"
   ]
  },
  {
   "cell_type": "code",
   "execution_count": 79,
   "id": "8f640c03",
   "metadata": {},
   "outputs": [],
   "source": [
    "wlr = LogisticRegression(class_weight={0: 1, 1: 100},max_iter=300)\n",
    "wlr.fit(X_train,y_train)\n",
    "y_predicted = wlr.predict(X_test)"
   ]
  },
  {
   "cell_type": "markdown",
   "id": "d4b5032d",
   "metadata": {},
   "source": [
    "## Finetuning threshold to find optimum `Recall`"
   ]
  },
  {
   "cell_type": "code",
   "execution_count": 80,
   "id": "03f8ed0b",
   "metadata": {},
   "outputs": [],
   "source": [
    "test_prediction_probs = wlr.predict_proba(X_test)\n",
    "test_prediction_probs = test_prediction_probs[:,1]"
   ]
  },
  {
   "cell_type": "code",
   "execution_count": 81,
   "id": "ca2ce5fd",
   "metadata": {},
   "outputs": [],
   "source": [
    "from sklearn.metrics import precision_recall_curve\n",
    "\n",
    "precisions, recalls, thresholds = precision_recall_curve(y_test,test_prediction_probs)"
   ]
  },
  {
   "cell_type": "code",
   "execution_count": 82,
   "id": "2d65e94f",
   "metadata": {},
   "outputs": [
    {
     "data": {
      "image/png": "[encoded data removed]",
      "text/plain": [
       "<Figure size 432x288 with 1 Axes>"
      ]
     },
     "metadata": {
      "needs_background": "light"
     },
     "output_type": "display_data"
    }
   ],
   "source": [
    "plt.plot(thresholds, precisions[:-1], \"b--\", label=\"Precision\", linewidth=2)\n",
    "plt.plot(thresholds, recalls[:-1], \"g-\", label=\"Recall\", linewidth=2)\n",
    "#plt.vlines(threshold, 0, 1.0, \"k\", \"dotted\", label=\"threshold\")\n",
    "#[...]  # beautify the figure: add grid, legend, axis, labels, and circles\n",
    "plt.xlabel('Threshold')\n",
    "plt.ylabel('Score')\n",
    "plt.title(\"Precision Recall Curve\")\n",
    "plt.legend()\n",
    "plt.show()"
   ]
  },
  {
   "cell_type": "code",
   "execution_count": 98,
   "id": "35148fc1",
   "metadata": {},
   "outputs": [],
   "source": [
    "threshold = 0.65 ## Identified from above grapfh and lttle more analysis to zoom in the numbers\n",
    "custom_test_prediction = np.where(test_prediction_probs>threshold,1,0)"
   ]
  },
  {
   "cell_type": "code",
   "execution_count": 99,
   "id": "53b57815",
   "metadata": {},
   "outputs": [
    {
     "name": "stdout",
     "output_type": "stream",
     "text": [
      "Accuracy: 0.40404040404040403\n",
      "Precission: 0.27848101265822783\n",
      "Recall: 0.9166666666666666\n",
      "f1_score: 0.42718446601941745\n"
     ]
    },
    {
     "data": {
      "text/plain": [
       "Text(0.5, 24.0, 'Predicted label')"
      ]
     },
     "execution_count": 99,
     "metadata": {},
     "output_type": "execute_result"
    },
    {
     "data": {
      "image/png": "[encoded data removed]",
      "text/plain": [
       "<Figure size 360x360 with 2 Axes>"
      ]
     },
     "metadata": {
      "needs_background": "light"
     },
     "output_type": "display_data"
    }
   ],
   "source": [
    "print(f\"Accuracy: {accuracy_score(y_test,custom_test_prediction)}\")\n",
    "print(f\"Precission: {precision_score(y_test,custom_test_prediction)}\")\n",
    "print(f\"Recall: {recall_score(y_test,custom_test_prediction)}\")\n",
    "print(f\"f1_score: {f1_score(y_test,custom_test_prediction)}\")\n",
    "\n",
    "#print(f\"Confusion matrix: \\n{confusion_matrix(y_test,custom_test_prediction)}\")\n",
    "\n",
    "cm = confusion_matrix(y_test,custom_test_prediction)\n",
    "plt.figure(figsize=(5,5))\n",
    "sns.heatmap(cm, annot=True, fmt=\"d\")\n",
    "plt.title('Confusion matrix @{:.2f}'.format(threshold))\n",
    "plt.ylabel('Actual label')\n",
    "plt.xlabel('Predicted label')"
   ]
  },
  {
   "cell_type": "markdown",
   "id": "a97b72b7",
   "metadata": {},
   "source": [
    "### With SMOTE"
   ]
  },
  {
   "cell_type": "code",
   "execution_count": 87,
   "id": "a4cb3fe9",
   "metadata": {},
   "outputs": [],
   "source": [
    "sm = SMOTE(random_state=42)\n",
    "X_res, y_res = sm.fit_resample(X_train, y_train)"
   ]
  },
  {
   "cell_type": "markdown",
   "id": "65506d8f",
   "metadata": {},
   "source": [
    "### After oversampling, data shape"
   ]
  },
  {
   "cell_type": "code",
   "execution_count": 88,
   "id": "057b9662",
   "metadata": {
    "scrolled": true
   },
   "outputs": [
    {
     "data": {
      "text/plain": [
       "((448, 33), (448,))"
      ]
     },
     "execution_count": 88,
     "metadata": {},
     "output_type": "execute_result"
    }
   ],
   "source": [
    "X_res.shape, y_res.shape"
   ]
  },
  {
   "cell_type": "markdown",
   "id": "112f1ab3",
   "metadata": {},
   "source": [
    "#### Logistic regression on SMOTE"
   ]
  },
  {
   "cell_type": "code",
   "execution_count": 89,
   "id": "a9605f47",
   "metadata": {},
   "outputs": [],
   "source": [
    "lrsmote = LogisticRegression(max_iter=300)\n",
    "lrsmote.fit(X_res, y_res)\n",
    "y_predicted = lrsmote.predict(X_test)\n"
   ]
  },
  {
   "cell_type": "code",
   "execution_count": 90,
   "id": "2574d298",
   "metadata": {},
   "outputs": [
    {
     "name": "stdout",
     "output_type": "stream",
     "text": [
      "Accuracy: 0.535\n",
      "Precission: 0.238\n",
      "Recall: 0.417\n",
      "f1_score: 0.303\n"
     ]
    },
    {
     "data": {
      "text/plain": [
       "Text(0.5, 24.0, 'Predicted label')"
      ]
     },
     "execution_count": 90,
     "metadata": {},
     "output_type": "execute_result"
    },
    {
     "data": {
      "image/png": "[encoded data removed]",
      "text/plain": [
       "<Figure size 360x360 with 2 Axes>"
      ]
     },
     "metadata": {
      "needs_background": "light"
     },
     "output_type": "display_data"
    }
   ],
   "source": [
    "print(f\"Accuracy: {round(accuracy_score(y_test,y_predicted),3)}\")\n",
    "print(f\"Precission: {round(precision_score(y_test,y_predicted),3)}\")\n",
    "print(f\"Recall: {round(recall_score(y_test,y_predicted),3)}\")\n",
    "print(f\"f1_score: {round(f1_score(y_test,y_predicted),3)}\")\n",
    "\n",
    "\n",
    "cm = confusion_matrix(y_test,y_predicted)\n",
    "plt.figure(figsize=(5,5))\n",
    "sns.heatmap(cm, annot=True, fmt=\"d\")\n",
    "plt.title('Confusion matrix')\n",
    "plt.ylabel('Actual label')\n",
    "plt.xlabel('Predicted label')"
   ]
  },
  {
   "cell_type": "markdown",
   "id": "0568cc50",
   "metadata": {},
   "source": [
    "### KNN"
   ]
  },
  {
   "cell_type": "code",
   "execution_count": 156,
   "id": "a0822a3b",
   "metadata": {},
   "outputs": [
    {
     "name": "stdout",
     "output_type": "stream",
     "text": [
      "{'n_neighbors': 20}\n"
     ]
    }
   ],
   "source": [
    "from sklearn.neighbors import KNeighborsClassifier\n",
    "\n",
    "knn = KNeighborsClassifier()\n",
    "params ={'n_neighbors':[1,2,3,7,10,17,20,25,27,35,50]}\n",
    "knn_grid = GridSearchCV(knn,params,scoring='accuracy',cv=3)\n",
    "knn_grid.fit(X_train[['original_glrlm_RunPercentage','original_ngtdm_Contrast']],y_train)\n",
    "knn_grid.best_estimator_.fit(X_train[['original_glrlm_RunPercentage','original_ngtdm_Contrast']],y_train)\n",
    "print(knn_grid.best_params_)"
   ]
  },
  {
   "cell_type": "code",
   "execution_count": 157,
   "id": "29eacccc",
   "metadata": {},
   "outputs": [
    {
     "name": "stdout",
     "output_type": "stream",
     "text": [
      "Accuracy: 0.7575757575757576\n",
      "Precission: 0.5\n",
      "Recall: 0.08333333333333333\n",
      "f1_score: 0.14285714285714285\n"
     ]
    },
    {
     "data": {
      "text/plain": [
       "Text(0.5, 24.0, 'Predicted label')"
      ]
     },
     "execution_count": 157,
     "metadata": {},
     "output_type": "execute_result"
    },
    {
     "data": {
      "image/png": "[encoded data removed]",
      "text/plain": [
       "<Figure size 360x360 with 2 Axes>"
      ]
     },
     "metadata": {
      "needs_background": "light"
     },
     "output_type": "display_data"
    }
   ],
   "source": [
    "y_predicted = knn_grid.best_estimator_.predict(X_test[['original_glrlm_RunPercentage','original_ngtdm_Contrast']])\n",
    "print(f\"Accuracy: {accuracy_score(y_test,y_predicted)}\")\n",
    "#print(f\"Confusion matrix: \\n{confusion_matrix(y_test,y_predicted)}\")\n",
    "print(f\"Precission: {precision_score(y_test,y_predicted)}\")\n",
    "print(f\"Recall: {recall_score(y_test,y_predicted)}\")\n",
    "print(f\"f1_score: {f1_score(y_test,y_predicted)}\")\n",
    "\n",
    "\n",
    "cm = confusion_matrix(y_test,y_predicted)\n",
    "plt.figure(figsize=(5,5))\n",
    "sns.heatmap(cm, annot=True, fmt=\"d\")\n",
    "plt.title('Confusion matrix')\n",
    "plt.ylabel('Actual label')\n",
    "plt.xlabel('Predicted label')"
   ]
  },
  {
   "cell_type": "markdown",
   "id": "bd841e25",
   "metadata": {},
   "source": [
    "### RandomForest"
   ]
  },
  {
   "cell_type": "code",
   "execution_count": 168,
   "id": "0c5b3f11",
   "metadata": {},
   "outputs": [],
   "source": [
    "from sklearn.ensemble import RandomForestClassifier\n",
    "\n",
    "rfc = RandomForestClassifier()\n",
    "rfc.fit(X_train,y_train)\n",
    "y_predicted = rfc.predict(X_test)\n"
   ]
  },
  {
   "cell_type": "code",
   "execution_count": 169,
   "id": "bfcc0199",
   "metadata": {},
   "outputs": [
    {
     "name": "stdout",
     "output_type": "stream",
     "text": [
      "Accuracy: 0.7171717171717171\n",
      "Confusion matrix: \n",
      "[[68  7]\n",
      " [21  3]]\n",
      "Precission: 0.3\n",
      "Recall: 0.125\n",
      "f1_score: 0.17647058823529413\n"
     ]
    }
   ],
   "source": [
    "print(f\"Accuracy: {accuracy_score(y_test,y_predicted)}\")\n",
    "print(f\"Confusion matrix: \\n{confusion_matrix(y_test,y_predicted)}\")\n",
    "print(f\"Precission: {precision_score(y_test,y_predicted)}\")\n",
    "print(f\"Recall: {recall_score(y_test,y_predicted)}\")\n",
    "print(f\"f1_score: {f1_score(y_test,y_predicted)}\")"
   ]
  },
  {
   "cell_type": "markdown",
   "id": "2acf9f2e",
   "metadata": {},
   "source": [
    "### Hyperparameter Tuning"
   ]
  },
  {
   "cell_type": "code",
   "execution_count": 171,
   "id": "1d1ee454",
   "metadata": {},
   "outputs": [],
   "source": [
    "params={\n",
    "    'criterion':['entropy', 'gini'],\n",
    "    'n_estimators':[70,100,200,300],\n",
    "    'min_weight_fraction_leaf':[0.0, 0.0025, 0.005, 0.0075, 0.01, 0.05],\n",
    "    'min_samples_split':[2, 0.01, 0.02, 0.03, 0.04, 0.06, 0.08, 0.1],\n",
    "    'min_samples_leaf':[1,2,4,6,8,10,20,30],\n",
    "    'min_impurity_decrease':[0.0, 0.01, 0.05, 0.10, 0.15, 0.2],\n",
    "    'max_leaf_nodes':[10, 15, 20, 25, 30, 35, 40, 45, 50, None], \n",
    "    'max_features':['auto', 0.8, 0.7, 0.6, 0.5, 0.4],\n",
    "    'max_depth':[None,2,4,6,8,10,20],\n",
    "    'min_weight_fraction_leaf':[0.0, 0.0025, 0.005, 0.0075, 0.01, 0.05]\n",
    "}"
   ]
  },
  {
   "cell_type": "code",
   "execution_count": 172,
   "id": "89185b89",
   "metadata": {},
   "outputs": [
    {
     "data": {
      "text/plain": [
       "RandomizedSearchCV(cv=3, estimator=RandomForestClassifier(n_estimators=300),\n",
       "                   n_iter=100, n_jobs=3,\n",
       "                   param_distributions={'criterion': ['entropy', 'gini'],\n",
       "                                        'max_depth': [None, 2, 4, 6, 8, 10, 20],\n",
       "                                        'max_features': ['auto', 0.8, 0.7, 0.6,\n",
       "                                                         0.5, 0.4],\n",
       "                                        'max_leaf_nodes': [10, 15, 20, 25, 30,\n",
       "                                                           35, 40, 45, 50,\n",
       "                                                           None],\n",
       "                                        'min_impurity_decrease': [0.0, 0.01,\n",
       "                                                                  0.05, 0.1,\n",
       "                                                                  0.15, 0.2],\n",
       "                                        'min_samples_leaf': [1, 2, 4, 6, 8, 10,\n",
       "                                                             20, 30],\n",
       "                                        'min_samples_split': [2, 0.01, 0.02,\n",
       "                                                              0.03, 0.04, 0.06,\n",
       "                                                              0.08, 0.1],\n",
       "                                        'min_weight_fraction_leaf': [0.0,\n",
       "                                                                     0.0025,\n",
       "                                                                     0.005,\n",
       "                                                                     0.0075,\n",
       "                                                                     0.01,\n",
       "                                                                     0.05],\n",
       "                                        'n_estimators': [70, 100, 200, 300]},\n",
       "                   scoring='accuracy')"
      ]
     },
     "execution_count": 172,
     "metadata": {},
     "output_type": "execute_result"
    }
   ],
   "source": [
    "rfc = RandomForestClassifier(n_estimators=300)\n",
    "rs = RandomizedSearchCV(rfc,params,scoring='accuracy',cv=3,n_jobs=3,n_iter=100)\n",
    "rs.fit(X_train,y_train)"
   ]
  },
  {
   "cell_type": "code",
   "execution_count": 173,
   "id": "01d78d82",
   "metadata": {},
   "outputs": [
    {
     "data": {
      "text/plain": [
       "{'n_estimators': 70,\n",
       " 'min_weight_fraction_leaf': 0.005,\n",
       " 'min_samples_split': 0.06,\n",
       " 'min_samples_leaf': 1,\n",
       " 'min_impurity_decrease': 0.0,\n",
       " 'max_leaf_nodes': 10,\n",
       " 'max_features': 'auto',\n",
       " 'max_depth': 8,\n",
       " 'criterion': 'entropy'}"
      ]
     },
     "execution_count": 173,
     "metadata": {},
     "output_type": "execute_result"
    }
   ],
   "source": [
    "rs.best_params_"
   ]
  },
  {
   "cell_type": "code",
   "execution_count": 174,
   "id": "62aa1bdd",
   "metadata": {},
   "outputs": [
    {
     "data": {
      "text/plain": [
       "0.7601869030440459"
      ]
     },
     "execution_count": 174,
     "metadata": {},
     "output_type": "execute_result"
    }
   ],
   "source": [
    "rs.best_score_"
   ]
  },
  {
   "cell_type": "code",
   "execution_count": 175,
   "id": "a3d3419c",
   "metadata": {},
   "outputs": [
    {
     "name": "stdout",
     "output_type": "stream",
     "text": [
      "Accuracy: 0.778\n",
      "Precission: 0.667\n",
      "Recall: 0.167\n",
      "f1_score: 0.267\n"
     ]
    },
    {
     "data": {
      "text/plain": [
       "Text(0.5, 24.0, 'Predicted label')"
      ]
     },
     "execution_count": 175,
     "metadata": {},
     "output_type": "execute_result"
    },
    {
     "data": {
      "image/png": "[encoded data removed]",
      "text/plain": [
       "<Figure size 360x360 with 2 Axes>"
      ]
     },
     "metadata": {
      "needs_background": "light"
     },
     "output_type": "display_data"
    }
   ],
   "source": [
    "rs.best_estimator_.fit(X_train,y_train)\n",
    "y_predicted = rs.best_estimator_.predict(X_test)\n",
    "print(f\"Accuracy: {round(accuracy_score(y_test,y_predicted),3)}\")\n",
    "#print(f\"Confusion matrix: \\n{confusion_matrix(y_test,y_predicted)}\")\n",
    "print(f\"Precission: {round(precision_score(y_test,y_predicted),3)}\")\n",
    "print(f\"Recall: {round(recall_score(y_test,y_predicted),3)}\")\n",
    "print(f\"f1_score: {round(f1_score(y_test,y_predicted),3)}\")\n",
    "\n",
    "\n",
    "cm = confusion_matrix(y_test,y_predicted)\n",
    "plt.figure(figsize=(5,5))\n",
    "sns.heatmap(cm, annot=True, fmt=\"d\")\n",
    "plt.title('Confusion matrix')\n",
    "plt.ylabel('Actual label')\n",
    "plt.xlabel('Predicted label')"
   ]
  },
  {
   "cell_type": "markdown",
   "id": "6433a219",
   "metadata": {},
   "source": [
    "### Gradient Boosting"
   ]
  },
  {
   "cell_type": "code",
   "execution_count": 101,
   "id": "29061827",
   "metadata": {},
   "outputs": [],
   "source": [
    "from sklearn.ensemble import GradientBoostingClassifier\n"
   ]
  },
  {
   "cell_type": "code",
   "execution_count": 102,
   "id": "6e7cd377",
   "metadata": {},
   "outputs": [],
   "source": [
    "gbc = GradientBoostingClassifier()\n",
    "params={\n",
    "    'max_depth':[1,2,3],\n",
    "    'subsample':[0.5,0.7,0.8],\n",
    "    'n_estimators':[50,100,300,500],\n",
    "    'learning_rate':[0.001,0.005,0.01,0.05, 0.1,]\n",
    "}"
   ]
  },
  {
   "cell_type": "markdown",
   "id": "1ad2787b",
   "metadata": {},
   "source": [
    "### Best params"
   ]
  },
  {
   "cell_type": "code",
   "execution_count": 103,
   "id": "0ac23110",
   "metadata": {},
   "outputs": [
    {
     "data": {
      "text/plain": [
       "{'subsample': 0.5, 'n_estimators': 50, 'max_depth': 2, 'learning_rate': 0.001}"
      ]
     },
     "execution_count": 103,
     "metadata": {},
     "output_type": "execute_result"
    }
   ],
   "source": [
    "rand_gbc = RandomizedSearchCV(gbc, params, n_iter=20, scoring='accuracy', \n",
    "                              cv=5, n_jobs=3, random_state=2)\n",
    "rand_gbc.fit(X_train,y_train)\n",
    "rand_gbc.best_params_"
   ]
  },
  {
   "cell_type": "markdown",
   "id": "ede461d5",
   "metadata": {},
   "source": [
    "### Best score"
   ]
  },
  {
   "cell_type": "code",
   "execution_count": 104,
   "id": "c2d2495d",
   "metadata": {},
   "outputs": [
    {
     "data": {
      "text/plain": [
       "0.7567796610169492"
      ]
     },
     "execution_count": 104,
     "metadata": {},
     "output_type": "execute_result"
    }
   ],
   "source": [
    "rand_gbc.best_score_"
   ]
  },
  {
   "cell_type": "code",
   "execution_count": 109,
   "id": "4066a2cf",
   "metadata": {},
   "outputs": [
    {
     "name": "stdout",
     "output_type": "stream",
     "text": [
      "Accuracy: 0.7575757575757576\n",
      "Precission: 0.0\n",
      "Recall: 0.0\n",
      "f1_score: 0.0\n"
     ]
    },
    {
     "name": "stderr",
     "output_type": "stream",
     "text": [
      "C:\\Users\\chaitanyamanem\\anaconda3\\lib\\site-packages\\sklearn\\metrics\\_classification.py:1245: UndefinedMetricWarning: Precision is ill-defined and being set to 0.0 due to no predicted samples. Use `zero_division` parameter to control this behavior.\n",
      "  _warn_prf(average, modifier, msg_start, len(result))\n"
     ]
    },
    {
     "data": {
      "text/plain": [
       "Text(0.5, 24.0, 'Predicted label')"
      ]
     },
     "execution_count": 109,
     "metadata": {},
     "output_type": "execute_result"
    },
    {
     "data": {
      "image/png": "[encoded data removed]",
      "text/plain": [
       "<Figure size 360x360 with 2 Axes>"
      ]
     },
     "metadata": {
      "needs_background": "light"
     },
     "output_type": "display_data"
    }
   ],
   "source": [
    "rand_gbc.best_estimator_.fit(X_train,y_train)\n",
    "y_predicted = rand_gbc.best_estimator_.predict (X_test)\n",
    "print(f\"Accuracy: {accuracy_score(y_test,y_predicted)}\")\n",
    "#print(f\"Confusion matrix: \\n{confusion_matrix(y_test,y_predicted)}\")\n",
    "print(f\"Precission: {precision_score(y_test,y_predicted)}\")\n",
    "print(f\"Recall: {recall_score(y_test,y_predicted)}\")\n",
    "print(f\"f1_score: {f1_score(y_test,y_predicted)}\")\n",
    "\n",
    "cm = confusion_matrix(y_test,y_predicted)\n",
    "plt.figure(figsize=(5,5))\n",
    "sns.heatmap(cm, annot=True, fmt=\"d\")\n",
    "plt.title('Confusion matrix')\n",
    "plt.ylabel('Actual label')\n",
    "plt.xlabel('Predicted label')"
   ]
  },
  {
   "cell_type": "markdown",
   "id": "404bd2bd",
   "metadata": {},
   "source": [
    "## XG Boost"
   ]
  },
  {
   "cell_type": "markdown",
   "id": "ece9ec57",
   "metadata": {},
   "source": [
    "#### Baseline XG boost mode"
   ]
  },
  {
   "cell_type": "code",
   "execution_count": 111,
   "id": "52a048d2",
   "metadata": {},
   "outputs": [
    {
     "name": "stdout",
     "output_type": "stream",
     "text": [
      "Accuracy: 0.696969696969697\n",
      "Precission: 0.35\n",
      "Recall: 0.2916666666666667\n",
      "f1_score: 0.31818181818181823\n"
     ]
    },
    {
     "data": {
      "text/plain": [
       "Text(0.5, 24.0, 'Predicted label')"
      ]
     },
     "execution_count": 111,
     "metadata": {},
     "output_type": "execute_result"
    },
    {
     "data": {
      "image/png": "[encoded data removed]",
      "text/plain": [
       "<Figure size 360x360 with 2 Axes>"
      ]
     },
     "metadata": {
      "needs_background": "light"
     },
     "output_type": "display_data"
    }
   ],
   "source": [
    "xgb_model = XGBClassifier(booster='gbtree', objective='binary:logistic', random_state=2)\n",
    "\n",
    "xgb_model.fit(X_train,y_train)\n",
    "y_predicted = xgb_model.predict(X_test)\n",
    "\n",
    "print(f\"Accuracy: {accuracy_score(y_test,y_predicted)}\")\n",
    "#print(f\"Confusion matrix: \\n{confusion_matrix(y_test,y_predicted)}\")\n",
    "print(f\"Precission: {precision_score(y_test,y_predicted)}\")\n",
    "print(f\"Recall: {recall_score(y_test,y_predicted)}\")\n",
    "print(f\"f1_score: {f1_score(y_test,y_predicted)}\")\n",
    "\n",
    "cm = confusion_matrix(y_test,y_predicted)\n",
    "plt.figure(figsize=(5,5))\n",
    "sns.heatmap(cm, annot=True, fmt=\"d\")\n",
    "plt.title('Confusion matrix')\n",
    "plt.ylabel('Actual label')\n",
    "plt.xlabel('Predicted label')"
   ]
  },
  {
   "cell_type": "markdown",
   "id": "5e7bc543",
   "metadata": {},
   "source": [
    "### Tuning hyperparamaeters for XGBoost"
   ]
  },
  {
   "cell_type": "code",
   "execution_count": 115,
   "id": "22ee32df",
   "metadata": {},
   "outputs": [],
   "source": [
    "### Stratified k fold\n",
    "\n",
    "kfold = StratifiedKFold(n_splits=3, shuffle=True, random_state=42)"
   ]
  },
  {
   "cell_type": "code",
   "execution_count": 125,
   "id": "92ac3c8f",
   "metadata": {},
   "outputs": [],
   "source": [
    "def fit_params_test_score(params,scoring_metric):\n",
    "    model = XGBClassifier(booster='gbtree', objective='binary:logistic', random_state=2)\n",
    "    gs = RandomizedSearchCV(model,params,n_iter=50,scoring=scoring_metric,cv=kfold,n_jobs=3)\n",
    "    gs.fit(X_train,y_train)\n",
    "    \n",
    "    gs.best_estimator_.fit(X_train,y_train)\n",
    "    y_predicted = gs.best_estimator_.predict(X_test)\n",
    "    \n",
    "    print(f\"best params: {gs.best_params_}\")\n",
    "    print(\"\\n\")\n",
    "    print(f\"best score: {gs.best_score_}\")\n",
    "    print(\"\\n\")\n",
    "    print(f\"Accuracy: {accuracy_score(y_test,y_predicted)}\")\n",
    "    #print(f\"Confusion matrix: \\n{confusion_matrix(y_test,y_predicted)}\")\n",
    "    print(f\"Precission: {precision_score(y_test,y_predicted)}\")\n",
    "    print(f\"Recall: {recall_score(y_test,y_predicted)}\")\n",
    "    print(f\"f1_score: {f1_score(y_test,y_predicted)}\")\n",
    "    print(f\"roc_auc_score: {roc_auc_score(y_test,y_predicted)}\")\n",
    "    \n",
    "    cm = confusion_matrix(y_test,y_predicted)\n",
    "    plt.figure(figsize=(5,5))\n",
    "    sns.heatmap(cm, annot=True, fmt=\"d\")\n",
    "    plt.title('Confusion matrix')\n",
    "    plt.ylabel('Actual label')\n",
    "    plt.xlabel('Predicted label')"
   ]
  },
  {
   "cell_type": "markdown",
   "id": "44251a9f",
   "metadata": {},
   "source": [
    "#### Tuning for best roc_auc_socore, because of imbalanced data"
   ]
  },
  {
   "cell_type": "code",
   "execution_count": 122,
   "id": "8f0acf9f",
   "metadata": {},
   "outputs": [
    {
     "name": "stdout",
     "output_type": "stream",
     "text": [
      "best params: {'subsample': 0.8, 'scale_pos_weight': 9, 'n_estimators': 25, 'min_child_weight': 5, 'max_depth': 1, 'learning_rate': 0.5, 'gamma': 0.1, 'colsample_bytree': 1, 'colsample_bynode': 0.7, 'colsample_bylevel': 0.9}\n",
      "\n",
      "\n",
      "best score: 0.7334221721721722\n",
      "\n",
      "\n",
      "Accuracy: 0.47474747474747475\n",
      "Precission: 0.27419354838709675\n",
      "Recall: 0.7083333333333334\n",
      "f1_score: 0.3953488372093023\n",
      "roc_auc_score: 0.5541666666666667\n"
     ]
    },
    {
     "data": {
      "image/png": "[encoded data removed]",
      "text/plain": [
       "<Figure size 360x360 with 2 Axes>"
      ]
     },
     "metadata": {
      "needs_background": "light"
     },
     "output_type": "display_data"
    }
   ],
   "source": [
    "params = {\n",
    "    'n_estimators':[2, 25, 50, 75, 100],\n",
    "    'scale_pos_weight': [1,3,9,27,81],\n",
    "    'learning_rate':[0.1, 0.2, 0.3, 0.4, 0.5],\n",
    "    'max_depth':[1, 3, 5, 7],\n",
    "    'min_child_weight':[1, 3, 5, 7],\n",
    "    'gamma':[0, 0.01, 0.05, 0.1, 0.5, 1, 2, 3],\n",
    "    'subsample':[0.8],\n",
    "    'colsample_bynode':[0.7,],\n",
    "    'colsample_bylevel':[0.9],\n",
    "    'colsample_bytree':[1],\n",
    "    \n",
    "    \n",
    "}\n",
    "\n",
    "fit_params_test_score(params,'roc_auc')"
   ]
  },
  {
   "cell_type": "markdown",
   "id": "ef9ca887",
   "metadata": {},
   "source": [
    "### Tuning for accuracy"
   ]
  },
  {
   "cell_type": "code",
   "execution_count": 126,
   "id": "ad6c53d7",
   "metadata": {},
   "outputs": [
    {
     "name": "stdout",
     "output_type": "stream",
     "text": [
      "best params: {'subsample': 0.8, 'scale_pos_weight': 1, 'n_estimators': 50, 'min_child_weight': 7, 'max_depth': 7, 'learning_rate': 0.1, 'gamma': 3, 'colsample_bytree': 1, 'colsample_bynode': 0.7, 'colsample_bylevel': 0.9}\n",
      "\n",
      "\n",
      "best score: 0.7804576376004947\n",
      "\n",
      "\n",
      "Accuracy: 0.7272727272727273\n",
      "Precission: 0.38461538461538464\n",
      "Recall: 0.20833333333333334\n",
      "f1_score: 0.2702702702702703\n",
      "roc_auc_score: 0.5508333333333333\n"
     ]
    },
    {
     "data": {
      "image/png": "[encoded data removed]",
      "text/plain": [
       "<Figure size 360x360 with 2 Axes>"
      ]
     },
     "metadata": {
      "needs_background": "light"
     },
     "output_type": "display_data"
    }
   ],
   "source": [
    "params = {\n",
    "    'n_estimators':[2, 25, 50, 75, 100],\n",
    "    'scale_pos_weight': [1,3,9,27,81],\n",
    "    'learning_rate':[0.1, 0.2, 0.3, 0.4, 0.5],\n",
    "    'max_depth':[1, 3, 5, 7],\n",
    "    'min_child_weight':[1, 3, 5, 7],\n",
    "    'gamma':[0, 0.01, 0.05, 0.1, 0.5, 1, 2, 3],\n",
    "    'subsample':[0.8],\n",
    "    'colsample_bynode':[0.7,],\n",
    "    'colsample_bylevel':[0.9],\n",
    "    'colsample_bytree':[1],\n",
    "    \n",
    "    \n",
    "}\n",
    "\n",
    "fit_params_test_score(params,'accuracy')"
   ]
  },
  {
   "cell_type": "markdown",
   "id": "7635b13d",
   "metadata": {},
   "source": [
    "# Final Pipeline END-to-END"
   ]
  },
  {
   "cell_type": "markdown",
   "id": "d29b1a27",
   "metadata": {},
   "source": [
    "**As neural netwroks are giving slightly better result "
   ]
  },
  {
   "cell_type": "code",
   "execution_count": null,
   "id": "5dc3d557",
   "metadata": {},
   "outputs": [],
   "source": []
  },
  {
   "cell_type": "markdown",
   "id": "37cf161f",
   "metadata": {},
   "source": [
    "# -------END-----------"
   ]
  },
  {
   "cell_type": "code",
   "execution_count": null,
   "id": "8b716def",
   "metadata": {},
   "outputs": [],
   "source": []
  },
  {
   "cell_type": "code",
   "execution_count": null,
   "id": "6bd031fd",
   "metadata": {},
   "outputs": [],
   "source": []
  },
  {
   "cell_type": "code",
   "execution_count": null,
   "id": "6145b1e7",
   "metadata": {},
   "outputs": [],
   "source": []
  },
  {
   "cell_type": "code",
   "execution_count": null,
   "id": "22dfcf8b",
   "metadata": {},
   "outputs": [],
   "source": []
  },
  {
   "cell_type": "code",
   "execution_count": null,
   "id": "fbd9ffae",
   "metadata": {},
   "outputs": [],
   "source": []
  },
  {
   "cell_type": "code",
   "execution_count": null,
   "id": "68b4e260",
   "metadata": {},
   "outputs": [],
   "source": []
  },
  {
   "cell_type": "code",
   "execution_count": 119,
   "id": "343a6499",
   "metadata": {},
   "outputs": [
    {
     "data": {
      "image/png": "[encoded data removed]",
      "text/plain": [
       "<Figure size 432x288 with 1 Axes>"
      ]
     },
     "metadata": {
      "needs_background": "light"
     },
     "output_type": "display_data"
    }
   ],
   "source": [
    "sns.scatterplot(x=final_continuous_features_df['original_glrlm_RunPercentage'],\n",
    "                y=final_continuous_features_df['original_ngtdm_Contrast'],\n",
    "                hue=df['pCR (outcome)']\n",
    "               )\n",
    "plt.show()"
   ]
  },
  {
   "cell_type": "code",
   "execution_count": null,
   "id": "47a26530",
   "metadata": {},
   "outputs": [],
   "source": []
  }
 ],
 "metadata": {
  "kernelspec": {
   "display_name": "Python 3",
   "language": "python",
   "name": "python3"
  },
  "language_info": {
   "codemirror_mode": {
    "name": "ipython",
    "version": 3
   },
   "file_extension": ".py",
   "mimetype": "text/x-python",
   "name": "python",
   "nbconvert_exporter": "python",
   "pygments_lexer": "ipython3",
   "version": "3.8.8"
  }
 },
 "nbformat": 4,
 "nbformat_minor": 5
}
