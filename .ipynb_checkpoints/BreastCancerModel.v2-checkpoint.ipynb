{
 "cells": [
  {
   "cell_type": "code",
   "execution_count": 1,
   "id": "68cf1e18",
   "metadata": {},
   "outputs": [],
   "source": [
    "import pandas as pd\n",
    "import matplotlib.pyplot as plt\n",
    "import seaborn as sns\n",
    "from sklearn.model_selection import train_test_split, cross_val_score, GridSearchCV, RandomizedSearchCV\n",
    "from sklearn.linear_model import LogisticRegression, LinearRegression\n",
    "from sklearn.svm import SVC, SVR\n",
    "from sklearn.ensemble import RandomForestRegressor, RandomForestClassifier\n",
    "from sklearn.metrics import f1_score, precision_score, recall_score, confusion_matrix, accuracy_score, mean_absolute_error\n",
    "from sklearn.preprocessing import StandardScaler, MinMaxScaler\n",
    "from imblearn.over_sampling import SMOTE\n",
    "from sklearn.model_selection import GridSearchCV\n",
    "from sklearn.feature_selection import f_classif\n",
    "import numpy as np\n",
    "from scipy import stats as st\n",
    "from sklearn.preprocessing import PowerTransformer"
   ]
  },
  {
   "cell_type": "code",
   "execution_count": 2,
   "id": "7aea0a76",
   "metadata": {},
   "outputs": [],
   "source": [
    "pd.set_option('display.max_columns', None)\n",
    "#pd.set_option('display.max_rows', None)"
   ]
  },
  {
   "cell_type": "code",
   "execution_count": 3,
   "id": "8c185b6e",
   "metadata": {},
   "outputs": [],
   "source": [
    "df = pd.read_excel(r\"data/trainDataset.xls\")"
   ]
  },
  {
   "cell_type": "code",
   "execution_count": 4,
   "id": "ce3a6a67",
   "metadata": {},
   "outputs": [
    {
     "data": {
      "text/html": [
       "<div>\n",
       "<style scoped>\n",
       "    .dataframe tbody tr th:only-of-type {\n",
       "        vertical-align: middle;\n",
       "    }\n",
       "\n",
       "    .dataframe tbody tr th {\n",
       "        vertical-align: top;\n",
       "    }\n",
       "\n",
       "    .dataframe thead th {\n",
       "        text-align: right;\n",
       "    }\n",
       "</style>\n",
       "<table border=\"1\" class=\"dataframe\">\n",
       "  <thead>\n",
       "    <tr style=\"text-align: right;\">\n",
       "      <th></th>\n",
       "      <th>ID</th>\n",
       "      <th>pCR (outcome)</th>\n",
       "      <th>RelapseFreeSurvival (outcome)</th>\n",
       "      <th>Age</th>\n",
       "      <th>ER</th>\n",
       "      <th>PgR</th>\n",
       "      <th>HER2</th>\n",
       "      <th>TrippleNegative</th>\n",
       "      <th>ChemoGrade</th>\n",
       "      <th>Proliferation</th>\n",
       "      <th>HistologyType</th>\n",
       "      <th>LNStatus</th>\n",
       "      <th>TumourStage</th>\n",
       "      <th>original_shape_Elongation</th>\n",
       "      <th>original_shape_Flatness</th>\n",
       "      <th>original_shape_LeastAxisLength</th>\n",
       "      <th>original_shape_MajorAxisLength</th>\n",
       "      <th>original_shape_Maximum2DDiameterColumn</th>\n",
       "      <th>original_shape_Maximum2DDiameterRow</th>\n",
       "      <th>original_shape_Maximum2DDiameterSlice</th>\n",
       "      <th>original_shape_Maximum3DDiameter</th>\n",
       "      <th>original_shape_MeshVolume</th>\n",
       "      <th>original_shape_MinorAxisLength</th>\n",
       "      <th>original_shape_Sphericity</th>\n",
       "      <th>original_shape_SurfaceArea</th>\n",
       "      <th>original_shape_SurfaceVolumeRatio</th>\n",
       "      <th>original_shape_VoxelVolume</th>\n",
       "      <th>original_firstorder_10Percentile</th>\n",
       "      <th>original_firstorder_90Percentile</th>\n",
       "      <th>original_firstorder_Energy</th>\n",
       "      <th>original_firstorder_Entropy</th>\n",
       "      <th>original_firstorder_InterquartileRange</th>\n",
       "      <th>original_firstorder_Kurtosis</th>\n",
       "      <th>original_firstorder_Maximum</th>\n",
       "      <th>original_firstorder_MeanAbsoluteDeviation</th>\n",
       "      <th>original_firstorder_Mean</th>\n",
       "      <th>original_firstorder_Median</th>\n",
       "      <th>original_firstorder_Minimum</th>\n",
       "      <th>original_firstorder_Range</th>\n",
       "      <th>original_firstorder_RobustMeanAbsoluteDeviation</th>\n",
       "      <th>original_firstorder_RootMeanSquared</th>\n",
       "      <th>original_firstorder_Skewness</th>\n",
       "      <th>original_firstorder_TotalEnergy</th>\n",
       "      <th>original_firstorder_Uniformity</th>\n",
       "      <th>original_firstorder_Variance</th>\n",
       "      <th>original_glcm_Autocorrelation</th>\n",
       "      <th>original_glcm_ClusterProminence</th>\n",
       "      <th>original_glcm_ClusterShade</th>\n",
       "      <th>original_glcm_ClusterTendency</th>\n",
       "      <th>original_glcm_Contrast</th>\n",
       "      <th>original_glcm_Correlation</th>\n",
       "      <th>original_glcm_DifferenceAverage</th>\n",
       "      <th>original_glcm_DifferenceEntropy</th>\n",
       "      <th>original_glcm_DifferenceVariance</th>\n",
       "      <th>original_glcm_Id</th>\n",
       "      <th>original_glcm_Idm</th>\n",
       "      <th>original_glcm_Idmn</th>\n",
       "      <th>original_glcm_Idn</th>\n",
       "      <th>original_glcm_Imc1</th>\n",
       "      <th>original_glcm_Imc2</th>\n",
       "      <th>original_glcm_InverseVariance</th>\n",
       "      <th>original_glcm_JointAverage</th>\n",
       "      <th>original_glcm_JointEnergy</th>\n",
       "      <th>original_glcm_JointEntropy</th>\n",
       "      <th>original_glcm_MCC</th>\n",
       "      <th>original_glcm_MaximumProbability</th>\n",
       "      <th>original_glcm_SumAverage</th>\n",
       "      <th>original_glcm_SumEntropy</th>\n",
       "      <th>original_glcm_SumSquares</th>\n",
       "      <th>original_gldm_DependenceEntropy</th>\n",
       "      <th>original_gldm_DependenceNonUniformity</th>\n",
       "      <th>original_gldm_DependenceNonUniformityNormalized</th>\n",
       "      <th>original_gldm_DependenceVariance</th>\n",
       "      <th>original_gldm_GrayLevelNonUniformity</th>\n",
       "      <th>original_gldm_GrayLevelVariance</th>\n",
       "      <th>original_gldm_HighGrayLevelEmphasis</th>\n",
       "      <th>original_gldm_LargeDependenceEmphasis</th>\n",
       "      <th>original_gldm_LargeDependenceHighGrayLevelEmphasis</th>\n",
       "      <th>original_gldm_LargeDependenceLowGrayLevelEmphasis</th>\n",
       "      <th>original_gldm_LowGrayLevelEmphasis</th>\n",
       "      <th>original_gldm_SmallDependenceEmphasis</th>\n",
       "      <th>original_gldm_SmallDependenceHighGrayLevelEmphasis</th>\n",
       "      <th>original_gldm_SmallDependenceLowGrayLevelEmphasis</th>\n",
       "      <th>original_glrlm_GrayLevelNonUniformity</th>\n",
       "      <th>original_glrlm_GrayLevelNonUniformityNormalized</th>\n",
       "      <th>original_glrlm_GrayLevelVariance</th>\n",
       "      <th>original_glrlm_HighGrayLevelRunEmphasis</th>\n",
       "      <th>original_glrlm_LongRunEmphasis</th>\n",
       "      <th>original_glrlm_LongRunHighGrayLevelEmphasis</th>\n",
       "      <th>original_glrlm_LongRunLowGrayLevelEmphasis</th>\n",
       "      <th>original_glrlm_LowGrayLevelRunEmphasis</th>\n",
       "      <th>original_glrlm_RunEntropy</th>\n",
       "      <th>original_glrlm_RunLengthNonUniformity</th>\n",
       "      <th>original_glrlm_RunLengthNonUniformityNormalized</th>\n",
       "      <th>original_glrlm_RunPercentage</th>\n",
       "      <th>original_glrlm_RunVariance</th>\n",
       "      <th>original_glrlm_ShortRunEmphasis</th>\n",
       "      <th>original_glrlm_ShortRunHighGrayLevelEmphasis</th>\n",
       "      <th>original_glrlm_ShortRunLowGrayLevelEmphasis</th>\n",
       "      <th>original_glszm_GrayLevelNonUniformity</th>\n",
       "      <th>original_glszm_GrayLevelNonUniformityNormalized</th>\n",
       "      <th>original_glszm_GrayLevelVariance</th>\n",
       "      <th>original_glszm_HighGrayLevelZoneEmphasis</th>\n",
       "      <th>original_glszm_LargeAreaEmphasis</th>\n",
       "      <th>original_glszm_LargeAreaHighGrayLevelEmphasis</th>\n",
       "      <th>original_glszm_LargeAreaLowGrayLevelEmphasis</th>\n",
       "      <th>original_glszm_LowGrayLevelZoneEmphasis</th>\n",
       "      <th>original_glszm_SizeZoneNonUniformity</th>\n",
       "      <th>original_glszm_SizeZoneNonUniformityNormalized</th>\n",
       "      <th>original_glszm_SmallAreaEmphasis</th>\n",
       "      <th>original_glszm_SmallAreaHighGrayLevelEmphasis</th>\n",
       "      <th>original_glszm_SmallAreaLowGrayLevelEmphasis</th>\n",
       "      <th>original_glszm_ZoneEntropy</th>\n",
       "      <th>original_glszm_ZonePercentage</th>\n",
       "      <th>original_glszm_ZoneVariance</th>\n",
       "      <th>original_ngtdm_Busyness</th>\n",
       "      <th>original_ngtdm_Coarseness</th>\n",
       "      <th>original_ngtdm_Complexity</th>\n",
       "      <th>original_ngtdm_Contrast</th>\n",
       "      <th>original_ngtdm_Strength</th>\n",
       "    </tr>\n",
       "  </thead>\n",
       "  <tbody>\n",
       "    <tr>\n",
       "      <th>0</th>\n",
       "      <td>TRG002174</td>\n",
       "      <td>1</td>\n",
       "      <td>144.0</td>\n",
       "      <td>41.0</td>\n",
       "      <td>0</td>\n",
       "      <td>0</td>\n",
       "      <td>0</td>\n",
       "      <td>1</td>\n",
       "      <td>3</td>\n",
       "      <td>3</td>\n",
       "      <td>1</td>\n",
       "      <td>1</td>\n",
       "      <td>2</td>\n",
       "      <td>0.813912</td>\n",
       "      <td>0.724080</td>\n",
       "      <td>23.781937</td>\n",
       "      <td>32.844370</td>\n",
       "      <td>37.696154</td>\n",
       "      <td>38.626416</td>\n",
       "      <td>34.713110</td>\n",
       "      <td>39.572718</td>\n",
       "      <td>14209.458330</td>\n",
       "      <td>26.732440</td>\n",
       "      <td>0.771675</td>\n",
       "      <td>3676.500012</td>\n",
       "      <td>0.258736</td>\n",
       "      <td>14263</td>\n",
       "      <td>-0.163500</td>\n",
       "      <td>0.708860</td>\n",
       "      <td>2897.68930</td>\n",
       "      <td>0.738088</td>\n",
       "      <td>0.406537</td>\n",
       "      <td>4.594629</td>\n",
       "      <td>2.114799</td>\n",
       "      <td>0.278008</td>\n",
       "      <td>0.248168</td>\n",
       "      <td>0.217628</td>\n",
       "      <td>-1.251833</td>\n",
       "      <td>3.366632</td>\n",
       "      <td>0.174026</td>\n",
       "      <td>0.450734</td>\n",
       "      <td>0.386237</td>\n",
       "      <td>2897.68930</td>\n",
       "      <td>0.670258</td>\n",
       "      <td>0.141574</td>\n",
       "      <td>3.328814</td>\n",
       "      <td>0.725849</td>\n",
       "      <td>-0.425324</td>\n",
       "      <td>0.438760</td>\n",
       "      <td>0.184265</td>\n",
       "      <td>0.407895</td>\n",
       "      <td>0.184265</td>\n",
       "      <td>0.685680</td>\n",
       "      <td>0.149585</td>\n",
       "      <td>0.907867</td>\n",
       "      <td>0.907867</td>\n",
       "      <td>0.963147</td>\n",
       "      <td>0.938578</td>\n",
       "      <td>-0.149786</td>\n",
       "      <td>0.425720</td>\n",
       "      <td>0.184265</td>\n",
       "      <td>1.806982</td>\n",
       "      <td>0.538903</td>\n",
       "      <td>1.309203</td>\n",
       "      <td>0.407895</td>\n",
       "      <td>0.714849</td>\n",
       "      <td>3.613964</td>\n",
       "      <td>1.124938</td>\n",
       "      <td>0.155756</td>\n",
       "      <td>4.529461</td>\n",
       "      <td>1164.363949</td>\n",
       "      <td>0.081635</td>\n",
       "      <td>38.233794</td>\n",
       "      <td>9559.892659</td>\n",
       "      <td>0.164871</td>\n",
       "      <td>3.375307</td>\n",
       "      <td>456.983173</td>\n",
       "      <td>1714.810208</td>\n",
       "      <td>142.526414</td>\n",
       "      <td>0.406173</td>\n",
       "      <td>0.005563</td>\n",
       "      <td>0.011679</td>\n",
       "      <td>0.004033</td>\n",
       "      <td>1805.333660</td>\n",
       "      <td>0.503341</td>\n",
       "      <td>0.248329</td>\n",
       "      <td>2.619511</td>\n",
       "      <td>36.191087</td>\n",
       "      <td>137.835476</td>\n",
       "      <td>10.779989</td>\n",
       "      <td>0.595122</td>\n",
       "      <td>3.865811</td>\n",
       "      <td>677.118614</td>\n",
       "      <td>0.184874</td>\n",
       "      <td>0.251409</td>\n",
       "      <td>19.138811</td>\n",
       "      <td>0.409396</td>\n",
       "      <td>0.789987</td>\n",
       "      <td>0.314248</td>\n",
       "      <td>27.545455</td>\n",
       "      <td>0.834711</td>\n",
       "      <td>0.082645</td>\n",
       "      <td>1.272727</td>\n",
       "      <td>4067578.818</td>\n",
       "      <td>1.565522e+07</td>\n",
       "      <td>1.170667e+06</td>\n",
       "      <td>0.931818</td>\n",
       "      <td>5.969697</td>\n",
       "      <td>0.180900</td>\n",
       "      <td>0.403535</td>\n",
       "      <td>0.517172</td>\n",
       "      <td>0.375126</td>\n",
       "      <td>3.325332</td>\n",
       "      <td>0.002314</td>\n",
       "      <td>3880771.500</td>\n",
       "      <td>473.464852</td>\n",
       "      <td>0.000768</td>\n",
       "      <td>0.182615</td>\n",
       "      <td>0.030508</td>\n",
       "      <td>0.000758</td>\n",
       "    </tr>\n",
       "    <tr>\n",
       "      <th>1</th>\n",
       "      <td>TRG002178</td>\n",
       "      <td>0</td>\n",
       "      <td>142.0</td>\n",
       "      <td>39.0</td>\n",
       "      <td>1</td>\n",
       "      <td>1</td>\n",
       "      <td>0</td>\n",
       "      <td>0</td>\n",
       "      <td>3</td>\n",
       "      <td>3</td>\n",
       "      <td>1</td>\n",
       "      <td>1</td>\n",
       "      <td>2</td>\n",
       "      <td>0.666118</td>\n",
       "      <td>0.476173</td>\n",
       "      <td>20.715461</td>\n",
       "      <td>43.504095</td>\n",
       "      <td>51.971146</td>\n",
       "      <td>41.761226</td>\n",
       "      <td>36.400549</td>\n",
       "      <td>53.310412</td>\n",
       "      <td>14202.708330</td>\n",
       "      <td>28.978871</td>\n",
       "      <td>0.603481</td>\n",
       "      <td>4699.678466</td>\n",
       "      <td>0.330900</td>\n",
       "      <td>14254</td>\n",
       "      <td>0.665558</td>\n",
       "      <td>2.322627</td>\n",
       "      <td>41105.32510</td>\n",
       "      <td>0.179893</td>\n",
       "      <td>0.730463</td>\n",
       "      <td>3.884960</td>\n",
       "      <td>3.857952</td>\n",
       "      <td>0.499454</td>\n",
       "      <td>1.562901</td>\n",
       "      <td>1.632745</td>\n",
       "      <td>-1.106491</td>\n",
       "      <td>4.964442</td>\n",
       "      <td>0.318599</td>\n",
       "      <td>1.698168</td>\n",
       "      <td>-0.634246</td>\n",
       "      <td>41105.32510</td>\n",
       "      <td>0.947174</td>\n",
       "      <td>0.441115</td>\n",
       "      <td>3.934749</td>\n",
       "      <td>0.070286</td>\n",
       "      <td>-0.048574</td>\n",
       "      <td>0.039166</td>\n",
       "      <td>0.027998</td>\n",
       "      <td>0.157776</td>\n",
       "      <td>0.027998</td>\n",
       "      <td>0.183795</td>\n",
       "      <td>0.027197</td>\n",
       "      <td>0.986001</td>\n",
       "      <td>0.986001</td>\n",
       "      <td>0.994400</td>\n",
       "      <td>0.990667</td>\n",
       "      <td>-0.070082</td>\n",
       "      <td>0.105206</td>\n",
       "      <td>0.027998</td>\n",
       "      <td>1.982916</td>\n",
       "      <td>0.939221</td>\n",
       "      <td>0.240095</td>\n",
       "      <td>0.157776</td>\n",
       "      <td>0.968917</td>\n",
       "      <td>3.965832</td>\n",
       "      <td>0.212098</td>\n",
       "      <td>0.016791</td>\n",
       "      <td>2.799725</td>\n",
       "      <td>4650.251438</td>\n",
       "      <td>0.326242</td>\n",
       "      <td>29.160771</td>\n",
       "      <td>13501.014310</td>\n",
       "      <td>0.026413</td>\n",
       "      <td>3.918549</td>\n",
       "      <td>585.940648</td>\n",
       "      <td>2342.457065</td>\n",
       "      <td>146.811544</td>\n",
       "      <td>0.270363</td>\n",
       "      <td>0.006518</td>\n",
       "      <td>0.012337</td>\n",
       "      <td>0.005064</td>\n",
       "      <td>1302.579572</td>\n",
       "      <td>0.694474</td>\n",
       "      <td>0.152763</td>\n",
       "      <td>3.433408</td>\n",
       "      <td>109.743182</td>\n",
       "      <td>438.113168</td>\n",
       "      <td>27.650685</td>\n",
       "      <td>0.391648</td>\n",
       "      <td>4.255471</td>\n",
       "      <td>159.837285</td>\n",
       "      <td>0.084497</td>\n",
       "      <td>0.130916</td>\n",
       "      <td>44.699577</td>\n",
       "      <td>0.241148</td>\n",
       "      <td>0.442279</td>\n",
       "      <td>0.190865</td>\n",
       "      <td>78.025000</td>\n",
       "      <td>0.975313</td>\n",
       "      <td>0.012344</td>\n",
       "      <td>1.037500</td>\n",
       "      <td>2403756.075</td>\n",
       "      <td>9.614769e+06</td>\n",
       "      <td>6.010027e+05</td>\n",
       "      <td>0.990625</td>\n",
       "      <td>15.850000</td>\n",
       "      <td>0.198125</td>\n",
       "      <td>0.444391</td>\n",
       "      <td>0.444391</td>\n",
       "      <td>0.444391</td>\n",
       "      <td>3.032144</td>\n",
       "      <td>0.005612</td>\n",
       "      <td>2372009.744</td>\n",
       "      <td>59.459710</td>\n",
       "      <td>0.004383</td>\n",
       "      <td>0.032012</td>\n",
       "      <td>0.001006</td>\n",
       "      <td>0.003685</td>\n",
       "    </tr>\n",
       "    <tr>\n",
       "      <th>2</th>\n",
       "      <td>TRG002204</td>\n",
       "      <td>1</td>\n",
       "      <td>135.0</td>\n",
       "      <td>31.0</td>\n",
       "      <td>0</td>\n",
       "      <td>0</td>\n",
       "      <td>0</td>\n",
       "      <td>1</td>\n",
       "      <td>2</td>\n",
       "      <td>1</td>\n",
       "      <td>1</td>\n",
       "      <td>0</td>\n",
       "      <td>2</td>\n",
       "      <td>0.645083</td>\n",
       "      <td>0.594470</td>\n",
       "      <td>21.659822</td>\n",
       "      <td>36.435505</td>\n",
       "      <td>32.984845</td>\n",
       "      <td>40.447497</td>\n",
       "      <td>42.379240</td>\n",
       "      <td>44.384682</td>\n",
       "      <td>10858.375000</td>\n",
       "      <td>23.503921</td>\n",
       "      <td>0.608183</td>\n",
       "      <td>3899.055524</td>\n",
       "      <td>0.359083</td>\n",
       "      <td>10960</td>\n",
       "      <td>0.638035</td>\n",
       "      <td>1.961740</td>\n",
       "      <td>19774.94893</td>\n",
       "      <td>0.136183</td>\n",
       "      <td>0.509910</td>\n",
       "      <td>4.760064</td>\n",
       "      <td>3.841710</td>\n",
       "      <td>0.400199</td>\n",
       "      <td>1.219685</td>\n",
       "      <td>1.153095</td>\n",
       "      <td>-1.025610</td>\n",
       "      <td>4.867321</td>\n",
       "      <td>0.231278</td>\n",
       "      <td>1.343236</td>\n",
       "      <td>0.545105</td>\n",
       "      <td>19774.94893</td>\n",
       "      <td>0.962589</td>\n",
       "      <td>0.316651</td>\n",
       "      <td>3.955045</td>\n",
       "      <td>0.043376</td>\n",
       "      <td>-0.031359</td>\n",
       "      <td>0.026057</td>\n",
       "      <td>0.020003</td>\n",
       "      <td>0.131035</td>\n",
       "      <td>0.020003</td>\n",
       "      <td>0.141291</td>\n",
       "      <td>0.019599</td>\n",
       "      <td>0.989998</td>\n",
       "      <td>0.989998</td>\n",
       "      <td>0.995999</td>\n",
       "      <td>0.993332</td>\n",
       "      <td>-0.048997</td>\n",
       "      <td>0.086544</td>\n",
       "      <td>0.020003</td>\n",
       "      <td>1.988349</td>\n",
       "      <td>0.957372</td>\n",
       "      <td>0.178540</td>\n",
       "      <td>0.131035</td>\n",
       "      <td>0.978347</td>\n",
       "      <td>3.976698</td>\n",
       "      <td>0.158537</td>\n",
       "      <td>0.011515</td>\n",
       "      <td>2.863091</td>\n",
       "      <td>3374.309307</td>\n",
       "      <td>0.307875</td>\n",
       "      <td>27.615779</td>\n",
       "      <td>10549.970990</td>\n",
       "      <td>0.018706</td>\n",
       "      <td>3.942792</td>\n",
       "      <td>584.343248</td>\n",
       "      <td>2336.739325</td>\n",
       "      <td>146.244229</td>\n",
       "      <td>0.264302</td>\n",
       "      <td>0.007181</td>\n",
       "      <td>0.013216</td>\n",
       "      <td>0.005672</td>\n",
       "      <td>1102.109263</td>\n",
       "      <td>0.764847</td>\n",
       "      <td>0.117576</td>\n",
       "      <td>3.590626</td>\n",
       "      <td>100.817995</td>\n",
       "      <td>402.737100</td>\n",
       "      <td>25.338218</td>\n",
       "      <td>0.352343</td>\n",
       "      <td>4.232295</td>\n",
       "      <td>114.255050</td>\n",
       "      <td>0.079355</td>\n",
       "      <td>0.130959</td>\n",
       "      <td>38.588656</td>\n",
       "      <td>0.222151</td>\n",
       "      <td>0.503046</td>\n",
       "      <td>0.151927</td>\n",
       "      <td>72.027027</td>\n",
       "      <td>0.973338</td>\n",
       "      <td>0.013331</td>\n",
       "      <td>1.040541</td>\n",
       "      <td>1561963.432</td>\n",
       "      <td>6.247801e+06</td>\n",
       "      <td>3.905040e+05</td>\n",
       "      <td>0.989865</td>\n",
       "      <td>20.405405</td>\n",
       "      <td>0.275749</td>\n",
       "      <td>0.534549</td>\n",
       "      <td>0.534549</td>\n",
       "      <td>0.534549</td>\n",
       "      <td>2.485848</td>\n",
       "      <td>0.006752</td>\n",
       "      <td>1540027.421</td>\n",
       "      <td>33.935384</td>\n",
       "      <td>0.007584</td>\n",
       "      <td>0.024062</td>\n",
       "      <td>0.000529</td>\n",
       "      <td>0.006447</td>\n",
       "    </tr>\n",
       "    <tr>\n",
       "      <th>3</th>\n",
       "      <td>TRG002206</td>\n",
       "      <td>0</td>\n",
       "      <td>12.0</td>\n",
       "      <td>35.0</td>\n",
       "      <td>0</td>\n",
       "      <td>0</td>\n",
       "      <td>0</td>\n",
       "      <td>1</td>\n",
       "      <td>3</td>\n",
       "      <td>3</td>\n",
       "      <td>1</td>\n",
       "      <td>1</td>\n",
       "      <td>3</td>\n",
       "      <td>0.770842</td>\n",
       "      <td>0.501228</td>\n",
       "      <td>26.590504</td>\n",
       "      <td>53.050724</td>\n",
       "      <td>66.910388</td>\n",
       "      <td>44.944410</td>\n",
       "      <td>66.760767</td>\n",
       "      <td>69.000000</td>\n",
       "      <td>26748.208330</td>\n",
       "      <td>40.893735</td>\n",
       "      <td>0.474509</td>\n",
       "      <td>9115.275207</td>\n",
       "      <td>0.340781</td>\n",
       "      <td>26899</td>\n",
       "      <td>0.759496</td>\n",
       "      <td>2.164869</td>\n",
       "      <td>72854.17151</td>\n",
       "      <td>0.087137</td>\n",
       "      <td>0.740609</td>\n",
       "      <td>3.421056</td>\n",
       "      <td>3.030400</td>\n",
       "      <td>0.442713</td>\n",
       "      <td>1.549668</td>\n",
       "      <td>1.660720</td>\n",
       "      <td>-0.851106</td>\n",
       "      <td>3.881506</td>\n",
       "      <td>0.309734</td>\n",
       "      <td>1.645732</td>\n",
       "      <td>-0.792678</td>\n",
       "      <td>72854.17151</td>\n",
       "      <td>0.978307</td>\n",
       "      <td>0.306963</td>\n",
       "      <td>3.973627</td>\n",
       "      <td>0.025128</td>\n",
       "      <td>-0.018371</td>\n",
       "      <td>0.015236</td>\n",
       "      <td>0.011845</td>\n",
       "      <td>0.122613</td>\n",
       "      <td>0.011845</td>\n",
       "      <td>0.092635</td>\n",
       "      <td>0.011702</td>\n",
       "      <td>0.994078</td>\n",
       "      <td>0.994078</td>\n",
       "      <td>0.997631</td>\n",
       "      <td>0.996052</td>\n",
       "      <td>-0.056651</td>\n",
       "      <td>0.065831</td>\n",
       "      <td>0.011845</td>\n",
       "      <td>1.993183</td>\n",
       "      <td>0.974758</td>\n",
       "      <td>0.114284</td>\n",
       "      <td>0.122613</td>\n",
       "      <td>0.987261</td>\n",
       "      <td>3.986367</td>\n",
       "      <td>0.102439</td>\n",
       "      <td>0.006770</td>\n",
       "      <td>2.756432</td>\n",
       "      <td>8662.085096</td>\n",
       "      <td>0.322023</td>\n",
       "      <td>22.976388</td>\n",
       "      <td>26315.470500</td>\n",
       "      <td>0.010847</td>\n",
       "      <td>3.967099</td>\n",
       "      <td>594.497230</td>\n",
       "      <td>2377.642849</td>\n",
       "      <td>148.710826</td>\n",
       "      <td>0.258225</td>\n",
       "      <td>0.004902</td>\n",
       "      <td>0.010811</td>\n",
       "      <td>0.003424</td>\n",
       "      <td>2701.187578</td>\n",
       "      <td>0.841781</td>\n",
       "      <td>0.079110</td>\n",
       "      <td>3.739820</td>\n",
       "      <td>125.498739</td>\n",
       "      <td>501.648278</td>\n",
       "      <td>31.461354</td>\n",
       "      <td>0.315045</td>\n",
       "      <td>4.412648</td>\n",
       "      <td>212.625994</td>\n",
       "      <td>0.065202</td>\n",
       "      <td>0.118981</td>\n",
       "      <td>48.370607</td>\n",
       "      <td>0.161327</td>\n",
       "      <td>0.399896</td>\n",
       "      <td>0.101685</td>\n",
       "      <td>99.019802</td>\n",
       "      <td>0.980394</td>\n",
       "      <td>0.009803</td>\n",
       "      <td>1.029703</td>\n",
       "      <td>7007670.723</td>\n",
       "      <td>2.803063e+07</td>\n",
       "      <td>1.751932e+06</td>\n",
       "      <td>0.992574</td>\n",
       "      <td>25.554455</td>\n",
       "      <td>0.253014</td>\n",
       "      <td>0.506185</td>\n",
       "      <td>0.506185</td>\n",
       "      <td>0.506185</td>\n",
       "      <td>2.606255</td>\n",
       "      <td>0.003755</td>\n",
       "      <td>6936740.794</td>\n",
       "      <td>46.859265</td>\n",
       "      <td>0.005424</td>\n",
       "      <td>0.013707</td>\n",
       "      <td>0.000178</td>\n",
       "      <td>0.004543</td>\n",
       "    </tr>\n",
       "    <tr>\n",
       "      <th>4</th>\n",
       "      <td>TRG002210</td>\n",
       "      <td>0</td>\n",
       "      <td>109.0</td>\n",
       "      <td>61.0</td>\n",
       "      <td>1</td>\n",
       "      <td>0</td>\n",
       "      <td>0</td>\n",
       "      <td>0</td>\n",
       "      <td>2</td>\n",
       "      <td>1</td>\n",
       "      <td>1</td>\n",
       "      <td>0</td>\n",
       "      <td>2</td>\n",
       "      <td>0.861035</td>\n",
       "      <td>0.750267</td>\n",
       "      <td>20.456571</td>\n",
       "      <td>27.265716</td>\n",
       "      <td>33.241540</td>\n",
       "      <td>30.594117</td>\n",
       "      <td>31.384710</td>\n",
       "      <td>35.042831</td>\n",
       "      <td>8846.541667</td>\n",
       "      <td>23.476732</td>\n",
       "      <td>0.756228</td>\n",
       "      <td>2735.354881</td>\n",
       "      <td>0.309200</td>\n",
       "      <td>8894</td>\n",
       "      <td>0.434385</td>\n",
       "      <td>1.832410</td>\n",
       "      <td>15697.30914</td>\n",
       "      <td>0.183666</td>\n",
       "      <td>0.787978</td>\n",
       "      <td>3.107181</td>\n",
       "      <td>2.315364</td>\n",
       "      <td>0.447799</td>\n",
       "      <td>1.209800</td>\n",
       "      <td>1.311328</td>\n",
       "      <td>-0.866201</td>\n",
       "      <td>3.181566</td>\n",
       "      <td>0.324996</td>\n",
       "      <td>1.328508</td>\n",
       "      <td>-0.732889</td>\n",
       "      <td>15697.30914</td>\n",
       "      <td>0.945787</td>\n",
       "      <td>0.301317</td>\n",
       "      <td>3.933264</td>\n",
       "      <td>0.069301</td>\n",
       "      <td>-0.048455</td>\n",
       "      <td>0.039564</td>\n",
       "      <td>0.028921</td>\n",
       "      <td>0.155224</td>\n",
       "      <td>0.028921</td>\n",
       "      <td>0.188503</td>\n",
       "      <td>0.028068</td>\n",
       "      <td>0.985540</td>\n",
       "      <td>0.985540</td>\n",
       "      <td>0.994216</td>\n",
       "      <td>0.990360</td>\n",
       "      <td>-0.061986</td>\n",
       "      <td>0.106835</td>\n",
       "      <td>0.028921</td>\n",
       "      <td>1.982575</td>\n",
       "      <td>0.937690</td>\n",
       "      <td>0.245543</td>\n",
       "      <td>0.155224</td>\n",
       "      <td>0.968114</td>\n",
       "      <td>3.965150</td>\n",
       "      <td>0.216623</td>\n",
       "      <td>0.017121</td>\n",
       "      <td>2.676170</td>\n",
       "      <td>3195.159883</td>\n",
       "      <td>0.359249</td>\n",
       "      <td>29.518487</td>\n",
       "      <td>8411.830447</td>\n",
       "      <td>0.027106</td>\n",
       "      <td>3.916348</td>\n",
       "      <td>594.187317</td>\n",
       "      <td>2375.516078</td>\n",
       "      <td>148.855127</td>\n",
       "      <td>0.270913</td>\n",
       "      <td>0.007222</td>\n",
       "      <td>0.012956</td>\n",
       "      <td>0.005788</td>\n",
       "      <td>750.787780</td>\n",
       "      <td>0.674880</td>\n",
       "      <td>0.162560</td>\n",
       "      <td>3.385162</td>\n",
       "      <td>110.775276</td>\n",
       "      <td>442.211336</td>\n",
       "      <td>27.916261</td>\n",
       "      <td>0.403709</td>\n",
       "      <td>4.140589</td>\n",
       "      <td>101.119011</td>\n",
       "      <td>0.091210</td>\n",
       "      <td>0.124509</td>\n",
       "      <td>41.234090</td>\n",
       "      <td>0.261101</td>\n",
       "      <td>0.473278</td>\n",
       "      <td>0.208056</td>\n",
       "      <td>56.034483</td>\n",
       "      <td>0.966112</td>\n",
       "      <td>0.016944</td>\n",
       "      <td>1.051724</td>\n",
       "      <td>1288913.690</td>\n",
       "      <td>5.155465e+06</td>\n",
       "      <td>3.222760e+05</td>\n",
       "      <td>0.987069</td>\n",
       "      <td>12.551724</td>\n",
       "      <td>0.216409</td>\n",
       "      <td>0.462282</td>\n",
       "      <td>0.462282</td>\n",
       "      <td>0.462282</td>\n",
       "      <td>2.809279</td>\n",
       "      <td>0.006521</td>\n",
       "      <td>1265399.054</td>\n",
       "      <td>39.621023</td>\n",
       "      <td>0.006585</td>\n",
       "      <td>0.034148</td>\n",
       "      <td>0.001083</td>\n",
       "      <td>0.005626</td>\n",
       "    </tr>\n",
       "  </tbody>\n",
       "</table>\n",
       "</div>"
      ],
      "text/plain": [
       "          ID  pCR (outcome)  RelapseFreeSurvival (outcome)   Age  ER  PgR  \\\n",
       "0  TRG002174              1                          144.0  41.0   0    0   \n",
       "1  TRG002178              0                          142.0  39.0   1    1   \n",
       "2  TRG002204              1                          135.0  31.0   0    0   \n",
       "3  TRG002206              0                           12.0  35.0   0    0   \n",
       "4  TRG002210              0                          109.0  61.0   1    0   \n",
       "\n",
       "   HER2  TrippleNegative  ChemoGrade  Proliferation  HistologyType  LNStatus  \\\n",
       "0     0                1           3              3              1         1   \n",
       "1     0                0           3              3              1         1   \n",
       "2     0                1           2              1              1         0   \n",
       "3     0                1           3              3              1         1   \n",
       "4     0                0           2              1              1         0   \n",
       "\n",
       "   TumourStage  original_shape_Elongation  original_shape_Flatness  \\\n",
       "0            2                   0.813912                 0.724080   \n",
       "1            2                   0.666118                 0.476173   \n",
       "2            2                   0.645083                 0.594470   \n",
       "3            3                   0.770842                 0.501228   \n",
       "4            2                   0.861035                 0.750267   \n",
       "\n",
       "   original_shape_LeastAxisLength  original_shape_MajorAxisLength  \\\n",
       "0                       23.781937                       32.844370   \n",
       "1                       20.715461                       43.504095   \n",
       "2                       21.659822                       36.435505   \n",
       "3                       26.590504                       53.050724   \n",
       "4                       20.456571                       27.265716   \n",
       "\n",
       "   original_shape_Maximum2DDiameterColumn  \\\n",
       "0                               37.696154   \n",
       "1                               51.971146   \n",
       "2                               32.984845   \n",
       "3                               66.910388   \n",
       "4                               33.241540   \n",
       "\n",
       "   original_shape_Maximum2DDiameterRow  original_shape_Maximum2DDiameterSlice  \\\n",
       "0                            38.626416                              34.713110   \n",
       "1                            41.761226                              36.400549   \n",
       "2                            40.447497                              42.379240   \n",
       "3                            44.944410                              66.760767   \n",
       "4                            30.594117                              31.384710   \n",
       "\n",
       "   original_shape_Maximum3DDiameter  original_shape_MeshVolume  \\\n",
       "0                         39.572718               14209.458330   \n",
       "1                         53.310412               14202.708330   \n",
       "2                         44.384682               10858.375000   \n",
       "3                         69.000000               26748.208330   \n",
       "4                         35.042831                8846.541667   \n",
       "\n",
       "   original_shape_MinorAxisLength  original_shape_Sphericity  \\\n",
       "0                       26.732440                   0.771675   \n",
       "1                       28.978871                   0.603481   \n",
       "2                       23.503921                   0.608183   \n",
       "3                       40.893735                   0.474509   \n",
       "4                       23.476732                   0.756228   \n",
       "\n",
       "   original_shape_SurfaceArea  original_shape_SurfaceVolumeRatio  \\\n",
       "0                 3676.500012                           0.258736   \n",
       "1                 4699.678466                           0.330900   \n",
       "2                 3899.055524                           0.359083   \n",
       "3                 9115.275207                           0.340781   \n",
       "4                 2735.354881                           0.309200   \n",
       "\n",
       "   original_shape_VoxelVolume  original_firstorder_10Percentile  \\\n",
       "0                       14263                         -0.163500   \n",
       "1                       14254                          0.665558   \n",
       "2                       10960                          0.638035   \n",
       "3                       26899                          0.759496   \n",
       "4                        8894                          0.434385   \n",
       "\n",
       "   original_firstorder_90Percentile  original_firstorder_Energy  \\\n",
       "0                          0.708860                  2897.68930   \n",
       "1                          2.322627                 41105.32510   \n",
       "2                          1.961740                 19774.94893   \n",
       "3                          2.164869                 72854.17151   \n",
       "4                          1.832410                 15697.30914   \n",
       "\n",
       "   original_firstorder_Entropy  original_firstorder_InterquartileRange  \\\n",
       "0                     0.738088                                0.406537   \n",
       "1                     0.179893                                0.730463   \n",
       "2                     0.136183                                0.509910   \n",
       "3                     0.087137                                0.740609   \n",
       "4                     0.183666                                0.787978   \n",
       "\n",
       "   original_firstorder_Kurtosis  original_firstorder_Maximum  \\\n",
       "0                      4.594629                     2.114799   \n",
       "1                      3.884960                     3.857952   \n",
       "2                      4.760064                     3.841710   \n",
       "3                      3.421056                     3.030400   \n",
       "4                      3.107181                     2.315364   \n",
       "\n",
       "   original_firstorder_MeanAbsoluteDeviation  original_firstorder_Mean  \\\n",
       "0                                   0.278008                  0.248168   \n",
       "1                                   0.499454                  1.562901   \n",
       "2                                   0.400199                  1.219685   \n",
       "3                                   0.442713                  1.549668   \n",
       "4                                   0.447799                  1.209800   \n",
       "\n",
       "   original_firstorder_Median  original_firstorder_Minimum  \\\n",
       "0                    0.217628                    -1.251833   \n",
       "1                    1.632745                    -1.106491   \n",
       "2                    1.153095                    -1.025610   \n",
       "3                    1.660720                    -0.851106   \n",
       "4                    1.311328                    -0.866201   \n",
       "\n",
       "   original_firstorder_Range  original_firstorder_RobustMeanAbsoluteDeviation  \\\n",
       "0                   3.366632                                         0.174026   \n",
       "1                   4.964442                                         0.318599   \n",
       "2                   4.867321                                         0.231278   \n",
       "3                   3.881506                                         0.309734   \n",
       "4                   3.181566                                         0.324996   \n",
       "\n",
       "   original_firstorder_RootMeanSquared  original_firstorder_Skewness  \\\n",
       "0                             0.450734                      0.386237   \n",
       "1                             1.698168                     -0.634246   \n",
       "2                             1.343236                      0.545105   \n",
       "3                             1.645732                     -0.792678   \n",
       "4                             1.328508                     -0.732889   \n",
       "\n",
       "   original_firstorder_TotalEnergy  original_firstorder_Uniformity  \\\n",
       "0                       2897.68930                        0.670258   \n",
       "1                      41105.32510                        0.947174   \n",
       "2                      19774.94893                        0.962589   \n",
       "3                      72854.17151                        0.978307   \n",
       "4                      15697.30914                        0.945787   \n",
       "\n",
       "   original_firstorder_Variance  original_glcm_Autocorrelation  \\\n",
       "0                      0.141574                       3.328814   \n",
       "1                      0.441115                       3.934749   \n",
       "2                      0.316651                       3.955045   \n",
       "3                      0.306963                       3.973627   \n",
       "4                      0.301317                       3.933264   \n",
       "\n",
       "   original_glcm_ClusterProminence  original_glcm_ClusterShade  \\\n",
       "0                         0.725849                   -0.425324   \n",
       "1                         0.070286                   -0.048574   \n",
       "2                         0.043376                   -0.031359   \n",
       "3                         0.025128                   -0.018371   \n",
       "4                         0.069301                   -0.048455   \n",
       "\n",
       "   original_glcm_ClusterTendency  original_glcm_Contrast  \\\n",
       "0                       0.438760                0.184265   \n",
       "1                       0.039166                0.027998   \n",
       "2                       0.026057                0.020003   \n",
       "3                       0.015236                0.011845   \n",
       "4                       0.039564                0.028921   \n",
       "\n",
       "   original_glcm_Correlation  original_glcm_DifferenceAverage  \\\n",
       "0                   0.407895                         0.184265   \n",
       "1                   0.157776                         0.027998   \n",
       "2                   0.131035                         0.020003   \n",
       "3                   0.122613                         0.011845   \n",
       "4                   0.155224                         0.028921   \n",
       "\n",
       "   original_glcm_DifferenceEntropy  original_glcm_DifferenceVariance  \\\n",
       "0                         0.685680                          0.149585   \n",
       "1                         0.183795                          0.027197   \n",
       "2                         0.141291                          0.019599   \n",
       "3                         0.092635                          0.011702   \n",
       "4                         0.188503                          0.028068   \n",
       "\n",
       "   original_glcm_Id  original_glcm_Idm  original_glcm_Idmn  original_glcm_Idn  \\\n",
       "0          0.907867           0.907867            0.963147           0.938578   \n",
       "1          0.986001           0.986001            0.994400           0.990667   \n",
       "2          0.989998           0.989998            0.995999           0.993332   \n",
       "3          0.994078           0.994078            0.997631           0.996052   \n",
       "4          0.985540           0.985540            0.994216           0.990360   \n",
       "\n",
       "   original_glcm_Imc1  original_glcm_Imc2  original_glcm_InverseVariance  \\\n",
       "0           -0.149786            0.425720                       0.184265   \n",
       "1           -0.070082            0.105206                       0.027998   \n",
       "2           -0.048997            0.086544                       0.020003   \n",
       "3           -0.056651            0.065831                       0.011845   \n",
       "4           -0.061986            0.106835                       0.028921   \n",
       "\n",
       "   original_glcm_JointAverage  original_glcm_JointEnergy  \\\n",
       "0                    1.806982                   0.538903   \n",
       "1                    1.982916                   0.939221   \n",
       "2                    1.988349                   0.957372   \n",
       "3                    1.993183                   0.974758   \n",
       "4                    1.982575                   0.937690   \n",
       "\n",
       "   original_glcm_JointEntropy  original_glcm_MCC  \\\n",
       "0                    1.309203           0.407895   \n",
       "1                    0.240095           0.157776   \n",
       "2                    0.178540           0.131035   \n",
       "3                    0.114284           0.122613   \n",
       "4                    0.245543           0.155224   \n",
       "\n",
       "   original_glcm_MaximumProbability  original_glcm_SumAverage  \\\n",
       "0                          0.714849                  3.613964   \n",
       "1                          0.968917                  3.965832   \n",
       "2                          0.978347                  3.976698   \n",
       "3                          0.987261                  3.986367   \n",
       "4                          0.968114                  3.965150   \n",
       "\n",
       "   original_glcm_SumEntropy  original_glcm_SumSquares  \\\n",
       "0                  1.124938                  0.155756   \n",
       "1                  0.212098                  0.016791   \n",
       "2                  0.158537                  0.011515   \n",
       "3                  0.102439                  0.006770   \n",
       "4                  0.216623                  0.017121   \n",
       "\n",
       "   original_gldm_DependenceEntropy  original_gldm_DependenceNonUniformity  \\\n",
       "0                         4.529461                            1164.363949   \n",
       "1                         2.799725                            4650.251438   \n",
       "2                         2.863091                            3374.309307   \n",
       "3                         2.756432                            8662.085096   \n",
       "4                         2.676170                            3195.159883   \n",
       "\n",
       "   original_gldm_DependenceNonUniformityNormalized  \\\n",
       "0                                         0.081635   \n",
       "1                                         0.326242   \n",
       "2                                         0.307875   \n",
       "3                                         0.322023   \n",
       "4                                         0.359249   \n",
       "\n",
       "   original_gldm_DependenceVariance  original_gldm_GrayLevelNonUniformity  \\\n",
       "0                         38.233794                           9559.892659   \n",
       "1                         29.160771                          13501.014310   \n",
       "2                         27.615779                          10549.970990   \n",
       "3                         22.976388                          26315.470500   \n",
       "4                         29.518487                           8411.830447   \n",
       "\n",
       "   original_gldm_GrayLevelVariance  original_gldm_HighGrayLevelEmphasis  \\\n",
       "0                         0.164871                             3.375307   \n",
       "1                         0.026413                             3.918549   \n",
       "2                         0.018706                             3.942792   \n",
       "3                         0.010847                             3.967099   \n",
       "4                         0.027106                             3.916348   \n",
       "\n",
       "   original_gldm_LargeDependenceEmphasis  \\\n",
       "0                             456.983173   \n",
       "1                             585.940648   \n",
       "2                             584.343248   \n",
       "3                             594.497230   \n",
       "4                             594.187317   \n",
       "\n",
       "   original_gldm_LargeDependenceHighGrayLevelEmphasis  \\\n",
       "0                                        1714.810208    \n",
       "1                                        2342.457065    \n",
       "2                                        2336.739325    \n",
       "3                                        2377.642849    \n",
       "4                                        2375.516078    \n",
       "\n",
       "   original_gldm_LargeDependenceLowGrayLevelEmphasis  \\\n",
       "0                                         142.526414   \n",
       "1                                         146.811544   \n",
       "2                                         146.244229   \n",
       "3                                         148.710826   \n",
       "4                                         148.855127   \n",
       "\n",
       "   original_gldm_LowGrayLevelEmphasis  original_gldm_SmallDependenceEmphasis  \\\n",
       "0                            0.406173                               0.005563   \n",
       "1                            0.270363                               0.006518   \n",
       "2                            0.264302                               0.007181   \n",
       "3                            0.258225                               0.004902   \n",
       "4                            0.270913                               0.007222   \n",
       "\n",
       "   original_gldm_SmallDependenceHighGrayLevelEmphasis  \\\n",
       "0                                           0.011679    \n",
       "1                                           0.012337    \n",
       "2                                           0.013216    \n",
       "3                                           0.010811    \n",
       "4                                           0.012956    \n",
       "\n",
       "   original_gldm_SmallDependenceLowGrayLevelEmphasis  \\\n",
       "0                                           0.004033   \n",
       "1                                           0.005064   \n",
       "2                                           0.005672   \n",
       "3                                           0.003424   \n",
       "4                                           0.005788   \n",
       "\n",
       "   original_glrlm_GrayLevelNonUniformity  \\\n",
       "0                            1805.333660   \n",
       "1                            1302.579572   \n",
       "2                            1102.109263   \n",
       "3                            2701.187578   \n",
       "4                             750.787780   \n",
       "\n",
       "   original_glrlm_GrayLevelNonUniformityNormalized  \\\n",
       "0                                         0.503341   \n",
       "1                                         0.694474   \n",
       "2                                         0.764847   \n",
       "3                                         0.841781   \n",
       "4                                         0.674880   \n",
       "\n",
       "   original_glrlm_GrayLevelVariance  original_glrlm_HighGrayLevelRunEmphasis  \\\n",
       "0                          0.248329                                 2.619511   \n",
       "1                          0.152763                                 3.433408   \n",
       "2                          0.117576                                 3.590626   \n",
       "3                          0.079110                                 3.739820   \n",
       "4                          0.162560                                 3.385162   \n",
       "\n",
       "   original_glrlm_LongRunEmphasis  \\\n",
       "0                       36.191087   \n",
       "1                      109.743182   \n",
       "2                      100.817995   \n",
       "3                      125.498739   \n",
       "4                      110.775276   \n",
       "\n",
       "   original_glrlm_LongRunHighGrayLevelEmphasis  \\\n",
       "0                                   137.835476   \n",
       "1                                   438.113168   \n",
       "2                                   402.737100   \n",
       "3                                   501.648278   \n",
       "4                                   442.211336   \n",
       "\n",
       "   original_glrlm_LongRunLowGrayLevelEmphasis  \\\n",
       "0                                   10.779989   \n",
       "1                                   27.650685   \n",
       "2                                   25.338218   \n",
       "3                                   31.461354   \n",
       "4                                   27.916261   \n",
       "\n",
       "   original_glrlm_LowGrayLevelRunEmphasis  original_glrlm_RunEntropy  \\\n",
       "0                                0.595122                   3.865811   \n",
       "1                                0.391648                   4.255471   \n",
       "2                                0.352343                   4.232295   \n",
       "3                                0.315045                   4.412648   \n",
       "4                                0.403709                   4.140589   \n",
       "\n",
       "   original_glrlm_RunLengthNonUniformity  \\\n",
       "0                             677.118614   \n",
       "1                             159.837285   \n",
       "2                             114.255050   \n",
       "3                             212.625994   \n",
       "4                             101.119011   \n",
       "\n",
       "   original_glrlm_RunLengthNonUniformityNormalized  \\\n",
       "0                                         0.184874   \n",
       "1                                         0.084497   \n",
       "2                                         0.079355   \n",
       "3                                         0.065202   \n",
       "4                                         0.091210   \n",
       "\n",
       "   original_glrlm_RunPercentage  original_glrlm_RunVariance  \\\n",
       "0                      0.251409                   19.138811   \n",
       "1                      0.130916                   44.699577   \n",
       "2                      0.130959                   38.588656   \n",
       "3                      0.118981                   48.370607   \n",
       "4                      0.124509                   41.234090   \n",
       "\n",
       "   original_glrlm_ShortRunEmphasis  \\\n",
       "0                         0.409396   \n",
       "1                         0.241148   \n",
       "2                         0.222151   \n",
       "3                         0.161327   \n",
       "4                         0.261101   \n",
       "\n",
       "   original_glrlm_ShortRunHighGrayLevelEmphasis  \\\n",
       "0                                      0.789987   \n",
       "1                                      0.442279   \n",
       "2                                      0.503046   \n",
       "3                                      0.399896   \n",
       "4                                      0.473278   \n",
       "\n",
       "   original_glrlm_ShortRunLowGrayLevelEmphasis  \\\n",
       "0                                     0.314248   \n",
       "1                                     0.190865   \n",
       "2                                     0.151927   \n",
       "3                                     0.101685   \n",
       "4                                     0.208056   \n",
       "\n",
       "   original_glszm_GrayLevelNonUniformity  \\\n",
       "0                              27.545455   \n",
       "1                              78.025000   \n",
       "2                              72.027027   \n",
       "3                              99.019802   \n",
       "4                              56.034483   \n",
       "\n",
       "   original_glszm_GrayLevelNonUniformityNormalized  \\\n",
       "0                                         0.834711   \n",
       "1                                         0.975313   \n",
       "2                                         0.973338   \n",
       "3                                         0.980394   \n",
       "4                                         0.966112   \n",
       "\n",
       "   original_glszm_GrayLevelVariance  original_glszm_HighGrayLevelZoneEmphasis  \\\n",
       "0                          0.082645                                  1.272727   \n",
       "1                          0.012344                                  1.037500   \n",
       "2                          0.013331                                  1.040541   \n",
       "3                          0.009803                                  1.029703   \n",
       "4                          0.016944                                  1.051724   \n",
       "\n",
       "   original_glszm_LargeAreaEmphasis  \\\n",
       "0                       4067578.818   \n",
       "1                       2403756.075   \n",
       "2                       1561963.432   \n",
       "3                       7007670.723   \n",
       "4                       1288913.690   \n",
       "\n",
       "   original_glszm_LargeAreaHighGrayLevelEmphasis  \\\n",
       "0                                   1.565522e+07   \n",
       "1                                   9.614769e+06   \n",
       "2                                   6.247801e+06   \n",
       "3                                   2.803063e+07   \n",
       "4                                   5.155465e+06   \n",
       "\n",
       "   original_glszm_LargeAreaLowGrayLevelEmphasis  \\\n",
       "0                                  1.170667e+06   \n",
       "1                                  6.010027e+05   \n",
       "2                                  3.905040e+05   \n",
       "3                                  1.751932e+06   \n",
       "4                                  3.222760e+05   \n",
       "\n",
       "   original_glszm_LowGrayLevelZoneEmphasis  \\\n",
       "0                                 0.931818   \n",
       "1                                 0.990625   \n",
       "2                                 0.989865   \n",
       "3                                 0.992574   \n",
       "4                                 0.987069   \n",
       "\n",
       "   original_glszm_SizeZoneNonUniformity  \\\n",
       "0                              5.969697   \n",
       "1                             15.850000   \n",
       "2                             20.405405   \n",
       "3                             25.554455   \n",
       "4                             12.551724   \n",
       "\n",
       "   original_glszm_SizeZoneNonUniformityNormalized  \\\n",
       "0                                        0.180900   \n",
       "1                                        0.198125   \n",
       "2                                        0.275749   \n",
       "3                                        0.253014   \n",
       "4                                        0.216409   \n",
       "\n",
       "   original_glszm_SmallAreaEmphasis  \\\n",
       "0                          0.403535   \n",
       "1                          0.444391   \n",
       "2                          0.534549   \n",
       "3                          0.506185   \n",
       "4                          0.462282   \n",
       "\n",
       "   original_glszm_SmallAreaHighGrayLevelEmphasis  \\\n",
       "0                                       0.517172   \n",
       "1                                       0.444391   \n",
       "2                                       0.534549   \n",
       "3                                       0.506185   \n",
       "4                                       0.462282   \n",
       "\n",
       "   original_glszm_SmallAreaLowGrayLevelEmphasis  original_glszm_ZoneEntropy  \\\n",
       "0                                      0.375126                    3.325332   \n",
       "1                                      0.444391                    3.032144   \n",
       "2                                      0.534549                    2.485848   \n",
       "3                                      0.506185                    2.606255   \n",
       "4                                      0.462282                    2.809279   \n",
       "\n",
       "   original_glszm_ZonePercentage  original_glszm_ZoneVariance  \\\n",
       "0                       0.002314                  3880771.500   \n",
       "1                       0.005612                  2372009.744   \n",
       "2                       0.006752                  1540027.421   \n",
       "3                       0.003755                  6936740.794   \n",
       "4                       0.006521                  1265399.054   \n",
       "\n",
       "   original_ngtdm_Busyness  original_ngtdm_Coarseness  \\\n",
       "0               473.464852                   0.000768   \n",
       "1                59.459710                   0.004383   \n",
       "2                33.935384                   0.007584   \n",
       "3                46.859265                   0.005424   \n",
       "4                39.621023                   0.006585   \n",
       "\n",
       "   original_ngtdm_Complexity  original_ngtdm_Contrast  original_ngtdm_Strength  \n",
       "0                   0.182615                 0.030508                 0.000758  \n",
       "1                   0.032012                 0.001006                 0.003685  \n",
       "2                   0.024062                 0.000529                 0.006447  \n",
       "3                   0.013707                 0.000178                 0.004543  \n",
       "4                   0.034148                 0.001083                 0.005626  "
      ]
     },
     "execution_count": 4,
     "metadata": {},
     "output_type": "execute_result"
    }
   ],
   "source": [
    "df.head()"
   ]
  },
  {
   "cell_type": "markdown",
   "id": "28920580",
   "metadata": {},
   "source": [
    "### Target Variable counts"
   ]
  },
  {
   "cell_type": "code",
   "execution_count": 5,
   "id": "5edfb237",
   "metadata": {},
   "outputs": [
    {
     "data": {
      "image/png": "[encoded data removed]",
      "text/plain": [
       "<Figure size 432x288 with 1 Axes>"
      ]
     },
     "metadata": {
      "needs_background": "light"
     },
     "output_type": "display_data"
    }
   ],
   "source": [
    "df['pCR (outcome)'].value_counts().plot(kind='bar')\n",
    "plt.show()"
   ]
  },
  {
   "cell_type": "code",
   "execution_count": 6,
   "id": "5197e117",
   "metadata": {},
   "outputs": [
    {
     "data": {
      "text/plain": [
       "0      299\n",
       "1       96\n",
       "999      5\n",
       "Name: pCR (outcome), dtype: int64"
      ]
     },
     "execution_count": 6,
     "metadata": {},
     "output_type": "execute_result"
    }
   ],
   "source": [
    "df['pCR (outcome)'].value_counts()"
   ]
  },
  {
   "cell_type": "code",
   "execution_count": 7,
   "id": "b0564ca5",
   "metadata": {},
   "outputs": [
    {
     "data": {
      "text/plain": [
       "0      0.7475\n",
       "1      0.2400\n",
       "999    0.0125\n",
       "Name: pCR (outcome), dtype: float64"
      ]
     },
     "execution_count": 7,
     "metadata": {},
     "output_type": "execute_result"
    }
   ],
   "source": [
    "df['pCR (outcome)'].value_counts()/df['pCR (outcome)'].shape[0]"
   ]
  },
  {
   "cell_type": "markdown",
   "id": "6d993be1",
   "metadata": {},
   "source": [
    "**Taking only `pCR (outcome)` 0 and 1**"
   ]
  },
  {
   "cell_type": "code",
   "execution_count": 8,
   "id": "642cece4",
   "metadata": {},
   "outputs": [],
   "source": [
    "df = df[df['pCR (outcome)']!=999]"
   ]
  },
  {
   "cell_type": "code",
   "execution_count": 9,
   "id": "512de5de",
   "metadata": {},
   "outputs": [
    {
     "data": {
      "text/html": [
       "<div>\n",
       "<style scoped>\n",
       "    .dataframe tbody tr th:only-of-type {\n",
       "        vertical-align: middle;\n",
       "    }\n",
       "\n",
       "    .dataframe tbody tr th {\n",
       "        vertical-align: top;\n",
       "    }\n",
       "\n",
       "    .dataframe thead th {\n",
       "        text-align: right;\n",
       "    }\n",
       "</style>\n",
       "<table border=\"1\" class=\"dataframe\">\n",
       "  <thead>\n",
       "    <tr style=\"text-align: right;\">\n",
       "      <th></th>\n",
       "      <th>ID</th>\n",
       "      <th>pCR (outcome)</th>\n",
       "      <th>RelapseFreeSurvival (outcome)</th>\n",
       "      <th>Age</th>\n",
       "      <th>ER</th>\n",
       "      <th>PgR</th>\n",
       "      <th>HER2</th>\n",
       "      <th>TrippleNegative</th>\n",
       "      <th>ChemoGrade</th>\n",
       "      <th>Proliferation</th>\n",
       "      <th>HistologyType</th>\n",
       "      <th>LNStatus</th>\n",
       "      <th>TumourStage</th>\n",
       "      <th>original_shape_Elongation</th>\n",
       "      <th>original_shape_Flatness</th>\n",
       "      <th>original_shape_LeastAxisLength</th>\n",
       "      <th>original_shape_MajorAxisLength</th>\n",
       "      <th>original_shape_Maximum2DDiameterColumn</th>\n",
       "      <th>original_shape_Maximum2DDiameterRow</th>\n",
       "      <th>original_shape_Maximum2DDiameterSlice</th>\n",
       "      <th>original_shape_Maximum3DDiameter</th>\n",
       "      <th>original_shape_MeshVolume</th>\n",
       "      <th>original_shape_MinorAxisLength</th>\n",
       "      <th>original_shape_Sphericity</th>\n",
       "      <th>original_shape_SurfaceArea</th>\n",
       "      <th>original_shape_SurfaceVolumeRatio</th>\n",
       "      <th>original_shape_VoxelVolume</th>\n",
       "      <th>original_firstorder_10Percentile</th>\n",
       "      <th>original_firstorder_90Percentile</th>\n",
       "      <th>original_firstorder_Energy</th>\n",
       "      <th>original_firstorder_Entropy</th>\n",
       "      <th>original_firstorder_InterquartileRange</th>\n",
       "      <th>original_firstorder_Kurtosis</th>\n",
       "      <th>original_firstorder_Maximum</th>\n",
       "      <th>original_firstorder_MeanAbsoluteDeviation</th>\n",
       "      <th>original_firstorder_Mean</th>\n",
       "      <th>original_firstorder_Median</th>\n",
       "      <th>original_firstorder_Minimum</th>\n",
       "      <th>original_firstorder_Range</th>\n",
       "      <th>original_firstorder_RobustMeanAbsoluteDeviation</th>\n",
       "      <th>original_firstorder_RootMeanSquared</th>\n",
       "      <th>original_firstorder_Skewness</th>\n",
       "      <th>original_firstorder_TotalEnergy</th>\n",
       "      <th>original_firstorder_Uniformity</th>\n",
       "      <th>original_firstorder_Variance</th>\n",
       "      <th>original_glcm_Autocorrelation</th>\n",
       "      <th>original_glcm_ClusterProminence</th>\n",
       "      <th>original_glcm_ClusterShade</th>\n",
       "      <th>original_glcm_ClusterTendency</th>\n",
       "      <th>original_glcm_Contrast</th>\n",
       "      <th>original_glcm_Correlation</th>\n",
       "      <th>original_glcm_DifferenceAverage</th>\n",
       "      <th>original_glcm_DifferenceEntropy</th>\n",
       "      <th>original_glcm_DifferenceVariance</th>\n",
       "      <th>original_glcm_Id</th>\n",
       "      <th>original_glcm_Idm</th>\n",
       "      <th>original_glcm_Idmn</th>\n",
       "      <th>original_glcm_Idn</th>\n",
       "      <th>original_glcm_Imc1</th>\n",
       "      <th>original_glcm_Imc2</th>\n",
       "      <th>original_glcm_InverseVariance</th>\n",
       "      <th>original_glcm_JointAverage</th>\n",
       "      <th>original_glcm_JointEnergy</th>\n",
       "      <th>original_glcm_JointEntropy</th>\n",
       "      <th>original_glcm_MCC</th>\n",
       "      <th>original_glcm_MaximumProbability</th>\n",
       "      <th>original_glcm_SumAverage</th>\n",
       "      <th>original_glcm_SumEntropy</th>\n",
       "      <th>original_glcm_SumSquares</th>\n",
       "      <th>original_gldm_DependenceEntropy</th>\n",
       "      <th>original_gldm_DependenceNonUniformity</th>\n",
       "      <th>original_gldm_DependenceNonUniformityNormalized</th>\n",
       "      <th>original_gldm_DependenceVariance</th>\n",
       "      <th>original_gldm_GrayLevelNonUniformity</th>\n",
       "      <th>original_gldm_GrayLevelVariance</th>\n",
       "      <th>original_gldm_HighGrayLevelEmphasis</th>\n",
       "      <th>original_gldm_LargeDependenceEmphasis</th>\n",
       "      <th>original_gldm_LargeDependenceHighGrayLevelEmphasis</th>\n",
       "      <th>original_gldm_LargeDependenceLowGrayLevelEmphasis</th>\n",
       "      <th>original_gldm_LowGrayLevelEmphasis</th>\n",
       "      <th>original_gldm_SmallDependenceEmphasis</th>\n",
       "      <th>original_gldm_SmallDependenceHighGrayLevelEmphasis</th>\n",
       "      <th>original_gldm_SmallDependenceLowGrayLevelEmphasis</th>\n",
       "      <th>original_glrlm_GrayLevelNonUniformity</th>\n",
       "      <th>original_glrlm_GrayLevelNonUniformityNormalized</th>\n",
       "      <th>original_glrlm_GrayLevelVariance</th>\n",
       "      <th>original_glrlm_HighGrayLevelRunEmphasis</th>\n",
       "      <th>original_glrlm_LongRunEmphasis</th>\n",
       "      <th>original_glrlm_LongRunHighGrayLevelEmphasis</th>\n",
       "      <th>original_glrlm_LongRunLowGrayLevelEmphasis</th>\n",
       "      <th>original_glrlm_LowGrayLevelRunEmphasis</th>\n",
       "      <th>original_glrlm_RunEntropy</th>\n",
       "      <th>original_glrlm_RunLengthNonUniformity</th>\n",
       "      <th>original_glrlm_RunLengthNonUniformityNormalized</th>\n",
       "      <th>original_glrlm_RunPercentage</th>\n",
       "      <th>original_glrlm_RunVariance</th>\n",
       "      <th>original_glrlm_ShortRunEmphasis</th>\n",
       "      <th>original_glrlm_ShortRunHighGrayLevelEmphasis</th>\n",
       "      <th>original_glrlm_ShortRunLowGrayLevelEmphasis</th>\n",
       "      <th>original_glszm_GrayLevelNonUniformity</th>\n",
       "      <th>original_glszm_GrayLevelNonUniformityNormalized</th>\n",
       "      <th>original_glszm_GrayLevelVariance</th>\n",
       "      <th>original_glszm_HighGrayLevelZoneEmphasis</th>\n",
       "      <th>original_glszm_LargeAreaEmphasis</th>\n",
       "      <th>original_glszm_LargeAreaHighGrayLevelEmphasis</th>\n",
       "      <th>original_glszm_LargeAreaLowGrayLevelEmphasis</th>\n",
       "      <th>original_glszm_LowGrayLevelZoneEmphasis</th>\n",
       "      <th>original_glszm_SizeZoneNonUniformity</th>\n",
       "      <th>original_glszm_SizeZoneNonUniformityNormalized</th>\n",
       "      <th>original_glszm_SmallAreaEmphasis</th>\n",
       "      <th>original_glszm_SmallAreaHighGrayLevelEmphasis</th>\n",
       "      <th>original_glszm_SmallAreaLowGrayLevelEmphasis</th>\n",
       "      <th>original_glszm_ZoneEntropy</th>\n",
       "      <th>original_glszm_ZonePercentage</th>\n",
       "      <th>original_glszm_ZoneVariance</th>\n",
       "      <th>original_ngtdm_Busyness</th>\n",
       "      <th>original_ngtdm_Coarseness</th>\n",
       "      <th>original_ngtdm_Complexity</th>\n",
       "      <th>original_ngtdm_Contrast</th>\n",
       "      <th>original_ngtdm_Strength</th>\n",
       "    </tr>\n",
       "  </thead>\n",
       "  <tbody>\n",
       "    <tr>\n",
       "      <th>0</th>\n",
       "      <td>TRG002174</td>\n",
       "      <td>1</td>\n",
       "      <td>144.0</td>\n",
       "      <td>41.0</td>\n",
       "      <td>0</td>\n",
       "      <td>0</td>\n",
       "      <td>0</td>\n",
       "      <td>1</td>\n",
       "      <td>3</td>\n",
       "      <td>3</td>\n",
       "      <td>1</td>\n",
       "      <td>1</td>\n",
       "      <td>2</td>\n",
       "      <td>0.813912</td>\n",
       "      <td>0.724080</td>\n",
       "      <td>23.781937</td>\n",
       "      <td>32.844370</td>\n",
       "      <td>37.696154</td>\n",
       "      <td>38.626416</td>\n",
       "      <td>34.713110</td>\n",
       "      <td>39.572718</td>\n",
       "      <td>14209.458330</td>\n",
       "      <td>26.732440</td>\n",
       "      <td>0.771675</td>\n",
       "      <td>3676.500012</td>\n",
       "      <td>0.258736</td>\n",
       "      <td>14263</td>\n",
       "      <td>-0.163500</td>\n",
       "      <td>0.708860</td>\n",
       "      <td>2897.68930</td>\n",
       "      <td>0.738088</td>\n",
       "      <td>0.406537</td>\n",
       "      <td>4.594629</td>\n",
       "      <td>2.114799</td>\n",
       "      <td>0.278008</td>\n",
       "      <td>0.248168</td>\n",
       "      <td>0.217628</td>\n",
       "      <td>-1.251833</td>\n",
       "      <td>3.366632</td>\n",
       "      <td>0.174026</td>\n",
       "      <td>0.450734</td>\n",
       "      <td>0.386237</td>\n",
       "      <td>2897.68930</td>\n",
       "      <td>0.670258</td>\n",
       "      <td>0.141574</td>\n",
       "      <td>3.328814</td>\n",
       "      <td>0.725849</td>\n",
       "      <td>-0.425324</td>\n",
       "      <td>0.438760</td>\n",
       "      <td>0.184265</td>\n",
       "      <td>0.407895</td>\n",
       "      <td>0.184265</td>\n",
       "      <td>0.685680</td>\n",
       "      <td>0.149585</td>\n",
       "      <td>0.907867</td>\n",
       "      <td>0.907867</td>\n",
       "      <td>0.963147</td>\n",
       "      <td>0.938578</td>\n",
       "      <td>-0.149786</td>\n",
       "      <td>0.425720</td>\n",
       "      <td>0.184265</td>\n",
       "      <td>1.806982</td>\n",
       "      <td>0.538903</td>\n",
       "      <td>1.309203</td>\n",
       "      <td>0.407895</td>\n",
       "      <td>0.714849</td>\n",
       "      <td>3.613964</td>\n",
       "      <td>1.124938</td>\n",
       "      <td>0.155756</td>\n",
       "      <td>4.529461</td>\n",
       "      <td>1164.363949</td>\n",
       "      <td>0.081635</td>\n",
       "      <td>38.233794</td>\n",
       "      <td>9559.892659</td>\n",
       "      <td>0.164871</td>\n",
       "      <td>3.375307</td>\n",
       "      <td>456.983173</td>\n",
       "      <td>1714.810208</td>\n",
       "      <td>142.526414</td>\n",
       "      <td>0.406173</td>\n",
       "      <td>0.005563</td>\n",
       "      <td>0.011679</td>\n",
       "      <td>0.004033</td>\n",
       "      <td>1805.333660</td>\n",
       "      <td>0.503341</td>\n",
       "      <td>0.248329</td>\n",
       "      <td>2.619511</td>\n",
       "      <td>36.191087</td>\n",
       "      <td>137.835476</td>\n",
       "      <td>10.779989</td>\n",
       "      <td>0.595122</td>\n",
       "      <td>3.865811</td>\n",
       "      <td>677.118614</td>\n",
       "      <td>0.184874</td>\n",
       "      <td>0.251409</td>\n",
       "      <td>19.138811</td>\n",
       "      <td>0.409396</td>\n",
       "      <td>0.789987</td>\n",
       "      <td>0.314248</td>\n",
       "      <td>27.545455</td>\n",
       "      <td>0.834711</td>\n",
       "      <td>0.082645</td>\n",
       "      <td>1.272727</td>\n",
       "      <td>4067578.818</td>\n",
       "      <td>1.565522e+07</td>\n",
       "      <td>1.170667e+06</td>\n",
       "      <td>0.931818</td>\n",
       "      <td>5.969697</td>\n",
       "      <td>0.180900</td>\n",
       "      <td>0.403535</td>\n",
       "      <td>0.517172</td>\n",
       "      <td>0.375126</td>\n",
       "      <td>3.325332</td>\n",
       "      <td>0.002314</td>\n",
       "      <td>3880771.500</td>\n",
       "      <td>473.464852</td>\n",
       "      <td>0.000768</td>\n",
       "      <td>0.182615</td>\n",
       "      <td>0.030508</td>\n",
       "      <td>0.000758</td>\n",
       "    </tr>\n",
       "    <tr>\n",
       "      <th>1</th>\n",
       "      <td>TRG002178</td>\n",
       "      <td>0</td>\n",
       "      <td>142.0</td>\n",
       "      <td>39.0</td>\n",
       "      <td>1</td>\n",
       "      <td>1</td>\n",
       "      <td>0</td>\n",
       "      <td>0</td>\n",
       "      <td>3</td>\n",
       "      <td>3</td>\n",
       "      <td>1</td>\n",
       "      <td>1</td>\n",
       "      <td>2</td>\n",
       "      <td>0.666118</td>\n",
       "      <td>0.476173</td>\n",
       "      <td>20.715461</td>\n",
       "      <td>43.504095</td>\n",
       "      <td>51.971146</td>\n",
       "      <td>41.761226</td>\n",
       "      <td>36.400549</td>\n",
       "      <td>53.310412</td>\n",
       "      <td>14202.708330</td>\n",
       "      <td>28.978871</td>\n",
       "      <td>0.603481</td>\n",
       "      <td>4699.678466</td>\n",
       "      <td>0.330900</td>\n",
       "      <td>14254</td>\n",
       "      <td>0.665558</td>\n",
       "      <td>2.322627</td>\n",
       "      <td>41105.32510</td>\n",
       "      <td>0.179893</td>\n",
       "      <td>0.730463</td>\n",
       "      <td>3.884960</td>\n",
       "      <td>3.857952</td>\n",
       "      <td>0.499454</td>\n",
       "      <td>1.562901</td>\n",
       "      <td>1.632745</td>\n",
       "      <td>-1.106491</td>\n",
       "      <td>4.964442</td>\n",
       "      <td>0.318599</td>\n",
       "      <td>1.698168</td>\n",
       "      <td>-0.634246</td>\n",
       "      <td>41105.32510</td>\n",
       "      <td>0.947174</td>\n",
       "      <td>0.441115</td>\n",
       "      <td>3.934749</td>\n",
       "      <td>0.070286</td>\n",
       "      <td>-0.048574</td>\n",
       "      <td>0.039166</td>\n",
       "      <td>0.027998</td>\n",
       "      <td>0.157776</td>\n",
       "      <td>0.027998</td>\n",
       "      <td>0.183795</td>\n",
       "      <td>0.027197</td>\n",
       "      <td>0.986001</td>\n",
       "      <td>0.986001</td>\n",
       "      <td>0.994400</td>\n",
       "      <td>0.990667</td>\n",
       "      <td>-0.070082</td>\n",
       "      <td>0.105206</td>\n",
       "      <td>0.027998</td>\n",
       "      <td>1.982916</td>\n",
       "      <td>0.939221</td>\n",
       "      <td>0.240095</td>\n",
       "      <td>0.157776</td>\n",
       "      <td>0.968917</td>\n",
       "      <td>3.965832</td>\n",
       "      <td>0.212098</td>\n",
       "      <td>0.016791</td>\n",
       "      <td>2.799725</td>\n",
       "      <td>4650.251438</td>\n",
       "      <td>0.326242</td>\n",
       "      <td>29.160771</td>\n",
       "      <td>13501.014310</td>\n",
       "      <td>0.026413</td>\n",
       "      <td>3.918549</td>\n",
       "      <td>585.940648</td>\n",
       "      <td>2342.457065</td>\n",
       "      <td>146.811544</td>\n",
       "      <td>0.270363</td>\n",
       "      <td>0.006518</td>\n",
       "      <td>0.012337</td>\n",
       "      <td>0.005064</td>\n",
       "      <td>1302.579572</td>\n",
       "      <td>0.694474</td>\n",
       "      <td>0.152763</td>\n",
       "      <td>3.433408</td>\n",
       "      <td>109.743182</td>\n",
       "      <td>438.113168</td>\n",
       "      <td>27.650685</td>\n",
       "      <td>0.391648</td>\n",
       "      <td>4.255471</td>\n",
       "      <td>159.837285</td>\n",
       "      <td>0.084497</td>\n",
       "      <td>0.130916</td>\n",
       "      <td>44.699577</td>\n",
       "      <td>0.241148</td>\n",
       "      <td>0.442279</td>\n",
       "      <td>0.190865</td>\n",
       "      <td>78.025000</td>\n",
       "      <td>0.975313</td>\n",
       "      <td>0.012344</td>\n",
       "      <td>1.037500</td>\n",
       "      <td>2403756.075</td>\n",
       "      <td>9.614769e+06</td>\n",
       "      <td>6.010027e+05</td>\n",
       "      <td>0.990625</td>\n",
       "      <td>15.850000</td>\n",
       "      <td>0.198125</td>\n",
       "      <td>0.444391</td>\n",
       "      <td>0.444391</td>\n",
       "      <td>0.444391</td>\n",
       "      <td>3.032144</td>\n",
       "      <td>0.005612</td>\n",
       "      <td>2372009.744</td>\n",
       "      <td>59.459710</td>\n",
       "      <td>0.004383</td>\n",
       "      <td>0.032012</td>\n",
       "      <td>0.001006</td>\n",
       "      <td>0.003685</td>\n",
       "    </tr>\n",
       "    <tr>\n",
       "      <th>2</th>\n",
       "      <td>TRG002204</td>\n",
       "      <td>1</td>\n",
       "      <td>135.0</td>\n",
       "      <td>31.0</td>\n",
       "      <td>0</td>\n",
       "      <td>0</td>\n",
       "      <td>0</td>\n",
       "      <td>1</td>\n",
       "      <td>2</td>\n",
       "      <td>1</td>\n",
       "      <td>1</td>\n",
       "      <td>0</td>\n",
       "      <td>2</td>\n",
       "      <td>0.645083</td>\n",
       "      <td>0.594470</td>\n",
       "      <td>21.659822</td>\n",
       "      <td>36.435505</td>\n",
       "      <td>32.984845</td>\n",
       "      <td>40.447497</td>\n",
       "      <td>42.379240</td>\n",
       "      <td>44.384682</td>\n",
       "      <td>10858.375000</td>\n",
       "      <td>23.503921</td>\n",
       "      <td>0.608183</td>\n",
       "      <td>3899.055524</td>\n",
       "      <td>0.359083</td>\n",
       "      <td>10960</td>\n",
       "      <td>0.638035</td>\n",
       "      <td>1.961740</td>\n",
       "      <td>19774.94893</td>\n",
       "      <td>0.136183</td>\n",
       "      <td>0.509910</td>\n",
       "      <td>4.760064</td>\n",
       "      <td>3.841710</td>\n",
       "      <td>0.400199</td>\n",
       "      <td>1.219685</td>\n",
       "      <td>1.153095</td>\n",
       "      <td>-1.025610</td>\n",
       "      <td>4.867321</td>\n",
       "      <td>0.231278</td>\n",
       "      <td>1.343236</td>\n",
       "      <td>0.545105</td>\n",
       "      <td>19774.94893</td>\n",
       "      <td>0.962589</td>\n",
       "      <td>0.316651</td>\n",
       "      <td>3.955045</td>\n",
       "      <td>0.043376</td>\n",
       "      <td>-0.031359</td>\n",
       "      <td>0.026057</td>\n",
       "      <td>0.020003</td>\n",
       "      <td>0.131035</td>\n",
       "      <td>0.020003</td>\n",
       "      <td>0.141291</td>\n",
       "      <td>0.019599</td>\n",
       "      <td>0.989998</td>\n",
       "      <td>0.989998</td>\n",
       "      <td>0.995999</td>\n",
       "      <td>0.993332</td>\n",
       "      <td>-0.048997</td>\n",
       "      <td>0.086544</td>\n",
       "      <td>0.020003</td>\n",
       "      <td>1.988349</td>\n",
       "      <td>0.957372</td>\n",
       "      <td>0.178540</td>\n",
       "      <td>0.131035</td>\n",
       "      <td>0.978347</td>\n",
       "      <td>3.976698</td>\n",
       "      <td>0.158537</td>\n",
       "      <td>0.011515</td>\n",
       "      <td>2.863091</td>\n",
       "      <td>3374.309307</td>\n",
       "      <td>0.307875</td>\n",
       "      <td>27.615779</td>\n",
       "      <td>10549.970990</td>\n",
       "      <td>0.018706</td>\n",
       "      <td>3.942792</td>\n",
       "      <td>584.343248</td>\n",
       "      <td>2336.739325</td>\n",
       "      <td>146.244229</td>\n",
       "      <td>0.264302</td>\n",
       "      <td>0.007181</td>\n",
       "      <td>0.013216</td>\n",
       "      <td>0.005672</td>\n",
       "      <td>1102.109263</td>\n",
       "      <td>0.764847</td>\n",
       "      <td>0.117576</td>\n",
       "      <td>3.590626</td>\n",
       "      <td>100.817995</td>\n",
       "      <td>402.737100</td>\n",
       "      <td>25.338218</td>\n",
       "      <td>0.352343</td>\n",
       "      <td>4.232295</td>\n",
       "      <td>114.255050</td>\n",
       "      <td>0.079355</td>\n",
       "      <td>0.130959</td>\n",
       "      <td>38.588656</td>\n",
       "      <td>0.222151</td>\n",
       "      <td>0.503046</td>\n",
       "      <td>0.151927</td>\n",
       "      <td>72.027027</td>\n",
       "      <td>0.973338</td>\n",
       "      <td>0.013331</td>\n",
       "      <td>1.040541</td>\n",
       "      <td>1561963.432</td>\n",
       "      <td>6.247801e+06</td>\n",
       "      <td>3.905040e+05</td>\n",
       "      <td>0.989865</td>\n",
       "      <td>20.405405</td>\n",
       "      <td>0.275749</td>\n",
       "      <td>0.534549</td>\n",
       "      <td>0.534549</td>\n",
       "      <td>0.534549</td>\n",
       "      <td>2.485848</td>\n",
       "      <td>0.006752</td>\n",
       "      <td>1540027.421</td>\n",
       "      <td>33.935384</td>\n",
       "      <td>0.007584</td>\n",
       "      <td>0.024062</td>\n",
       "      <td>0.000529</td>\n",
       "      <td>0.006447</td>\n",
       "    </tr>\n",
       "    <tr>\n",
       "      <th>3</th>\n",
       "      <td>TRG002206</td>\n",
       "      <td>0</td>\n",
       "      <td>12.0</td>\n",
       "      <td>35.0</td>\n",
       "      <td>0</td>\n",
       "      <td>0</td>\n",
       "      <td>0</td>\n",
       "      <td>1</td>\n",
       "      <td>3</td>\n",
       "      <td>3</td>\n",
       "      <td>1</td>\n",
       "      <td>1</td>\n",
       "      <td>3</td>\n",
       "      <td>0.770842</td>\n",
       "      <td>0.501228</td>\n",
       "      <td>26.590504</td>\n",
       "      <td>53.050724</td>\n",
       "      <td>66.910388</td>\n",
       "      <td>44.944410</td>\n",
       "      <td>66.760767</td>\n",
       "      <td>69.000000</td>\n",
       "      <td>26748.208330</td>\n",
       "      <td>40.893735</td>\n",
       "      <td>0.474509</td>\n",
       "      <td>9115.275207</td>\n",
       "      <td>0.340781</td>\n",
       "      <td>26899</td>\n",
       "      <td>0.759496</td>\n",
       "      <td>2.164869</td>\n",
       "      <td>72854.17151</td>\n",
       "      <td>0.087137</td>\n",
       "      <td>0.740609</td>\n",
       "      <td>3.421056</td>\n",
       "      <td>3.030400</td>\n",
       "      <td>0.442713</td>\n",
       "      <td>1.549668</td>\n",
       "      <td>1.660720</td>\n",
       "      <td>-0.851106</td>\n",
       "      <td>3.881506</td>\n",
       "      <td>0.309734</td>\n",
       "      <td>1.645732</td>\n",
       "      <td>-0.792678</td>\n",
       "      <td>72854.17151</td>\n",
       "      <td>0.978307</td>\n",
       "      <td>0.306963</td>\n",
       "      <td>3.973627</td>\n",
       "      <td>0.025128</td>\n",
       "      <td>-0.018371</td>\n",
       "      <td>0.015236</td>\n",
       "      <td>0.011845</td>\n",
       "      <td>0.122613</td>\n",
       "      <td>0.011845</td>\n",
       "      <td>0.092635</td>\n",
       "      <td>0.011702</td>\n",
       "      <td>0.994078</td>\n",
       "      <td>0.994078</td>\n",
       "      <td>0.997631</td>\n",
       "      <td>0.996052</td>\n",
       "      <td>-0.056651</td>\n",
       "      <td>0.065831</td>\n",
       "      <td>0.011845</td>\n",
       "      <td>1.993183</td>\n",
       "      <td>0.974758</td>\n",
       "      <td>0.114284</td>\n",
       "      <td>0.122613</td>\n",
       "      <td>0.987261</td>\n",
       "      <td>3.986367</td>\n",
       "      <td>0.102439</td>\n",
       "      <td>0.006770</td>\n",
       "      <td>2.756432</td>\n",
       "      <td>8662.085096</td>\n",
       "      <td>0.322023</td>\n",
       "      <td>22.976388</td>\n",
       "      <td>26315.470500</td>\n",
       "      <td>0.010847</td>\n",
       "      <td>3.967099</td>\n",
       "      <td>594.497230</td>\n",
       "      <td>2377.642849</td>\n",
       "      <td>148.710826</td>\n",
       "      <td>0.258225</td>\n",
       "      <td>0.004902</td>\n",
       "      <td>0.010811</td>\n",
       "      <td>0.003424</td>\n",
       "      <td>2701.187578</td>\n",
       "      <td>0.841781</td>\n",
       "      <td>0.079110</td>\n",
       "      <td>3.739820</td>\n",
       "      <td>125.498739</td>\n",
       "      <td>501.648278</td>\n",
       "      <td>31.461354</td>\n",
       "      <td>0.315045</td>\n",
       "      <td>4.412648</td>\n",
       "      <td>212.625994</td>\n",
       "      <td>0.065202</td>\n",
       "      <td>0.118981</td>\n",
       "      <td>48.370607</td>\n",
       "      <td>0.161327</td>\n",
       "      <td>0.399896</td>\n",
       "      <td>0.101685</td>\n",
       "      <td>99.019802</td>\n",
       "      <td>0.980394</td>\n",
       "      <td>0.009803</td>\n",
       "      <td>1.029703</td>\n",
       "      <td>7007670.723</td>\n",
       "      <td>2.803063e+07</td>\n",
       "      <td>1.751932e+06</td>\n",
       "      <td>0.992574</td>\n",
       "      <td>25.554455</td>\n",
       "      <td>0.253014</td>\n",
       "      <td>0.506185</td>\n",
       "      <td>0.506185</td>\n",
       "      <td>0.506185</td>\n",
       "      <td>2.606255</td>\n",
       "      <td>0.003755</td>\n",
       "      <td>6936740.794</td>\n",
       "      <td>46.859265</td>\n",
       "      <td>0.005424</td>\n",
       "      <td>0.013707</td>\n",
       "      <td>0.000178</td>\n",
       "      <td>0.004543</td>\n",
       "    </tr>\n",
       "    <tr>\n",
       "      <th>4</th>\n",
       "      <td>TRG002210</td>\n",
       "      <td>0</td>\n",
       "      <td>109.0</td>\n",
       "      <td>61.0</td>\n",
       "      <td>1</td>\n",
       "      <td>0</td>\n",
       "      <td>0</td>\n",
       "      <td>0</td>\n",
       "      <td>2</td>\n",
       "      <td>1</td>\n",
       "      <td>1</td>\n",
       "      <td>0</td>\n",
       "      <td>2</td>\n",
       "      <td>0.861035</td>\n",
       "      <td>0.750267</td>\n",
       "      <td>20.456571</td>\n",
       "      <td>27.265716</td>\n",
       "      <td>33.241540</td>\n",
       "      <td>30.594117</td>\n",
       "      <td>31.384710</td>\n",
       "      <td>35.042831</td>\n",
       "      <td>8846.541667</td>\n",
       "      <td>23.476732</td>\n",
       "      <td>0.756228</td>\n",
       "      <td>2735.354881</td>\n",
       "      <td>0.309200</td>\n",
       "      <td>8894</td>\n",
       "      <td>0.434385</td>\n",
       "      <td>1.832410</td>\n",
       "      <td>15697.30914</td>\n",
       "      <td>0.183666</td>\n",
       "      <td>0.787978</td>\n",
       "      <td>3.107181</td>\n",
       "      <td>2.315364</td>\n",
       "      <td>0.447799</td>\n",
       "      <td>1.209800</td>\n",
       "      <td>1.311328</td>\n",
       "      <td>-0.866201</td>\n",
       "      <td>3.181566</td>\n",
       "      <td>0.324996</td>\n",
       "      <td>1.328508</td>\n",
       "      <td>-0.732889</td>\n",
       "      <td>15697.30914</td>\n",
       "      <td>0.945787</td>\n",
       "      <td>0.301317</td>\n",
       "      <td>3.933264</td>\n",
       "      <td>0.069301</td>\n",
       "      <td>-0.048455</td>\n",
       "      <td>0.039564</td>\n",
       "      <td>0.028921</td>\n",
       "      <td>0.155224</td>\n",
       "      <td>0.028921</td>\n",
       "      <td>0.188503</td>\n",
       "      <td>0.028068</td>\n",
       "      <td>0.985540</td>\n",
       "      <td>0.985540</td>\n",
       "      <td>0.994216</td>\n",
       "      <td>0.990360</td>\n",
       "      <td>-0.061986</td>\n",
       "      <td>0.106835</td>\n",
       "      <td>0.028921</td>\n",
       "      <td>1.982575</td>\n",
       "      <td>0.937690</td>\n",
       "      <td>0.245543</td>\n",
       "      <td>0.155224</td>\n",
       "      <td>0.968114</td>\n",
       "      <td>3.965150</td>\n",
       "      <td>0.216623</td>\n",
       "      <td>0.017121</td>\n",
       "      <td>2.676170</td>\n",
       "      <td>3195.159883</td>\n",
       "      <td>0.359249</td>\n",
       "      <td>29.518487</td>\n",
       "      <td>8411.830447</td>\n",
       "      <td>0.027106</td>\n",
       "      <td>3.916348</td>\n",
       "      <td>594.187317</td>\n",
       "      <td>2375.516078</td>\n",
       "      <td>148.855127</td>\n",
       "      <td>0.270913</td>\n",
       "      <td>0.007222</td>\n",
       "      <td>0.012956</td>\n",
       "      <td>0.005788</td>\n",
       "      <td>750.787780</td>\n",
       "      <td>0.674880</td>\n",
       "      <td>0.162560</td>\n",
       "      <td>3.385162</td>\n",
       "      <td>110.775276</td>\n",
       "      <td>442.211336</td>\n",
       "      <td>27.916261</td>\n",
       "      <td>0.403709</td>\n",
       "      <td>4.140589</td>\n",
       "      <td>101.119011</td>\n",
       "      <td>0.091210</td>\n",
       "      <td>0.124509</td>\n",
       "      <td>41.234090</td>\n",
       "      <td>0.261101</td>\n",
       "      <td>0.473278</td>\n",
       "      <td>0.208056</td>\n",
       "      <td>56.034483</td>\n",
       "      <td>0.966112</td>\n",
       "      <td>0.016944</td>\n",
       "      <td>1.051724</td>\n",
       "      <td>1288913.690</td>\n",
       "      <td>5.155465e+06</td>\n",
       "      <td>3.222760e+05</td>\n",
       "      <td>0.987069</td>\n",
       "      <td>12.551724</td>\n",
       "      <td>0.216409</td>\n",
       "      <td>0.462282</td>\n",
       "      <td>0.462282</td>\n",
       "      <td>0.462282</td>\n",
       "      <td>2.809279</td>\n",
       "      <td>0.006521</td>\n",
       "      <td>1265399.054</td>\n",
       "      <td>39.621023</td>\n",
       "      <td>0.006585</td>\n",
       "      <td>0.034148</td>\n",
       "      <td>0.001083</td>\n",
       "      <td>0.005626</td>\n",
       "    </tr>\n",
       "  </tbody>\n",
       "</table>\n",
       "</div>"
      ],
      "text/plain": [
       "          ID  pCR (outcome)  RelapseFreeSurvival (outcome)   Age  ER  PgR  \\\n",
       "0  TRG002174              1                          144.0  41.0   0    0   \n",
       "1  TRG002178              0                          142.0  39.0   1    1   \n",
       "2  TRG002204              1                          135.0  31.0   0    0   \n",
       "3  TRG002206              0                           12.0  35.0   0    0   \n",
       "4  TRG002210              0                          109.0  61.0   1    0   \n",
       "\n",
       "   HER2  TrippleNegative  ChemoGrade  Proliferation  HistologyType  LNStatus  \\\n",
       "0     0                1           3              3              1         1   \n",
       "1     0                0           3              3              1         1   \n",
       "2     0                1           2              1              1         0   \n",
       "3     0                1           3              3              1         1   \n",
       "4     0                0           2              1              1         0   \n",
       "\n",
       "   TumourStage  original_shape_Elongation  original_shape_Flatness  \\\n",
       "0            2                   0.813912                 0.724080   \n",
       "1            2                   0.666118                 0.476173   \n",
       "2            2                   0.645083                 0.594470   \n",
       "3            3                   0.770842                 0.501228   \n",
       "4            2                   0.861035                 0.750267   \n",
       "\n",
       "   original_shape_LeastAxisLength  original_shape_MajorAxisLength  \\\n",
       "0                       23.781937                       32.844370   \n",
       "1                       20.715461                       43.504095   \n",
       "2                       21.659822                       36.435505   \n",
       "3                       26.590504                       53.050724   \n",
       "4                       20.456571                       27.265716   \n",
       "\n",
       "   original_shape_Maximum2DDiameterColumn  \\\n",
       "0                               37.696154   \n",
       "1                               51.971146   \n",
       "2                               32.984845   \n",
       "3                               66.910388   \n",
       "4                               33.241540   \n",
       "\n",
       "   original_shape_Maximum2DDiameterRow  original_shape_Maximum2DDiameterSlice  \\\n",
       "0                            38.626416                              34.713110   \n",
       "1                            41.761226                              36.400549   \n",
       "2                            40.447497                              42.379240   \n",
       "3                            44.944410                              66.760767   \n",
       "4                            30.594117                              31.384710   \n",
       "\n",
       "   original_shape_Maximum3DDiameter  original_shape_MeshVolume  \\\n",
       "0                         39.572718               14209.458330   \n",
       "1                         53.310412               14202.708330   \n",
       "2                         44.384682               10858.375000   \n",
       "3                         69.000000               26748.208330   \n",
       "4                         35.042831                8846.541667   \n",
       "\n",
       "   original_shape_MinorAxisLength  original_shape_Sphericity  \\\n",
       "0                       26.732440                   0.771675   \n",
       "1                       28.978871                   0.603481   \n",
       "2                       23.503921                   0.608183   \n",
       "3                       40.893735                   0.474509   \n",
       "4                       23.476732                   0.756228   \n",
       "\n",
       "   original_shape_SurfaceArea  original_shape_SurfaceVolumeRatio  \\\n",
       "0                 3676.500012                           0.258736   \n",
       "1                 4699.678466                           0.330900   \n",
       "2                 3899.055524                           0.359083   \n",
       "3                 9115.275207                           0.340781   \n",
       "4                 2735.354881                           0.309200   \n",
       "\n",
       "   original_shape_VoxelVolume  original_firstorder_10Percentile  \\\n",
       "0                       14263                         -0.163500   \n",
       "1                       14254                          0.665558   \n",
       "2                       10960                          0.638035   \n",
       "3                       26899                          0.759496   \n",
       "4                        8894                          0.434385   \n",
       "\n",
       "   original_firstorder_90Percentile  original_firstorder_Energy  \\\n",
       "0                          0.708860                  2897.68930   \n",
       "1                          2.322627                 41105.32510   \n",
       "2                          1.961740                 19774.94893   \n",
       "3                          2.164869                 72854.17151   \n",
       "4                          1.832410                 15697.30914   \n",
       "\n",
       "   original_firstorder_Entropy  original_firstorder_InterquartileRange  \\\n",
       "0                     0.738088                                0.406537   \n",
       "1                     0.179893                                0.730463   \n",
       "2                     0.136183                                0.509910   \n",
       "3                     0.087137                                0.740609   \n",
       "4                     0.183666                                0.787978   \n",
       "\n",
       "   original_firstorder_Kurtosis  original_firstorder_Maximum  \\\n",
       "0                      4.594629                     2.114799   \n",
       "1                      3.884960                     3.857952   \n",
       "2                      4.760064                     3.841710   \n",
       "3                      3.421056                     3.030400   \n",
       "4                      3.107181                     2.315364   \n",
       "\n",
       "   original_firstorder_MeanAbsoluteDeviation  original_firstorder_Mean  \\\n",
       "0                                   0.278008                  0.248168   \n",
       "1                                   0.499454                  1.562901   \n",
       "2                                   0.400199                  1.219685   \n",
       "3                                   0.442713                  1.549668   \n",
       "4                                   0.447799                  1.209800   \n",
       "\n",
       "   original_firstorder_Median  original_firstorder_Minimum  \\\n",
       "0                    0.217628                    -1.251833   \n",
       "1                    1.632745                    -1.106491   \n",
       "2                    1.153095                    -1.025610   \n",
       "3                    1.660720                    -0.851106   \n",
       "4                    1.311328                    -0.866201   \n",
       "\n",
       "   original_firstorder_Range  original_firstorder_RobustMeanAbsoluteDeviation  \\\n",
       "0                   3.366632                                         0.174026   \n",
       "1                   4.964442                                         0.318599   \n",
       "2                   4.867321                                         0.231278   \n",
       "3                   3.881506                                         0.309734   \n",
       "4                   3.181566                                         0.324996   \n",
       "\n",
       "   original_firstorder_RootMeanSquared  original_firstorder_Skewness  \\\n",
       "0                             0.450734                      0.386237   \n",
       "1                             1.698168                     -0.634246   \n",
       "2                             1.343236                      0.545105   \n",
       "3                             1.645732                     -0.792678   \n",
       "4                             1.328508                     -0.732889   \n",
       "\n",
       "   original_firstorder_TotalEnergy  original_firstorder_Uniformity  \\\n",
       "0                       2897.68930                        0.670258   \n",
       "1                      41105.32510                        0.947174   \n",
       "2                      19774.94893                        0.962589   \n",
       "3                      72854.17151                        0.978307   \n",
       "4                      15697.30914                        0.945787   \n",
       "\n",
       "   original_firstorder_Variance  original_glcm_Autocorrelation  \\\n",
       "0                      0.141574                       3.328814   \n",
       "1                      0.441115                       3.934749   \n",
       "2                      0.316651                       3.955045   \n",
       "3                      0.306963                       3.973627   \n",
       "4                      0.301317                       3.933264   \n",
       "\n",
       "   original_glcm_ClusterProminence  original_glcm_ClusterShade  \\\n",
       "0                         0.725849                   -0.425324   \n",
       "1                         0.070286                   -0.048574   \n",
       "2                         0.043376                   -0.031359   \n",
       "3                         0.025128                   -0.018371   \n",
       "4                         0.069301                   -0.048455   \n",
       "\n",
       "   original_glcm_ClusterTendency  original_glcm_Contrast  \\\n",
       "0                       0.438760                0.184265   \n",
       "1                       0.039166                0.027998   \n",
       "2                       0.026057                0.020003   \n",
       "3                       0.015236                0.011845   \n",
       "4                       0.039564                0.028921   \n",
       "\n",
       "   original_glcm_Correlation  original_glcm_DifferenceAverage  \\\n",
       "0                   0.407895                         0.184265   \n",
       "1                   0.157776                         0.027998   \n",
       "2                   0.131035                         0.020003   \n",
       "3                   0.122613                         0.011845   \n",
       "4                   0.155224                         0.028921   \n",
       "\n",
       "   original_glcm_DifferenceEntropy  original_glcm_DifferenceVariance  \\\n",
       "0                         0.685680                          0.149585   \n",
       "1                         0.183795                          0.027197   \n",
       "2                         0.141291                          0.019599   \n",
       "3                         0.092635                          0.011702   \n",
       "4                         0.188503                          0.028068   \n",
       "\n",
       "   original_glcm_Id  original_glcm_Idm  original_glcm_Idmn  original_glcm_Idn  \\\n",
       "0          0.907867           0.907867            0.963147           0.938578   \n",
       "1          0.986001           0.986001            0.994400           0.990667   \n",
       "2          0.989998           0.989998            0.995999           0.993332   \n",
       "3          0.994078           0.994078            0.997631           0.996052   \n",
       "4          0.985540           0.985540            0.994216           0.990360   \n",
       "\n",
       "   original_glcm_Imc1  original_glcm_Imc2  original_glcm_InverseVariance  \\\n",
       "0           -0.149786            0.425720                       0.184265   \n",
       "1           -0.070082            0.105206                       0.027998   \n",
       "2           -0.048997            0.086544                       0.020003   \n",
       "3           -0.056651            0.065831                       0.011845   \n",
       "4           -0.061986            0.106835                       0.028921   \n",
       "\n",
       "   original_glcm_JointAverage  original_glcm_JointEnergy  \\\n",
       "0                    1.806982                   0.538903   \n",
       "1                    1.982916                   0.939221   \n",
       "2                    1.988349                   0.957372   \n",
       "3                    1.993183                   0.974758   \n",
       "4                    1.982575                   0.937690   \n",
       "\n",
       "   original_glcm_JointEntropy  original_glcm_MCC  \\\n",
       "0                    1.309203           0.407895   \n",
       "1                    0.240095           0.157776   \n",
       "2                    0.178540           0.131035   \n",
       "3                    0.114284           0.122613   \n",
       "4                    0.245543           0.155224   \n",
       "\n",
       "   original_glcm_MaximumProbability  original_glcm_SumAverage  \\\n",
       "0                          0.714849                  3.613964   \n",
       "1                          0.968917                  3.965832   \n",
       "2                          0.978347                  3.976698   \n",
       "3                          0.987261                  3.986367   \n",
       "4                          0.968114                  3.965150   \n",
       "\n",
       "   original_glcm_SumEntropy  original_glcm_SumSquares  \\\n",
       "0                  1.124938                  0.155756   \n",
       "1                  0.212098                  0.016791   \n",
       "2                  0.158537                  0.011515   \n",
       "3                  0.102439                  0.006770   \n",
       "4                  0.216623                  0.017121   \n",
       "\n",
       "   original_gldm_DependenceEntropy  original_gldm_DependenceNonUniformity  \\\n",
       "0                         4.529461                            1164.363949   \n",
       "1                         2.799725                            4650.251438   \n",
       "2                         2.863091                            3374.309307   \n",
       "3                         2.756432                            8662.085096   \n",
       "4                         2.676170                            3195.159883   \n",
       "\n",
       "   original_gldm_DependenceNonUniformityNormalized  \\\n",
       "0                                         0.081635   \n",
       "1                                         0.326242   \n",
       "2                                         0.307875   \n",
       "3                                         0.322023   \n",
       "4                                         0.359249   \n",
       "\n",
       "   original_gldm_DependenceVariance  original_gldm_GrayLevelNonUniformity  \\\n",
       "0                         38.233794                           9559.892659   \n",
       "1                         29.160771                          13501.014310   \n",
       "2                         27.615779                          10549.970990   \n",
       "3                         22.976388                          26315.470500   \n",
       "4                         29.518487                           8411.830447   \n",
       "\n",
       "   original_gldm_GrayLevelVariance  original_gldm_HighGrayLevelEmphasis  \\\n",
       "0                         0.164871                             3.375307   \n",
       "1                         0.026413                             3.918549   \n",
       "2                         0.018706                             3.942792   \n",
       "3                         0.010847                             3.967099   \n",
       "4                         0.027106                             3.916348   \n",
       "\n",
       "   original_gldm_LargeDependenceEmphasis  \\\n",
       "0                             456.983173   \n",
       "1                             585.940648   \n",
       "2                             584.343248   \n",
       "3                             594.497230   \n",
       "4                             594.187317   \n",
       "\n",
       "   original_gldm_LargeDependenceHighGrayLevelEmphasis  \\\n",
       "0                                        1714.810208    \n",
       "1                                        2342.457065    \n",
       "2                                        2336.739325    \n",
       "3                                        2377.642849    \n",
       "4                                        2375.516078    \n",
       "\n",
       "   original_gldm_LargeDependenceLowGrayLevelEmphasis  \\\n",
       "0                                         142.526414   \n",
       "1                                         146.811544   \n",
       "2                                         146.244229   \n",
       "3                                         148.710826   \n",
       "4                                         148.855127   \n",
       "\n",
       "   original_gldm_LowGrayLevelEmphasis  original_gldm_SmallDependenceEmphasis  \\\n",
       "0                            0.406173                               0.005563   \n",
       "1                            0.270363                               0.006518   \n",
       "2                            0.264302                               0.007181   \n",
       "3                            0.258225                               0.004902   \n",
       "4                            0.270913                               0.007222   \n",
       "\n",
       "   original_gldm_SmallDependenceHighGrayLevelEmphasis  \\\n",
       "0                                           0.011679    \n",
       "1                                           0.012337    \n",
       "2                                           0.013216    \n",
       "3                                           0.010811    \n",
       "4                                           0.012956    \n",
       "\n",
       "   original_gldm_SmallDependenceLowGrayLevelEmphasis  \\\n",
       "0                                           0.004033   \n",
       "1                                           0.005064   \n",
       "2                                           0.005672   \n",
       "3                                           0.003424   \n",
       "4                                           0.005788   \n",
       "\n",
       "   original_glrlm_GrayLevelNonUniformity  \\\n",
       "0                            1805.333660   \n",
       "1                            1302.579572   \n",
       "2                            1102.109263   \n",
       "3                            2701.187578   \n",
       "4                             750.787780   \n",
       "\n",
       "   original_glrlm_GrayLevelNonUniformityNormalized  \\\n",
       "0                                         0.503341   \n",
       "1                                         0.694474   \n",
       "2                                         0.764847   \n",
       "3                                         0.841781   \n",
       "4                                         0.674880   \n",
       "\n",
       "   original_glrlm_GrayLevelVariance  original_glrlm_HighGrayLevelRunEmphasis  \\\n",
       "0                          0.248329                                 2.619511   \n",
       "1                          0.152763                                 3.433408   \n",
       "2                          0.117576                                 3.590626   \n",
       "3                          0.079110                                 3.739820   \n",
       "4                          0.162560                                 3.385162   \n",
       "\n",
       "   original_glrlm_LongRunEmphasis  \\\n",
       "0                       36.191087   \n",
       "1                      109.743182   \n",
       "2                      100.817995   \n",
       "3                      125.498739   \n",
       "4                      110.775276   \n",
       "\n",
       "   original_glrlm_LongRunHighGrayLevelEmphasis  \\\n",
       "0                                   137.835476   \n",
       "1                                   438.113168   \n",
       "2                                   402.737100   \n",
       "3                                   501.648278   \n",
       "4                                   442.211336   \n",
       "\n",
       "   original_glrlm_LongRunLowGrayLevelEmphasis  \\\n",
       "0                                   10.779989   \n",
       "1                                   27.650685   \n",
       "2                                   25.338218   \n",
       "3                                   31.461354   \n",
       "4                                   27.916261   \n",
       "\n",
       "   original_glrlm_LowGrayLevelRunEmphasis  original_glrlm_RunEntropy  \\\n",
       "0                                0.595122                   3.865811   \n",
       "1                                0.391648                   4.255471   \n",
       "2                                0.352343                   4.232295   \n",
       "3                                0.315045                   4.412648   \n",
       "4                                0.403709                   4.140589   \n",
       "\n",
       "   original_glrlm_RunLengthNonUniformity  \\\n",
       "0                             677.118614   \n",
       "1                             159.837285   \n",
       "2                             114.255050   \n",
       "3                             212.625994   \n",
       "4                             101.119011   \n",
       "\n",
       "   original_glrlm_RunLengthNonUniformityNormalized  \\\n",
       "0                                         0.184874   \n",
       "1                                         0.084497   \n",
       "2                                         0.079355   \n",
       "3                                         0.065202   \n",
       "4                                         0.091210   \n",
       "\n",
       "   original_glrlm_RunPercentage  original_glrlm_RunVariance  \\\n",
       "0                      0.251409                   19.138811   \n",
       "1                      0.130916                   44.699577   \n",
       "2                      0.130959                   38.588656   \n",
       "3                      0.118981                   48.370607   \n",
       "4                      0.124509                   41.234090   \n",
       "\n",
       "   original_glrlm_ShortRunEmphasis  \\\n",
       "0                         0.409396   \n",
       "1                         0.241148   \n",
       "2                         0.222151   \n",
       "3                         0.161327   \n",
       "4                         0.261101   \n",
       "\n",
       "   original_glrlm_ShortRunHighGrayLevelEmphasis  \\\n",
       "0                                      0.789987   \n",
       "1                                      0.442279   \n",
       "2                                      0.503046   \n",
       "3                                      0.399896   \n",
       "4                                      0.473278   \n",
       "\n",
       "   original_glrlm_ShortRunLowGrayLevelEmphasis  \\\n",
       "0                                     0.314248   \n",
       "1                                     0.190865   \n",
       "2                                     0.151927   \n",
       "3                                     0.101685   \n",
       "4                                     0.208056   \n",
       "\n",
       "   original_glszm_GrayLevelNonUniformity  \\\n",
       "0                              27.545455   \n",
       "1                              78.025000   \n",
       "2                              72.027027   \n",
       "3                              99.019802   \n",
       "4                              56.034483   \n",
       "\n",
       "   original_glszm_GrayLevelNonUniformityNormalized  \\\n",
       "0                                         0.834711   \n",
       "1                                         0.975313   \n",
       "2                                         0.973338   \n",
       "3                                         0.980394   \n",
       "4                                         0.966112   \n",
       "\n",
       "   original_glszm_GrayLevelVariance  original_glszm_HighGrayLevelZoneEmphasis  \\\n",
       "0                          0.082645                                  1.272727   \n",
       "1                          0.012344                                  1.037500   \n",
       "2                          0.013331                                  1.040541   \n",
       "3                          0.009803                                  1.029703   \n",
       "4                          0.016944                                  1.051724   \n",
       "\n",
       "   original_glszm_LargeAreaEmphasis  \\\n",
       "0                       4067578.818   \n",
       "1                       2403756.075   \n",
       "2                       1561963.432   \n",
       "3                       7007670.723   \n",
       "4                       1288913.690   \n",
       "\n",
       "   original_glszm_LargeAreaHighGrayLevelEmphasis  \\\n",
       "0                                   1.565522e+07   \n",
       "1                                   9.614769e+06   \n",
       "2                                   6.247801e+06   \n",
       "3                                   2.803063e+07   \n",
       "4                                   5.155465e+06   \n",
       "\n",
       "   original_glszm_LargeAreaLowGrayLevelEmphasis  \\\n",
       "0                                  1.170667e+06   \n",
       "1                                  6.010027e+05   \n",
       "2                                  3.905040e+05   \n",
       "3                                  1.751932e+06   \n",
       "4                                  3.222760e+05   \n",
       "\n",
       "   original_glszm_LowGrayLevelZoneEmphasis  \\\n",
       "0                                 0.931818   \n",
       "1                                 0.990625   \n",
       "2                                 0.989865   \n",
       "3                                 0.992574   \n",
       "4                                 0.987069   \n",
       "\n",
       "   original_glszm_SizeZoneNonUniformity  \\\n",
       "0                              5.969697   \n",
       "1                             15.850000   \n",
       "2                             20.405405   \n",
       "3                             25.554455   \n",
       "4                             12.551724   \n",
       "\n",
       "   original_glszm_SizeZoneNonUniformityNormalized  \\\n",
       "0                                        0.180900   \n",
       "1                                        0.198125   \n",
       "2                                        0.275749   \n",
       "3                                        0.253014   \n",
       "4                                        0.216409   \n",
       "\n",
       "   original_glszm_SmallAreaEmphasis  \\\n",
       "0                          0.403535   \n",
       "1                          0.444391   \n",
       "2                          0.534549   \n",
       "3                          0.506185   \n",
       "4                          0.462282   \n",
       "\n",
       "   original_glszm_SmallAreaHighGrayLevelEmphasis  \\\n",
       "0                                       0.517172   \n",
       "1                                       0.444391   \n",
       "2                                       0.534549   \n",
       "3                                       0.506185   \n",
       "4                                       0.462282   \n",
       "\n",
       "   original_glszm_SmallAreaLowGrayLevelEmphasis  original_glszm_ZoneEntropy  \\\n",
       "0                                      0.375126                    3.325332   \n",
       "1                                      0.444391                    3.032144   \n",
       "2                                      0.534549                    2.485848   \n",
       "3                                      0.506185                    2.606255   \n",
       "4                                      0.462282                    2.809279   \n",
       "\n",
       "   original_glszm_ZonePercentage  original_glszm_ZoneVariance  \\\n",
       "0                       0.002314                  3880771.500   \n",
       "1                       0.005612                  2372009.744   \n",
       "2                       0.006752                  1540027.421   \n",
       "3                       0.003755                  6936740.794   \n",
       "4                       0.006521                  1265399.054   \n",
       "\n",
       "   original_ngtdm_Busyness  original_ngtdm_Coarseness  \\\n",
       "0               473.464852                   0.000768   \n",
       "1                59.459710                   0.004383   \n",
       "2                33.935384                   0.007584   \n",
       "3                46.859265                   0.005424   \n",
       "4                39.621023                   0.006585   \n",
       "\n",
       "   original_ngtdm_Complexity  original_ngtdm_Contrast  original_ngtdm_Strength  \n",
       "0                   0.182615                 0.030508                 0.000758  \n",
       "1                   0.032012                 0.001006                 0.003685  \n",
       "2                   0.024062                 0.000529                 0.006447  \n",
       "3                   0.013707                 0.000178                 0.004543  \n",
       "4                   0.034148                 0.001083                 0.005626  "
      ]
     },
     "execution_count": 9,
     "metadata": {},
     "output_type": "execute_result"
    }
   ],
   "source": [
    "df.head()"
   ]
  },
  {
   "cell_type": "markdown",
   "id": "63e10030",
   "metadata": {},
   "source": [
    "### Exploring importance different features"
   ]
  },
  {
   "cell_type": "code",
   "execution_count": 10,
   "id": "2906edb1",
   "metadata": {},
   "outputs": [
    {
     "data": {
      "image/png": "[encoded data removed]",
      "text/plain": [
       "<Figure size 432x288 with 1 Axes>"
      ]
     },
     "metadata": {
      "needs_background": "light"
     },
     "output_type": "display_data"
    }
   ],
   "source": [
    "### Age\n",
    "sns.boxplot(y='Age', x='pCR (outcome)',data=df)\n",
    "plt.show()"
   ]
  },
  {
   "cell_type": "code",
   "execution_count": 11,
   "id": "08b7cafd",
   "metadata": {},
   "outputs": [
    {
     "data": {
      "image/png": "[encoded data removed]",
      "text/plain": [
       "<Figure size 442.375x360 with 1 Axes>"
      ]
     },
     "metadata": {
      "needs_background": "light"
     },
     "output_type": "display_data"
    }
   ],
   "source": [
    "### Age\n",
    "sns.displot(x=df['Age'],hue=df['pCR (outcome)'])\n",
    "plt.show()"
   ]
  },
  {
   "cell_type": "code",
   "execution_count": 12,
   "id": "5ad51c0d",
   "metadata": {},
   "outputs": [
    {
     "data": {
      "text/plain": [
       "51.85735271237458"
      ]
     },
     "execution_count": 12,
     "metadata": {},
     "output_type": "execute_result"
    }
   ],
   "source": [
    "df[df['pCR (outcome)']==0]['Age'].mean()"
   ]
  },
  {
   "cell_type": "code",
   "execution_count": 13,
   "id": "7144fac0",
   "metadata": {},
   "outputs": [
    {
     "data": {
      "text/plain": [
       "51.87103938541669"
      ]
     },
     "execution_count": 13,
     "metadata": {},
     "output_type": "execute_result"
    }
   ],
   "source": [
    "df[df['pCR (outcome)']==1]['Age'].mean()"
   ]
  },
  {
   "cell_type": "code",
   "execution_count": 14,
   "id": "8a194273",
   "metadata": {},
   "outputs": [
    {
     "data": {
      "text/plain": [
       "Ttest_1sampResult(statistic=-0.005236279523801493, pvalue=0.9958255760644659)"
      ]
     },
     "execution_count": 14,
     "metadata": {},
     "output_type": "execute_result"
    }
   ],
   "source": [
    "\n",
    "st.ttest_1samp(a=df[df['pCR (outcome)']==0]['Age'].to_list(),popmean=df['Age'].mean())"
   ]
  },
  {
   "cell_type": "code",
   "execution_count": 15,
   "id": "3c6d3a85",
   "metadata": {},
   "outputs": [
    {
     "data": {
      "text/plain": [
       "Ttest_1sampResult(statistic=0.009385560849441685, pvalue=0.9925311972673878)"
      ]
     },
     "execution_count": 15,
     "metadata": {},
     "output_type": "execute_result"
    }
   ],
   "source": [
    "\n",
    "st.ttest_1samp(a=df[df['pCR (outcome)']==1]['Age'].to_list(),popmean=df['Age'].mean())"
   ]
  },
  {
   "cell_type": "markdown",
   "id": "ce100418",
   "metadata": {},
   "source": [
    "##### Conclusion:\n",
    "\n",
    "**`Age` is not signofocant feature on 'pCR (outcome)'**"
   ]
  },
  {
   "cell_type": "markdown",
   "id": "ab0cf35b",
   "metadata": {},
   "source": [
    "### Categorical variables using chisqure test"
   ]
  },
  {
   "cell_type": "code",
   "execution_count": 16,
   "id": "80a54fb2",
   "metadata": {},
   "outputs": [
    {
     "data": {
      "image/png": "[encoded data removed]",
      "text/plain": [
       "<Figure size 432x288 with 1 Axes>"
      ]
     },
     "metadata": {
      "needs_background": "light"
     },
     "output_type": "display_data"
    },
    {
     "data": {
      "image/png": "[encoded data removed]",
      "text/plain": [
       "<Figure size 432x288 with 1 Axes>"
      ]
     },
     "metadata": {
      "needs_background": "light"
     },
     "output_type": "display_data"
    },
    {
     "data": {
      "image/png": "[encoded data removed]",
      "text/plain": [
       "<Figure size 432x288 with 1 Axes>"
      ]
     },
     "metadata": {
      "needs_background": "light"
     },
     "output_type": "display_data"
    },
    {
     "data": {
      "image/png": "[encoded data removed]",
      "text/plain": [
       "<Figure size 432x288 with 1 Axes>"
      ]
     },
     "metadata": {
      "needs_background": "light"
     },
     "output_type": "display_data"
    },
    {
     "data": {
      "image/png": "[encoded data removed]",
      "text/plain": [
       "<Figure size 432x288 with 1 Axes>"
      ]
     },
     "metadata": {
      "needs_background": "light"
     },
     "output_type": "display_data"
    },
    {
     "data": {
      "image/png": "[encoded data removed]",
      "text/plain": [
       "<Figure size 432x288 with 1 Axes>"
      ]
     },
     "metadata": {
      "needs_background": "light"
     },
     "output_type": "display_data"
    },
    {
     "data": {
      "image/png": "[encoded data removed]",
      "text/plain": [
       "<Figure size 432x288 with 1 Axes>"
      ]
     },
     "metadata": {
      "needs_background": "light"
     },
     "output_type": "display_data"
    },
    {
     "data": {
      "image/png": "[encoded data removed]",
      "text/plain": [
       "<Figure size 432x288 with 1 Axes>"
      ]
     },
     "metadata": {
      "needs_background": "light"
     },
     "output_type": "display_data"
    },
    {
     "data": {
      "image/png": "[encoded data removed]",
      "text/plain": [
       "<Figure size 432x288 with 1 Axes>"
      ]
     },
     "metadata": {
      "needs_background": "light"
     },
     "output_type": "display_data"
    }
   ],
   "source": [
    "cols = ['ER','PgR','HER2','TrippleNegative','ChemoGrade','Proliferation','HistologyType',\n",
    "        'LNStatus','TumourStage']\n",
    "for col in cols:\n",
    "    sns.countplot(x=df[col],hue=df['pCR (outcome)'])\n",
    "    plt.title(\"{} vs pCR (outcome)\".format(col))\n",
    "    plt.show()"
   ]
  },
  {
   "cell_type": "code",
   "execution_count": 17,
   "id": "5acbb142",
   "metadata": {},
   "outputs": [],
   "source": [
    "def chiaSquare(var1, var2 , df):\n",
    "    tmp = df.groupby([var1, var2],as_index=False).agg({'ID':'count'}).rename(columns={'ID':'count'})\n",
    "    var1_cats = list(df[var1].unique())\n",
    "    var1_cats.sort()\n",
    "    \n",
    "    var2_cats = list(df[var2].unique())\n",
    "    var2_cats.sort()\n",
    "    \n",
    "    total = tmp['count'].sum()\n",
    "    observed = []\n",
    "    expected = []\n",
    "    for cat1 in var1_cats:\n",
    "        if cat1 == 999: continue\n",
    "        for cat2 in var2_cats:\n",
    "            if cat2 == 999: continue\n",
    "            observed.append(tmp[(tmp[var1]==cat1)&(tmp[var2]==cat2)]['count'].item())\n",
    "            cat1_prob = tmp[tmp[var1]==cat1]['count'].sum() / total\n",
    "            ca2_prob = tmp[tmp[var2]==cat2]['count'].sum() / total\n",
    "            expected.append(cat1_prob *  ca2_prob * total)\n",
    "    return observed, expected, st.chisquare(observed,expected)   \n",
    "    \n",
    "    "
   ]
  },
  {
   "cell_type": "code",
   "execution_count": 18,
   "id": "8f2c8135",
   "metadata": {
    "scrolled": true
   },
   "outputs": [
    {
     "name": "stdout",
     "output_type": "stream",
     "text": [
      "P-Value for ER: 0.00016716188360966987\n",
      "P-Value for PgR: 0.0006317269506798581\n",
      "P-Value for HER2: 0.00010690063124822845\n",
      "P-Value for TrippleNegative: 0.46366677428068614\n",
      "P-Value for ChemoGrade: 0.4374934129737805\n",
      "P-Value for Proliferation: 0.07046586113684132\n",
      "P-Value for HistologyType: 0.5407726864145046\n",
      "P-Value for LNStatus: 0.0259135815226681\n",
      "P-Value for TumourStage: 0.4101815210792273\n"
     ]
    }
   ],
   "source": [
    "cols = ['ER','PgR','HER2','TrippleNegative','ChemoGrade','Proliferation','HistologyType',\n",
    "        'LNStatus','TumourStage']\n",
    "for col in cols:\n",
    "    ob, ex, chi_result = chiaSquare(col,'pCR (outcome)',df)\n",
    "    print(f\"P-Value for {col}: {chi_result.pvalue}\")"
   ]
  },
  {
   "cell_type": "markdown",
   "id": "9c09f3c1",
   "metadata": {},
   "source": [
    "#### Conclusion\n",
    "\n",
    "**Selected variables based on 5% critical value**\n",
    "\n",
    "- ER, PgR, HER2, LNStatus\n"
   ]
  },
  {
   "cell_type": "markdown",
   "id": "6f47de1d",
   "metadata": {},
   "source": [
    "### Continuous variables"
   ]
  },
  {
   "cell_type": "code",
   "execution_count": 19,
   "id": "b6a3cea7",
   "metadata": {},
   "outputs": [
    {
     "name": "stdout",
     "output_type": "stream",
     "text": [
      "\"original_firstorder_Kurtosis\" is significant with p-value: 0.00026468267464634007\n",
      "\"original_glcm_Correlation\" is significant with p-value: 0.007343586390885198\n",
      "\"original_glcm_MCC\" is significant with p-value: 0.0010296618525645932\n",
      "\"original_glszm_SmallAreaEmphasis\" is significant with p-value: 0.010616111608147651\n",
      "\"original_glszm_SmallAreaHighGrayLevelEmphasis\" is significant with p-value: 0.0026179795047216957\n",
      "\"original_glszm_SmallAreaLowGrayLevelEmphasis\" is significant with p-value: 0.020191383946622777\n",
      "\"original_glszm_ZonePercentage\" is significant with p-value: 0.0006645155361142899\n"
     ]
    }
   ],
   "source": [
    "float_cols = list(df.select_dtypes(include=['float64']).columns)\n",
    "float_cols.remove('RelapseFreeSurvival (outcome)') \n",
    "float_cols.remove('Age')\n",
    "alpha = 0.05\n",
    "significant_float_cols = []\n",
    "for col in float_cols:\n",
    "    p_value = f_classif(df[col].to_numpy().reshape(-1, 1),df['pCR (outcome)'])[0][0]\n",
    "    if p_value < alpha:\n",
    "        print(f'\"{col}\" is significant with p-value: {p_value}')\n",
    "        significant_float_cols.append(col)\n",
    "    "
   ]
  },
  {
   "cell_type": "markdown",
   "id": "f9c52cde",
   "metadata": {},
   "source": [
    "### Data distribution of float variables"
   ]
  },
  {
   "cell_type": "code",
   "execution_count": 20,
   "id": "9070dcbf",
   "metadata": {},
   "outputs": [
    {
     "data": {
      "image/png": "[encoded data removed]",
      "text/plain": [
       "<Figure size 442.375x360 with 1 Axes>"
      ]
     },
     "metadata": {
      "needs_background": "light"
     },
     "output_type": "display_data"
    },
    {
     "data": {
      "image/png": "[encoded data removed]",
      "text/plain": [
       "<Figure size 442.375x360 with 1 Axes>"
      ]
     },
     "metadata": {
      "needs_background": "light"
     },
     "output_type": "display_data"
    },
    {
     "data": {
      "image/png": "[encoded data removed]",
      "text/plain": [
       "<Figure size 442.375x360 with 1 Axes>"
      ]
     },
     "metadata": {
      "needs_background": "light"
     },
     "output_type": "display_data"
    },
    {
     "data": {
      "image/png": "[encoded data removed]",
      "text/plain": [
       "<Figure size 442.375x360 with 1 Axes>"
      ]
     },
     "metadata": {
      "needs_background": "light"
     },
     "output_type": "display_data"
    },
    {
     "data": {
      "image/png": "[encoded data removed]",
      "text/plain": [
       "<Figure size 442.375x360 with 1 Axes>"
      ]
     },
     "metadata": {
      "needs_background": "light"
     },
     "output_type": "display_data"
    },
    {
     "data": {
      "image/png": "[encoded data removed]",
      "text/plain": [
       "<Figure size 442.375x360 with 1 Axes>"
      ]
     },
     "metadata": {
      "needs_background": "light"
     },
     "output_type": "display_data"
    },
    {
     "data": {
      "image/png": "[encoded data removed]",
      "text/plain": [
       "<Figure size 442.375x360 with 1 Axes>"
      ]
     },
     "metadata": {
      "needs_background": "light"
     },
     "output_type": "display_data"
    }
   ],
   "source": [
    "df[significant_float_cols]\n",
    "\n",
    "for col in significant_float_cols:\n",
    "    sns.displot(x=df[col],hue=df['pCR (outcome)'])\n",
    "    plt.show()"
   ]
  },
  {
   "cell_type": "markdown",
   "id": "70713315",
   "metadata": {},
   "source": [
    "### Outliers of float variables"
   ]
  },
  {
   "cell_type": "code",
   "execution_count": 21,
   "id": "0d12b299",
   "metadata": {},
   "outputs": [
    {
     "data": {
      "image/png": "[encoded data removed]",
      "text/plain": [
       "<Figure size 432x288 with 1 Axes>"
      ]
     },
     "metadata": {
      "needs_background": "light"
     },
     "output_type": "display_data"
    },
    {
     "data": {
      "image/png": "[encoded data removed]",
      "text/plain": [
       "<Figure size 432x288 with 1 Axes>"
      ]
     },
     "metadata": {
      "needs_background": "light"
     },
     "output_type": "display_data"
    },
    {
     "data": {
      "image/png": "[encoded data removed]",
      "text/plain": [
       "<Figure size 432x288 with 1 Axes>"
      ]
     },
     "metadata": {
      "needs_background": "light"
     },
     "output_type": "display_data"
    },
    {
     "data": {
      "image/png": "[encoded data removed]",
      "text/plain": [
       "<Figure size 432x288 with 1 Axes>"
      ]
     },
     "metadata": {
      "needs_background": "light"
     },
     "output_type": "display_data"
    },
    {
     "data": {
      "image/png": "[encoded data removed]",
      "text/plain": [
       "<Figure size 432x288 with 1 Axes>"
      ]
     },
     "metadata": {
      "needs_background": "light"
     },
     "output_type": "display_data"
    },
    {
     "data": {
      "image/png": "[encoded data removed]",
      "text/plain": [
       "<Figure size 432x288 with 1 Axes>"
      ]
     },
     "metadata": {
      "needs_background": "light"
     },
     "output_type": "display_data"
    },
    {
     "data": {
      "image/png": "[encoded data removed]",
      "text/plain": [
       "<Figure size 432x288 with 1 Axes>"
      ]
     },
     "metadata": {
      "needs_background": "light"
     },
     "output_type": "display_data"
    }
   ],
   "source": [
    "for col in significant_float_cols:\n",
    "    sns.boxplot(x=df[col])\n",
    "    plt.show()"
   ]
  },
  {
   "cell_type": "code",
   "execution_count": 22,
   "id": "5fffe814",
   "metadata": {},
   "outputs": [],
   "source": [
    "def find_boundaries(df, variable, distance=1.5):\n",
    "    IQR = df[variable].quantile(0.75) - df[variable].quantile(0.25)\n",
    "    lower_boundary = df[variable].quantile(0.25) - (IQR * 1.5)\n",
    "    upper_boundary = df[variable].quantile(0.75) + (IQR * 1.5)\n",
    "    return lower_boundary, upper_boundary\n",
    "    "
   ]
  },
  {
   "cell_type": "code",
   "execution_count": 23,
   "id": "7169a9de",
   "metadata": {},
   "outputs": [],
   "source": [
    "def treat_outliers(df, variable, distance=1.5, inplace=True):\n",
    "    \"\"\" \n",
    "    Fill outliers with mean\n",
    "    \n",
    "    upper_boundary = 75th qualtile + (IQR * diatance)\n",
    "    upper_boundary = 25th qualtile - (IQR * diatance)\n",
    "        \n",
    "    \"\"\"\n",
    "    \n",
    "    lower_boundary, upper_boundary = find_boundaries(df,variable)\n",
    "    if inplace:\n",
    "        df[variable] = np.where(df[variable]>upper_boundary,df[variable].mean(),\n",
    "                                np.where(df[variable]<lower_boundary,df[variable].mean(),df[variable])\n",
    "                           )\n",
    "    else:\n",
    "        return np.where(df[variable]>upper_boundary,df[variable].mean(),\n",
    "                                np.where(df[variable]<lower_boundary,df[variable].mean(),df[variable])\n",
    "                           )"
   ]
  },
  {
   "cell_type": "markdown",
   "id": "96efaf84",
   "metadata": {},
   "source": [
    "### Treating Outliers"
   ]
  },
  {
   "cell_type": "code",
   "execution_count": 24,
   "id": "a7682b63",
   "metadata": {},
   "outputs": [
    {
     "data": {
      "image/png": "[encoded data removed]",
      "text/plain": [
       "<Figure size 432x288 with 1 Axes>"
      ]
     },
     "metadata": {
      "needs_background": "light"
     },
     "output_type": "display_data"
    },
    {
     "data": {
      "image/png": "[encoded data removed]",
      "text/plain": [
       "<Figure size 432x288 with 1 Axes>"
      ]
     },
     "metadata": {
      "needs_background": "light"
     },
     "output_type": "display_data"
    },
    {
     "data": {
      "image/png": "[encoded data removed]",
      "text/plain": [
       "<Figure size 432x288 with 1 Axes>"
      ]
     },
     "metadata": {
      "needs_background": "light"
     },
     "output_type": "display_data"
    },
    {
     "data": {
      "image/png": "[encoded data removed]",
      "text/plain": [
       "<Figure size 432x288 with 1 Axes>"
      ]
     },
     "metadata": {
      "needs_background": "light"
     },
     "output_type": "display_data"
    },
    {
     "data": {
      "image/png": "[encoded data removed]",
      "text/plain": [
       "<Figure size 432x288 with 1 Axes>"
      ]
     },
     "metadata": {
      "needs_background": "light"
     },
     "output_type": "display_data"
    },
    {
     "data": {
      "image/png": "[encoded data removed]",
      "text/plain": [
       "<Figure size 432x288 with 1 Axes>"
      ]
     },
     "metadata": {
      "needs_background": "light"
     },
     "output_type": "display_data"
    },
    {
     "data": {
      "image/png": "[encoded data removed]",
      "text/plain": [
       "<Figure size 432x288 with 1 Axes>"
      ]
     },
     "metadata": {
      "needs_background": "light"
     },
     "output_type": "display_data"
    }
   ],
   "source": [
    "for col in significant_float_cols:\n",
    "    treat_outliers(df, col, inplace=True)\n",
    "    sns.boxplot(x=df[col])\n",
    "    plt.show()"
   ]
  },
  {
   "cell_type": "code",
   "execution_count": null,
   "id": "17b9fa97",
   "metadata": {},
   "outputs": [],
   "source": []
  },
  {
   "cell_type": "markdown",
   "id": "fd9681d0",
   "metadata": {},
   "source": [
    "### Data distribution of float variables"
   ]
  },
  {
   "cell_type": "code",
   "execution_count": 25,
   "id": "0b0cf91c",
   "metadata": {},
   "outputs": [
    {
     "data": {
      "image/png": "[encoded data removed]",
      "text/plain": [
       "<Figure size 442.375x360 with 1 Axes>"
      ]
     },
     "metadata": {
      "needs_background": "light"
     },
     "output_type": "display_data"
    },
    {
     "data": {
      "image/png": "[encoded data removed]",
      "text/plain": [
       "<Figure size 442.375x360 with 1 Axes>"
      ]
     },
     "metadata": {
      "needs_background": "light"
     },
     "output_type": "display_data"
    },
    {
     "data": {
      "image/png": "[encoded data removed]",
      "text/plain": [
       "<Figure size 442.375x360 with 1 Axes>"
      ]
     },
     "metadata": {
      "needs_background": "light"
     },
     "output_type": "display_data"
    },
    {
     "data": {
      "image/png": "[encoded data removed]",
      "text/plain": [
       "<Figure size 442.375x360 with 1 Axes>"
      ]
     },
     "metadata": {
      "needs_background": "light"
     },
     "output_type": "display_data"
    },
    {
     "data": {
      "image/png": "[encoded data removed]",
      "text/plain": [
       "<Figure size 442.375x360 with 1 Axes>"
      ]
     },
     "metadata": {
      "needs_background": "light"
     },
     "output_type": "display_data"
    },
    {
     "data": {
      "image/png": "[encoded data removed]",
      "text/plain": [
       "<Figure size 442.375x360 with 1 Axes>"
      ]
     },
     "metadata": {
      "needs_background": "light"
     },
     "output_type": "display_data"
    },
    {
     "data": {
      "image/png": "[encoded data removed]",
      "text/plain": [
       "<Figure size 442.375x360 with 1 Axes>"
      ]
     },
     "metadata": {
      "needs_background": "light"
     },
     "output_type": "display_data"
    }
   ],
   "source": [
    "for col in significant_float_cols:\n",
    "    sns.displot(x=df[col],hue=df['pCR (outcome)'])\n",
    "    plt.show()"
   ]
  },
  {
   "cell_type": "markdown",
   "id": "341f9dec",
   "metadata": {},
   "source": [
    "### Removign outliers for all float columns"
   ]
  },
  {
   "cell_type": "code",
   "execution_count": 26,
   "id": "f7df4497",
   "metadata": {},
   "outputs": [],
   "source": [
    "skewness=[]\n",
    "for col in float_cols:\n",
    "    treat_outliers(df, col, inplace=True)\n",
    "    skewness.append((col,df[col].skew()))\n",
    "    "
   ]
  },
  {
   "cell_type": "code",
   "execution_count": 27,
   "id": "7a3a4e39",
   "metadata": {},
   "outputs": [
    {
     "data": {
      "text/html": [
       "<div>\n",
       "<style scoped>\n",
       "    .dataframe tbody tr th:only-of-type {\n",
       "        vertical-align: middle;\n",
       "    }\n",
       "\n",
       "    .dataframe tbody tr th {\n",
       "        vertical-align: top;\n",
       "    }\n",
       "\n",
       "    .dataframe thead th {\n",
       "        text-align: right;\n",
       "    }\n",
       "</style>\n",
       "<table border=\"1\" class=\"dataframe\">\n",
       "  <thead>\n",
       "    <tr style=\"text-align: right;\">\n",
       "      <th></th>\n",
       "      <th>feature</th>\n",
       "      <th>skewness_score</th>\n",
       "    </tr>\n",
       "  </thead>\n",
       "  <tbody>\n",
       "    <tr>\n",
       "      <th>91</th>\n",
       "      <td>original_glszm_LargeAreaLowGrayLevelEmphasis</td>\n",
       "      <td>2.163512</td>\n",
       "    </tr>\n",
       "    <tr>\n",
       "      <th>89</th>\n",
       "      <td>original_glszm_LargeAreaEmphasis</td>\n",
       "      <td>2.069591</td>\n",
       "    </tr>\n",
       "    <tr>\n",
       "      <th>90</th>\n",
       "      <td>original_glszm_LargeAreaHighGrayLevelEmphasis</td>\n",
       "      <td>2.060203</td>\n",
       "    </tr>\n",
       "    <tr>\n",
       "      <th>100</th>\n",
       "      <td>original_glszm_ZoneVariance</td>\n",
       "      <td>2.027141</td>\n",
       "    </tr>\n",
       "    <tr>\n",
       "      <th>102</th>\n",
       "      <td>original_ngtdm_Coarseness</td>\n",
       "      <td>1.893239</td>\n",
       "    </tr>\n",
       "  </tbody>\n",
       "</table>\n",
       "</div>"
      ],
      "text/plain": [
       "                                           feature  skewness_score\n",
       "91    original_glszm_LargeAreaLowGrayLevelEmphasis        2.163512\n",
       "89                original_glszm_LargeAreaEmphasis        2.069591\n",
       "90   original_glszm_LargeAreaHighGrayLevelEmphasis        2.060203\n",
       "100                    original_glszm_ZoneVariance        2.027141\n",
       "102                      original_ngtdm_Coarseness        1.893239"
      ]
     },
     "execution_count": 27,
     "metadata": {},
     "output_type": "execute_result"
    }
   ],
   "source": [
    "skewness_df = pd.DataFrame(skewness,columns=['feature','skewness_score'])\n",
    "skewness_df.sort_values(by='skewness_score',ascending=False,inplace=True)\n",
    "skewness_df.head()"
   ]
  },
  {
   "cell_type": "code",
   "execution_count": 28,
   "id": "39143070",
   "metadata": {},
   "outputs": [
    {
     "data": {
      "image/png": "[encoded data removed]",
      "text/plain": [
       "<Figure size 360x360 with 1 Axes>"
      ]
     },
     "metadata": {
      "needs_background": "light"
     },
     "output_type": "display_data"
    }
   ],
   "source": [
    "sns.displot(x=skewness_df['skewness_score'])\n",
    "plt.show()"
   ]
  },
  {
   "cell_type": "markdown",
   "id": "a91d5737",
   "metadata": {},
   "source": [
    "### Treating Skewness\n",
    "\n",
    "**Performing Yoe-Johnson transformation as values contains negative values**"
   ]
  },
  {
   "cell_type": "code",
   "execution_count": 29,
   "id": "1043c09c",
   "metadata": {},
   "outputs": [
    {
     "name": "stderr",
     "output_type": "stream",
     "text": [
      "C:\\Users\\chaitanyamanem\\anaconda3\\lib\\site-packages\\sklearn\\preprocessing\\_data.py:3237: RuntimeWarning: divide by zero encountered in log\n",
      "  loglike = -n_samples / 2 * np.log(x_trans.var())\n"
     ]
    }
   ],
   "source": [
    "transformer = PowerTransformer(method='yeo-johnson')\n",
    "transformer.fit(df[float_cols])\n",
    "df_float_cols = pd.DataFrame(transformer.transform(df[float_cols]),columns=float_cols)"
   ]
  },
  {
   "cell_type": "code",
   "execution_count": 30,
   "id": "89c644fa",
   "metadata": {},
   "outputs": [
    {
     "data": {
      "text/html": [
       "<div>\n",
       "<style scoped>\n",
       "    .dataframe tbody tr th:only-of-type {\n",
       "        vertical-align: middle;\n",
       "    }\n",
       "\n",
       "    .dataframe tbody tr th {\n",
       "        vertical-align: top;\n",
       "    }\n",
       "\n",
       "    .dataframe thead th {\n",
       "        text-align: right;\n",
       "    }\n",
       "</style>\n",
       "<table border=\"1\" class=\"dataframe\">\n",
       "  <thead>\n",
       "    <tr style=\"text-align: right;\">\n",
       "      <th></th>\n",
       "      <th>feature</th>\n",
       "      <th>skewness_score</th>\n",
       "    </tr>\n",
       "  </thead>\n",
       "  <tbody>\n",
       "    <tr>\n",
       "      <th>102</th>\n",
       "      <td>original_ngtdm_Coarseness</td>\n",
       "      <td>1.892875</td>\n",
       "    </tr>\n",
       "    <tr>\n",
       "      <th>105</th>\n",
       "      <td>original_ngtdm_Strength</td>\n",
       "      <td>0.631977</td>\n",
       "    </tr>\n",
       "    <tr>\n",
       "      <th>104</th>\n",
       "      <td>original_ngtdm_Contrast</td>\n",
       "      <td>0.333569</td>\n",
       "    </tr>\n",
       "    <tr>\n",
       "      <th>54</th>\n",
       "      <td>original_glcm_SumSquares</td>\n",
       "      <td>0.182093</td>\n",
       "    </tr>\n",
       "    <tr>\n",
       "      <th>34</th>\n",
       "      <td>original_glcm_ClusterTendency</td>\n",
       "      <td>0.178842</td>\n",
       "    </tr>\n",
       "  </tbody>\n",
       "</table>\n",
       "</div>"
      ],
      "text/plain": [
       "                           feature  skewness_score\n",
       "102      original_ngtdm_Coarseness        1.892875\n",
       "105        original_ngtdm_Strength        0.631977\n",
       "104        original_ngtdm_Contrast        0.333569\n",
       "54        original_glcm_SumSquares        0.182093\n",
       "34   original_glcm_ClusterTendency        0.178842"
      ]
     },
     "execution_count": 30,
     "metadata": {},
     "output_type": "execute_result"
    }
   ],
   "source": [
    "post_skewness = []\n",
    "for col in float_cols:\n",
    "    post_skewness.append((col,df_float_cols[col].skew()))\n",
    "        \n",
    "post_skewness_df = pd.DataFrame(post_skewness,columns=['feature','skewness_score'])\n",
    "post_skewness_df.sort_values(by='skewness_score',ascending=False,inplace=True)\n",
    "post_skewness_df.head()"
   ]
  },
  {
   "cell_type": "code",
   "execution_count": 31,
   "id": "3b66dee1",
   "metadata": {},
   "outputs": [
    {
     "data": {
      "image/png": "[encoded data removed]",
      "text/plain": [
       "<Figure size 360x360 with 1 Axes>"
      ]
     },
     "metadata": {
      "needs_background": "light"
     },
     "output_type": "display_data"
    }
   ],
   "source": [
    "sns.displot(x=post_skewness_df['skewness_score'])\n",
    "plt.show()"
   ]
  },
  {
   "cell_type": "markdown",
   "id": "9b4db50b",
   "metadata": {},
   "source": [
    "**Taking features only with in skewness range -0.5 to 0.5**"
   ]
  },
  {
   "cell_type": "code",
   "execution_count": 32,
   "id": "2264d8e0",
   "metadata": {},
   "outputs": [],
   "source": [
    "transformed_float_cols = post_skewness_df[(post_skewness_df['skewness_score']>-0.5) & (post_skewness_df['skewness_score']<0.5)]['feature'].to_list()"
   ]
  },
  {
   "cell_type": "code",
   "execution_count": 33,
   "id": "46481481",
   "metadata": {},
   "outputs": [],
   "source": [
    "df_float_cols = df_float_cols[transformed_float_cols]"
   ]
  },
  {
   "cell_type": "code",
   "execution_count": 34,
   "id": "1614d5d7",
   "metadata": {},
   "outputs": [
    {
     "data": {
      "text/html": [
       "<div>\n",
       "<style scoped>\n",
       "    .dataframe tbody tr th:only-of-type {\n",
       "        vertical-align: middle;\n",
       "    }\n",
       "\n",
       "    .dataframe tbody tr th {\n",
       "        vertical-align: top;\n",
       "    }\n",
       "\n",
       "    .dataframe thead th {\n",
       "        text-align: right;\n",
       "    }\n",
       "</style>\n",
       "<table border=\"1\" class=\"dataframe\">\n",
       "  <thead>\n",
       "    <tr style=\"text-align: right;\">\n",
       "      <th></th>\n",
       "      <th>original_ngtdm_Contrast</th>\n",
       "      <th>original_glcm_SumSquares</th>\n",
       "      <th>original_glcm_ClusterTendency</th>\n",
       "      <th>original_glcm_ClusterProminence</th>\n",
       "      <th>original_gldm_LowGrayLevelEmphasis</th>\n",
       "      <th>original_gldm_GrayLevelVariance</th>\n",
       "      <th>original_glrlm_GrayLevelNonUniformityNormalized</th>\n",
       "      <th>original_glszm_GrayLevelVariance</th>\n",
       "      <th>original_glszm_HighGrayLevelZoneEmphasis</th>\n",
       "      <th>original_glcm_InverseVariance</th>\n",
       "      <th>original_glcm_DifferenceAverage</th>\n",
       "      <th>original_glcm_Contrast</th>\n",
       "      <th>original_ngtdm_Complexity</th>\n",
       "      <th>original_glszm_ZoneVariance</th>\n",
       "      <th>original_glcm_DifferenceVariance</th>\n",
       "      <th>original_glszm_ZonePercentage</th>\n",
       "      <th>original_glrlm_RunLengthNonUniformityNormalized</th>\n",
       "      <th>original_glcm_SumEntropy</th>\n",
       "      <th>original_glcm_JointEntropy</th>\n",
       "      <th>original_firstorder_Entropy</th>\n",
       "      <th>original_glszm_SizeZoneNonUniformityNormalized</th>\n",
       "      <th>original_firstorder_Variance</th>\n",
       "      <th>original_glcm_Imc2</th>\n",
       "      <th>original_glcm_ClusterShade</th>\n",
       "      <th>original_gldm_SmallDependenceEmphasis</th>\n",
       "      <th>original_gldm_SmallDependenceHighGrayLevelEmphasis</th>\n",
       "      <th>original_glrlm_RunPercentage</th>\n",
       "      <th>original_glrlm_LowGrayLevelRunEmphasis</th>\n",
       "      <th>original_gldm_SmallDependenceLowGrayLevelEmphasis</th>\n",
       "      <th>original_glszm_SizeZoneNonUniformity</th>\n",
       "      <th>original_shape_SurfaceVolumeRatio</th>\n",
       "      <th>original_firstorder_MeanAbsoluteDeviation</th>\n",
       "      <th>original_firstorder_Kurtosis</th>\n",
       "      <th>original_firstorder_RobustMeanAbsoluteDeviation</th>\n",
       "      <th>original_glszm_LargeAreaEmphasis</th>\n",
       "      <th>original_firstorder_Skewness</th>\n",
       "      <th>original_gldm_DependenceNonUniformityNormalized</th>\n",
       "      <th>original_firstorder_Maximum</th>\n",
       "      <th>original_glcm_DifferenceEntropy</th>\n",
       "      <th>original_glszm_SmallAreaHighGrayLevelEmphasis</th>\n",
       "      <th>original_glszm_LargeAreaHighGrayLevelEmphasis</th>\n",
       "      <th>original_glszm_SmallAreaLowGrayLevelEmphasis</th>\n",
       "      <th>original_firstorder_10Percentile</th>\n",
       "      <th>original_firstorder_Range</th>\n",
       "      <th>original_glrlm_ShortRunHighGrayLevelEmphasis</th>\n",
       "      <th>original_firstorder_Mean</th>\n",
       "      <th>original_glszm_SmallAreaEmphasis</th>\n",
       "      <th>original_firstorder_RootMeanSquared</th>\n",
       "      <th>original_firstorder_Median</th>\n",
       "      <th>original_glszm_LargeAreaLowGrayLevelEmphasis</th>\n",
       "      <th>original_glrlm_ShortRunLowGrayLevelEmphasis</th>\n",
       "      <th>original_firstorder_90Percentile</th>\n",
       "      <th>original_glcm_Correlation</th>\n",
       "      <th>original_glcm_MCC</th>\n",
       "      <th>original_firstorder_Minimum</th>\n",
       "      <th>original_glcm_Imc1</th>\n",
       "      <th>original_gldm_DependenceEntropy</th>\n",
       "      <th>original_glrlm_RunEntropy</th>\n",
       "      <th>original_firstorder_InterquartileRange</th>\n",
       "      <th>original_shape_MajorAxisLength</th>\n",
       "      <th>original_shape_MinorAxisLength</th>\n",
       "      <th>original_shape_Maximum2DDiameterRow</th>\n",
       "      <th>original_shape_Maximum2DDiameterColumn</th>\n",
       "      <th>original_glrlm_ShortRunEmphasis</th>\n",
       "      <th>original_shape_LeastAxisLength</th>\n",
       "      <th>original_shape_Maximum3DDiameter</th>\n",
       "      <th>original_shape_Maximum2DDiameterSlice</th>\n",
       "      <th>original_glrlm_LongRunLowGrayLevelEmphasis</th>\n",
       "      <th>original_glrlm_LongRunEmphasis</th>\n",
       "      <th>original_gldm_LargeDependenceLowGrayLevelEmphasis</th>\n",
       "      <th>original_gldm_DependenceVariance</th>\n",
       "      <th>original_glrlm_RunVariance</th>\n",
       "      <th>original_shape_SurfaceArea</th>\n",
       "      <th>original_glrlm_LongRunHighGrayLevelEmphasis</th>\n",
       "      <th>original_gldm_LargeDependenceHighGrayLevelEmphasis</th>\n",
       "      <th>original_gldm_LargeDependenceEmphasis</th>\n",
       "      <th>original_glrlm_RunLengthNonUniformity</th>\n",
       "      <th>original_glrlm_GrayLevelNonUniformity</th>\n",
       "      <th>original_shape_Flatness</th>\n",
       "      <th>original_glszm_GrayLevelNonUniformity</th>\n",
       "      <th>original_shape_MeshVolume</th>\n",
       "      <th>original_glrlm_HighGrayLevelRunEmphasis</th>\n",
       "      <th>original_gldm_GrayLevelNonUniformity</th>\n",
       "      <th>original_firstorder_TotalEnergy</th>\n",
       "      <th>original_firstorder_Energy</th>\n",
       "      <th>original_glszm_ZoneEntropy</th>\n",
       "      <th>original_shape_Sphericity</th>\n",
       "      <th>original_gldm_DependenceNonUniformity</th>\n",
       "      <th>original_shape_Elongation</th>\n",
       "      <th>original_glcm_Idmn</th>\n",
       "      <th>original_glcm_Idn</th>\n",
       "      <th>original_glcm_Idm</th>\n",
       "      <th>original_glcm_Id</th>\n",
       "      <th>original_glszm_LowGrayLevelZoneEmphasis</th>\n",
       "      <th>original_glszm_GrayLevelNonUniformityNormalized</th>\n",
       "      <th>original_glcm_JointEnergy</th>\n",
       "      <th>original_glcm_Autocorrelation</th>\n",
       "      <th>original_glcm_JointAverage</th>\n",
       "      <th>original_glcm_SumAverage</th>\n",
       "      <th>original_firstorder_Uniformity</th>\n",
       "      <th>original_gldm_HighGrayLevelEmphasis</th>\n",
       "      <th>original_glcm_MaximumProbability</th>\n",
       "      <th>original_ngtdm_Busyness</th>\n",
       "      <th>original_glrlm_GrayLevelVariance</th>\n",
       "    </tr>\n",
       "  </thead>\n",
       "  <tbody>\n",
       "    <tr>\n",
       "      <th>0</th>\n",
       "      <td>0.815584</td>\n",
       "      <td>0.394809</td>\n",
       "      <td>0.504747</td>\n",
       "      <td>1.693400</td>\n",
       "      <td>1.881015</td>\n",
       "      <td>1.797994</td>\n",
       "      <td>-1.312548</td>\n",
       "      <td>0.990509</td>\n",
       "      <td>0.997332</td>\n",
       "      <td>0.249831</td>\n",
       "      <td>0.249831</td>\n",
       "      <td>0.249831</td>\n",
       "      <td>2.139064</td>\n",
       "      <td>-0.013155</td>\n",
       "      <td>2.110280</td>\n",
       "      <td>-0.276590</td>\n",
       "      <td>1.457461</td>\n",
       "      <td>1.893302</td>\n",
       "      <td>1.931494</td>\n",
       "      <td>1.689474</td>\n",
       "      <td>-0.405175</td>\n",
       "      <td>-2.243220</td>\n",
       "      <td>1.378533</td>\n",
       "      <td>-1.785998</td>\n",
       "      <td>0.140494</td>\n",
       "      <td>0.086117</td>\n",
       "      <td>1.809329</td>\n",
       "      <td>1.287389</td>\n",
       "      <td>0.118759</td>\n",
       "      <td>0.166203</td>\n",
       "      <td>-1.236164</td>\n",
       "      <td>-2.520336</td>\n",
       "      <td>0.372536</td>\n",
       "      <td>-2.449599</td>\n",
       "      <td>0.021062</td>\n",
       "      <td>1.604314</td>\n",
       "      <td>-1.866521</td>\n",
       "      <td>-2.205560</td>\n",
       "      <td>2.076385</td>\n",
       "      <td>0.895520</td>\n",
       "      <td>0.017873</td>\n",
       "      <td>-0.363304</td>\n",
       "      <td>-1.104284</td>\n",
       "      <td>-1.546236</td>\n",
       "      <td>2.244434</td>\n",
       "      <td>0.224215</td>\n",
       "      <td>-0.117341</td>\n",
       "      <td>0.278809</td>\n",
       "      <td>0.172390</td>\n",
       "      <td>0.0</td>\n",
       "      <td>0.902403</td>\n",
       "      <td>0.240085</td>\n",
       "      <td>0.913377</td>\n",
       "      <td>0.910399</td>\n",
       "      <td>-0.428112</td>\n",
       "      <td>-0.460296</td>\n",
       "      <td>2.300923</td>\n",
       "      <td>-0.234121</td>\n",
       "      <td>-2.370339</td>\n",
       "      <td>-0.422731</td>\n",
       "      <td>-0.104752</td>\n",
       "      <td>-0.003819</td>\n",
       "      <td>-0.247497</td>\n",
       "      <td>1.237088</td>\n",
       "      <td>0.317752</td>\n",
       "      <td>-0.439992</td>\n",
       "      <td>-0.384940</td>\n",
       "      <td>-1.001900</td>\n",
       "      <td>-1.143650</td>\n",
       "      <td>0.003779</td>\n",
       "      <td>0.609048</td>\n",
       "      <td>-0.627258</td>\n",
       "      <td>-0.153263</td>\n",
       "      <td>-1.041581</td>\n",
       "      <td>-2.014558</td>\n",
       "      <td>-1.830925</td>\n",
       "      <td>1.757392</td>\n",
       "      <td>0.508749</td>\n",
       "      <td>1.021969</td>\n",
       "      <td>0.180750</td>\n",
       "      <td>0.244211</td>\n",
       "      <td>-1.300915</td>\n",
       "      <td>-0.096434</td>\n",
       "      <td>-1.822729</td>\n",
       "      <td>-1.822729</td>\n",
       "      <td>0.874826</td>\n",
       "      <td>1.054422</td>\n",
       "      <td>-0.752055</td>\n",
       "      <td>0.527091</td>\n",
       "      <td>-0.245193</td>\n",
       "      <td>-0.244881</td>\n",
       "      <td>-0.244485</td>\n",
       "      <td>-0.244485</td>\n",
       "      <td>-1.001278</td>\n",
       "      <td>-0.995773</td>\n",
       "      <td>-0.292117</td>\n",
       "      <td>-0.953626</td>\n",
       "      <td>-1.068207</td>\n",
       "      <td>-1.068361</td>\n",
       "      <td>-1.813786</td>\n",
       "      <td>-1.891687</td>\n",
       "      <td>-0.378908</td>\n",
       "      <td>1.040523</td>\n",
       "      <td>1.277362</td>\n",
       "    </tr>\n",
       "    <tr>\n",
       "      <th>1</th>\n",
       "      <td>-0.701162</td>\n",
       "      <td>-0.612923</td>\n",
       "      <td>-0.665974</td>\n",
       "      <td>-0.755105</td>\n",
       "      <td>-0.638724</td>\n",
       "      <td>-0.515554</td>\n",
       "      <td>0.206273</td>\n",
       "      <td>-1.119148</td>\n",
       "      <td>-1.122503</td>\n",
       "      <td>-0.470455</td>\n",
       "      <td>-0.470455</td>\n",
       "      <td>-0.470455</td>\n",
       "      <td>-0.419685</td>\n",
       "      <td>-0.280985</td>\n",
       "      <td>-0.464102</td>\n",
       "      <td>1.174670</td>\n",
       "      <td>-0.813269</td>\n",
       "      <td>-0.513855</td>\n",
       "      <td>-0.507574</td>\n",
       "      <td>-0.441471</td>\n",
       "      <td>-0.142608</td>\n",
       "      <td>-0.764653</td>\n",
       "      <td>-0.768062</td>\n",
       "      <td>0.686420</td>\n",
       "      <td>0.591184</td>\n",
       "      <td>0.381301</td>\n",
       "      <td>-0.865203</td>\n",
       "      <td>-0.290360</td>\n",
       "      <td>0.638765</td>\n",
       "      <td>1.286088</td>\n",
       "      <td>-0.412712</td>\n",
       "      <td>-0.951180</td>\n",
       "      <td>2.119517</td>\n",
       "      <td>-1.206196</td>\n",
       "      <td>-0.292000</td>\n",
       "      <td>-1.069161</td>\n",
       "      <td>0.896400</td>\n",
       "      <td>0.207650</td>\n",
       "      <td>-0.405352</td>\n",
       "      <td>0.246643</td>\n",
       "      <td>-0.280377</td>\n",
       "      <td>0.271182</td>\n",
       "      <td>0.708810</td>\n",
       "      <td>0.223897</td>\n",
       "      <td>-1.098309</td>\n",
       "      <td>0.410069</td>\n",
       "      <td>0.267194</td>\n",
       "      <td>0.177114</td>\n",
       "      <td>0.434059</td>\n",
       "      <td>0.0</td>\n",
       "      <td>-0.118940</td>\n",
       "      <td>-0.203405</td>\n",
       "      <td>-1.015002</td>\n",
       "      <td>-1.012317</td>\n",
       "      <td>-0.059237</td>\n",
       "      <td>0.759789</td>\n",
       "      <td>-0.988042</td>\n",
       "      <td>0.780899</td>\n",
       "      <td>-1.260687</td>\n",
       "      <td>0.199005</td>\n",
       "      <td>0.099446</td>\n",
       "      <td>0.185824</td>\n",
       "      <td>0.544265</td>\n",
       "      <td>-0.318159</td>\n",
       "      <td>-0.085610</td>\n",
       "      <td>0.244185</td>\n",
       "      <td>-0.278365</td>\n",
       "      <td>0.827094</td>\n",
       "      <td>0.939034</td>\n",
       "      <td>0.392226</td>\n",
       "      <td>-0.368267</td>\n",
       "      <td>0.844573</td>\n",
       "      <td>0.177768</td>\n",
       "      <td>0.982890</td>\n",
       "      <td>1.001130</td>\n",
       "      <td>0.905911</td>\n",
       "      <td>-0.359074</td>\n",
       "      <td>0.052605</td>\n",
       "      <td>-0.481362</td>\n",
       "      <td>1.312615</td>\n",
       "      <td>0.243604</td>\n",
       "      <td>0.308719</td>\n",
       "      <td>0.327393</td>\n",
       "      <td>0.254132</td>\n",
       "      <td>0.254132</td>\n",
       "      <td>0.362074</td>\n",
       "      <td>-0.060811</td>\n",
       "      <td>0.515459</td>\n",
       "      <td>-0.513177</td>\n",
       "      <td>0.475833</td>\n",
       "      <td>0.476179</td>\n",
       "      <td>0.476616</td>\n",
       "      <td>0.476616</td>\n",
       "      <td>1.119504</td>\n",
       "      <td>1.116599</td>\n",
       "      <td>0.574137</td>\n",
       "      <td>0.724154</td>\n",
       "      <td>0.748452</td>\n",
       "      <td>0.748681</td>\n",
       "      <td>0.528056</td>\n",
       "      <td>0.646162</td>\n",
       "      <td>0.578373</td>\n",
       "      <td>-0.051678</td>\n",
       "      <td>-0.171697</td>\n",
       "    </tr>\n",
       "    <tr>\n",
       "      <th>2</th>\n",
       "      <td>-0.920492</td>\n",
       "      <td>-0.851830</td>\n",
       "      <td>-0.900930</td>\n",
       "      <td>-0.983948</td>\n",
       "      <td>-0.870918</td>\n",
       "      <td>-0.760606</td>\n",
       "      <td>0.599243</td>\n",
       "      <td>-1.075019</td>\n",
       "      <td>-1.081988</td>\n",
       "      <td>-0.737673</td>\n",
       "      <td>-0.737673</td>\n",
       "      <td>-0.737673</td>\n",
       "      <td>-0.662098</td>\n",
       "      <td>-0.499452</td>\n",
       "      <td>-0.732367</td>\n",
       "      <td>1.551689</td>\n",
       "      <td>-0.969414</td>\n",
       "      <td>-0.755106</td>\n",
       "      <td>-0.752016</td>\n",
       "      <td>-0.687221</td>\n",
       "      <td>0.859562</td>\n",
       "      <td>-1.307031</td>\n",
       "      <td>-0.934653</td>\n",
       "      <td>0.877928</td>\n",
       "      <td>0.888531</td>\n",
       "      <td>0.755964</td>\n",
       "      <td>-0.864054</td>\n",
       "      <td>-0.637192</td>\n",
       "      <td>0.935504</td>\n",
       "      <td>1.581554</td>\n",
       "      <td>-0.121204</td>\n",
       "      <td>-1.608243</td>\n",
       "      <td>0.372536</td>\n",
       "      <td>-1.932227</td>\n",
       "      <td>-0.555965</td>\n",
       "      <td>2.024363</td>\n",
       "      <td>0.714818</td>\n",
       "      <td>0.190714</td>\n",
       "      <td>-0.669499</td>\n",
       "      <td>1.050159</td>\n",
       "      <td>-0.547252</td>\n",
       "      <td>1.092280</td>\n",
       "      <td>0.653180</td>\n",
       "      <td>0.132431</td>\n",
       "      <td>-0.504449</td>\n",
       "      <td>-0.550445</td>\n",
       "      <td>1.108029</td>\n",
       "      <td>-0.953318</td>\n",
       "      <td>-0.915398</td>\n",
       "      <td>0.0</td>\n",
       "      <td>-0.463346</td>\n",
       "      <td>-0.979927</td>\n",
       "      <td>-1.231590</td>\n",
       "      <td>-1.227003</td>\n",
       "      <td>0.141370</td>\n",
       "      <td>1.133862</td>\n",
       "      <td>-0.850452</td>\n",
       "      <td>0.719790</td>\n",
       "      <td>-1.994834</td>\n",
       "      <td>-0.194852</td>\n",
       "      <td>-0.425344</td>\n",
       "      <td>0.107916</td>\n",
       "      <td>-0.565825</td>\n",
       "      <td>-0.503023</td>\n",
       "      <td>0.041924</td>\n",
       "      <td>-0.180317</td>\n",
       "      <td>0.069737</td>\n",
       "      <td>0.642440</td>\n",
       "      <td>0.754650</td>\n",
       "      <td>0.339710</td>\n",
       "      <td>-0.552197</td>\n",
       "      <td>0.557812</td>\n",
       "      <td>-0.075719</td>\n",
       "      <td>0.800122</td>\n",
       "      <td>0.965911</td>\n",
       "      <td>0.864701</td>\n",
       "      <td>-0.767628</td>\n",
       "      <td>-0.166883</td>\n",
       "      <td>0.215089</td>\n",
       "      <td>1.216688</td>\n",
       "      <td>-0.085127</td>\n",
       "      <td>0.650470</td>\n",
       "      <td>0.019644</td>\n",
       "      <td>-0.460947</td>\n",
       "      <td>-0.460947</td>\n",
       "      <td>-0.489085</td>\n",
       "      <td>-0.032013</td>\n",
       "      <td>0.170217</td>\n",
       "      <td>-0.639375</td>\n",
       "      <td>0.741240</td>\n",
       "      <td>0.741464</td>\n",
       "      <td>0.741746</td>\n",
       "      <td>0.741746</td>\n",
       "      <td>1.080245</td>\n",
       "      <td>1.073841</td>\n",
       "      <td>0.815515</td>\n",
       "      <td>0.943677</td>\n",
       "      <td>0.960035</td>\n",
       "      <td>0.960044</td>\n",
       "      <td>0.767834</td>\n",
       "      <td>0.873873</td>\n",
       "      <td>0.819227</td>\n",
       "      <td>-0.463500</td>\n",
       "      <td>-0.577096</td>\n",
       "    </tr>\n",
       "    <tr>\n",
       "      <th>3</th>\n",
       "      <td>-1.093576</td>\n",
       "      <td>-1.083078</td>\n",
       "      <td>-1.109917</td>\n",
       "      <td>-1.151122</td>\n",
       "      <td>-1.121392</td>\n",
       "      <td>-1.031282</td>\n",
       "      <td>0.957882</td>\n",
       "      <td>-1.235305</td>\n",
       "      <td>-1.228538</td>\n",
       "      <td>-1.032360</td>\n",
       "      <td>-1.032360</td>\n",
       "      <td>-1.032360</td>\n",
       "      <td>-1.003566</td>\n",
       "      <td>0.330752</td>\n",
       "      <td>-1.031356</td>\n",
       "      <td>0.431777</td>\n",
       "      <td>-1.425237</td>\n",
       "      <td>-1.029589</td>\n",
       "      <td>-1.030257</td>\n",
       "      <td>-0.984191</td>\n",
       "      <td>0.593647</td>\n",
       "      <td>-1.353045</td>\n",
       "      <td>-1.126801</td>\n",
       "      <td>1.029707</td>\n",
       "      <td>-0.186842</td>\n",
       "      <td>-0.324742</td>\n",
       "      <td>-1.192779</td>\n",
       "      <td>-0.981180</td>\n",
       "      <td>-0.199160</td>\n",
       "      <td>1.844815</td>\n",
       "      <td>-0.308727</td>\n",
       "      <td>-1.318483</td>\n",
       "      <td>1.444120</td>\n",
       "      <td>-1.276721</td>\n",
       "      <td>0.334670</td>\n",
       "      <td>-1.480753</td>\n",
       "      <td>0.855004</td>\n",
       "      <td>-0.764916</td>\n",
       "      <td>-0.986087</td>\n",
       "      <td>0.797694</td>\n",
       "      <td>0.369341</td>\n",
       "      <td>0.834526</td>\n",
       "      <td>0.896886</td>\n",
       "      <td>-0.905462</td>\n",
       "      <td>-1.515194</td>\n",
       "      <td>0.376656</td>\n",
       "      <td>0.844620</td>\n",
       "      <td>0.027529</td>\n",
       "      <td>0.504345</td>\n",
       "      <td>0.0</td>\n",
       "      <td>-0.925355</td>\n",
       "      <td>-0.531131</td>\n",
       "      <td>-1.300273</td>\n",
       "      <td>-1.295027</td>\n",
       "      <td>0.562408</td>\n",
       "      <td>0.995270</td>\n",
       "      <td>-1.082987</td>\n",
       "      <td>1.197741</td>\n",
       "      <td>-1.228842</td>\n",
       "      <td>0.646148</td>\n",
       "      <td>0.998708</td>\n",
       "      <td>0.366055</td>\n",
       "      <td>1.193235</td>\n",
       "      <td>-1.109025</td>\n",
       "      <td>0.662637</td>\n",
       "      <td>0.862577</td>\n",
       "      <td>1.171664</td>\n",
       "      <td>1.105755</td>\n",
       "      <td>1.240100</td>\n",
       "      <td>0.570484</td>\n",
       "      <td>-1.144561</td>\n",
       "      <td>1.004522</td>\n",
       "      <td>1.170063</td>\n",
       "      <td>1.290722</td>\n",
       "      <td>1.221248</td>\n",
       "      <td>1.129968</td>\n",
       "      <td>0.011233</td>\n",
       "      <td>1.125869</td>\n",
       "      <td>-0.337084</td>\n",
       "      <td>1.607797</td>\n",
       "      <td>1.139846</td>\n",
       "      <td>0.983870</td>\n",
       "      <td>1.298483</td>\n",
       "      <td>0.911221</td>\n",
       "      <td>0.911221</td>\n",
       "      <td>-0.313075</td>\n",
       "      <td>-0.799055</td>\n",
       "      <td>1.294624</td>\n",
       "      <td>0.194675</td>\n",
       "      <td>1.032461</td>\n",
       "      <td>1.032458</td>\n",
       "      <td>1.032453</td>\n",
       "      <td>1.032453</td>\n",
       "      <td>1.221987</td>\n",
       "      <td>1.228821</td>\n",
       "      <td>1.061898</td>\n",
       "      <td>1.156664</td>\n",
       "      <td>1.159269</td>\n",
       "      <td>1.159015</td>\n",
       "      <td>1.029702</td>\n",
       "      <td>1.117620</td>\n",
       "      <td>1.063213</td>\n",
       "      <td>-0.236835</td>\n",
       "      <td>-0.955091</td>\n",
       "    </tr>\n",
       "    <tr>\n",
       "      <th>4</th>\n",
       "      <td>-0.666932</td>\n",
       "      <td>-0.598566</td>\n",
       "      <td>-0.659132</td>\n",
       "      <td>-0.763127</td>\n",
       "      <td>-0.618467</td>\n",
       "      <td>-0.494442</td>\n",
       "      <td>0.083805</td>\n",
       "      <td>-0.918115</td>\n",
       "      <td>-0.936878</td>\n",
       "      <td>-0.440884</td>\n",
       "      <td>-0.440884</td>\n",
       "      <td>-0.440884</td>\n",
       "      <td>-0.357319</td>\n",
       "      <td>-0.593978</td>\n",
       "      <td>-0.434529</td>\n",
       "      <td>1.479674</td>\n",
       "      <td>-0.616517</td>\n",
       "      <td>-0.494326</td>\n",
       "      <td>-0.486885</td>\n",
       "      <td>-0.421027</td>\n",
       "      <td>0.118747</td>\n",
       "      <td>-1.380134</td>\n",
       "      <td>-0.753802</td>\n",
       "      <td>0.687716</td>\n",
       "      <td>0.906521</td>\n",
       "      <td>0.647345</td>\n",
       "      <td>-1.039380</td>\n",
       "      <td>-0.186976</td>\n",
       "      <td>0.991413</td>\n",
       "      <td>1.014143</td>\n",
       "      <td>-0.648150</td>\n",
       "      <td>-1.284680</td>\n",
       "      <td>0.917561</td>\n",
       "      <td>-1.155719</td>\n",
       "      <td>-0.675816</td>\n",
       "      <td>-1.325510</td>\n",
       "      <td>1.213924</td>\n",
       "      <td>-1.845784</td>\n",
       "      <td>-0.376762</td>\n",
       "      <td>0.406334</td>\n",
       "      <td>-0.667187</td>\n",
       "      <td>0.434543</td>\n",
       "      <td>0.233553</td>\n",
       "      <td>-1.797644</td>\n",
       "      <td>-0.794813</td>\n",
       "      <td>-0.581371</td>\n",
       "      <td>0.434886</td>\n",
       "      <td>-1.006969</td>\n",
       "      <td>-0.436957</td>\n",
       "      <td>0.0</td>\n",
       "      <td>0.029544</td>\n",
       "      <td>-1.283230</td>\n",
       "      <td>-1.035578</td>\n",
       "      <td>-1.032724</td>\n",
       "      <td>0.526637</td>\n",
       "      <td>0.900582</td>\n",
       "      <td>-1.261083</td>\n",
       "      <td>0.478890</td>\n",
       "      <td>-1.082198</td>\n",
       "      <td>-0.826539</td>\n",
       "      <td>-0.428198</td>\n",
       "      <td>-0.559223</td>\n",
       "      <td>-0.547516</td>\n",
       "      <td>-0.126159</td>\n",
       "      <td>-0.121128</td>\n",
       "      <td>-0.709926</td>\n",
       "      <td>-0.608008</td>\n",
       "      <td>0.847492</td>\n",
       "      <td>0.959662</td>\n",
       "      <td>0.584181</td>\n",
       "      <td>-0.326517</td>\n",
       "      <td>0.685388</td>\n",
       "      <td>-0.527882</td>\n",
       "      <td>1.003500</td>\n",
       "      <td>1.207777</td>\n",
       "      <td>1.121755</td>\n",
       "      <td>-0.909314</td>\n",
       "      <td>-0.637484</td>\n",
       "      <td>1.190479</td>\n",
       "      <td>0.925604</td>\n",
       "      <td>-0.317720</td>\n",
       "      <td>0.205827</td>\n",
       "      <td>-0.241568</td>\n",
       "      <td>-0.660987</td>\n",
       "      <td>-0.660987</td>\n",
       "      <td>-0.001481</td>\n",
       "      <td>0.944554</td>\n",
       "      <td>0.114930</td>\n",
       "      <td>0.920618</td>\n",
       "      <td>0.446387</td>\n",
       "      <td>0.446742</td>\n",
       "      <td>0.447190</td>\n",
       "      <td>0.447190</td>\n",
       "      <td>0.939166</td>\n",
       "      <td>0.921263</td>\n",
       "      <td>0.554487</td>\n",
       "      <td>0.708604</td>\n",
       "      <td>0.735580</td>\n",
       "      <td>0.735820</td>\n",
       "      <td>0.507280</td>\n",
       "      <td>0.626217</td>\n",
       "      <td>0.558649</td>\n",
       "      <td>-0.358021</td>\n",
       "      <td>-0.047687</td>\n",
       "    </tr>\n",
       "  </tbody>\n",
       "</table>\n",
       "</div>"
      ],
      "text/plain": [
       "   original_ngtdm_Contrast  original_glcm_SumSquares  \\\n",
       "0                 0.815584                  0.394809   \n",
       "1                -0.701162                 -0.612923   \n",
       "2                -0.920492                 -0.851830   \n",
       "3                -1.093576                 -1.083078   \n",
       "4                -0.666932                 -0.598566   \n",
       "\n",
       "   original_glcm_ClusterTendency  original_glcm_ClusterProminence  \\\n",
       "0                       0.504747                         1.693400   \n",
       "1                      -0.665974                        -0.755105   \n",
       "2                      -0.900930                        -0.983948   \n",
       "3                      -1.109917                        -1.151122   \n",
       "4                      -0.659132                        -0.763127   \n",
       "\n",
       "   original_gldm_LowGrayLevelEmphasis  original_gldm_GrayLevelVariance  \\\n",
       "0                            1.881015                         1.797994   \n",
       "1                           -0.638724                        -0.515554   \n",
       "2                           -0.870918                        -0.760606   \n",
       "3                           -1.121392                        -1.031282   \n",
       "4                           -0.618467                        -0.494442   \n",
       "\n",
       "   original_glrlm_GrayLevelNonUniformityNormalized  \\\n",
       "0                                        -1.312548   \n",
       "1                                         0.206273   \n",
       "2                                         0.599243   \n",
       "3                                         0.957882   \n",
       "4                                         0.083805   \n",
       "\n",
       "   original_glszm_GrayLevelVariance  original_glszm_HighGrayLevelZoneEmphasis  \\\n",
       "0                          0.990509                                  0.997332   \n",
       "1                         -1.119148                                 -1.122503   \n",
       "2                         -1.075019                                 -1.081988   \n",
       "3                         -1.235305                                 -1.228538   \n",
       "4                         -0.918115                                 -0.936878   \n",
       "\n",
       "   original_glcm_InverseVariance  original_glcm_DifferenceAverage  \\\n",
       "0                       0.249831                         0.249831   \n",
       "1                      -0.470455                        -0.470455   \n",
       "2                      -0.737673                        -0.737673   \n",
       "3                      -1.032360                        -1.032360   \n",
       "4                      -0.440884                        -0.440884   \n",
       "\n",
       "   original_glcm_Contrast  original_ngtdm_Complexity  \\\n",
       "0                0.249831                   2.139064   \n",
       "1               -0.470455                  -0.419685   \n",
       "2               -0.737673                  -0.662098   \n",
       "3               -1.032360                  -1.003566   \n",
       "4               -0.440884                  -0.357319   \n",
       "\n",
       "   original_glszm_ZoneVariance  original_glcm_DifferenceVariance  \\\n",
       "0                    -0.013155                          2.110280   \n",
       "1                    -0.280985                         -0.464102   \n",
       "2                    -0.499452                         -0.732367   \n",
       "3                     0.330752                         -1.031356   \n",
       "4                    -0.593978                         -0.434529   \n",
       "\n",
       "   original_glszm_ZonePercentage  \\\n",
       "0                      -0.276590   \n",
       "1                       1.174670   \n",
       "2                       1.551689   \n",
       "3                       0.431777   \n",
       "4                       1.479674   \n",
       "\n",
       "   original_glrlm_RunLengthNonUniformityNormalized  original_glcm_SumEntropy  \\\n",
       "0                                         1.457461                  1.893302   \n",
       "1                                        -0.813269                 -0.513855   \n",
       "2                                        -0.969414                 -0.755106   \n",
       "3                                        -1.425237                 -1.029589   \n",
       "4                                        -0.616517                 -0.494326   \n",
       "\n",
       "   original_glcm_JointEntropy  original_firstorder_Entropy  \\\n",
       "0                    1.931494                     1.689474   \n",
       "1                   -0.507574                    -0.441471   \n",
       "2                   -0.752016                    -0.687221   \n",
       "3                   -1.030257                    -0.984191   \n",
       "4                   -0.486885                    -0.421027   \n",
       "\n",
       "   original_glszm_SizeZoneNonUniformityNormalized  \\\n",
       "0                                       -0.405175   \n",
       "1                                       -0.142608   \n",
       "2                                        0.859562   \n",
       "3                                        0.593647   \n",
       "4                                        0.118747   \n",
       "\n",
       "   original_firstorder_Variance  original_glcm_Imc2  \\\n",
       "0                     -2.243220            1.378533   \n",
       "1                     -0.764653           -0.768062   \n",
       "2                     -1.307031           -0.934653   \n",
       "3                     -1.353045           -1.126801   \n",
       "4                     -1.380134           -0.753802   \n",
       "\n",
       "   original_glcm_ClusterShade  original_gldm_SmallDependenceEmphasis  \\\n",
       "0                   -1.785998                               0.140494   \n",
       "1                    0.686420                               0.591184   \n",
       "2                    0.877928                               0.888531   \n",
       "3                    1.029707                              -0.186842   \n",
       "4                    0.687716                               0.906521   \n",
       "\n",
       "   original_gldm_SmallDependenceHighGrayLevelEmphasis  \\\n",
       "0                                           0.086117    \n",
       "1                                           0.381301    \n",
       "2                                           0.755964    \n",
       "3                                          -0.324742    \n",
       "4                                           0.647345    \n",
       "\n",
       "   original_glrlm_RunPercentage  original_glrlm_LowGrayLevelRunEmphasis  \\\n",
       "0                      1.809329                                1.287389   \n",
       "1                     -0.865203                               -0.290360   \n",
       "2                     -0.864054                               -0.637192   \n",
       "3                     -1.192779                               -0.981180   \n",
       "4                     -1.039380                               -0.186976   \n",
       "\n",
       "   original_gldm_SmallDependenceLowGrayLevelEmphasis  \\\n",
       "0                                           0.118759   \n",
       "1                                           0.638765   \n",
       "2                                           0.935504   \n",
       "3                                          -0.199160   \n",
       "4                                           0.991413   \n",
       "\n",
       "   original_glszm_SizeZoneNonUniformity  original_shape_SurfaceVolumeRatio  \\\n",
       "0                              0.166203                          -1.236164   \n",
       "1                              1.286088                          -0.412712   \n",
       "2                              1.581554                          -0.121204   \n",
       "3                              1.844815                          -0.308727   \n",
       "4                              1.014143                          -0.648150   \n",
       "\n",
       "   original_firstorder_MeanAbsoluteDeviation  original_firstorder_Kurtosis  \\\n",
       "0                                  -2.520336                      0.372536   \n",
       "1                                  -0.951180                      2.119517   \n",
       "2                                  -1.608243                      0.372536   \n",
       "3                                  -1.318483                      1.444120   \n",
       "4                                  -1.284680                      0.917561   \n",
       "\n",
       "   original_firstorder_RobustMeanAbsoluteDeviation  \\\n",
       "0                                        -2.449599   \n",
       "1                                        -1.206196   \n",
       "2                                        -1.932227   \n",
       "3                                        -1.276721   \n",
       "4                                        -1.155719   \n",
       "\n",
       "   original_glszm_LargeAreaEmphasis  original_firstorder_Skewness  \\\n",
       "0                          0.021062                      1.604314   \n",
       "1                         -0.292000                     -1.069161   \n",
       "2                         -0.555965                      2.024363   \n",
       "3                          0.334670                     -1.480753   \n",
       "4                         -0.675816                     -1.325510   \n",
       "\n",
       "   original_gldm_DependenceNonUniformityNormalized  \\\n",
       "0                                        -1.866521   \n",
       "1                                         0.896400   \n",
       "2                                         0.714818   \n",
       "3                                         0.855004   \n",
       "4                                         1.213924   \n",
       "\n",
       "   original_firstorder_Maximum  original_glcm_DifferenceEntropy  \\\n",
       "0                    -2.205560                         2.076385   \n",
       "1                     0.207650                        -0.405352   \n",
       "2                     0.190714                        -0.669499   \n",
       "3                    -0.764916                        -0.986087   \n",
       "4                    -1.845784                        -0.376762   \n",
       "\n",
       "   original_glszm_SmallAreaHighGrayLevelEmphasis  \\\n",
       "0                                       0.895520   \n",
       "1                                       0.246643   \n",
       "2                                       1.050159   \n",
       "3                                       0.797694   \n",
       "4                                       0.406334   \n",
       "\n",
       "   original_glszm_LargeAreaHighGrayLevelEmphasis  \\\n",
       "0                                       0.017873   \n",
       "1                                      -0.280377   \n",
       "2                                      -0.547252   \n",
       "3                                       0.369341   \n",
       "4                                      -0.667187   \n",
       "\n",
       "   original_glszm_SmallAreaLowGrayLevelEmphasis  \\\n",
       "0                                     -0.363304   \n",
       "1                                      0.271182   \n",
       "2                                      1.092280   \n",
       "3                                      0.834526   \n",
       "4                                      0.434543   \n",
       "\n",
       "   original_firstorder_10Percentile  original_firstorder_Range  \\\n",
       "0                         -1.104284                  -1.546236   \n",
       "1                          0.708810                   0.223897   \n",
       "2                          0.653180                   0.132431   \n",
       "3                          0.896886                  -0.905462   \n",
       "4                          0.233553                  -1.797644   \n",
       "\n",
       "   original_glrlm_ShortRunHighGrayLevelEmphasis  original_firstorder_Mean  \\\n",
       "0                                      2.244434                  0.224215   \n",
       "1                                     -1.098309                  0.410069   \n",
       "2                                     -0.504449                 -0.550445   \n",
       "3                                     -1.515194                  0.376656   \n",
       "4                                     -0.794813                 -0.581371   \n",
       "\n",
       "   original_glszm_SmallAreaEmphasis  original_firstorder_RootMeanSquared  \\\n",
       "0                         -0.117341                             0.278809   \n",
       "1                          0.267194                             0.177114   \n",
       "2                          1.108029                            -0.953318   \n",
       "3                          0.844620                             0.027529   \n",
       "4                          0.434886                            -1.006969   \n",
       "\n",
       "   original_firstorder_Median  original_glszm_LargeAreaLowGrayLevelEmphasis  \\\n",
       "0                    0.172390                                           0.0   \n",
       "1                    0.434059                                           0.0   \n",
       "2                   -0.915398                                           0.0   \n",
       "3                    0.504345                                           0.0   \n",
       "4                   -0.436957                                           0.0   \n",
       "\n",
       "   original_glrlm_ShortRunLowGrayLevelEmphasis  \\\n",
       "0                                     0.902403   \n",
       "1                                    -0.118940   \n",
       "2                                    -0.463346   \n",
       "3                                    -0.925355   \n",
       "4                                     0.029544   \n",
       "\n",
       "   original_firstorder_90Percentile  original_glcm_Correlation  \\\n",
       "0                          0.240085                   0.913377   \n",
       "1                         -0.203405                  -1.015002   \n",
       "2                         -0.979927                  -1.231590   \n",
       "3                         -0.531131                  -1.300273   \n",
       "4                         -1.283230                  -1.035578   \n",
       "\n",
       "   original_glcm_MCC  original_firstorder_Minimum  original_glcm_Imc1  \\\n",
       "0           0.910399                    -0.428112           -0.460296   \n",
       "1          -1.012317                    -0.059237            0.759789   \n",
       "2          -1.227003                     0.141370            1.133862   \n",
       "3          -1.295027                     0.562408            0.995270   \n",
       "4          -1.032724                     0.526637            0.900582   \n",
       "\n",
       "   original_gldm_DependenceEntropy  original_glrlm_RunEntropy  \\\n",
       "0                         2.300923                  -0.234121   \n",
       "1                        -0.988042                   0.780899   \n",
       "2                        -0.850452                   0.719790   \n",
       "3                        -1.082987                   1.197741   \n",
       "4                        -1.261083                   0.478890   \n",
       "\n",
       "   original_firstorder_InterquartileRange  original_shape_MajorAxisLength  \\\n",
       "0                               -2.370339                       -0.422731   \n",
       "1                               -1.260687                        0.199005   \n",
       "2                               -1.994834                       -0.194852   \n",
       "3                               -1.228842                        0.646148   \n",
       "4                               -1.082198                       -0.826539   \n",
       "\n",
       "   original_shape_MinorAxisLength  original_shape_Maximum2DDiameterRow  \\\n",
       "0                       -0.104752                            -0.003819   \n",
       "1                        0.099446                             0.185824   \n",
       "2                       -0.425344                             0.107916   \n",
       "3                        0.998708                             0.366055   \n",
       "4                       -0.428198                            -0.559223   \n",
       "\n",
       "   original_shape_Maximum2DDiameterColumn  original_glrlm_ShortRunEmphasis  \\\n",
       "0                               -0.247497                         1.237088   \n",
       "1                                0.544265                        -0.318159   \n",
       "2                               -0.565825                        -0.503023   \n",
       "3                                1.193235                        -1.109025   \n",
       "4                               -0.547516                        -0.126159   \n",
       "\n",
       "   original_shape_LeastAxisLength  original_shape_Maximum3DDiameter  \\\n",
       "0                        0.317752                         -0.439992   \n",
       "1                       -0.085610                          0.244185   \n",
       "2                        0.041924                         -0.180317   \n",
       "3                        0.662637                          0.862577   \n",
       "4                       -0.121128                         -0.709926   \n",
       "\n",
       "   original_shape_Maximum2DDiameterSlice  \\\n",
       "0                              -0.384940   \n",
       "1                              -0.278365   \n",
       "2                               0.069737   \n",
       "3                               1.171664   \n",
       "4                              -0.608008   \n",
       "\n",
       "   original_glrlm_LongRunLowGrayLevelEmphasis  original_glrlm_LongRunEmphasis  \\\n",
       "0                                   -1.001900                       -1.143650   \n",
       "1                                    0.827094                        0.939034   \n",
       "2                                    0.642440                        0.754650   \n",
       "3                                    1.105755                        1.240100   \n",
       "4                                    0.847492                        0.959662   \n",
       "\n",
       "   original_gldm_LargeDependenceLowGrayLevelEmphasis  \\\n",
       "0                                           0.003779   \n",
       "1                                           0.392226   \n",
       "2                                           0.339710   \n",
       "3                                           0.570484   \n",
       "4                                           0.584181   \n",
       "\n",
       "   original_gldm_DependenceVariance  original_glrlm_RunVariance  \\\n",
       "0                          0.609048                   -0.627258   \n",
       "1                         -0.368267                    0.844573   \n",
       "2                         -0.552197                    0.557812   \n",
       "3                         -1.144561                    1.004522   \n",
       "4                         -0.326517                    0.685388   \n",
       "\n",
       "   original_shape_SurfaceArea  original_glrlm_LongRunHighGrayLevelEmphasis  \\\n",
       "0                   -0.153263                                    -1.041581   \n",
       "1                    0.177768                                     0.982890   \n",
       "2                   -0.075719                                     0.800122   \n",
       "3                    1.170063                                     1.290722   \n",
       "4                   -0.527882                                     1.003500   \n",
       "\n",
       "   original_gldm_LargeDependenceHighGrayLevelEmphasis  \\\n",
       "0                                          -2.014558    \n",
       "1                                           1.001130    \n",
       "2                                           0.965911    \n",
       "3                                           1.221248    \n",
       "4                                           1.207777    \n",
       "\n",
       "   original_gldm_LargeDependenceEmphasis  \\\n",
       "0                              -1.830925   \n",
       "1                               0.905911   \n",
       "2                               0.864701   \n",
       "3                               1.129968   \n",
       "4                               1.121755   \n",
       "\n",
       "   original_glrlm_RunLengthNonUniformity  \\\n",
       "0                               1.757392   \n",
       "1                              -0.359074   \n",
       "2                              -0.767628   \n",
       "3                               0.011233   \n",
       "4                              -0.909314   \n",
       "\n",
       "   original_glrlm_GrayLevelNonUniformity  original_shape_Flatness  \\\n",
       "0                               0.508749                 1.021969   \n",
       "1                               0.052605                -0.481362   \n",
       "2                              -0.166883                 0.215089   \n",
       "3                               1.125869                -0.337084   \n",
       "4                              -0.637484                 1.190479   \n",
       "\n",
       "   original_glszm_GrayLevelNonUniformity  original_shape_MeshVolume  \\\n",
       "0                               0.180750                   0.244211   \n",
       "1                               1.312615                   0.243604   \n",
       "2                               1.216688                  -0.085127   \n",
       "3                               1.607797                   1.139846   \n",
       "4                               0.925604                  -0.317720   \n",
       "\n",
       "   original_glrlm_HighGrayLevelRunEmphasis  \\\n",
       "0                                -1.300915   \n",
       "1                                 0.308719   \n",
       "2                                 0.650470   \n",
       "3                                 0.983870   \n",
       "4                                 0.205827   \n",
       "\n",
       "   original_gldm_GrayLevelNonUniformity  original_firstorder_TotalEnergy  \\\n",
       "0                             -0.096434                        -1.822729   \n",
       "1                              0.327393                         0.254132   \n",
       "2                              0.019644                        -0.460947   \n",
       "3                              1.298483                         0.911221   \n",
       "4                             -0.241568                        -0.660987   \n",
       "\n",
       "   original_firstorder_Energy  original_glszm_ZoneEntropy  \\\n",
       "0                   -1.822729                    0.874826   \n",
       "1                    0.254132                    0.362074   \n",
       "2                   -0.460947                   -0.489085   \n",
       "3                    0.911221                   -0.313075   \n",
       "4                   -0.660987                   -0.001481   \n",
       "\n",
       "   original_shape_Sphericity  original_gldm_DependenceNonUniformity  \\\n",
       "0                   1.054422                              -0.752055   \n",
       "1                  -0.060811                               0.515459   \n",
       "2                  -0.032013                               0.170217   \n",
       "3                  -0.799055                               1.294624   \n",
       "4                   0.944554                               0.114930   \n",
       "\n",
       "   original_shape_Elongation  original_glcm_Idmn  original_glcm_Idn  \\\n",
       "0                   0.527091           -0.245193          -0.244881   \n",
       "1                  -0.513177            0.475833           0.476179   \n",
       "2                  -0.639375            0.741240           0.741464   \n",
       "3                   0.194675            1.032461           1.032458   \n",
       "4                   0.920618            0.446387           0.446742   \n",
       "\n",
       "   original_glcm_Idm  original_glcm_Id  \\\n",
       "0          -0.244485         -0.244485   \n",
       "1           0.476616          0.476616   \n",
       "2           0.741746          0.741746   \n",
       "3           1.032453          1.032453   \n",
       "4           0.447190          0.447190   \n",
       "\n",
       "   original_glszm_LowGrayLevelZoneEmphasis  \\\n",
       "0                                -1.001278   \n",
       "1                                 1.119504   \n",
       "2                                 1.080245   \n",
       "3                                 1.221987   \n",
       "4                                 0.939166   \n",
       "\n",
       "   original_glszm_GrayLevelNonUniformityNormalized  original_glcm_JointEnergy  \\\n",
       "0                                        -0.995773                  -0.292117   \n",
       "1                                         1.116599                   0.574137   \n",
       "2                                         1.073841                   0.815515   \n",
       "3                                         1.228821                   1.061898   \n",
       "4                                         0.921263                   0.554487   \n",
       "\n",
       "   original_glcm_Autocorrelation  original_glcm_JointAverage  \\\n",
       "0                      -0.953626                   -1.068207   \n",
       "1                       0.724154                    0.748452   \n",
       "2                       0.943677                    0.960035   \n",
       "3                       1.156664                    1.159269   \n",
       "4                       0.708604                    0.735580   \n",
       "\n",
       "   original_glcm_SumAverage  original_firstorder_Uniformity  \\\n",
       "0                 -1.068361                       -1.813786   \n",
       "1                  0.748681                        0.528056   \n",
       "2                  0.960044                        0.767834   \n",
       "3                  1.159015                        1.029702   \n",
       "4                  0.735820                        0.507280   \n",
       "\n",
       "   original_gldm_HighGrayLevelEmphasis  original_glcm_MaximumProbability  \\\n",
       "0                            -1.891687                         -0.378908   \n",
       "1                             0.646162                          0.578373   \n",
       "2                             0.873873                          0.819227   \n",
       "3                             1.117620                          1.063213   \n",
       "4                             0.626217                          0.558649   \n",
       "\n",
       "   original_ngtdm_Busyness  original_glrlm_GrayLevelVariance  \n",
       "0                 1.040523                          1.277362  \n",
       "1                -0.051678                         -0.171697  \n",
       "2                -0.463500                         -0.577096  \n",
       "3                -0.236835                         -0.955091  \n",
       "4                -0.358021                         -0.047687  "
      ]
     },
     "execution_count": 34,
     "metadata": {},
     "output_type": "execute_result"
    }
   ],
   "source": [
    "df_float_cols.head()"
   ]
  },
  {
   "cell_type": "markdown",
   "id": "663c0bb2",
   "metadata": {},
   "source": [
    "## Finding pointbiserialr correlation between FLoat columns and 'pCR (outcome)'"
   ]
  },
  {
   "cell_type": "code",
   "execution_count": 45,
   "id": "0acca4a1",
   "metadata": {},
   "outputs": [
    {
     "name": "stderr",
     "output_type": "stream",
     "text": [
      "C:\\Users\\chaitanyamanem\\anaconda3\\lib\\site-packages\\scipy\\stats\\stats.py:3913: PearsonRConstantInputWarning: An input array is constant; the correlation coefficent is not defined.\n",
      "  warnings.warn(PearsonRConstantInputWarning())\n"
     ]
    }
   ],
   "source": [
    "correlation = []\n",
    "\n",
    "for col in list(df_float_cols.columns):\n",
    "    correlation.append((col,abs(st.pointbiserialr(df['pCR (outcome)'],df_float_cols[col]).correlation)))\n",
    "\n"
   ]
  },
  {
   "cell_type": "code",
   "execution_count": 53,
   "id": "b9a923d8",
   "metadata": {},
   "outputs": [
    {
     "data": {
      "text/html": [
       "<div>\n",
       "<style scoped>\n",
       "    .dataframe tbody tr th:only-of-type {\n",
       "        vertical-align: middle;\n",
       "    }\n",
       "\n",
       "    .dataframe tbody tr th {\n",
       "        vertical-align: top;\n",
       "    }\n",
       "\n",
       "    .dataframe thead th {\n",
       "        text-align: right;\n",
       "    }\n",
       "</style>\n",
       "<table border=\"1\" class=\"dataframe\">\n",
       "  <thead>\n",
       "    <tr style=\"text-align: right;\">\n",
       "      <th></th>\n",
       "      <th>feature</th>\n",
       "      <th>correlation</th>\n",
       "    </tr>\n",
       "  </thead>\n",
       "  <tbody>\n",
       "    <tr>\n",
       "      <th>26</th>\n",
       "      <td>original_glrlm_RunPercentage</td>\n",
       "      <td>0.164101</td>\n",
       "    </tr>\n",
       "    <tr>\n",
       "      <th>67</th>\n",
       "      <td>original_glrlm_LongRunLowGrayLevelEmphasis</td>\n",
       "      <td>0.154544</td>\n",
       "    </tr>\n",
       "    <tr>\n",
       "      <th>74</th>\n",
       "      <td>original_gldm_LargeDependenceHighGrayLevelEmph...</td>\n",
       "      <td>0.154237</td>\n",
       "    </tr>\n",
       "    <tr>\n",
       "      <th>16</th>\n",
       "      <td>original_glrlm_RunLengthNonUniformityNormalized</td>\n",
       "      <td>0.149406</td>\n",
       "    </tr>\n",
       "    <tr>\n",
       "      <th>75</th>\n",
       "      <td>original_gldm_LargeDependenceEmphasis</td>\n",
       "      <td>0.148486</td>\n",
       "    </tr>\n",
       "    <tr>\n",
       "      <th>57</th>\n",
       "      <td>original_glrlm_RunEntropy</td>\n",
       "      <td>0.148066</td>\n",
       "    </tr>\n",
       "    <tr>\n",
       "      <th>68</th>\n",
       "      <td>original_glrlm_LongRunEmphasis</td>\n",
       "      <td>0.141266</td>\n",
       "    </tr>\n",
       "    <tr>\n",
       "      <th>56</th>\n",
       "      <td>original_gldm_DependenceEntropy</td>\n",
       "      <td>0.138678</td>\n",
       "    </tr>\n",
       "    <tr>\n",
       "      <th>71</th>\n",
       "      <td>original_glrlm_RunVariance</td>\n",
       "      <td>0.136356</td>\n",
       "    </tr>\n",
       "    <tr>\n",
       "      <th>0</th>\n",
       "      <td>original_ngtdm_Contrast</td>\n",
       "      <td>0.135354</td>\n",
       "    </tr>\n",
       "  </tbody>\n",
       "</table>\n",
       "</div>"
      ],
      "text/plain": [
       "                                              feature  correlation\n",
       "26                       original_glrlm_RunPercentage     0.164101\n",
       "67         original_glrlm_LongRunLowGrayLevelEmphasis     0.154544\n",
       "74  original_gldm_LargeDependenceHighGrayLevelEmph...     0.154237\n",
       "16    original_glrlm_RunLengthNonUniformityNormalized     0.149406\n",
       "75              original_gldm_LargeDependenceEmphasis     0.148486\n",
       "57                          original_glrlm_RunEntropy     0.148066\n",
       "68                     original_glrlm_LongRunEmphasis     0.141266\n",
       "56                    original_gldm_DependenceEntropy     0.138678\n",
       "71                         original_glrlm_RunVariance     0.136356\n",
       "0                             original_ngtdm_Contrast     0.135354"
      ]
     },
     "execution_count": 53,
     "metadata": {},
     "output_type": "execute_result"
    }
   ],
   "source": [
    "float_cols_correlation_df = pd.DataFrame(correlation,columns=['feature','correlation'])\n",
    "float_cols_correlation_df.sort_values(by='correlation',ascending=False,inplace=True)\n",
    "float_cols_correlation_df.head(10)"
   ]
  },
  {
   "cell_type": "code",
   "execution_count": 47,
   "id": "1b8d9d3a",
   "metadata": {},
   "outputs": [
    {
     "data": {
      "image/png": "[encoded data removed]",
      "text/plain": [
       "<Figure size 360x360 with 1 Axes>"
      ]
     },
     "metadata": {
      "needs_background": "light"
     },
     "output_type": "display_data"
    }
   ],
   "source": [
    "sns.displot(x=float_cols_correlation_df['correlation'])\n",
    "plt.show()"
   ]
  },
  {
   "cell_type": "code",
   "execution_count": 39,
   "id": "4ec3bc82",
   "metadata": {},
   "outputs": [
    {
     "data": {
      "text/html": [
       "<div>\n",
       "<style scoped>\n",
       "    .dataframe tbody tr th:only-of-type {\n",
       "        vertical-align: middle;\n",
       "    }\n",
       "\n",
       "    .dataframe tbody tr th {\n",
       "        vertical-align: top;\n",
       "    }\n",
       "\n",
       "    .dataframe thead th {\n",
       "        text-align: right;\n",
       "    }\n",
       "</style>\n",
       "<table border=\"1\" class=\"dataframe\">\n",
       "  <thead>\n",
       "    <tr style=\"text-align: right;\">\n",
       "      <th></th>\n",
       "      <th>original_ngtdm_Contrast</th>\n",
       "      <th>original_glrlm_RunLengthNonUniformityNormalized</th>\n",
       "      <th>original_glrlm_RunPercentage</th>\n",
       "      <th>original_firstorder_10Percentile</th>\n",
       "      <th>original_gldm_DependenceEntropy</th>\n",
       "      <th>original_glrlm_RunEntropy</th>\n",
       "      <th>original_glrlm_LongRunLowGrayLevelEmphasis</th>\n",
       "      <th>original_glrlm_LongRunEmphasis</th>\n",
       "      <th>original_glrlm_RunVariance</th>\n",
       "      <th>original_glrlm_LongRunHighGrayLevelEmphasis</th>\n",
       "      <th>original_gldm_LargeDependenceHighGrayLevelEmphasis</th>\n",
       "      <th>original_gldm_LargeDependenceEmphasis</th>\n",
       "      <th>original_firstorder_TotalEnergy</th>\n",
       "      <th>original_firstorder_Energy</th>\n",
       "      <th>original_glcm_MaximumProbability</th>\n",
       "    </tr>\n",
       "  </thead>\n",
       "  <tbody>\n",
       "    <tr>\n",
       "      <th>0</th>\n",
       "      <td>0.815584</td>\n",
       "      <td>1.457461</td>\n",
       "      <td>1.809329</td>\n",
       "      <td>-1.104284</td>\n",
       "      <td>2.300923</td>\n",
       "      <td>-0.234121</td>\n",
       "      <td>-1.001900</td>\n",
       "      <td>-1.143650</td>\n",
       "      <td>-0.627258</td>\n",
       "      <td>-1.041581</td>\n",
       "      <td>-2.014558</td>\n",
       "      <td>-1.830925</td>\n",
       "      <td>-1.822729</td>\n",
       "      <td>-1.822729</td>\n",
       "      <td>-0.378908</td>\n",
       "    </tr>\n",
       "    <tr>\n",
       "      <th>1</th>\n",
       "      <td>-0.701162</td>\n",
       "      <td>-0.813269</td>\n",
       "      <td>-0.865203</td>\n",
       "      <td>0.708810</td>\n",
       "      <td>-0.988042</td>\n",
       "      <td>0.780899</td>\n",
       "      <td>0.827094</td>\n",
       "      <td>0.939034</td>\n",
       "      <td>0.844573</td>\n",
       "      <td>0.982890</td>\n",
       "      <td>1.001130</td>\n",
       "      <td>0.905911</td>\n",
       "      <td>0.254132</td>\n",
       "      <td>0.254132</td>\n",
       "      <td>0.578373</td>\n",
       "    </tr>\n",
       "    <tr>\n",
       "      <th>2</th>\n",
       "      <td>-0.920492</td>\n",
       "      <td>-0.969414</td>\n",
       "      <td>-0.864054</td>\n",
       "      <td>0.653180</td>\n",
       "      <td>-0.850452</td>\n",
       "      <td>0.719790</td>\n",
       "      <td>0.642440</td>\n",
       "      <td>0.754650</td>\n",
       "      <td>0.557812</td>\n",
       "      <td>0.800122</td>\n",
       "      <td>0.965911</td>\n",
       "      <td>0.864701</td>\n",
       "      <td>-0.460947</td>\n",
       "      <td>-0.460947</td>\n",
       "      <td>0.819227</td>\n",
       "    </tr>\n",
       "  </tbody>\n",
       "</table>\n",
       "</div>"
      ],
      "text/plain": [
       "   original_ngtdm_Contrast  original_glrlm_RunLengthNonUniformityNormalized  \\\n",
       "0                 0.815584                                         1.457461   \n",
       "1                -0.701162                                        -0.813269   \n",
       "2                -0.920492                                        -0.969414   \n",
       "\n",
       "   original_glrlm_RunPercentage  original_firstorder_10Percentile  \\\n",
       "0                      1.809329                         -1.104284   \n",
       "1                     -0.865203                          0.708810   \n",
       "2                     -0.864054                          0.653180   \n",
       "\n",
       "   original_gldm_DependenceEntropy  original_glrlm_RunEntropy  \\\n",
       "0                         2.300923                  -0.234121   \n",
       "1                        -0.988042                   0.780899   \n",
       "2                        -0.850452                   0.719790   \n",
       "\n",
       "   original_glrlm_LongRunLowGrayLevelEmphasis  original_glrlm_LongRunEmphasis  \\\n",
       "0                                   -1.001900                       -1.143650   \n",
       "1                                    0.827094                        0.939034   \n",
       "2                                    0.642440                        0.754650   \n",
       "\n",
       "   original_glrlm_RunVariance  original_glrlm_LongRunHighGrayLevelEmphasis  \\\n",
       "0                   -0.627258                                    -1.041581   \n",
       "1                    0.844573                                     0.982890   \n",
       "2                    0.557812                                     0.800122   \n",
       "\n",
       "   original_gldm_LargeDependenceHighGrayLevelEmphasis  \\\n",
       "0                                          -2.014558    \n",
       "1                                           1.001130    \n",
       "2                                           0.965911    \n",
       "\n",
       "   original_gldm_LargeDependenceEmphasis  original_firstorder_TotalEnergy  \\\n",
       "0                              -1.830925                        -1.822729   \n",
       "1                               0.905911                         0.254132   \n",
       "2                               0.864701                        -0.460947   \n",
       "\n",
       "   original_firstorder_Energy  original_glcm_MaximumProbability  \n",
       "0                   -1.822729                         -0.378908  \n",
       "1                    0.254132                          0.578373  \n",
       "2                   -0.460947                          0.819227  "
      ]
     },
     "execution_count": 39,
     "metadata": {},
     "output_type": "execute_result"
    }
   ],
   "source": [
    "final_selected_float_cols = float_cols_correlation_df[abs(float_cols_correlation_df['correlation'])>0.13]['feature'].to_list()\n",
    "\n",
    "final_continuous_features_df = df_float_cols[final_selected_float_cols]\n",
    "final_continuous_features_df.head(3)"
   ]
  },
  {
   "cell_type": "code",
   "execution_count": 52,
   "id": "948a5d75",
   "metadata": {},
   "outputs": [
    {
     "data": {
      "text/plain": [
       "original_ngtdm_Contrast                               0.474834\n",
       "original_glrlm_RunLengthNonUniformityNormalized       0.756738\n",
       "original_glrlm_RunPercentage                          1.000000\n",
       "original_firstorder_10Percentile                     -0.376308\n",
       "original_gldm_DependenceEntropy                       0.877261\n",
       "original_glrlm_RunEntropy                            -0.800861\n",
       "original_glrlm_LongRunLowGrayLevelEmphasis           -0.843449\n",
       "original_glrlm_LongRunEmphasis                       -0.857987\n",
       "original_glrlm_RunVariance                           -0.734592\n",
       "original_glrlm_LongRunHighGrayLevelEmphasis          -0.773533\n",
       "original_gldm_LargeDependenceHighGrayLevelEmphasis   -0.913308\n",
       "original_gldm_LargeDependenceEmphasis                -0.979207\n",
       "original_firstorder_TotalEnergy                      -0.407315\n",
       "original_firstorder_Energy                           -0.407315\n",
       "original_glcm_MaximumProbability                     -0.459078\n",
       "Name: original_glrlm_RunPercentage, dtype: float64"
      ]
     },
     "execution_count": 52,
     "metadata": {},
     "output_type": "execute_result"
    }
   ],
   "source": [
    "df_float_cols[final_selected_float_cols].corr()['original_glrlm_RunPercentage']"
   ]
  },
  {
   "cell_type": "code",
   "execution_count": 56,
   "id": "f4da223c",
   "metadata": {},
   "outputs": [
    {
     "data": {
      "image/png": "[encoded data removed]",
      "text/plain": [
       "<Figure size 432x288 with 1 Axes>"
      ]
     },
     "metadata": {
      "needs_background": "light"
     },
     "output_type": "display_data"
    }
   ],
   "source": [
    "sns.scatterplot(x=final_continuous_features_df['original_glrlm_RunPercentage'],\n",
    "                y=final_continuous_features_df['original_ngtdm_Contrast'],\n",
    "                hue=df['pCR (outcome)']\n",
    "               )\n",
    "plt.show()"
   ]
  },
  {
   "cell_type": "code",
   "execution_count": 310,
   "id": "715847c1",
   "metadata": {},
   "outputs": [
    {
     "data": {
      "text/plain": [
       "(395, 15)"
      ]
     },
     "execution_count": 310,
     "metadata": {},
     "output_type": "execute_result"
    }
   ],
   "source": [
    "final_continuous_features_df.shape"
   ]
  },
  {
   "cell_type": "markdown",
   "id": "a5ec25ee",
   "metadata": {},
   "source": [
    "### Merging categorical can continuous features"
   ]
  },
  {
   "cell_type": "code",
   "execution_count": 58,
   "id": "1b7d46bf",
   "metadata": {},
   "outputs": [],
   "source": [
    "X = pd.concat([final_continuous_features_df.reset_index(),df[['ER', 'PgR', 'HER2', 'LNStatus']].reset_index()],axis=1)\n",
    "y = df['pCR (outcome)']\n",
    "X.drop(columns=['index'],inplace=True)"
   ]
  },
  {
   "cell_type": "code",
   "execution_count": 59,
   "id": "4d55a976",
   "metadata": {},
   "outputs": [],
   "source": [
    "X_train, X_test, y_train, y_test = train_test_split(X, y, test_size=0.25, random_state=42,stratify=y)"
   ]
  },
  {
   "cell_type": "markdown",
   "id": "7aa6ef7b",
   "metadata": {},
   "source": [
    "### Scaling the data"
   ]
  },
  {
   "cell_type": "code",
   "execution_count": 60,
   "id": "19d9eea9",
   "metadata": {},
   "outputs": [],
   "source": [
    "scaler = StandardScaler()\n",
    "X_train = pd.DataFrame(scaler.fit_transform(X_train),columns=X_train.columns)\n",
    "X_test = pd.DataFrame(scaler.transform(X_test),columns=X_test.columns)"
   ]
  },
  {
   "cell_type": "markdown",
   "id": "0a0a53fb",
   "metadata": {},
   "source": [
    "## Logistic Regression"
   ]
  },
  {
   "cell_type": "code",
   "execution_count": 69,
   "id": "6556522a",
   "metadata": {},
   "outputs": [],
   "source": [
    "parameters = {\n",
    "    'class_weight':[{0:1,1:1},{0:1.15,1:1},{0:1.25,1:1},{0:1,1:2.5},{0:1,1:5},{0:1,1:10},{0:1,1:30},{0:1,1:40},{0:1,1:50},\n",
    "                    {0:1,1:70},{0:1,1:80},{0:1,1:100},\n",
    "                    {0:5,1:1},{0:10,1:1},{0:30,1:1},{0:40,1:1},{0:50,1:1},\n",
    "                    {0:70,1:1},{0:0.8,1:1},{0:0.5,1:0.5},\n",
    "                    {0:0.6,1:0.5},{0:0.5,1:0.6},{0:0.4,1:0.7},{0:0.3,1:0.7}\n",
    "                   ]\n",
    "}\n",
    "lr = LogisticRegression()"
   ]
  },
  {
   "cell_type": "code",
   "execution_count": 70,
   "id": "4fc14e9e",
   "metadata": {},
   "outputs": [
    {
     "data": {
      "text/plain": [
       "GridSearchCV(cv=5, estimator=LogisticRegression(), n_jobs=3,\n",
       "             param_grid={'class_weight': [{0: 1, 1: 1}, {0: 1.15, 1: 1},\n",
       "                                          {0: 1.25, 1: 1}, {0: 1, 1: 2.5},\n",
       "                                          {0: 1, 1: 5}, {0: 1, 1: 10},\n",
       "                                          {0: 1, 1: 30}, {0: 1, 1: 40},\n",
       "                                          {0: 1, 1: 50}, {0: 1, 1: 70},\n",
       "                                          {0: 1, 1: 80}, {0: 1, 1: 100},\n",
       "                                          {0: 5, 1: 1}, {0: 10, 1: 1},\n",
       "                                          {0: 30, 1: 1}, {0: 40, 1: 1},\n",
       "                                          {0: 50, 1: 1}, {0: 70, 1: 1},\n",
       "                                          {0: 0.8, 1: 1}, {0: 0.5, 1: 0.5},\n",
       "                                          {0: 0.6, 1: 0.5}, {0: 0.5, 1: 0.6},\n",
       "                                          {0: 0.4, 1: 0.7}, {0: 0.3, 1: 0.7}]},\n",
       "             scoring='recall')"
      ]
     },
     "execution_count": 70,
     "metadata": {},
     "output_type": "execute_result"
    }
   ],
   "source": [
    "grid = GridSearchCV(lr,parameters,scoring=\"recall\", cv=5, n_jobs=3)\n",
    "grid.fit(X_train,y_train)"
   ]
  },
  {
   "cell_type": "code",
   "execution_count": 71,
   "id": "1837e7aa",
   "metadata": {},
   "outputs": [
    {
     "data": {
      "text/plain": [
       "{'class_weight': {0: 1, 1: 50}}"
      ]
     },
     "execution_count": 71,
     "metadata": {},
     "output_type": "execute_result"
    }
   ],
   "source": [
    "grid.best_params_"
   ]
  },
  {
   "cell_type": "code",
   "execution_count": 72,
   "id": "64452cae",
   "metadata": {},
   "outputs": [
    {
     "data": {
      "text/plain": [
       "0.9723809523809525"
      ]
     },
     "execution_count": 72,
     "metadata": {},
     "output_type": "execute_result"
    }
   ],
   "source": [
    "grid.best_score_"
   ]
  },
  {
   "cell_type": "code",
   "execution_count": 146,
   "id": "8f640c03",
   "metadata": {},
   "outputs": [],
   "source": [
    "lr = LogisticRegression(class_weight={0:0.8, 1:4})\n",
    "lr.fit(X_train[['original_glrlm_RunPercentage','original_ngtdm_Contrast']],y_train)\n",
    "y_predicted = lr.predict(X_test[['original_glrlm_RunPercentage','original_ngtdm_Contrast']])"
   ]
  },
  {
   "cell_type": "code",
   "execution_count": 147,
   "id": "da4d62c8",
   "metadata": {},
   "outputs": [
    {
     "name": "stdout",
     "output_type": "stream",
     "text": [
      "Accuracy: 0.37373737373737376\n",
      "Confusion matrix: \n",
      "[[18 57]\n",
      " [ 5 19]]\n",
      "Precission: 0.25\n",
      "Recall: 0.7916666666666666\n",
      "f1_score: 0.38000000000000006\n"
     ]
    }
   ],
   "source": [
    "print(f\"Accuracy: {accuracy_score(y_test,y_predicted)}\")\n",
    "print(f\"Confusion matrix: \\n{confusion_matrix(y_test,y_predicted)}\")\n",
    "print(f\"Precission: {precision_score(y_test,y_predicted)}\")\n",
    "print(f\"Recall: {recall_score(y_test,y_predicted)}\")\n",
    "print(f\"f1_score: {f1_score(y_test,y_predicted)}\")"
   ]
  },
  {
   "cell_type": "code",
   "execution_count": 75,
   "id": "26b4bd1d",
   "metadata": {},
   "outputs": [
    {
     "data": {
      "text/plain": [
       "0.39344262295081966"
      ]
     },
     "execution_count": 75,
     "metadata": {},
     "output_type": "execute_result"
    }
   ],
   "source": [
    "f1_score(y_test,y_predicted)"
   ]
  },
  {
   "cell_type": "code",
   "execution_count": 76,
   "id": "cef86d23",
   "metadata": {},
   "outputs": [
    {
     "data": {
      "text/plain": [
       "1.0"
      ]
     },
     "execution_count": 76,
     "metadata": {},
     "output_type": "execute_result"
    }
   ],
   "source": [
    "recall_score(y_test,y_predicted)"
   ]
  },
  {
   "cell_type": "code",
   "execution_count": 348,
   "id": "d7abcb75",
   "metadata": {},
   "outputs": [
    {
     "name": "stderr",
     "output_type": "stream",
     "text": [
      "C:\\Users\\chaitanyamanem\\anaconda3\\lib\\site-packages\\sklearn\\metrics\\_classification.py:1245: UndefinedMetricWarning: Precision is ill-defined and being set to 0.0 due to no predicted samples. Use `zero_division` parameter to control this behavior.\n",
      "  _warn_prf(average, modifier, msg_start, len(result))\n"
     ]
    },
    {
     "data": {
      "text/plain": [
       "0.0"
      ]
     },
     "execution_count": 348,
     "metadata": {},
     "output_type": "execute_result"
    }
   ],
   "source": [
    "precision_score(y_test,y_predicted)"
   ]
  },
  {
   "cell_type": "code",
   "execution_count": 349,
   "id": "f81ec6fa",
   "metadata": {},
   "outputs": [
    {
     "data": {
      "text/html": [
       "<div>\n",
       "<style scoped>\n",
       "    .dataframe tbody tr th:only-of-type {\n",
       "        vertical-align: middle;\n",
       "    }\n",
       "\n",
       "    .dataframe tbody tr th {\n",
       "        vertical-align: top;\n",
       "    }\n",
       "\n",
       "    .dataframe thead th {\n",
       "        text-align: right;\n",
       "    }\n",
       "</style>\n",
       "<table border=\"1\" class=\"dataframe\">\n",
       "  <thead>\n",
       "    <tr style=\"text-align: right;\">\n",
       "      <th></th>\n",
       "      <th>original_ngtdm_Contrast</th>\n",
       "      <th>original_glrlm_RunLengthNonUniformityNormalized</th>\n",
       "      <th>original_glrlm_RunPercentage</th>\n",
       "      <th>original_firstorder_10Percentile</th>\n",
       "      <th>original_gldm_DependenceEntropy</th>\n",
       "      <th>original_glrlm_RunEntropy</th>\n",
       "      <th>original_glrlm_LongRunLowGrayLevelEmphasis</th>\n",
       "      <th>original_glrlm_LongRunEmphasis</th>\n",
       "      <th>original_glrlm_RunVariance</th>\n",
       "      <th>original_glrlm_LongRunHighGrayLevelEmphasis</th>\n",
       "      <th>original_gldm_LargeDependenceHighGrayLevelEmphasis</th>\n",
       "      <th>original_gldm_LargeDependenceEmphasis</th>\n",
       "      <th>original_firstorder_TotalEnergy</th>\n",
       "      <th>original_firstorder_Energy</th>\n",
       "      <th>original_glcm_MaximumProbability</th>\n",
       "      <th>ER</th>\n",
       "      <th>PgR</th>\n",
       "      <th>HER2</th>\n",
       "      <th>LNStatus</th>\n",
       "    </tr>\n",
       "  </thead>\n",
       "  <tbody>\n",
       "    <tr>\n",
       "      <th>0</th>\n",
       "      <td>-1.202677</td>\n",
       "      <td>-0.416261</td>\n",
       "      <td>-0.067946</td>\n",
       "      <td>1.531810</td>\n",
       "      <td>-0.001136</td>\n",
       "      <td>0.019452</td>\n",
       "      <td>0.122482</td>\n",
       "      <td>0.233286</td>\n",
       "      <td>0.445080</td>\n",
       "      <td>0.276214</td>\n",
       "      <td>0.062869</td>\n",
       "      <td>-0.080823</td>\n",
       "      <td>0.973696</td>\n",
       "      <td>0.973696</td>\n",
       "      <td>1.319758</td>\n",
       "      <td>0.940931</td>\n",
       "      <td>-0.047866</td>\n",
       "      <td>-0.063368</td>\n",
       "      <td>-0.067347</td>\n",
       "    </tr>\n",
       "    <tr>\n",
       "      <th>1</th>\n",
       "      <td>1.004156</td>\n",
       "      <td>0.626311</td>\n",
       "      <td>-0.253554</td>\n",
       "      <td>-0.556278</td>\n",
       "      <td>-0.366195</td>\n",
       "      <td>0.289157</td>\n",
       "      <td>0.527913</td>\n",
       "      <td>0.560689</td>\n",
       "      <td>0.855208</td>\n",
       "      <td>0.579370</td>\n",
       "      <td>0.368550</td>\n",
       "      <td>0.399352</td>\n",
       "      <td>0.129048</td>\n",
       "      <td>0.129048</td>\n",
       "      <td>-0.733304</td>\n",
       "      <td>-1.062778</td>\n",
       "      <td>-0.065123</td>\n",
       "      <td>-0.063368</td>\n",
       "      <td>-0.067347</td>\n",
       "    </tr>\n",
       "    <tr>\n",
       "      <th>2</th>\n",
       "      <td>0.118262</td>\n",
       "      <td>0.625415</td>\n",
       "      <td>-1.104012</td>\n",
       "      <td>-0.039962</td>\n",
       "      <td>-1.617338</td>\n",
       "      <td>0.205841</td>\n",
       "      <td>1.229275</td>\n",
       "      <td>1.346786</td>\n",
       "      <td>1.466246</td>\n",
       "      <td>1.399761</td>\n",
       "      <td>1.347625</td>\n",
       "      <td>1.297672</td>\n",
       "      <td>-0.117179</td>\n",
       "      <td>-0.117179</td>\n",
       "      <td>-0.000634</td>\n",
       "      <td>-1.062778</td>\n",
       "      <td>-0.065123</td>\n",
       "      <td>-0.063368</td>\n",
       "      <td>-0.067347</td>\n",
       "    </tr>\n",
       "    <tr>\n",
       "      <th>3</th>\n",
       "      <td>0.776594</td>\n",
       "      <td>0.132331</td>\n",
       "      <td>0.177399</td>\n",
       "      <td>-1.789674</td>\n",
       "      <td>1.927613</td>\n",
       "      <td>-2.071963</td>\n",
       "      <td>-1.795421</td>\n",
       "      <td>-1.977399</td>\n",
       "      <td>-1.587964</td>\n",
       "      <td>-1.819882</td>\n",
       "      <td>-0.446197</td>\n",
       "      <td>-0.158900</td>\n",
       "      <td>-1.567046</td>\n",
       "      <td>-1.567046</td>\n",
       "      <td>-0.334686</td>\n",
       "      <td>-1.062778</td>\n",
       "      <td>-0.065123</td>\n",
       "      <td>-0.063368</td>\n",
       "      <td>-0.050088</td>\n",
       "    </tr>\n",
       "    <tr>\n",
       "      <th>4</th>\n",
       "      <td>-0.651965</td>\n",
       "      <td>-0.420811</td>\n",
       "      <td>-0.446193</td>\n",
       "      <td>0.317894</td>\n",
       "      <td>-0.636659</td>\n",
       "      <td>-0.337576</td>\n",
       "      <td>0.000136</td>\n",
       "      <td>0.087479</td>\n",
       "      <td>-0.432449</td>\n",
       "      <td>0.128013</td>\n",
       "      <td>0.582081</td>\n",
       "      <td>0.472045</td>\n",
       "      <td>-1.462862</td>\n",
       "      <td>-1.462862</td>\n",
       "      <td>0.556354</td>\n",
       "      <td>0.940931</td>\n",
       "      <td>-0.047866</td>\n",
       "      <td>-0.063368</td>\n",
       "      <td>-0.050088</td>\n",
       "    </tr>\n",
       "  </tbody>\n",
       "</table>\n",
       "</div>"
      ],
      "text/plain": [
       "   original_ngtdm_Contrast  original_glrlm_RunLengthNonUniformityNormalized  \\\n",
       "0                -1.202677                                        -0.416261   \n",
       "1                 1.004156                                         0.626311   \n",
       "2                 0.118262                                         0.625415   \n",
       "3                 0.776594                                         0.132331   \n",
       "4                -0.651965                                        -0.420811   \n",
       "\n",
       "   original_glrlm_RunPercentage  original_firstorder_10Percentile  \\\n",
       "0                     -0.067946                          1.531810   \n",
       "1                     -0.253554                         -0.556278   \n",
       "2                     -1.104012                         -0.039962   \n",
       "3                      0.177399                         -1.789674   \n",
       "4                     -0.446193                          0.317894   \n",
       "\n",
       "   original_gldm_DependenceEntropy  original_glrlm_RunEntropy  \\\n",
       "0                        -0.001136                   0.019452   \n",
       "1                        -0.366195                   0.289157   \n",
       "2                        -1.617338                   0.205841   \n",
       "3                         1.927613                  -2.071963   \n",
       "4                        -0.636659                  -0.337576   \n",
       "\n",
       "   original_glrlm_LongRunLowGrayLevelEmphasis  original_glrlm_LongRunEmphasis  \\\n",
       "0                                    0.122482                        0.233286   \n",
       "1                                    0.527913                        0.560689   \n",
       "2                                    1.229275                        1.346786   \n",
       "3                                   -1.795421                       -1.977399   \n",
       "4                                    0.000136                        0.087479   \n",
       "\n",
       "   original_glrlm_RunVariance  original_glrlm_LongRunHighGrayLevelEmphasis  \\\n",
       "0                    0.445080                                     0.276214   \n",
       "1                    0.855208                                     0.579370   \n",
       "2                    1.466246                                     1.399761   \n",
       "3                   -1.587964                                    -1.819882   \n",
       "4                   -0.432449                                     0.128013   \n",
       "\n",
       "   original_gldm_LargeDependenceHighGrayLevelEmphasis  \\\n",
       "0                                           0.062869    \n",
       "1                                           0.368550    \n",
       "2                                           1.347625    \n",
       "3                                          -0.446197    \n",
       "4                                           0.582081    \n",
       "\n",
       "   original_gldm_LargeDependenceEmphasis  original_firstorder_TotalEnergy  \\\n",
       "0                              -0.080823                         0.973696   \n",
       "1                               0.399352                         0.129048   \n",
       "2                               1.297672                        -0.117179   \n",
       "3                              -0.158900                        -1.567046   \n",
       "4                               0.472045                        -1.462862   \n",
       "\n",
       "   original_firstorder_Energy  original_glcm_MaximumProbability        ER  \\\n",
       "0                    0.973696                          1.319758  0.940931   \n",
       "1                    0.129048                         -0.733304 -1.062778   \n",
       "2                   -0.117179                         -0.000634 -1.062778   \n",
       "3                   -1.567046                         -0.334686 -1.062778   \n",
       "4                   -1.462862                          0.556354  0.940931   \n",
       "\n",
       "        PgR      HER2  LNStatus  \n",
       "0 -0.047866 -0.063368 -0.067347  \n",
       "1 -0.065123 -0.063368 -0.067347  \n",
       "2 -0.065123 -0.063368 -0.067347  \n",
       "3 -0.065123 -0.063368 -0.050088  \n",
       "4 -0.047866 -0.063368 -0.050088  "
      ]
     },
     "execution_count": 349,
     "metadata": {},
     "output_type": "execute_result"
    }
   ],
   "source": [
    "X_train.head()"
   ]
  },
  {
   "cell_type": "markdown",
   "id": "a97b72b7",
   "metadata": {},
   "source": [
    "### With SMOTE"
   ]
  },
  {
   "cell_type": "code",
   "execution_count": 351,
   "id": "a4cb3fe9",
   "metadata": {},
   "outputs": [],
   "source": [
    "sm = SMOTE(random_state=42)\n",
    "\n",
    "X_res, y_res = sm.fit_resample(X_train, y_train)"
   ]
  },
  {
   "cell_type": "code",
   "execution_count": 361,
   "id": "156e4167",
   "metadata": {},
   "outputs": [],
   "source": [
    "parameters = {\n",
    "    'class_weight':[{0:1,1:1},{0:1.15,1:1},{0:1.25,1:1},{0:1,1:2.5},{0:1,1:5},{0:1,1:10},{0:1,1:30},{0:1,1:40},{0:1,1:50},\n",
    "                    {0:1,1:70},{0:1,1:80},{0:1,1:100},\n",
    "                    {0:5,1:1},{0:10,1:1},{0:30,1:1},{0:40,1:1},{0:50,1:1},\n",
    "                    {0:70,1:1},{0:0.8,1:1},{0:0.5,1:0.5},\n",
    "                    {0:0.6,1:0.5},{0:0.5,1:0.6},{0:0.4,1:0.7},{0:0.3,1:0.7}\n",
    "                   ]\n",
    "}\n",
    "lr = LogisticRegression()"
   ]
  },
  {
   "cell_type": "code",
   "execution_count": 353,
   "id": "cdf4bed4",
   "metadata": {},
   "outputs": [
    {
     "data": {
      "text/plain": [
       "GridSearchCV(cv=5, estimator=LogisticRegression(), n_jobs=3,\n",
       "             param_grid={'class_weight': [{0: 1, 1: 1}, {0: 1.15, 1: 1},\n",
       "                                          {0: 1.25, 1: 1}, {0: 1, 1: 2.5},\n",
       "                                          {0: 1, 1: 5}, {0: 1, 1: 10},\n",
       "                                          {0: 1, 1: 30}, {0: 1, 1: 40},\n",
       "                                          {0: 1, 1: 50}, {0: 1, 1: 70},\n",
       "                                          {0: 1, 1: 80}, {0: 1, 1: 100},\n",
       "                                          {0: 5, 1: 1}, {0: 10, 1: 1},\n",
       "                                          {0: 30, 1: 1}, {0: 40, 1: 1},\n",
       "                                          {0: 50, 1: 1}, {0: 70, 1: 1},\n",
       "                                          {0: 0.8, 1: 1}, {0: 0.5, 1: 0.5},\n",
       "                                          {0: 0.6, 1: 0.5}, {0: 0.5, 1: 0.6},\n",
       "                                          {0: 0.4, 1: 0.7}, {0: 0.3, 1: 0.7}]},\n",
       "             scoring='accuracy')"
      ]
     },
     "execution_count": 353,
     "metadata": {},
     "output_type": "execute_result"
    }
   ],
   "source": [
    "grid = GridSearchCV(lr,parameters,scoring=\"recall\", cv=5, n_jobs=3)\n",
    "grid.fit(X_res, y_res)"
   ]
  },
  {
   "cell_type": "code",
   "execution_count": 354,
   "id": "ae2cae90",
   "metadata": {},
   "outputs": [
    {
     "data": {
      "text/plain": [
       "{'class_weight': {0: 0.6, 1: 0.5}}"
      ]
     },
     "execution_count": 354,
     "metadata": {},
     "output_type": "execute_result"
    }
   ],
   "source": [
    "grid.best_params_"
   ]
  },
  {
   "cell_type": "code",
   "execution_count": 355,
   "id": "6a947ff7",
   "metadata": {},
   "outputs": [
    {
     "data": {
      "text/plain": [
       "0.6853183520599251"
      ]
     },
     "execution_count": 355,
     "metadata": {},
     "output_type": "execute_result"
    }
   ],
   "source": [
    "grid.best_score_"
   ]
  },
  {
   "cell_type": "code",
   "execution_count": 363,
   "id": "a9605f47",
   "metadata": {},
   "outputs": [
    {
     "data": {
      "text/plain": [
       "0.5656565656565656"
      ]
     },
     "execution_count": 363,
     "metadata": {},
     "output_type": "execute_result"
    }
   ],
   "source": [
    "lr.fit(X_res, y_res)\n",
    "y_predicted = lr.predict(X_test)\n",
    "accuracy_score(y_test,y_predicted)"
   ]
  },
  {
   "cell_type": "code",
   "execution_count": 364,
   "id": "2574d298",
   "metadata": {},
   "outputs": [
    {
     "data": {
      "text/plain": [
       "array([[45, 30],\n",
       "       [13, 11]], dtype=int64)"
      ]
     },
     "execution_count": 364,
     "metadata": {},
     "output_type": "execute_result"
    }
   ],
   "source": [
    "confusion_matrix(y_test,y_predicted)"
   ]
  },
  {
   "cell_type": "code",
   "execution_count": 365,
   "id": "3512b8e2",
   "metadata": {},
   "outputs": [
    {
     "data": {
      "text/plain": [
       "0.3384615384615385"
      ]
     },
     "execution_count": 365,
     "metadata": {},
     "output_type": "execute_result"
    }
   ],
   "source": [
    "f1_score(y_test,y_predicted)"
   ]
  },
  {
   "cell_type": "code",
   "execution_count": 366,
   "id": "7eb346b0",
   "metadata": {},
   "outputs": [
    {
     "data": {
      "text/plain": [
       "0.4583333333333333"
      ]
     },
     "execution_count": 366,
     "metadata": {},
     "output_type": "execute_result"
    }
   ],
   "source": [
    "recall_score(y_test,y_predicted)"
   ]
  },
  {
   "cell_type": "code",
   "execution_count": 367,
   "id": "0d6e7452",
   "metadata": {},
   "outputs": [
    {
     "data": {
      "text/plain": [
       "0.2682926829268293"
      ]
     },
     "execution_count": 367,
     "metadata": {},
     "output_type": "execute_result"
    }
   ],
   "source": [
    "precision_score(y_test,y_predicted)"
   ]
  },
  {
   "cell_type": "code",
   "execution_count": null,
   "id": "caa79c7d",
   "metadata": {},
   "outputs": [],
   "source": []
  },
  {
   "cell_type": "code",
   "execution_count": null,
   "id": "7bc96331",
   "metadata": {},
   "outputs": [],
   "source": []
  },
  {
   "cell_type": "code",
   "execution_count": null,
   "id": "f5b0c834",
   "metadata": {},
   "outputs": [],
   "source": [
    "final_continuous_features_df['original_glrlm_RunPercentage'],\n",
    "                y=final_continuous_features_df['original_ngtdm_Contrast'],"
   ]
  },
  {
   "cell_type": "markdown",
   "id": "0568cc50",
   "metadata": {},
   "source": [
    "### KNN"
   ]
  },
  {
   "cell_type": "code",
   "execution_count": 67,
   "id": "a0822a3b",
   "metadata": {},
   "outputs": [
    {
     "name": "stdout",
     "output_type": "stream",
     "text": [
      "{'n_neighbors': 1}\n"
     ]
    }
   ],
   "source": [
    "from sklearn.neighbors import KNeighborsClassifier\n",
    "\n",
    "knn = KNeighborsClassifier()\n",
    "params ={'n_neighbors':[1,2,3,7,10,17,20,25,27,35,50]}\n",
    "knn_grid = GridSearchCV(knn,params,scoring='recall',cv=3)\n",
    "knn_grid.fit(X_train[['original_glrlm_RunPercentage','original_ngtdm_Contrast']],y_train)\n",
    "knn_grid.best_estimator_.fit(X_train[['original_glrlm_RunPercentage','original_ngtdm_Contrast']],y_train)\n",
    "print(knn_grid.best_params_)"
   ]
  },
  {
   "cell_type": "code",
   "execution_count": 68,
   "id": "29eacccc",
   "metadata": {},
   "outputs": [
    {
     "name": "stdout",
     "output_type": "stream",
     "text": [
      "Accuracy: 0.6767676767676768\n",
      "Confusion matrix: \n",
      "[[56 19]\n",
      " [13 11]]\n",
      "Precission: 0.36666666666666664\n",
      "Recall: 0.4583333333333333\n",
      "f1_score: 0.4074074074074074\n"
     ]
    }
   ],
   "source": [
    "y_predicted = knn_grid.best_estimator_.predict(X_test[['original_glrlm_RunPercentage','original_ngtdm_Contrast']])\n",
    "print(f\"Accuracy: {accuracy_score(y_test,y_predicted)}\")\n",
    "print(f\"Confusion matrix: \\n{confusion_matrix(y_test,y_predicted)}\")\n",
    "print(f\"Precission: {precision_score(y_test,y_predicted)}\")\n",
    "print(f\"Recall: {recall_score(y_test,y_predicted)}\")\n",
    "print(f\"f1_score: {f1_score(y_test,y_predicted)}\")"
   ]
  },
  {
   "cell_type": "markdown",
   "id": "bd841e25",
   "metadata": {},
   "source": [
    "### RandomForest"
   ]
  },
  {
   "cell_type": "code",
   "execution_count": 52,
   "id": "0c5b3f11",
   "metadata": {},
   "outputs": [],
   "source": [
    "from sklearn.ensemble import RandomForestClassifier\n",
    "\n",
    "rfc = RandomForestClassifier()\n",
    "rfc.fit(X_train,y_train)\n",
    "y_predicted = rfc.predict(X_test)\n"
   ]
  },
  {
   "cell_type": "code",
   "execution_count": 54,
   "id": "bfcc0199",
   "metadata": {},
   "outputs": [
    {
     "name": "stdout",
     "output_type": "stream",
     "text": [
      "Accuracy: 0.7373737373737373\n",
      "Confusion matrix: \n",
      "[[69  6]\n",
      " [20  4]]\n",
      "Precission: 0.4\n",
      "Recall: 0.16666666666666666\n",
      "f1_score: 0.23529411764705882\n"
     ]
    }
   ],
   "source": [
    "print(f\"Accuracy: {accuracy_score(y_test,y_predicted)}\")\n",
    "print(f\"Confusion matrix: \\n{confusion_matrix(y_test,y_predicted)}\")\n",
    "print(f\"Precission: {precision_score(y_test,y_predicted)}\")\n",
    "print(f\"Recall: {recall_score(y_test,y_predicted)}\")\n",
    "print(f\"f1_score: {f1_score(y_test,y_predicted)}\")"
   ]
  },
  {
   "cell_type": "markdown",
   "id": "2acf9f2e",
   "metadata": {},
   "source": [
    "### Hyperparameter Tuning"
   ]
  },
  {
   "cell_type": "code",
   "execution_count": null,
   "id": "e76f3048",
   "metadata": {},
   "outputs": [],
   "source": [
    "params={\n",
    "    'criterion':['entropy', 'gini'],\n",
    "    'splitter':['random', 'best'], \n",
    "    'min_weight_fraction_leaf':[0.0, 0.0025, 0.005, 0.0075, 0.01],\n",
    "    'min_samples_split':[2, 3, 4, 5, 6, 8, 10],\n",
    "    'min_samples_leaf':[1, 0.01, 0.02, 0.03, 0.04],\n",
    "    'min_impurity_decrease':[0.0, 0.0005, 0.005, 0.05, 0.10, 0.15, 0.2],\n",
    "    'max_leaf_nodes':[10, 15, 20, 25, 30, 35, 40, 45, 50, None],\n",
    "    'max_features':['auto', 0.95, 0.90, 0.85, 0.80, 0.75, 0.70],\n",
    "    'max_depth':[None, 2,4,6,8],\n",
    "    'min_weight_fraction_leaf':[0.0, 0.0025, 0.005, 0.0075, 0.01, 0.05]\n",
    "}"
   ]
  },
  {
   "cell_type": "code",
   "execution_count": 86,
   "id": "1d1ee454",
   "metadata": {},
   "outputs": [],
   "source": [
    "params={\n",
    "    'criterion':['entropy', 'gini'],\n",
    "    'n_estimators':[70,100,200,300],\n",
    "    'min_weight_fraction_leaf':[0.0, 0.0025, 0.005, 0.0075, 0.01, 0.05],\n",
    "    'min_samples_split':[2, 0.01, 0.02, 0.03, 0.04, 0.06, 0.08, 0.1],\n",
    "    'min_samples_leaf':[1,2,4,6,8,10,20,30],\n",
    "    'min_impurity_decrease':[0.0, 0.01, 0.05, 0.10, 0.15, 0.2],\n",
    "    'max_leaf_nodes':[10, 15, 20, 25, 30, 35, 40, 45, 50, None], \n",
    "    'max_features':['auto', 0.8, 0.7, 0.6, 0.5, 0.4],\n",
    "    'max_depth':[None,2,4,6,8,10,20],\n",
    "    'min_weight_fraction_leaf':[0.0, 0.0025, 0.005, 0.0075, 0.01, 0.05]\n",
    "}"
   ]
  },
  {
   "cell_type": "code",
   "execution_count": 91,
   "id": "89185b89",
   "metadata": {},
   "outputs": [
    {
     "data": {
      "text/plain": [
       "RandomizedSearchCV(cv=3, estimator=RandomForestClassifier(n_estimators=300),\n",
       "                   n_iter=100, n_jobs=3,\n",
       "                   param_distributions={'criterion': ['entropy', 'gini'],\n",
       "                                        'max_depth': [None, 2, 4, 6, 8, 10, 20],\n",
       "                                        'max_features': ['auto', 0.8, 0.7, 0.6,\n",
       "                                                         0.5, 0.4],\n",
       "                                        'max_leaf_nodes': [10, 15, 20, 25, 30,\n",
       "                                                           35, 40, 45, 50,\n",
       "                                                           None],\n",
       "                                        'min_impurity_decrease': [0.0, 0.01,\n",
       "                                                                  0.05, 0.1,\n",
       "                                                                  0.15, 0.2],\n",
       "                                        'min_samples_leaf': [1, 2, 4, 6, 8, 10,\n",
       "                                                             20, 30],\n",
       "                                        'min_samples_split': [2, 0.01, 0.02,\n",
       "                                                              0.03, 0.04, 0.06,\n",
       "                                                              0.08, 0.1],\n",
       "                                        'min_weight_fraction_leaf': [0.0,\n",
       "                                                                     0.0025,\n",
       "                                                                     0.005,\n",
       "                                                                     0.0075,\n",
       "                                                                     0.01,\n",
       "                                                                     0.05],\n",
       "                                        'n_estimators': [70, 100, 200, 300]},\n",
       "                   scoring='f1')"
      ]
     },
     "execution_count": 91,
     "metadata": {},
     "output_type": "execute_result"
    }
   ],
   "source": [
    "rfc = RandomForestClassifier(n_estimators=300)\n",
    "rs = RandomizedSearchCV(rfc,params,scoring='f1',cv=3,n_jobs=3,n_iter=100)\n",
    "rs.fit(X_train,y_train)"
   ]
  },
  {
   "cell_type": "code",
   "execution_count": 92,
   "id": "01d78d82",
   "metadata": {},
   "outputs": [
    {
     "data": {
      "text/plain": [
       "{'n_estimators': 200,\n",
       " 'min_weight_fraction_leaf': 0.01,\n",
       " 'min_samples_split': 0.02,\n",
       " 'min_samples_leaf': 1,\n",
       " 'min_impurity_decrease': 0.0,\n",
       " 'max_leaf_nodes': 10,\n",
       " 'max_features': 0.6,\n",
       " 'max_depth': 8,\n",
       " 'criterion': 'entropy'}"
      ]
     },
     "execution_count": 92,
     "metadata": {},
     "output_type": "execute_result"
    }
   ],
   "source": [
    "rs.best_params_"
   ]
  },
  {
   "cell_type": "code",
   "execution_count": 93,
   "id": "62aa1bdd",
   "metadata": {},
   "outputs": [
    {
     "data": {
      "text/plain": [
       "0.26481481481481484"
      ]
     },
     "execution_count": 93,
     "metadata": {},
     "output_type": "execute_result"
    }
   ],
   "source": [
    "rs.best_score_"
   ]
  },
  {
   "cell_type": "code",
   "execution_count": 94,
   "id": "a3d3419c",
   "metadata": {},
   "outputs": [
    {
     "name": "stdout",
     "output_type": "stream",
     "text": [
      "Accuracy: 0.7575757575757576\n",
      "Confusion matrix: \n",
      "[[71  4]\n",
      " [20  4]]\n",
      "Precission: 0.5\n",
      "Recall: 0.16666666666666666\n",
      "f1_score: 0.25\n"
     ]
    }
   ],
   "source": [
    "rs.best_estimator_.fit(X_train,y_train)\n",
    "y_predicted = rs.best_estimator_.predict(X_test)\n",
    "print(f\"Accuracy: {accuracy_score(y_test,y_predicted)}\")\n",
    "print(f\"Confusion matrix: \\n{confusion_matrix(y_test,y_predicted)}\")\n",
    "print(f\"Precission: {precision_score(y_test,y_predicted)}\")\n",
    "print(f\"Recall: {recall_score(y_test,y_predicted)}\")\n",
    "print(f\"f1_score: {f1_score(y_test,y_predicted)}\")"
   ]
  },
  {
   "cell_type": "markdown",
   "id": "6433a219",
   "metadata": {},
   "source": [
    "### Gradient Boosting"
   ]
  },
  {
   "cell_type": "code",
   "execution_count": 125,
   "id": "29061827",
   "metadata": {},
   "outputs": [],
   "source": [
    "from sklearn.ensemble import GradientBoostingClassifier"
   ]
  },
  {
   "cell_type": "code",
   "execution_count": 165,
   "id": "6e7cd377",
   "metadata": {},
   "outputs": [
    {
     "data": {
      "text/plain": [
       "GradientBoostingClassifier(learning_rate=0.05, max_depth=2)"
      ]
     },
     "execution_count": 165,
     "metadata": {},
     "output_type": "execute_result"
    }
   ],
   "source": [
    "gbc = GradientBoostingClassifier(max_depth=2, n_estimators=100,learning_rate=0.05)\n",
    "gbc.fit(X_train, y_train)\n"
   ]
  },
  {
   "cell_type": "code",
   "execution_count": 166,
   "id": "207c4b59",
   "metadata": {},
   "outputs": [
    {
     "name": "stdout",
     "output_type": "stream",
     "text": [
      "Accuracy: 0.7878787878787878\n",
      "Confusion matrix: \n",
      "[[70  5]\n",
      " [16  8]]\n",
      "Precission: 0.6153846153846154\n",
      "Recall: 0.3333333333333333\n",
      "f1_score: 0.43243243243243246\n"
     ]
    }
   ],
   "source": [
    "y_predicted = gbc.predict(X_test)\n",
    "print(f\"Accuracy: {accuracy_score(y_test,y_predicted)}\")\n",
    "print(f\"Confusion matrix: \\n{confusion_matrix(y_test,y_predicted)}\")\n",
    "print(f\"Precission: {precision_score(y_test,y_predicted)}\")\n",
    "print(f\"Recall: {recall_score(y_test,y_predicted)}\")\n",
    "print(f\"f1_score: {f1_score(y_test,y_predicted)}\")"
   ]
  },
  {
   "cell_type": "markdown",
   "id": "8ecc6c18",
   "metadata": {},
   "source": [
    "### SVC"
   ]
  },
  {
   "cell_type": "code",
   "execution_count": 168,
   "id": "3d1ebd9a",
   "metadata": {},
   "outputs": [],
   "source": [
    "from sklearn.svm import SVC"
   ]
  },
  {
   "cell_type": "code",
   "execution_count": 182,
   "id": "af88cb00",
   "metadata": {},
   "outputs": [],
   "source": [
    "svc = SVC(kernel='poly',degree=3)"
   ]
  },
  {
   "cell_type": "code",
   "execution_count": 183,
   "id": "ac6a1403",
   "metadata": {},
   "outputs": [
    {
     "data": {
      "text/plain": [
       "SVC(kernel='poly')"
      ]
     },
     "execution_count": 183,
     "metadata": {},
     "output_type": "execute_result"
    }
   ],
   "source": [
    "svc.fit(X_train,y_train)"
   ]
  },
  {
   "cell_type": "code",
   "execution_count": 184,
   "id": "cffcd7cd",
   "metadata": {},
   "outputs": [
    {
     "name": "stdout",
     "output_type": "stream",
     "text": [
      "Accuracy: 0.7575757575757576\n",
      "Confusion matrix: \n",
      "[[72  3]\n",
      " [21  3]]\n",
      "Precission: 0.5\n",
      "Recall: 0.125\n",
      "f1_score: 0.2\n"
     ]
    }
   ],
   "source": [
    "y_predicted = svc.predict(X_test)\n",
    "print(f\"Accuracy: {accuracy_score(y_test,y_predicted)}\")\n",
    "print(f\"Confusion matrix: \\n{confusion_matrix(y_test,y_predicted)}\")\n",
    "print(f\"Precission: {precision_score(y_test,y_predicted)}\")\n",
    "print(f\"Recall: {recall_score(y_test,y_predicted)}\")\n",
    "print(f\"f1_score: {f1_score(y_test,y_predicted)}\")"
   ]
  },
  {
   "cell_type": "markdown",
   "id": "639c9e4a",
   "metadata": {},
   "source": [
    "### NN"
   ]
  },
  {
   "cell_type": "code",
   "execution_count": 368,
   "id": "81dacee0",
   "metadata": {},
   "outputs": [],
   "source": [
    "import tensorflow as tf\n"
   ]
  },
  {
   "cell_type": "code",
   "execution_count": 455,
   "id": "6aef15ea",
   "metadata": {},
   "outputs": [],
   "source": [
    "model = tf.keras.Sequential([\n",
    "    tf.keras.layers.Dense(32,input_shape=(X_train.shape[1],)),\n",
    "    tf.keras.layers.Dense(64),\n",
    "    tf.keras.layers.Dense(128),\n",
    "    tf.keras.layers.Dense(64),\n",
    "    tf.keras.layers.Dense(32),\n",
    "    tf.keras.layers.Dense(1,activation='sigmoid')\n",
    "])"
   ]
  },
  {
   "cell_type": "code",
   "execution_count": 456,
   "id": "92420dbd",
   "metadata": {},
   "outputs": [],
   "source": [
    "model.compile(optimizer=tf.keras.optimizers.Adam(learning_rate=0.0005),\n",
    "              loss='binary_crossentropy',\n",
    "              metrics=['accuracy'])"
   ]
  },
  {
   "cell_type": "code",
   "execution_count": 457,
   "id": "cce76114",
   "metadata": {},
   "outputs": [
    {
     "name": "stdout",
     "output_type": "stream",
     "text": [
      "Model: \"sequential_7\"\n",
      "_________________________________________________________________\n",
      " Layer (type)                Output Shape              Param #   \n",
      "=================================================================\n",
      " dense_42 (Dense)            (None, 32)                640       \n",
      "                                                                 \n",
      " dense_43 (Dense)            (None, 64)                2112      \n",
      "                                                                 \n",
      " dense_44 (Dense)            (None, 128)               8320      \n",
      "                                                                 \n",
      " dense_45 (Dense)            (None, 64)                8256      \n",
      "                                                                 \n",
      " dense_46 (Dense)            (None, 32)                2080      \n",
      "                                                                 \n",
      " dense_47 (Dense)            (None, 1)                 33        \n",
      "                                                                 \n",
      "=================================================================\n",
      "Total params: 21,441\n",
      "Trainable params: 21,441\n",
      "Non-trainable params: 0\n",
      "_________________________________________________________________\n"
     ]
    }
   ],
   "source": [
    "model.summary()"
   ]
  },
  {
   "cell_type": "code",
   "execution_count": 458,
   "id": "b4b448b5",
   "metadata": {},
   "outputs": [],
   "source": [
    "callbacks = [\n",
    "    tf.keras.callbacks.EarlyStopping(\n",
    "        # Stop training when `val_loss` is no longer improving\n",
    "        monitor=\"val_accuracy\",  \n",
    "        mode='max',        \n",
    "        patience=5,\n",
    "        verbose=1,\n",
    "        restore_best_weights=True\n",
    "    )]"
   ]
  },
  {
   "cell_type": "code",
   "execution_count": 459,
   "id": "87fe95a5",
   "metadata": {},
   "outputs": [
    {
     "name": "stdout",
     "output_type": "stream",
     "text": [
      "Epoch 1/20\n",
      "14/14 [==============================] - 1s 34ms/step - loss: 0.6874 - accuracy: 0.6049 - val_loss: 0.6998 - val_accuracy: 0.5758\n",
      "Epoch 2/20\n",
      "14/14 [==============================] - 0s 12ms/step - loss: 0.6094 - accuracy: 0.6652 - val_loss: 0.7330 - val_accuracy: 0.5556\n",
      "Epoch 3/20\n",
      "14/14 [==============================] - 0s 12ms/step - loss: 0.6101 - accuracy: 0.6830 - val_loss: 0.7430 - val_accuracy: 0.5455\n",
      "Epoch 4/20\n",
      "14/14 [==============================] - 0s 13ms/step - loss: 0.6152 - accuracy: 0.6719 - val_loss: 0.6791 - val_accuracy: 0.5960\n",
      "Epoch 5/20\n",
      "14/14 [==============================] - 0s 12ms/step - loss: 0.6129 - accuracy: 0.6696 - val_loss: 0.6852 - val_accuracy: 0.5758\n",
      "Epoch 6/20\n",
      "14/14 [==============================] - 0s 12ms/step - loss: 0.6059 - accuracy: 0.6920 - val_loss: 0.7118 - val_accuracy: 0.6061\n",
      "Epoch 7/20\n",
      "14/14 [==============================] - 0s 10ms/step - loss: 0.6045 - accuracy: 0.6808 - val_loss: 0.7442 - val_accuracy: 0.5758\n",
      "Epoch 8/20\n",
      "14/14 [==============================] - 0s 12ms/step - loss: 0.6039 - accuracy: 0.6875 - val_loss: 0.6943 - val_accuracy: 0.5657\n",
      "Epoch 9/20\n",
      "14/14 [==============================] - 0s 21ms/step - loss: 0.6025 - accuracy: 0.7031 - val_loss: 0.7570 - val_accuracy: 0.5657\n",
      "Epoch 10/20\n",
      "14/14 [==============================] - 0s 21ms/step - loss: 0.5934 - accuracy: 0.6987 - val_loss: 0.6893 - val_accuracy: 0.5758\n",
      "Epoch 11/20\n",
      "13/14 [==========================>...] - ETA: 0s - loss: 0.6090 - accuracy: 0.6875Restoring model weights from the end of the best epoch: 6.\n",
      "14/14 [==============================] - 0s 17ms/step - loss: 0.6086 - accuracy: 0.6897 - val_loss: 0.6966 - val_accuracy: 0.5859\n",
      "Epoch 11: early stopping\n"
     ]
    }
   ],
   "source": [
    "history = model.fit(X_res, y_res,epochs=20,validation_data=(X_test,y_test),callbacks=callbacks,)"
   ]
  },
  {
   "cell_type": "code",
   "execution_count": 460,
   "id": "cbe75e3e",
   "metadata": {},
   "outputs": [
    {
     "data": {
      "image/png": "[encoded data removed]",
      "text/plain": [
       "<Figure size 432x288 with 1 Axes>"
      ]
     },
     "metadata": {
      "needs_background": "light"
     },
     "output_type": "display_data"
    }
   ],
   "source": [
    "sns.lineplot(x=list(range(1,11+1)),y=history.history['accuracy'],palette = 'blue', label = 'Train Data')\n",
    "sns.lineplot(x=list(range(1,11+1)),y=history.history['val_accuracy'],palette = 'orange', label = 'Val Data')\n",
    "plt.xlabel(\"Epochs\")\n",
    "plt.ylabel(\"Accuracy\")\n",
    "plt.title(\"Accuracy graphs for Training & Validation data\")\n",
    "#plt.legend()\n",
    "plt.show()\n"
   ]
  },
  {
   "cell_type": "code",
   "execution_count": 469,
   "id": "93b86d83",
   "metadata": {},
   "outputs": [
    {
     "name": "stdout",
     "output_type": "stream",
     "text": [
      "4/4 [==============================] - 0s 6ms/step\n"
     ]
    }
   ],
   "source": [
    "y_predicted = model.predict(X_test)\n",
    "y_predicted = np.where(y_predicted[:,0]>0.8,1,0)"
   ]
  },
  {
   "cell_type": "code",
   "execution_count": 470,
   "id": "4b30d6d6",
   "metadata": {},
   "outputs": [
    {
     "name": "stdout",
     "output_type": "stream",
     "text": [
      "Accuracy: 0.7474747474747475\n",
      "Confusion matrix: \n",
      "[[73  2]\n",
      " [23  1]]\n",
      "Precission: 0.3333333333333333\n",
      "Recall: 0.041666666666666664\n",
      "f1_score: 0.07407407407407407\n"
     ]
    }
   ],
   "source": [
    "\n",
    "print(f\"Accuracy: {accuracy_score(y_test,y_predicted)}\")\n",
    "print(f\"Confusion matrix: \\n{confusion_matrix(y_test,y_predicted)}\")\n",
    "print(f\"Precission: {precision_score(y_test,y_predicted)}\")\n",
    "print(f\"Recall: {recall_score(y_test,y_predicted)}\")\n",
    "print(f\"f1_score: {f1_score(y_test,y_predicted)}\")"
   ]
  },
  {
   "cell_type": "markdown",
   "id": "37cf161f",
   "metadata": {},
   "source": [
    "# -------END-----------"
   ]
  },
  {
   "cell_type": "code",
   "execution_count": null,
   "id": "8b716def",
   "metadata": {},
   "outputs": [],
   "source": []
  },
  {
   "cell_type": "code",
   "execution_count": null,
   "id": "6bd031fd",
   "metadata": {},
   "outputs": [],
   "source": []
  },
  {
   "cell_type": "code",
   "execution_count": null,
   "id": "6145b1e7",
   "metadata": {},
   "outputs": [],
   "source": []
  },
  {
   "cell_type": "code",
   "execution_count": null,
   "id": "22dfcf8b",
   "metadata": {},
   "outputs": [],
   "source": []
  },
  {
   "cell_type": "code",
   "execution_count": null,
   "id": "fbd9ffae",
   "metadata": {},
   "outputs": [],
   "source": []
  },
  {
   "cell_type": "code",
   "execution_count": null,
   "id": "68b4e260",
   "metadata": {},
   "outputs": [],
   "source": []
  },
  {
   "cell_type": "code",
   "execution_count": 87,
   "id": "24f410d9",
   "metadata": {},
   "outputs": [
    {
     "data": {
      "image/png": "[encoded data removed]",
      "text/plain": [
       "<Figure size 360x360 with 1 Axes>"
      ]
     },
     "metadata": {
      "needs_background": "light"
     },
     "output_type": "display_data"
    }
   ],
   "source": [
    "sns.displot(x=df['original_glszm_ZoneVariance'])\n",
    "plt.show()"
   ]
  },
  {
   "cell_type": "code",
   "execution_count": 90,
   "id": "b17520b7",
   "metadata": {},
   "outputs": [
    {
     "data": {
      "text/plain": [
       "0.0"
      ]
     },
     "execution_count": 90,
     "metadata": {},
     "output_type": "execute_result"
    }
   ],
   "source": [
    "df['original_glszm_ZoneVariance']"
   ]
  },
  {
   "cell_type": "code",
   "execution_count": null,
   "id": "1d34732f",
   "metadata": {},
   "outputs": [],
   "source": []
  },
  {
   "cell_type": "code",
   "execution_count": null,
   "id": "710243da",
   "metadata": {},
   "outputs": [],
   "source": [
    "for col in significant_float_cols:\n",
    "    sns.boxplot(x=df[col])\n",
    "    plt.show()"
   ]
  },
  {
   "cell_type": "code",
   "execution_count": 41,
   "id": "9b1210b2",
   "metadata": {},
   "outputs": [
    {
     "data": {
      "text/plain": [
       "(array([0.48757808]), array([0.48542262]))"
      ]
     },
     "execution_count": 41,
     "metadata": {},
     "output_type": "execute_result"
    }
   ],
   "source": [
    "f_classif(df['original_shape_Elongation'].to_numpy().reshape(-1, 1),df['pCR (outcome)'])"
   ]
  },
  {
   "cell_type": "code",
   "execution_count": 40,
   "id": "d7dd0070",
   "metadata": {},
   "outputs": [
    {
     "data": {
      "text/plain": [
       "(0.4875780814958421, 0.48542261644145446)"
      ]
     },
     "execution_count": 40,
     "metadata": {},
     "output_type": "execute_result"
    }
   ],
   "source": [
    "import scipy.stats as stats\n",
    "fvalue, pvalue = stats.f_oneway(df[df['pCR (outcome)']==0]['original_shape_Elongation'],\n",
    "                                df[df['pCR (outcome)']==1]['original_shape_Elongation'])\n",
    "fvalue, pvalue"
   ]
  },
  {
   "cell_type": "code",
   "execution_count": null,
   "id": "c571e5f9",
   "metadata": {},
   "outputs": [],
   "source": []
  },
  {
   "cell_type": "code",
   "execution_count": 35,
   "id": "1c1f8474",
   "metadata": {},
   "outputs": [
    {
     "data": {
      "text/plain": [
       "<seaborn.axisgrid.FacetGrid at 0x1b84ee945e0>"
      ]
     },
     "execution_count": 35,
     "metadata": {},
     "output_type": "execute_result"
    },
    {
     "data": {
      "image/png": "[encoded data removed]",
      "text/plain": [
       "<Figure size 442.375x360 with 1 Axes>"
      ]
     },
     "metadata": {
      "needs_background": "light"
     },
     "output_type": "display_data"
    }
   ],
   "source": [
    "sns.displot(x=df['original_shape_Elongation'],hue=df['pCR (outcome)'])"
   ]
  },
  {
   "cell_type": "markdown",
   "id": "3ca33394",
   "metadata": {},
   "source": [
    "### PgR"
   ]
  },
  {
   "cell_type": "code",
   "execution_count": 44,
   "id": "fe7c20de",
   "metadata": {},
   "outputs": [
    {
     "data": {
      "image/png": "[encoded data removed]",
      "text/plain": [
       "<Figure size 432x288 with 1 Axes>"
      ]
     },
     "metadata": {
      "needs_background": "light"
     },
     "output_type": "display_data"
    }
   ],
   "source": [
    "sns.countplot(x=df['PgR'],hue=df['pCR (outcome)'])\n",
    "plt.show()"
   ]
  },
  {
   "cell_type": "code",
   "execution_count": 45,
   "id": "fa7e67fe",
   "metadata": {},
   "outputs": [],
   "source": [
    "X = df.drop(columns=['ID','pCR (outcome)','RelapseFreeSurvival (outcome)'])\n",
    "y = df['pCR (outcome)']"
   ]
  },
  {
   "cell_type": "code",
   "execution_count": 46,
   "id": "19d5bfc9",
   "metadata": {},
   "outputs": [
    {
     "data": {
      "text/plain": [
       "RandomForestClassifier()"
      ]
     },
     "execution_count": 46,
     "metadata": {},
     "output_type": "execute_result"
    }
   ],
   "source": [
    "rfc = RandomForestClassifier()\n",
    "rfc.fit(X,y)\n"
   ]
  },
  {
   "cell_type": "code",
   "execution_count": 47,
   "id": "16dd215f",
   "metadata": {},
   "outputs": [
    {
     "data": {
      "text/html": [
       "<div>\n",
       "<style scoped>\n",
       "    .dataframe tbody tr th:only-of-type {\n",
       "        vertical-align: middle;\n",
       "    }\n",
       "\n",
       "    .dataframe tbody tr th {\n",
       "        vertical-align: top;\n",
       "    }\n",
       "\n",
       "    .dataframe thead th {\n",
       "        text-align: right;\n",
       "    }\n",
       "</style>\n",
       "<table border=\"1\" class=\"dataframe\">\n",
       "  <thead>\n",
       "    <tr style=\"text-align: right;\">\n",
       "      <th></th>\n",
       "      <th>feature_name</th>\n",
       "      <th>importance</th>\n",
       "    </tr>\n",
       "  </thead>\n",
       "  <tbody>\n",
       "    <tr>\n",
       "      <th>106</th>\n",
       "      <td>original_glszm_SmallAreaEmphasis</td>\n",
       "      <td>2.409813</td>\n",
       "    </tr>\n",
       "    <tr>\n",
       "      <th>108</th>\n",
       "      <td>original_glszm_SmallAreaLowGrayLevelEmphasis</td>\n",
       "      <td>1.852151</td>\n",
       "    </tr>\n",
       "    <tr>\n",
       "      <th>107</th>\n",
       "      <td>original_glszm_SmallAreaHighGrayLevelEmphasis</td>\n",
       "      <td>1.605093</td>\n",
       "    </tr>\n",
       "    <tr>\n",
       "      <th>105</th>\n",
       "      <td>original_glszm_SizeZoneNonUniformityNormalized</td>\n",
       "      <td>1.531067</td>\n",
       "    </tr>\n",
       "    <tr>\n",
       "      <th>35</th>\n",
       "      <td>original_firstorder_Range</td>\n",
       "      <td>1.468985</td>\n",
       "    </tr>\n",
       "    <tr>\n",
       "      <th>30</th>\n",
       "      <td>original_firstorder_Maximum</td>\n",
       "      <td>1.415788</td>\n",
       "    </tr>\n",
       "    <tr>\n",
       "      <th>90</th>\n",
       "      <td>original_glrlm_RunLengthNonUniformityNormalized</td>\n",
       "      <td>1.348844</td>\n",
       "    </tr>\n",
       "    <tr>\n",
       "      <th>15</th>\n",
       "      <td>original_shape_Maximum2DDiameterRow</td>\n",
       "      <td>1.288614</td>\n",
       "    </tr>\n",
       "    <tr>\n",
       "      <th>11</th>\n",
       "      <td>original_shape_Flatness</td>\n",
       "      <td>1.287707</td>\n",
       "    </tr>\n",
       "    <tr>\n",
       "      <th>38</th>\n",
       "      <td>original_firstorder_Skewness</td>\n",
       "      <td>1.277016</td>\n",
       "    </tr>\n",
       "  </tbody>\n",
       "</table>\n",
       "</div>"
      ],
      "text/plain": [
       "                                        feature_name  importance\n",
       "106                 original_glszm_SmallAreaEmphasis    2.409813\n",
       "108     original_glszm_SmallAreaLowGrayLevelEmphasis    1.852151\n",
       "107    original_glszm_SmallAreaHighGrayLevelEmphasis    1.605093\n",
       "105   original_glszm_SizeZoneNonUniformityNormalized    1.531067\n",
       "35                         original_firstorder_Range    1.468985\n",
       "30                       original_firstorder_Maximum    1.415788\n",
       "90   original_glrlm_RunLengthNonUniformityNormalized    1.348844\n",
       "15               original_shape_Maximum2DDiameterRow    1.288614\n",
       "11                           original_shape_Flatness    1.287707\n",
       "38                      original_firstorder_Skewness    1.277016"
      ]
     },
     "execution_count": 47,
     "metadata": {},
     "output_type": "execute_result"
    }
   ],
   "source": [
    "feature_importance = pd.DataFrame(zip(list(X.columns),rfc.feature_importances_*100),columns=['feature_name','importance'])\n",
    "feature_importance.sort_values(by='importance',ascending=False,inplace=True)\n",
    "feature_importance.head(10)"
   ]
  },
  {
   "cell_type": "code",
   "execution_count": 48,
   "id": "cf7a8a1c",
   "metadata": {},
   "outputs": [
    {
     "data": {
      "image/png": "[encoded data removed]",
      "text/plain": [
       "<Figure size 432x288 with 1 Axes>"
      ]
     },
     "metadata": {
      "needs_background": "light"
     },
     "output_type": "display_data"
    }
   ],
   "source": [
    "sns.scatterplot(x=df['original_glszm_SmallAreaLowGrayLevelEmphasis'],\n",
    "                y=df['original_glszm_SmallAreaEmphasis'],\n",
    "                hue=y)\n",
    "plt.show()"
   ]
  },
  {
   "cell_type": "code",
   "execution_count": null,
   "id": "4b35e76f",
   "metadata": {},
   "outputs": [],
   "source": [
    "sns.displot(data=df, x= 'original_glszm_SmallAreaLowGrayLevelEmphasis')\n",
    "plt.show()\n",
    "print(df['original_glszm_SmallAreaLowGrayLevelEmphasis'].skew())"
   ]
  },
  {
   "cell_type": "code",
   "execution_count": null,
   "id": "079c07d2",
   "metadata": {},
   "outputs": [],
   "source": [
    "sns.displot(data=df, x= 'original_glszm_SmallAreaEmphasis')\n",
    "plt.show()\n",
    "print(df['original_glszm_SmallAreaEmphasis'].skew())"
   ]
  },
  {
   "cell_type": "code",
   "execution_count": null,
   "id": "16f7b715",
   "metadata": {},
   "outputs": [],
   "source": [
    "sns.displot(data=df, x= 'original_glszm_SmallAreaHighGrayLevelEmphasis')\n",
    "plt.show()\n",
    "print(df['original_glszm_SmallAreaHighGrayLevelEmphasis'].skew())"
   ]
  },
  {
   "cell_type": "code",
   "execution_count": null,
   "id": "a57fdc0c",
   "metadata": {},
   "outputs": [],
   "source": [
    "sns.displot(data=df, x= 'original_glrlm_RunPercentage')\n",
    "plt.show()\n",
    "print(df['original_glrlm_RunPercentage'].skew())"
   ]
  },
  {
   "cell_type": "code",
   "execution_count": null,
   "id": "ded3061a",
   "metadata": {},
   "outputs": [],
   "source": [
    "sns.countplot(x=df['HER2'],hue=df['pCR (outcome)'])\n",
    "plt.title('HER2 vs pCR')\n",
    "plt.show()"
   ]
  },
  {
   "cell_type": "code",
   "execution_count": 49,
   "id": "1722c693",
   "metadata": {},
   "outputs": [],
   "source": [
    "X = X[['ER','PgR','HER2','LNStatus']]\n",
    "X_train, X_test, y_train, y_test = train_test_split(X, y, test_size=0.25, random_state=42,stratify=y)"
   ]
  },
  {
   "cell_type": "code",
   "execution_count": 50,
   "id": "2aa44c61",
   "metadata": {},
   "outputs": [],
   "source": [
    "parameters = {\n",
    "    'class_weight':[{0:1,1:1},{0:1,1:5},{0:1,1:10},{0:1,1:30},{0:1,1:40},{0:1,1:50},\n",
    "                    {0:1,1:70},{0:1,1:80},{0:1,1:100},\n",
    "                    {0:5,1:1},{0:10,1:1},{0:30,1:1},{0:40,1:1},{0:50,1:1},\n",
    "                    {0:70,1:1},{0:80,1:1},{0:100,1:1}\n",
    "                   ]\n",
    "}\n",
    "lr = LogisticRegression()"
   ]
  },
  {
   "cell_type": "code",
   "execution_count": 51,
   "id": "9323f5a5",
   "metadata": {},
   "outputs": [
    {
     "data": {
      "text/plain": [
       "GridSearchCV(cv=5, estimator=LogisticRegression(), n_jobs=3,\n",
       "             param_grid={'class_weight': [{0: 1, 1: 1}, {0: 1, 1: 5},\n",
       "                                          {0: 1, 1: 10}, {0: 1, 1: 30},\n",
       "                                          {0: 1, 1: 40}, {0: 1, 1: 50},\n",
       "                                          {0: 1, 1: 70}, {0: 1, 1: 80},\n",
       "                                          {0: 1, 1: 100}, {0: 5, 1: 1},\n",
       "                                          {0: 10, 1: 1}, {0: 30, 1: 1},\n",
       "                                          {0: 40, 1: 1}, {0: 50, 1: 1},\n",
       "                                          {0: 70, 1: 1}, {0: 80, 1: 1},\n",
       "                                          {0: 100, 1: 1}]},\n",
       "             scoring='recall')"
      ]
     },
     "execution_count": 51,
     "metadata": {},
     "output_type": "execute_result"
    }
   ],
   "source": [
    "grid = GridSearchCV(lr,parameters,scoring=\"recall\", cv=5, n_jobs=3)\n",
    "grid.fit(X_train,y_train)"
   ]
  },
  {
   "cell_type": "code",
   "execution_count": 52,
   "id": "604b18df",
   "metadata": {},
   "outputs": [
    {
     "data": {
      "text/plain": [
       "{'class_weight': {0: 1, 1: 30}}"
      ]
     },
     "execution_count": 52,
     "metadata": {},
     "output_type": "execute_result"
    }
   ],
   "source": [
    "grid.best_params_"
   ]
  },
  {
   "cell_type": "code",
   "execution_count": 53,
   "id": "8ff821e5",
   "metadata": {},
   "outputs": [
    {
     "data": {
      "text/plain": [
       "0.9733333333333334"
      ]
     },
     "execution_count": 53,
     "metadata": {},
     "output_type": "execute_result"
    }
   ],
   "source": [
    "grid.best_score_"
   ]
  },
  {
   "cell_type": "code",
   "execution_count": 54,
   "id": "7591357d",
   "metadata": {},
   "outputs": [
    {
     "data": {
      "text/plain": [
       "0.41414141414141414"
      ]
     },
     "execution_count": 54,
     "metadata": {},
     "output_type": "execute_result"
    }
   ],
   "source": [
    "grid.best_estimator_.fit(X_train,y_train)\n",
    "y_predicted = grid.best_estimator_.predict(X_test)\n",
    "accuracy_score(y_test,y_predicted)"
   ]
  },
  {
   "cell_type": "code",
   "execution_count": 55,
   "id": "4dc11a9c",
   "metadata": {},
   "outputs": [
    {
     "data": {
      "text/plain": [
       "array([[21, 54],\n",
       "       [ 4, 20]], dtype=int64)"
      ]
     },
     "execution_count": 55,
     "metadata": {},
     "output_type": "execute_result"
    }
   ],
   "source": [
    "confusion_matrix(y_test,y_predicted)"
   ]
  },
  {
   "cell_type": "code",
   "execution_count": 56,
   "id": "2031408b",
   "metadata": {},
   "outputs": [
    {
     "data": {
      "text/plain": [
       "0.4081632653061225"
      ]
     },
     "execution_count": 56,
     "metadata": {},
     "output_type": "execute_result"
    }
   ],
   "source": [
    "f1_score(y_test,y_predicted)"
   ]
  },
  {
   "cell_type": "code",
   "execution_count": 57,
   "id": "2f63ea68",
   "metadata": {},
   "outputs": [
    {
     "data": {
      "text/plain": [
       "0.8333333333333334"
      ]
     },
     "execution_count": 57,
     "metadata": {},
     "output_type": "execute_result"
    }
   ],
   "source": [
    "recall_score(y_test,y_predicted)"
   ]
  },
  {
   "cell_type": "code",
   "execution_count": 58,
   "id": "7a1f0e71",
   "metadata": {},
   "outputs": [
    {
     "data": {
      "text/plain": [
       "0.2702702702702703"
      ]
     },
     "execution_count": 58,
     "metadata": {},
     "output_type": "execute_result"
    }
   ],
   "source": [
    "precision_score(y_test,y_predicted)"
   ]
  },
  {
   "cell_type": "code",
   "execution_count": 258,
   "id": "c263396f",
   "metadata": {},
   "outputs": [],
   "source": [
    "scaler = MinMaxScaler()\n",
    "X_train = pd.DataFrame(scaler.fit_transform(X_train),columns=list(X_train.columns))\n",
    "X_test = pd.DataFrame(scaler.transform(X_test),columns=list(X_test.columns))"
   ]
  },
  {
   "cell_type": "code",
   "execution_count": 259,
   "id": "e3742948",
   "metadata": {},
   "outputs": [
    {
     "data": {
      "text/plain": [
       "((296, 10), (99, 10))"
      ]
     },
     "execution_count": 259,
     "metadata": {},
     "output_type": "execute_result"
    }
   ],
   "source": [
    "X_train.shape,X_test.shape"
   ]
  },
  {
   "cell_type": "code",
   "execution_count": 90,
   "id": "873feae8",
   "metadata": {},
   "outputs": [],
   "source": [
    "sm = SMOTE(random_state=42)\n",
    "X_res, y_res = sm.fit_resample(X_train, y_train)"
   ]
  },
  {
   "cell_type": "markdown",
   "id": "144e4be3",
   "metadata": {},
   "source": [
    "## Logistic Regression"
   ]
  },
  {
   "cell_type": "code",
   "execution_count": 91,
   "id": "a712841f",
   "metadata": {
    "scrolled": true
   },
   "outputs": [
    {
     "data": {
      "text/plain": [
       "LogisticRegression()"
      ]
     },
     "execution_count": 91,
     "metadata": {},
     "output_type": "execute_result"
    }
   ],
   "source": [
    "lr_smote = LogisticRegression()\n",
    "lr_smote.fit(X_res, y_res)\n"
   ]
  },
  {
   "cell_type": "code",
   "execution_count": 93,
   "id": "f2a1b304",
   "metadata": {},
   "outputs": [
    {
     "data": {
      "text/plain": [
       "0.5656565656565656"
      ]
     },
     "execution_count": 93,
     "metadata": {},
     "output_type": "execute_result"
    }
   ],
   "source": [
    "y_predicted = lr_smote.predict(X_test)\n",
    "accuracy_score(y_test,y_predicted)"
   ]
  },
  {
   "cell_type": "code",
   "execution_count": 94,
   "id": "f9751c30",
   "metadata": {},
   "outputs": [
    {
     "data": {
      "text/plain": [
       "array([[41, 34],\n",
       "       [ 9, 15]], dtype=int64)"
      ]
     },
     "execution_count": 94,
     "metadata": {},
     "output_type": "execute_result"
    }
   ],
   "source": [
    "confusion_matrix(y_test,y_predicted)"
   ]
  },
  {
   "cell_type": "code",
   "execution_count": null,
   "id": "f4a55628",
   "metadata": {},
   "outputs": [],
   "source": []
  },
  {
   "cell_type": "code",
   "execution_count": null,
   "id": "26bef1ee",
   "metadata": {},
   "outputs": [],
   "source": []
  },
  {
   "cell_type": "code",
   "execution_count": 271,
   "id": "f85c514a",
   "metadata": {},
   "outputs": [
    {
     "data": {
      "text/plain": [
       "0.8238951310861424"
      ]
     },
     "execution_count": 271,
     "metadata": {},
     "output_type": "execute_result"
    }
   ],
   "source": [
    "rfc = RandomForestClassifier()\n",
    "cross_val_score(rfc,X_res, y_res,cv=5,scoring='accuracy').mean()"
   ]
  },
  {
   "cell_type": "code",
   "execution_count": 272,
   "id": "4defaa90",
   "metadata": {},
   "outputs": [
    {
     "data": {
      "text/plain": [
       "0.6767676767676768"
      ]
     },
     "execution_count": 272,
     "metadata": {},
     "output_type": "execute_result"
    }
   ],
   "source": [
    "rfc.fit(X_res, y_res)\n",
    "y_predicted = rfc.predict(X_test)\n",
    "accuracy_score(y_test,y_predicted)"
   ]
  },
  {
   "cell_type": "code",
   "execution_count": 273,
   "id": "ab967e0c",
   "metadata": {},
   "outputs": [
    {
     "data": {
      "text/plain": [
       "array([[56, 19],\n",
       "       [13, 11]], dtype=int64)"
      ]
     },
     "execution_count": 273,
     "metadata": {},
     "output_type": "execute_result"
    }
   ],
   "source": [
    "confusion_matrix(y_test,y_predicted)"
   ]
  },
  {
   "cell_type": "code",
   "execution_count": 45,
   "id": "10f27f1a",
   "metadata": {},
   "outputs": [
    {
     "name": "stdout",
     "output_type": "stream",
     "text": [
      "Accuracy: 0.725\n",
      "Precision: 0.375\n",
      "Recall: 0.15\n",
      "F1 Score: 0.21428571428571425\n"
     ]
    }
   ],
   "source": [
    "print(f\"Accuracy: {accuracy_score(y_test['pCR (outcome)'],y_predcited)}\")\n",
    "print(f\"Precision: {precision_score(y_test['pCR (outcome)'],y_predcited)}\")\n",
    "print(f\"Recall: {recall_score(y_test['pCR (outcome)'],y_predcited)}\")\n",
    "print(f\"F1 Score: {f1_score(y_test['pCR (outcome)'],y_predcited)}\")\n"
   ]
  },
  {
   "cell_type": "markdown",
   "id": "fb8aefdb",
   "metadata": {},
   "source": [
    "## SVC"
   ]
  },
  {
   "cell_type": "code",
   "execution_count": 46,
   "id": "96c27889",
   "metadata": {},
   "outputs": [],
   "source": [
    "svc = SVC()\n",
    "svc.fit(X_train,y_train['pCR (outcome)'])\n",
    "y_predcited = svc.predict(X_test)"
   ]
  },
  {
   "cell_type": "code",
   "execution_count": 47,
   "id": "ac1e037a",
   "metadata": {},
   "outputs": [
    {
     "name": "stdout",
     "output_type": "stream",
     "text": [
      "Accuracy: 0.75\n",
      "Precision: 0.0\n",
      "Recall: 0.0\n",
      "F1 Score: 0.0\n"
     ]
    },
    {
     "name": "stderr",
     "output_type": "stream",
     "text": [
      "C:\\Users\\chaitanyamanem\\anaconda3\\lib\\site-packages\\sklearn\\metrics\\_classification.py:1245: UndefinedMetricWarning: Precision is ill-defined and being set to 0.0 due to no predicted samples. Use `zero_division` parameter to control this behavior.\n",
      "  _warn_prf(average, modifier, msg_start, len(result))\n"
     ]
    }
   ],
   "source": [
    "print(f\"Accuracy: {accuracy_score(y_test['pCR (outcome)'],y_predcited)}\")\n",
    "print(f\"Precision: {precision_score(y_test['pCR (outcome)'],y_predcited,)}\")\n",
    "print(f\"Recall: {recall_score(y_test['pCR (outcome)'],y_predcited)}\")\n",
    "print(f\"F1 Score: {f1_score(y_test['pCR (outcome)'],y_predcited)}\")"
   ]
  },
  {
   "cell_type": "markdown",
   "id": "5ecb0b39",
   "metadata": {},
   "source": [
    "### Random forest classifier"
   ]
  },
  {
   "cell_type": "code",
   "execution_count": 56,
   "id": "79edbbd5",
   "metadata": {},
   "outputs": [],
   "source": [
    "rfc = RandomForestClassifier()\n",
    "rfc.fit(X_train,y_train['pCR (outcome)'])\n",
    "y_predcited = rfc.predict(X_test)"
   ]
  },
  {
   "cell_type": "code",
   "execution_count": 57,
   "id": "9ed0e103",
   "metadata": {},
   "outputs": [
    {
     "name": "stdout",
     "output_type": "stream",
     "text": [
      "Accuracy: 0.7125\n",
      "Precision: 0.4\n",
      "Recall: 0.3\n",
      "F1 Score: 0.34285714285714286\n"
     ]
    }
   ],
   "source": [
    "print(f\"Accuracy: {accuracy_score(y_test['pCR (outcome)'],y_predcited)}\")\n",
    "print(f\"Precision: {precision_score(y_test['pCR (outcome)'],y_predcited)}\")\n",
    "print(f\"Recall: {recall_score(y_test['pCR (outcome)'],y_predcited)}\")\n",
    "print(f\"F1 Score: {f1_score(y_test['pCR (outcome)'],y_predcited)}\")"
   ]
  },
  {
   "cell_type": "markdown",
   "id": "a63b1bb8",
   "metadata": {},
   "source": [
    "## Linear Regression"
   ]
  },
  {
   "cell_type": "code",
   "execution_count": 48,
   "id": "e43ec9b2",
   "metadata": {
    "scrolled": true
   },
   "outputs": [],
   "source": [
    "lir = LinearRegression()\n",
    "lir.fit(X_train,y_train['RelapseFreeSurvival (outcome)'])\n",
    "y_predcited = lir.predict(X_test)"
   ]
  },
  {
   "cell_type": "code",
   "execution_count": 55,
   "id": "2a1e8ea3",
   "metadata": {},
   "outputs": [
    {
     "name": "stdout",
     "output_type": "stream",
     "text": [
      " mean absolute error: 23.333999365756664\n"
     ]
    }
   ],
   "source": [
    "print(f\" mean absolute error: {mean_absolute_error(y_test['RelapseFreeSurvival (outcome)'],y_predcited)}\")"
   ]
  },
  {
   "cell_type": "code",
   "execution_count": 52,
   "id": "3f848d21",
   "metadata": {},
   "outputs": [
    {
     "data": {
      "text/plain": [
       "count     80.000000\n",
       "mean      60.714583\n",
       "std       29.020107\n",
       "min       10.000000\n",
       "25%       39.000000\n",
       "50%       57.916667\n",
       "75%       84.250000\n",
       "max      144.000000\n",
       "Name: RelapseFreeSurvival (outcome), dtype: float64"
      ]
     },
     "execution_count": 52,
     "metadata": {},
     "output_type": "execute_result"
    }
   ],
   "source": [
    "y_test['RelapseFreeSurvival (outcome)'].describe()"
   ]
  },
  {
   "cell_type": "code",
   "execution_count": null,
   "id": "47a26530",
   "metadata": {},
   "outputs": [],
   "source": []
  }
 ],
 "metadata": {
  "kernelspec": {
   "display_name": "Python 3",
   "language": "python",
   "name": "python3"
  },
  "language_info": {
   "codemirror_mode": {
    "name": "ipython",
    "version": 3
   },
   "file_extension": ".py",
   "mimetype": "text/x-python",
   "name": "python",
   "nbconvert_exporter": "python",
   "pygments_lexer": "ipython3",
   "version": "3.8.8"
  }
 },
 "nbformat": 4,
 "nbformat_minor": 5
}
