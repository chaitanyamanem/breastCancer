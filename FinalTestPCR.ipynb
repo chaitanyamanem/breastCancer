{
 "cells": [
  {
   "cell_type": "markdown",
   "id": "507b8a2e",
   "metadata": {},
   "source": [
    "## Plug the File name here"
   ]
  },
  {
   "cell_type": "code",
   "execution_count": 8,
   "id": "1ac781e7",
   "metadata": {},
   "outputs": [],
   "source": [
    "#################################\n",
    "#**  Change file name below  **\n",
    "\n",
    "testfile_name = \"data/testDatasetExample.xls\"\n",
    "\n",
    "#*********************************\n",
    "\n",
    "\n"
   ]
  },
  {
   "cell_type": "markdown",
   "id": "b2bd8ba6",
   "metadata": {},
   "source": [
    "### Import all necessary packages"
   ]
  },
  {
   "cell_type": "code",
   "execution_count": 9,
   "id": "496af849",
   "metadata": {},
   "outputs": [],
   "source": [
    "import tensorflow as tf\n",
    "from tensorflow import keras\n",
    "\n",
    "import os\n",
    "import tempfile\n",
    "\n",
    "import matplotlib as mpl\n",
    "import matplotlib.pyplot as plt\n",
    "import numpy as np\n",
    "import pandas as pd\n",
    "import seaborn as sns\n",
    "import sklearn\n",
    "\n",
    "\n",
    "from sklearn.model_selection import train_test_split, cross_val_score, GridSearchCV, RandomizedSearchCV\n",
    "from sklearn.linear_model import LogisticRegression, LinearRegression\n",
    "from sklearn.svm import SVC, SVR\n",
    "from sklearn.ensemble import RandomForestRegressor, RandomForestClassifier\n",
    "from sklearn.metrics import f1_score, precision_score, recall_score, confusion_matrix, accuracy_score, mean_absolute_error\n",
    "from sklearn.preprocessing import StandardScaler, MinMaxScaler\n",
    "from imblearn.over_sampling import SMOTE\n",
    "from sklearn.model_selection import GridSearchCV\n",
    "from sklearn.feature_selection import f_classif\n",
    "\n",
    "from scipy import stats as st\n",
    "from sklearn.preprocessing import PowerTransformer\n",
    "\n",
    "import pickle"
   ]
  },
  {
   "cell_type": "markdown",
   "id": "088515b3",
   "metadata": {},
   "source": [
    "### Reading the data"
   ]
  },
  {
   "cell_type": "code",
   "execution_count": 10,
   "id": "ac98419c",
   "metadata": {},
   "outputs": [],
   "source": [
    "test_df = pd.read_excel(testfile_name)"
   ]
  },
  {
   "cell_type": "markdown",
   "id": "bc3e9fc9",
   "metadata": {},
   "source": [
    "### Loading all the model objects"
   ]
  },
  {
   "cell_type": "code",
   "execution_count": 11,
   "id": "9f2f584f",
   "metadata": {},
   "outputs": [],
   "source": [
    "# load the imputer from disk\n",
    "filename = 'saved_model/int_cols_imputer.sav'\n",
    "sic = pickle.load(open(filename, 'rb'))\n",
    "\n",
    "filename = 'saved_model/float_cols_imputer.sav'\n",
    "sif = pickle.load(open(filename, 'rb'))\n",
    "\n",
    "# load the transformer from disk\n",
    "filename = 'saved_model/trnsformer.sav'\n",
    "transformer = pickle.load(open(filename, 'rb'))\n",
    "\n",
    "\n",
    "# load the scaler from disk\n",
    "filename = 'saved_model/scaler.sav'\n",
    "scaler = pickle.load(open(filename, 'rb'))\n",
    "\n",
    "# Continuous columns list\n",
    "float_cols = pickle.load(open('saved_model/continuous_features.pkl', 'rb'))['continuous_features']\n",
    "\n",
    "# Categorical columns\n",
    "cat_cols = pickle.load(open('saved_model/categorical_features.pkl', 'rb'))['categorical_features']\n",
    "\n",
    "## Loadin the model\n",
    "model = tf.keras.models.load_model('saved_model/best_model_aucc82')\n"
   ]
  },
  {
   "cell_type": "markdown",
   "id": "161d4f36",
   "metadata": {},
   "source": [
    "# Preprocessing data"
   ]
  },
  {
   "cell_type": "markdown",
   "id": "048c2601",
   "metadata": {},
   "source": [
    "**Making the data frame from the  Columns used in the training**"
   ]
  },
  {
   "cell_type": "code",
   "execution_count": 12,
   "id": "ec0b6660",
   "metadata": {},
   "outputs": [],
   "source": [
    "df_cats = test_df[cat_cols]\n",
    "df_floats = test_df[float_cols]"
   ]
  },
  {
   "cell_type": "markdown",
   "id": "1f4c71bd",
   "metadata": {},
   "source": [
    "### Filling missing values"
   ]
  },
  {
   "cell_type": "code",
   "execution_count": 14,
   "id": "48d77249",
   "metadata": {},
   "outputs": [],
   "source": [
    "df_cats = pd.DataFrame(sic.transform(df_cats),columns=df_cats.columns)\n",
    "df_floats = pd.DataFrame(sif.transform(df_floats),columns=df_floats.columns)"
   ]
  },
  {
   "cell_type": "markdown",
   "id": "37bf3003",
   "metadata": {},
   "source": [
    "### Making features normal"
   ]
  },
  {
   "cell_type": "code",
   "execution_count": 15,
   "id": "33e034d9",
   "metadata": {},
   "outputs": [],
   "source": [
    "df_floats = pd.DataFrame(transformer.transform(df_floats),columns=df_floats.columns)"
   ]
  },
  {
   "cell_type": "markdown",
   "id": "b7ac59ef",
   "metadata": {},
   "source": [
    "### Merging features"
   ]
  },
  {
   "cell_type": "code",
   "execution_count": 16,
   "id": "cf91948c",
   "metadata": {},
   "outputs": [],
   "source": [
    "X = pd.concat([df_cats.reset_index(drop=True),df_floats.reset_index(drop=True)],axis=1)"
   ]
  },
  {
   "cell_type": "markdown",
   "id": "67cfb5d4",
   "metadata": {},
   "source": [
    "### Scalling the data"
   ]
  },
  {
   "cell_type": "code",
   "execution_count": 17,
   "id": "c584586d",
   "metadata": {},
   "outputs": [],
   "source": [
    "X = pd.DataFrame(scaler.transform(X),columns=X.columns)"
   ]
  },
  {
   "cell_type": "markdown",
   "id": "e21b1654",
   "metadata": {},
   "source": [
    "### Predict the values"
   ]
  },
  {
   "cell_type": "code",
   "execution_count": 18,
   "id": "7e7dbcce",
   "metadata": {},
   "outputs": [
    {
     "name": "stdout",
     "output_type": "stream",
     "text": [
      "1/1 [==============================] - 1s 860ms/step\n"
     ]
    }
   ],
   "source": [
    "predictions = model.predict(X)"
   ]
  },
  {
   "cell_type": "markdown",
   "id": "92393854",
   "metadata": {},
   "source": [
    "### Fomatting the predictions"
   ]
  },
  {
   "cell_type": "code",
   "execution_count": 19,
   "id": "5c487ccf",
   "metadata": {},
   "outputs": [],
   "source": [
    "preds_df = pd.DataFrame(zip(test_df[\"ID\"].to_list(),\n",
    "                            list(np.squeeze(predictions))),\n",
    "                            columns=([\"ID\",\"PCR\"]))"
   ]
  },
  {
   "cell_type": "markdown",
   "id": "d520758c",
   "metadata": {},
   "source": [
    "### Writing result to csv"
   ]
  },
  {
   "cell_type": "code",
   "execution_count": 20,
   "id": "ad173421",
   "metadata": {},
   "outputs": [],
   "source": [
    "preds_df.to_csv('pcr_predictions.csv',index=False)"
   ]
  },
  {
   "cell_type": "code",
   "execution_count": null,
   "id": "826c6298",
   "metadata": {},
   "outputs": [],
   "source": []
  }
 ],
 "metadata": {
  "kernelspec": {
   "display_name": "Python 3",
   "language": "python",
   "name": "python3"
  },
  "language_info": {
   "codemirror_mode": {
    "name": "ipython",
    "version": 3
   },
   "file_extension": ".py",
   "mimetype": "text/x-python",
   "name": "python",
   "nbconvert_exporter": "python",
   "pygments_lexer": "ipython3",
   "version": "3.8.8"
  }
 },
 "nbformat": 4,
 "nbformat_minor": 5
}
